{
 "cells": [
  {
   "cell_type": "markdown",
   "metadata": {},
   "source": [
    "## Some Questions that I answered through this data\n",
    "1) Which game category has the highest no of downlaods?\n",
    "\n",
    "2) Which game category holds game with highest no of ratings?\n",
    "\n",
    "3) With respect to downlaods and average ratings which category holds the most number of popular games?\n"
   ]
  },
  {
   "cell_type": "markdown",
   "metadata": {},
   "source": [
    "### Imports"
   ]
  },
  {
   "cell_type": "code",
   "execution_count": 1,
   "metadata": {},
   "outputs": [],
   "source": [
    "import pandas as pd\n",
    "import numpy as np\n",
    "import matplotlib.pyplot as plt\n",
    "import seaborn as sns"
   ]
  },
  {
   "cell_type": "markdown",
   "metadata": {},
   "source": [
    "### Read Data"
   ]
  },
  {
   "cell_type": "code",
   "execution_count": 2,
   "metadata": {},
   "outputs": [],
   "source": [
    "# import os\n",
    "# for dirname, _, filenames in os.walk('/kaggle/input'):\n",
    "#     for filename in filenames:\n",
    "#         print(os.path.join(dirname, filename))"
   ]
  },
  {
   "cell_type": "code",
   "execution_count": 3,
   "metadata": {},
   "outputs": [],
   "source": [
    "df = pd.read_csv('android-games.csv')"
   ]
  },
  {
   "cell_type": "code",
   "execution_count": 4,
   "metadata": {},
   "outputs": [
    {
     "data": {
      "text/html": [
       "<div>\n",
       "<style scoped>\n",
       "    .dataframe tbody tr th:only-of-type {\n",
       "        vertical-align: middle;\n",
       "    }\n",
       "\n",
       "    .dataframe tbody tr th {\n",
       "        vertical-align: top;\n",
       "    }\n",
       "\n",
       "    .dataframe thead th {\n",
       "        text-align: right;\n",
       "    }\n",
       "</style>\n",
       "<table border=\"1\" class=\"dataframe\">\n",
       "  <thead>\n",
       "    <tr style=\"text-align: right;\">\n",
       "      <th></th>\n",
       "      <th>rank</th>\n",
       "      <th>title</th>\n",
       "      <th>total ratings</th>\n",
       "      <th>installs</th>\n",
       "      <th>average rating</th>\n",
       "      <th>growth (30 days)</th>\n",
       "      <th>growth (60 days)</th>\n",
       "      <th>price</th>\n",
       "      <th>category</th>\n",
       "      <th>5 star ratings</th>\n",
       "      <th>4 star ratings</th>\n",
       "      <th>3 star ratings</th>\n",
       "      <th>2 star ratings</th>\n",
       "      <th>1 star ratings</th>\n",
       "      <th>paid</th>\n",
       "    </tr>\n",
       "  </thead>\n",
       "  <tbody>\n",
       "    <tr>\n",
       "      <th>0</th>\n",
       "      <td>1</td>\n",
       "      <td>Garena Free Fire - The Cobra</td>\n",
       "      <td>80678661</td>\n",
       "      <td>500.0 M</td>\n",
       "      <td>4.33</td>\n",
       "      <td>2.9</td>\n",
       "      <td>7.9</td>\n",
       "      <td>0.0</td>\n",
       "      <td>GAME ACTION</td>\n",
       "      <td>61935712</td>\n",
       "      <td>4478738</td>\n",
       "      <td>2795172</td>\n",
       "      <td>1814999</td>\n",
       "      <td>9654037</td>\n",
       "      <td>False</td>\n",
       "    </tr>\n",
       "    <tr>\n",
       "      <th>1</th>\n",
       "      <td>2</td>\n",
       "      <td>PUBG MOBILE: Graffiti Prank</td>\n",
       "      <td>35971961</td>\n",
       "      <td>100.0 M</td>\n",
       "      <td>4.24</td>\n",
       "      <td>2.0</td>\n",
       "      <td>3.1</td>\n",
       "      <td>0.0</td>\n",
       "      <td>GAME ACTION</td>\n",
       "      <td>26670566</td>\n",
       "      <td>2109631</td>\n",
       "      <td>1352610</td>\n",
       "      <td>893674</td>\n",
       "      <td>4945478</td>\n",
       "      <td>False</td>\n",
       "    </tr>\n",
       "  </tbody>\n",
       "</table>\n",
       "</div>"
      ],
      "text/plain": [
       "   rank                         title  total ratings installs  average rating  \\\n",
       "0     1  Garena Free Fire - The Cobra       80678661  500.0 M            4.33   \n",
       "1     2   PUBG MOBILE: Graffiti Prank       35971961  100.0 M            4.24   \n",
       "\n",
       "   growth (30 days)  growth (60 days)  price     category  5 star ratings  \\\n",
       "0               2.9               7.9    0.0  GAME ACTION        61935712   \n",
       "1               2.0               3.1    0.0  GAME ACTION        26670566   \n",
       "\n",
       "   4 star ratings  3 star ratings  2 star ratings  1 star ratings   paid  \n",
       "0         4478738         2795172         1814999         9654037  False  \n",
       "1         2109631         1352610          893674         4945478  False  "
      ]
     },
     "execution_count": 4,
     "metadata": {},
     "output_type": "execute_result"
    }
   ],
   "source": [
    "df.head(2)"
   ]
  },
  {
   "cell_type": "code",
   "execution_count": 5,
   "metadata": {},
   "outputs": [
    {
     "data": {
      "text/plain": [
       "(1730, 15)"
      ]
     },
     "execution_count": 5,
     "metadata": {},
     "output_type": "execute_result"
    }
   ],
   "source": [
    "df.shape"
   ]
  },
  {
   "cell_type": "code",
   "execution_count": 6,
   "metadata": {},
   "outputs": [
    {
     "name": "stdout",
     "output_type": "stream",
     "text": [
      "<class 'pandas.core.frame.DataFrame'>\n",
      "RangeIndex: 1730 entries, 0 to 1729\n",
      "Data columns (total 15 columns):\n",
      " #   Column            Non-Null Count  Dtype  \n",
      "---  ------            --------------  -----  \n",
      " 0   rank              1730 non-null   int64  \n",
      " 1   title             1730 non-null   object \n",
      " 2   total ratings     1730 non-null   int64  \n",
      " 3   installs          1730 non-null   object \n",
      " 4   average rating    1730 non-null   float64\n",
      " 5   growth (30 days)  1730 non-null   float64\n",
      " 6   growth (60 days)  1730 non-null   float64\n",
      " 7   price             1730 non-null   float64\n",
      " 8   category          1730 non-null   object \n",
      " 9   5 star ratings    1730 non-null   int64  \n",
      " 10  4 star ratings    1730 non-null   int64  \n",
      " 11  3 star ratings    1730 non-null   int64  \n",
      " 12  2 star ratings    1730 non-null   int64  \n",
      " 13  1 star ratings    1730 non-null   int64  \n",
      " 14  paid              1730 non-null   bool   \n",
      "dtypes: bool(1), float64(4), int64(7), object(3)\n",
      "memory usage: 191.0+ KB\n"
     ]
    }
   ],
   "source": [
    "df.info()"
   ]
  },
  {
   "cell_type": "code",
   "execution_count": 7,
   "metadata": {},
   "outputs": [
    {
     "data": {
      "text/html": [
       "<div>\n",
       "<style scoped>\n",
       "    .dataframe tbody tr th:only-of-type {\n",
       "        vertical-align: middle;\n",
       "    }\n",
       "\n",
       "    .dataframe tbody tr th {\n",
       "        vertical-align: top;\n",
       "    }\n",
       "\n",
       "    .dataframe thead th {\n",
       "        text-align: right;\n",
       "    }\n",
       "</style>\n",
       "<table border=\"1\" class=\"dataframe\">\n",
       "  <thead>\n",
       "    <tr style=\"text-align: right;\">\n",
       "      <th></th>\n",
       "      <th>count</th>\n",
       "      <th>mean</th>\n",
       "      <th>std</th>\n",
       "      <th>min</th>\n",
       "      <th>25%</th>\n",
       "      <th>50%</th>\n",
       "      <th>75%</th>\n",
       "      <th>max</th>\n",
       "    </tr>\n",
       "  </thead>\n",
       "  <tbody>\n",
       "    <tr>\n",
       "      <th>rank</th>\n",
       "      <td>1730.0</td>\n",
       "      <td>5.047572e+01</td>\n",
       "      <td>2.894163e+01</td>\n",
       "      <td>1.00</td>\n",
       "      <td>25.00</td>\n",
       "      <td>51.00</td>\n",
       "      <td>75.75</td>\n",
       "      <td>100.00</td>\n",
       "    </tr>\n",
       "    <tr>\n",
       "      <th>total ratings</th>\n",
       "      <td>1730.0</td>\n",
       "      <td>1.101182e+06</td>\n",
       "      <td>3.311738e+06</td>\n",
       "      <td>38238.00</td>\n",
       "      <td>187998.75</td>\n",
       "      <td>457675.00</td>\n",
       "      <td>944334.25</td>\n",
       "      <td>80678661.00</td>\n",
       "    </tr>\n",
       "    <tr>\n",
       "      <th>average rating</th>\n",
       "      <td>1730.0</td>\n",
       "      <td>4.313410e+00</td>\n",
       "      <td>2.535452e-01</td>\n",
       "      <td>3.09</td>\n",
       "      <td>4.18</td>\n",
       "      <td>4.33</td>\n",
       "      <td>4.49</td>\n",
       "      <td>4.91</td>\n",
       "    </tr>\n",
       "    <tr>\n",
       "      <th>growth (30 days)</th>\n",
       "      <td>1730.0</td>\n",
       "      <td>1.931673e+02</td>\n",
       "      <td>4.775618e+03</td>\n",
       "      <td>0.00</td>\n",
       "      <td>0.10</td>\n",
       "      <td>0.50</td>\n",
       "      <td>1.60</td>\n",
       "      <td>140394.40</td>\n",
       "    </tr>\n",
       "    <tr>\n",
       "      <th>growth (60 days)</th>\n",
       "      <td>1730.0</td>\n",
       "      <td>3.969249e+00</td>\n",
       "      <td>1.891290e+01</td>\n",
       "      <td>0.00</td>\n",
       "      <td>0.30</td>\n",
       "      <td>1.00</td>\n",
       "      <td>3.30</td>\n",
       "      <td>605.10</td>\n",
       "    </tr>\n",
       "    <tr>\n",
       "      <th>price</th>\n",
       "      <td>1730.0</td>\n",
       "      <td>1.296532e-02</td>\n",
       "      <td>2.434924e-01</td>\n",
       "      <td>0.00</td>\n",
       "      <td>0.00</td>\n",
       "      <td>0.00</td>\n",
       "      <td>0.00</td>\n",
       "      <td>7.49</td>\n",
       "    </tr>\n",
       "    <tr>\n",
       "      <th>5 star ratings</th>\n",
       "      <td>1730.0</td>\n",
       "      <td>7.883837e+05</td>\n",
       "      <td>2.483061e+06</td>\n",
       "      <td>21898.00</td>\n",
       "      <td>135829.00</td>\n",
       "      <td>310943.50</td>\n",
       "      <td>651131.00</td>\n",
       "      <td>61935712.00</td>\n",
       "    </tr>\n",
       "    <tr>\n",
       "      <th>4 star ratings</th>\n",
       "      <td>1730.0</td>\n",
       "      <td>1.216466e+05</td>\n",
       "      <td>2.955701e+05</td>\n",
       "      <td>2441.00</td>\n",
       "      <td>21802.00</td>\n",
       "      <td>54643.50</td>\n",
       "      <td>109564.75</td>\n",
       "      <td>5397273.00</td>\n",
       "    </tr>\n",
       "    <tr>\n",
       "      <th>3 star ratings</th>\n",
       "      <td>1730.0</td>\n",
       "      <td>5.954986e+04</td>\n",
       "      <td>1.447400e+05</td>\n",
       "      <td>707.00</td>\n",
       "      <td>10277.75</td>\n",
       "      <td>26658.50</td>\n",
       "      <td>55817.50</td>\n",
       "      <td>2795172.00</td>\n",
       "    </tr>\n",
       "    <tr>\n",
       "      <th>2 star ratings</th>\n",
       "      <td>1730.0</td>\n",
       "      <td>2.796247e+04</td>\n",
       "      <td>7.676625e+04</td>\n",
       "      <td>288.00</td>\n",
       "      <td>4529.50</td>\n",
       "      <td>11330.50</td>\n",
       "      <td>25266.50</td>\n",
       "      <td>1814999.00</td>\n",
       "    </tr>\n",
       "    <tr>\n",
       "      <th>1 star ratings</th>\n",
       "      <td>1730.0</td>\n",
       "      <td>1.036364e+05</td>\n",
       "      <td>3.589869e+05</td>\n",
       "      <td>527.00</td>\n",
       "      <td>13560.75</td>\n",
       "      <td>35694.00</td>\n",
       "      <td>86326.25</td>\n",
       "      <td>9654037.00</td>\n",
       "    </tr>\n",
       "  </tbody>\n",
       "</table>\n",
       "</div>"
      ],
      "text/plain": [
       "                   count          mean           std       min        25%  \\\n",
       "rank              1730.0  5.047572e+01  2.894163e+01      1.00      25.00   \n",
       "total ratings     1730.0  1.101182e+06  3.311738e+06  38238.00  187998.75   \n",
       "average rating    1730.0  4.313410e+00  2.535452e-01      3.09       4.18   \n",
       "growth (30 days)  1730.0  1.931673e+02  4.775618e+03      0.00       0.10   \n",
       "growth (60 days)  1730.0  3.969249e+00  1.891290e+01      0.00       0.30   \n",
       "price             1730.0  1.296532e-02  2.434924e-01      0.00       0.00   \n",
       "5 star ratings    1730.0  7.883837e+05  2.483061e+06  21898.00  135829.00   \n",
       "4 star ratings    1730.0  1.216466e+05  2.955701e+05   2441.00   21802.00   \n",
       "3 star ratings    1730.0  5.954986e+04  1.447400e+05    707.00   10277.75   \n",
       "2 star ratings    1730.0  2.796247e+04  7.676625e+04    288.00    4529.50   \n",
       "1 star ratings    1730.0  1.036364e+05  3.589869e+05    527.00   13560.75   \n",
       "\n",
       "                        50%        75%          max  \n",
       "rank                  51.00      75.75       100.00  \n",
       "total ratings     457675.00  944334.25  80678661.00  \n",
       "average rating         4.33       4.49         4.91  \n",
       "growth (30 days)       0.50       1.60    140394.40  \n",
       "growth (60 days)       1.00       3.30       605.10  \n",
       "price                  0.00       0.00         7.49  \n",
       "5 star ratings    310943.50  651131.00  61935712.00  \n",
       "4 star ratings     54643.50  109564.75   5397273.00  \n",
       "3 star ratings     26658.50   55817.50   2795172.00  \n",
       "2 star ratings     11330.50   25266.50   1814999.00  \n",
       "1 star ratings     35694.00   86326.25   9654037.00  "
      ]
     },
     "execution_count": 7,
     "metadata": {},
     "output_type": "execute_result"
    }
   ],
   "source": [
    "df.describe().T"
   ]
  },
  {
   "cell_type": "code",
   "execution_count": 8,
   "metadata": {},
   "outputs": [
    {
     "data": {
      "text/plain": [
       "rank                0\n",
       "title               0\n",
       "total ratings       0\n",
       "installs            0\n",
       "average rating      0\n",
       "growth (30 days)    0\n",
       "growth (60 days)    0\n",
       "price               0\n",
       "category            0\n",
       "5 star ratings      0\n",
       "4 star ratings      0\n",
       "3 star ratings      0\n",
       "2 star ratings      0\n",
       "1 star ratings      0\n",
       "paid                0\n",
       "dtype: int64"
      ]
     },
     "execution_count": 8,
     "metadata": {},
     "output_type": "execute_result"
    }
   ],
   "source": [
    "df.isnull().sum()"
   ]
  },
  {
   "cell_type": "code",
   "execution_count": 9,
   "metadata": {},
   "outputs": [],
   "source": [
    "# numerical columns\n",
    "numerical_columns = df.dtypes[df.dtypes != 'object']"
   ]
  },
  {
   "cell_type": "code",
   "execution_count": 10,
   "metadata": {},
   "outputs": [],
   "source": [
    "#categorical_columns\n",
    "categorical_columns = df.dtypes[df.dtypes == 'object']"
   ]
  },
  {
   "cell_type": "code",
   "execution_count": 11,
   "metadata": {},
   "outputs": [],
   "source": [
    "#df['rank'].value_counts().plot(kind = 'hist')"
   ]
  },
  {
   "cell_type": "markdown",
   "metadata": {},
   "source": [
    "## EDA"
   ]
  },
  {
   "cell_type": "code",
   "execution_count": 12,
   "metadata": {
    "scrolled": true
   },
   "outputs": [
    {
     "data": {
      "text/html": [
       "<div>\n",
       "<style scoped>\n",
       "    .dataframe tbody tr th:only-of-type {\n",
       "        vertical-align: middle;\n",
       "    }\n",
       "\n",
       "    .dataframe tbody tr th {\n",
       "        vertical-align: top;\n",
       "    }\n",
       "\n",
       "    .dataframe thead th {\n",
       "        text-align: right;\n",
       "    }\n",
       "</style>\n",
       "<table border=\"1\" class=\"dataframe\">\n",
       "  <thead>\n",
       "    <tr style=\"text-align: right;\">\n",
       "      <th></th>\n",
       "      <th>rank</th>\n",
       "      <th>title</th>\n",
       "      <th>total ratings</th>\n",
       "      <th>installs</th>\n",
       "      <th>average rating</th>\n",
       "      <th>growth (30 days)</th>\n",
       "      <th>growth (60 days)</th>\n",
       "      <th>price</th>\n",
       "      <th>category</th>\n",
       "      <th>5 star ratings</th>\n",
       "      <th>4 star ratings</th>\n",
       "      <th>3 star ratings</th>\n",
       "      <th>2 star ratings</th>\n",
       "      <th>1 star ratings</th>\n",
       "      <th>paid</th>\n",
       "    </tr>\n",
       "  </thead>\n",
       "  <tbody>\n",
       "    <tr>\n",
       "      <th>91</th>\n",
       "      <td>92</td>\n",
       "      <td>Hitman Sniper</td>\n",
       "      <td>848831</td>\n",
       "      <td>10.0 M</td>\n",
       "      <td>4.41</td>\n",
       "      <td>0.3</td>\n",
       "      <td>0.8</td>\n",
       "      <td>0.99</td>\n",
       "      <td>GAME ACTION</td>\n",
       "      <td>607502</td>\n",
       "      <td>115334</td>\n",
       "      <td>48040</td>\n",
       "      <td>19224</td>\n",
       "      <td>58729</td>\n",
       "      <td>True</td>\n",
       "    </tr>\n",
       "    <tr>\n",
       "      <th>153</th>\n",
       "      <td>54</td>\n",
       "      <td>Terraria</td>\n",
       "      <td>317546</td>\n",
       "      <td>1.0 M</td>\n",
       "      <td>4.65</td>\n",
       "      <td>1.0</td>\n",
       "      <td>2.3</td>\n",
       "      <td>4.99</td>\n",
       "      <td>GAME ADVENTURE</td>\n",
       "      <td>264563</td>\n",
       "      <td>24837</td>\n",
       "      <td>10184</td>\n",
       "      <td>4387</td>\n",
       "      <td>13572</td>\n",
       "      <td>True</td>\n",
       "    </tr>\n",
       "    <tr>\n",
       "      <th>211</th>\n",
       "      <td>12</td>\n",
       "      <td>Minecraft</td>\n",
       "      <td>3999232</td>\n",
       "      <td>10.0 M</td>\n",
       "      <td>4.54</td>\n",
       "      <td>1.4</td>\n",
       "      <td>2.8</td>\n",
       "      <td>7.49</td>\n",
       "      <td>GAME ARCADE</td>\n",
       "      <td>3214765</td>\n",
       "      <td>312995</td>\n",
       "      <td>138682</td>\n",
       "      <td>70661</td>\n",
       "      <td>262126</td>\n",
       "      <td>True</td>\n",
       "    </tr>\n",
       "    <tr>\n",
       "      <th>261</th>\n",
       "      <td>62</td>\n",
       "      <td>Geometry Dash</td>\n",
       "      <td>767518</td>\n",
       "      <td>1.0 M</td>\n",
       "      <td>4.62</td>\n",
       "      <td>0.6</td>\n",
       "      <td>1.2</td>\n",
       "      <td>1.99</td>\n",
       "      <td>GAME ARCADE</td>\n",
       "      <td>623950</td>\n",
       "      <td>73997</td>\n",
       "      <td>25169</td>\n",
       "      <td>9705</td>\n",
       "      <td>34694</td>\n",
       "      <td>True</td>\n",
       "    </tr>\n",
       "    <tr>\n",
       "      <th>477</th>\n",
       "      <td>64</td>\n",
       "      <td>Reigns</td>\n",
       "      <td>146504</td>\n",
       "      <td>500.0 k</td>\n",
       "      <td>4.58</td>\n",
       "      <td>0.1</td>\n",
       "      <td>0.2</td>\n",
       "      <td>2.99</td>\n",
       "      <td>GAME CARD</td>\n",
       "      <td>108627</td>\n",
       "      <td>25330</td>\n",
       "      <td>5696</td>\n",
       "      <td>2743</td>\n",
       "      <td>4105</td>\n",
       "      <td>True</td>\n",
       "    </tr>\n",
       "    <tr>\n",
       "      <th>869</th>\n",
       "      <td>46</td>\n",
       "      <td>Cytus II</td>\n",
       "      <td>109687</td>\n",
       "      <td>1.0 M</td>\n",
       "      <td>4.59</td>\n",
       "      <td>1.0</td>\n",
       "      <td>2.2</td>\n",
       "      <td>1.99</td>\n",
       "      <td>GAME MUSIC</td>\n",
       "      <td>86420</td>\n",
       "      <td>12246</td>\n",
       "      <td>4534</td>\n",
       "      <td>1999</td>\n",
       "      <td>4484</td>\n",
       "      <td>True</td>\n",
       "    </tr>\n",
       "    <tr>\n",
       "      <th>1588</th>\n",
       "      <td>65</td>\n",
       "      <td>Trivia Crack (No Ads)</td>\n",
       "      <td>74594</td>\n",
       "      <td>500.0 k</td>\n",
       "      <td>4.58</td>\n",
       "      <td>0.9</td>\n",
       "      <td>2.2</td>\n",
       "      <td>1.99</td>\n",
       "      <td>GAME TRIVIA</td>\n",
       "      <td>55411</td>\n",
       "      <td>12625</td>\n",
       "      <td>3123</td>\n",
       "      <td>1117</td>\n",
       "      <td>2315</td>\n",
       "      <td>True</td>\n",
       "    </tr>\n",
       "  </tbody>\n",
       "</table>\n",
       "</div>"
      ],
      "text/plain": [
       "      rank                  title  total ratings installs  average rating  \\\n",
       "91      92          Hitman Sniper         848831   10.0 M            4.41   \n",
       "153     54               Terraria         317546    1.0 M            4.65   \n",
       "211     12              Minecraft        3999232   10.0 M            4.54   \n",
       "261     62          Geometry Dash         767518    1.0 M            4.62   \n",
       "477     64                 Reigns         146504  500.0 k            4.58   \n",
       "869     46               Cytus II         109687    1.0 M            4.59   \n",
       "1588    65  Trivia Crack (No Ads)          74594  500.0 k            4.58   \n",
       "\n",
       "      growth (30 days)  growth (60 days)  price        category  \\\n",
       "91                 0.3               0.8   0.99     GAME ACTION   \n",
       "153                1.0               2.3   4.99  GAME ADVENTURE   \n",
       "211                1.4               2.8   7.49     GAME ARCADE   \n",
       "261                0.6               1.2   1.99     GAME ARCADE   \n",
       "477                0.1               0.2   2.99       GAME CARD   \n",
       "869                1.0               2.2   1.99      GAME MUSIC   \n",
       "1588               0.9               2.2   1.99     GAME TRIVIA   \n",
       "\n",
       "      5 star ratings  4 star ratings  3 star ratings  2 star ratings  \\\n",
       "91            607502          115334           48040           19224   \n",
       "153           264563           24837           10184            4387   \n",
       "211          3214765          312995          138682           70661   \n",
       "261           623950           73997           25169            9705   \n",
       "477           108627           25330            5696            2743   \n",
       "869            86420           12246            4534            1999   \n",
       "1588           55411           12625            3123            1117   \n",
       "\n",
       "      1 star ratings  paid  \n",
       "91             58729  True  \n",
       "153            13572  True  \n",
       "211           262126  True  \n",
       "261            34694  True  \n",
       "477             4105  True  \n",
       "869             4484  True  \n",
       "1588            2315  True  "
      ]
     },
     "execution_count": 12,
     "metadata": {},
     "output_type": "execute_result"
    }
   ],
   "source": [
    "df[df['price'] != 0]"
   ]
  },
  {
   "cell_type": "markdown",
   "metadata": {},
   "source": [
    "#### Majority of the games are free"
   ]
  },
  {
   "cell_type": "code",
   "execution_count": 13,
   "metadata": {
    "scrolled": true
   },
   "outputs": [
    {
     "data": {
      "text/plain": [
       "GAME CARD            122\n",
       "GAME WORD            106\n",
       "GAME CASUAL          102\n",
       "GAME ROLE PLAYING    100\n",
       "GAME ACTION          100\n",
       "GAME TRIVIA          100\n",
       "GAME BOARD           100\n",
       "GAME SIMULATION      100\n",
       "GAME ADVENTURE       100\n",
       "GAME STRATEGY        100\n",
       "GAME EDUCATIONAL     100\n",
       "GAME PUZZLE          100\n",
       "GAME ARCADE          100\n",
       "GAME SPORTS          100\n",
       "GAME RACING          100\n",
       "GAME MUSIC           100\n",
       "GAME CASINO          100\n",
       "Name: category, dtype: int64"
      ]
     },
     "execution_count": 13,
     "metadata": {},
     "output_type": "execute_result"
    }
   ],
   "source": [
    "df['category'].value_counts()"
   ]
  },
  {
   "cell_type": "markdown",
   "metadata": {},
   "source": [
    "#### All of the classes are balanced"
   ]
  },
  {
   "cell_type": "code",
   "execution_count": 14,
   "metadata": {},
   "outputs": [],
   "source": [
    "#### Paid column and price column are highly inter correlatedso we will drop the paid column later maybe\n",
    "#### Also title column is useless as we are not doing nlp in this notebook"
   ]
  },
  {
   "cell_type": "code",
   "execution_count": 15,
   "metadata": {},
   "outputs": [
    {
     "data": {
      "text/plain": [
       "10.0 M      795\n",
       "50.0 M      266\n",
       "5.0 M       248\n",
       "100.0 M     203\n",
       "1.0 M       191\n",
       "500.0 k      13\n",
       "500.0 M      10\n",
       "1000.0 M      2\n",
       "100.0 k       2\n",
       "Name: installs, dtype: int64"
      ]
     },
     "execution_count": 15,
     "metadata": {},
     "output_type": "execute_result"
    }
   ],
   "source": [
    "df['installs'].value_counts()"
   ]
  },
  {
   "cell_type": "code",
   "execution_count": 16,
   "metadata": {},
   "outputs": [],
   "source": [
    "installs_range = {\n",
    "    '100.0 k' : 100000,\n",
    "    '500.0 k' : 500000,\n",
    "    '1.0 M' : 1000000,\n",
    "    '5.0 M' : 5000000,\n",
    "    '10.0 M' :10000000,\n",
    "    '50.0 M' : 50000000,\n",
    "    '100.0 M': 100000000,\n",
    "    '500.0 M': 500000000,\n",
    "    '1000.0 M': 1000000000,\n",
    "}"
   ]
  },
  {
   "cell_type": "code",
   "execution_count": 17,
   "metadata": {},
   "outputs": [],
   "source": [
    "df['installs_num'] = df['installs'].map(installs_range)"
   ]
  },
  {
   "cell_type": "code",
   "execution_count": 18,
   "metadata": {},
   "outputs": [
    {
     "data": {
      "text/html": [
       "<div>\n",
       "<style scoped>\n",
       "    .dataframe tbody tr th:only-of-type {\n",
       "        vertical-align: middle;\n",
       "    }\n",
       "\n",
       "    .dataframe tbody tr th {\n",
       "        vertical-align: top;\n",
       "    }\n",
       "\n",
       "    .dataframe thead th {\n",
       "        text-align: right;\n",
       "    }\n",
       "</style>\n",
       "<table border=\"1\" class=\"dataframe\">\n",
       "  <thead>\n",
       "    <tr style=\"text-align: right;\">\n",
       "      <th></th>\n",
       "      <th>rank</th>\n",
       "      <th>title</th>\n",
       "      <th>total ratings</th>\n",
       "      <th>installs</th>\n",
       "      <th>average rating</th>\n",
       "      <th>growth (30 days)</th>\n",
       "      <th>growth (60 days)</th>\n",
       "      <th>price</th>\n",
       "      <th>category</th>\n",
       "      <th>5 star ratings</th>\n",
       "      <th>4 star ratings</th>\n",
       "      <th>3 star ratings</th>\n",
       "      <th>2 star ratings</th>\n",
       "      <th>1 star ratings</th>\n",
       "      <th>paid</th>\n",
       "      <th>installs_num</th>\n",
       "    </tr>\n",
       "  </thead>\n",
       "  <tbody>\n",
       "    <tr>\n",
       "      <th>0</th>\n",
       "      <td>1</td>\n",
       "      <td>Garena Free Fire - The Cobra</td>\n",
       "      <td>80678661</td>\n",
       "      <td>500.0 M</td>\n",
       "      <td>4.33</td>\n",
       "      <td>2.9</td>\n",
       "      <td>7.9</td>\n",
       "      <td>0.0</td>\n",
       "      <td>GAME ACTION</td>\n",
       "      <td>61935712</td>\n",
       "      <td>4478738</td>\n",
       "      <td>2795172</td>\n",
       "      <td>1814999</td>\n",
       "      <td>9654037</td>\n",
       "      <td>False</td>\n",
       "      <td>500000000</td>\n",
       "    </tr>\n",
       "    <tr>\n",
       "      <th>1</th>\n",
       "      <td>2</td>\n",
       "      <td>PUBG MOBILE: Graffiti Prank</td>\n",
       "      <td>35971961</td>\n",
       "      <td>100.0 M</td>\n",
       "      <td>4.24</td>\n",
       "      <td>2.0</td>\n",
       "      <td>3.1</td>\n",
       "      <td>0.0</td>\n",
       "      <td>GAME ACTION</td>\n",
       "      <td>26670566</td>\n",
       "      <td>2109631</td>\n",
       "      <td>1352610</td>\n",
       "      <td>893674</td>\n",
       "      <td>4945478</td>\n",
       "      <td>False</td>\n",
       "      <td>100000000</td>\n",
       "    </tr>\n",
       "  </tbody>\n",
       "</table>\n",
       "</div>"
      ],
      "text/plain": [
       "   rank                         title  total ratings installs  average rating  \\\n",
       "0     1  Garena Free Fire - The Cobra       80678661  500.0 M            4.33   \n",
       "1     2   PUBG MOBILE: Graffiti Prank       35971961  100.0 M            4.24   \n",
       "\n",
       "   growth (30 days)  growth (60 days)  price     category  5 star ratings  \\\n",
       "0               2.9               7.9    0.0  GAME ACTION        61935712   \n",
       "1               2.0               3.1    0.0  GAME ACTION        26670566   \n",
       "\n",
       "   4 star ratings  3 star ratings  2 star ratings  1 star ratings   paid  \\\n",
       "0         4478738         2795172         1814999         9654037  False   \n",
       "1         2109631         1352610          893674         4945478  False   \n",
       "\n",
       "   installs_num  \n",
       "0     500000000  \n",
       "1     100000000  "
      ]
     },
     "execution_count": 18,
     "metadata": {},
     "output_type": "execute_result"
    }
   ],
   "source": [
    "df.head(2)"
   ]
  },
  {
   "cell_type": "code",
   "execution_count": 19,
   "metadata": {},
   "outputs": [],
   "source": [
    "temp_df = df.groupby(by = 'category')['installs_num'].sum()"
   ]
  },
  {
   "cell_type": "code",
   "execution_count": 20,
   "metadata": {},
   "outputs": [],
   "source": [
    "temp_df = temp_df.reset_index()"
   ]
  },
  {
   "cell_type": "code",
   "execution_count": 21,
   "metadata": {},
   "outputs": [],
   "source": [
    "temp_df = temp_df.sort_values(by = 'installs_num')"
   ]
  },
  {
   "cell_type": "code",
   "execution_count": 22,
   "metadata": {},
   "outputs": [
    {
     "data": {
      "text/html": [
       "<div>\n",
       "<style scoped>\n",
       "    .dataframe tbody tr th:only-of-type {\n",
       "        vertical-align: middle;\n",
       "    }\n",
       "\n",
       "    .dataframe tbody tr th {\n",
       "        vertical-align: top;\n",
       "    }\n",
       "\n",
       "    .dataframe thead th {\n",
       "        text-align: right;\n",
       "    }\n",
       "</style>\n",
       "<table border=\"1\" class=\"dataframe\">\n",
       "  <thead>\n",
       "    <tr style=\"text-align: right;\">\n",
       "      <th></th>\n",
       "      <th>category</th>\n",
       "      <th>installs_num</th>\n",
       "    </tr>\n",
       "  </thead>\n",
       "  <tbody>\n",
       "    <tr>\n",
       "      <th>15</th>\n",
       "      <td>GAME TRIVIA</td>\n",
       "      <td>704100000</td>\n",
       "    </tr>\n",
       "    <tr>\n",
       "      <th>5</th>\n",
       "      <td>GAME CASINO</td>\n",
       "      <td>788500000</td>\n",
       "    </tr>\n",
       "  </tbody>\n",
       "</table>\n",
       "</div>"
      ],
      "text/plain": [
       "       category  installs_num\n",
       "15  GAME TRIVIA     704100000\n",
       "5   GAME CASINO     788500000"
      ]
     },
     "execution_count": 22,
     "metadata": {},
     "output_type": "execute_result"
    }
   ],
   "source": [
    "temp_df.head(2)"
   ]
  },
  {
   "cell_type": "code",
   "execution_count": 23,
   "metadata": {},
   "outputs": [
    {
     "data": {
      "text/plain": [
       "<AxesSubplot:xlabel='installs_num', ylabel='category'>"
      ]
     },
     "execution_count": 23,
     "metadata": {},
     "output_type": "execute_result"
    },
    {
     "data": {
      "image/png": "[encoded data removed]",
      "text/plain": [
       "<Figure size 432x288 with 1 Axes>"
      ]
     },
     "metadata": {
      "needs_background": "light"
     },
     "output_type": "display_data"
    }
   ],
   "source": [
    "sns.barplot(y= 'category',x = 'installs_num',data = temp_df)"
   ]
  },
  {
   "cell_type": "markdown",
   "metadata": {},
   "source": [
    "##### Observation:\n",
    "Arcade, Casual and Action games are high on downlads with Racing a little behind(pun intended).\n",
    "\n",
    "Trivia, Casino are the worst perfoming games in term of downloads"
   ]
  },
  {
   "cell_type": "code",
   "execution_count": 24,
   "metadata": {},
   "outputs": [],
   "source": [
    "temp_df = df.groupby(by = 'category')['total ratings'].sum().reset_index().sort_values(by = 'total ratings')"
   ]
  },
  {
   "cell_type": "code",
   "execution_count": 25,
   "metadata": {},
   "outputs": [
    {
     "data": {
      "text/html": [
       "<div>\n",
       "<style scoped>\n",
       "    .dataframe tbody tr th:only-of-type {\n",
       "        vertical-align: middle;\n",
       "    }\n",
       "\n",
       "    .dataframe tbody tr th {\n",
       "        vertical-align: top;\n",
       "    }\n",
       "\n",
       "    .dataframe thead th {\n",
       "        text-align: right;\n",
       "    }\n",
       "</style>\n",
       "<table border=\"1\" class=\"dataframe\">\n",
       "  <thead>\n",
       "    <tr style=\"text-align: right;\">\n",
       "      <th></th>\n",
       "      <th>category</th>\n",
       "      <th>total ratings</th>\n",
       "    </tr>\n",
       "  </thead>\n",
       "  <tbody>\n",
       "    <tr>\n",
       "      <th>7</th>\n",
       "      <td>GAME EDUCATIONAL</td>\n",
       "      <td>14243583</td>\n",
       "    </tr>\n",
       "    <tr>\n",
       "      <th>8</th>\n",
       "      <td>GAME MUSIC</td>\n",
       "      <td>22451222</td>\n",
       "    </tr>\n",
       "  </tbody>\n",
       "</table>\n",
       "</div>"
      ],
      "text/plain": [
       "           category  total ratings\n",
       "7  GAME EDUCATIONAL       14243583\n",
       "8        GAME MUSIC       22451222"
      ]
     },
     "execution_count": 25,
     "metadata": {},
     "output_type": "execute_result"
    }
   ],
   "source": [
    "temp_df.head(2)"
   ]
  },
  {
   "cell_type": "code",
   "execution_count": 26,
   "metadata": {},
   "outputs": [
    {
     "data": {
      "text/plain": [
       "<AxesSubplot:xlabel='total ratings', ylabel='category'>"
      ]
     },
     "execution_count": 26,
     "metadata": {},
     "output_type": "execute_result"
    },
    {
     "data": {
      "image/png": "[encoded data removed]",
      "text/plain": [
       "<Figure size 432x288 with 1 Axes>"
      ]
     },
     "metadata": {
      "needs_background": "light"
     },
     "output_type": "display_data"
    }
   ],
   "source": [
    "sns.barplot(y= 'category',x = 'total ratings',data = temp_df)"
   ]
  },
  {
   "cell_type": "markdown",
   "metadata": {},
   "source": [
    "#### Observations:\n",
    "Action has highest no. of ratings with casual category second and arcade & racing finishing last in top 3 but in terms of downloads they were all equal\n",
    "\n",
    "It implies action usually gets more 5 star and arcade & racing gets usually lower star rating(more 3s and 4s)\n",
    "\n",
    "Also Educational has the worst rating while its downlaod were way higher than Trivia, Music and Casino"
   ]
  },
  {
   "cell_type": "code",
   "execution_count": 27,
   "metadata": {},
   "outputs": [],
   "source": [
    "temp_df = df.sort_values(by = ['installs_num','average rating'], ascending = False).head(200)"
   ]
  },
  {
   "cell_type": "code",
   "execution_count": 28,
   "metadata": {},
   "outputs": [],
   "source": [
    "temp_df =temp_df.groupby(by = 'category')['installs_num'].count().reset_index().sort_values(by = 'installs_num', ascending = False)"
   ]
  },
  {
   "cell_type": "code",
   "execution_count": 30,
   "metadata": {
    "scrolled": true
   },
   "outputs": [
    {
     "data": {
      "text/plain": [
       "<AxesSubplot:xlabel='installs_num', ylabel='category'>"
      ]
     },
     "execution_count": 30,
     "metadata": {},
     "output_type": "execute_result"
    },
    {
     "data": {
      "image/png": "[encoded data removed]",
      "text/plain": [
       "<Figure size 432x288 with 1 Axes>"
      ]
     },
     "metadata": {
      "needs_background": "light"
     },
     "output_type": "display_data"
    }
   ],
   "source": [
    "sns.lineplot(x= 'installs_num', y = 'category' ,data = temp_df)"
   ]
  },
  {
   "cell_type": "markdown",
   "metadata": {},
   "source": [
    "#### Highest rating game wrt to installs still belong to category action and arcade with casual just behingd\n",
    "#### Word, trivia games are the worst in terms of ratings and downloads both"
   ]
  },
  {
   "cell_type": "markdown",
   "metadata": {},
   "source": [
    "# Work in progress\n",
    "Do upvote if you like it"
   ]
  },
  {
   "cell_type": "code",
   "execution_count": null,
   "metadata": {},
   "outputs": [],
   "source": []
  }
 ],
 "metadata": {
  "kernelspec": {
   "display_name": "Python 3",
   "language": "python",
   "name": "python3"
  },
  "language_info": {
   "codemirror_mode": {
    "name": "ipython",
    "version": 3
   },
   "file_extension": ".py",
   "mimetype": "text/x-python",
   "name": "python",
   "nbconvert_exporter": "python",
   "pygments_lexer": "ipython3",
   "version": "3.8.5"
  }
 },
 "nbformat": 4,
 "nbformat_minor": 4
}
