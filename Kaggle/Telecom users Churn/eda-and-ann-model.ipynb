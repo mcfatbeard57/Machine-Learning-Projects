{
 "cells": [
  {
   "cell_type": "markdown",
   "metadata": {
    "papermill": {
     "duration": 0.026855,
     "end_time": "2021-03-25T06:31:30.507757",
     "exception": false,
     "start_time": "2021-03-25T06:31:30.480902",
     "status": "completed"
    },
    "tags": []
   },
   "source": [
    "## Imports"
   ]
  },
  {
   "cell_type": "code",
   "execution_count": 1,
   "metadata": {
    "execution": {
     "iopub.execute_input": "2021-03-25T06:31:30.564654Z",
     "iopub.status.busy": "2021-03-25T06:31:30.564090Z",
     "iopub.status.idle": "2021-03-25T06:31:31.514047Z",
     "shell.execute_reply": "2021-03-25T06:31:31.512354Z"
    },
    "papermill": {
     "duration": 0.978842,
     "end_time": "2021-03-25T06:31:31.514270",
     "exception": false,
     "start_time": "2021-03-25T06:31:30.535428",
     "status": "completed"
    },
    "tags": []
   },
   "outputs": [],
   "source": [
    "import pandas as pd\n",
    "import numpy as np\n",
    "import matplotlib.pyplot as plt\n",
    "import seaborn as sns"
   ]
  },
  {
   "cell_type": "code",
   "execution_count": 2,
   "metadata": {
    "execution": {
     "iopub.execute_input": "2021-03-25T06:31:31.570980Z",
     "iopub.status.busy": "2021-03-25T06:31:31.570261Z",
     "iopub.status.idle": "2021-03-25T06:31:31.836197Z",
     "shell.execute_reply": "2021-03-25T06:31:31.835412Z"
    },
    "papermill": {
     "duration": 0.295762,
     "end_time": "2021-03-25T06:31:31.836345",
     "exception": false,
     "start_time": "2021-03-25T06:31:31.540583",
     "status": "completed"
    },
    "tags": []
   },
   "outputs": [],
   "source": [
    "from sklearn.model_selection import train_test_split\n",
    "from sklearn.metrics import classification_report\n",
    "from sklearn import metrics"
   ]
  },
  {
   "cell_type": "code",
   "execution_count": 3,
   "metadata": {
    "execution": {
     "iopub.execute_input": "2021-03-25T06:31:31.890817Z",
     "iopub.status.busy": "2021-03-25T06:31:31.890227Z",
     "iopub.status.idle": "2021-03-25T06:31:32.247350Z",
     "shell.execute_reply": "2021-03-25T06:31:32.246730Z"
    },
    "papermill": {
     "duration": 0.385257,
     "end_time": "2021-03-25T06:31:32.247507",
     "exception": false,
     "start_time": "2021-03-25T06:31:31.862250",
     "status": "completed"
    },
    "tags": []
   },
   "outputs": [],
   "source": [
    "from sklearn.linear_model import LogisticRegression\n",
    "from sklearn.tree import DecisionTreeClassifier\n",
    "from sklearn.ensemble import RandomForestClassifier"
   ]
  },
  {
   "cell_type": "code",
   "execution_count": 4,
   "metadata": {
    "execution": {
     "iopub.execute_input": "2021-03-25T06:31:32.305261Z",
     "iopub.status.busy": "2021-03-25T06:31:32.304507Z",
     "iopub.status.idle": "2021-03-25T06:31:38.562892Z",
     "shell.execute_reply": "2021-03-25T06:31:38.561812Z"
    },
    "papermill": {
     "duration": 6.28875,
     "end_time": "2021-03-25T06:31:38.563058",
     "exception": false,
     "start_time": "2021-03-25T06:31:32.274308",
     "status": "completed"
    },
    "tags": []
   },
   "outputs": [],
   "source": [
    "import keras\n",
    "from keras.layers import Dense\n",
    "from keras.models import Sequential\n",
    "from keras.layers import Dropout"
   ]
  },
  {
   "cell_type": "code",
   "execution_count": 5,
   "metadata": {
    "_cell_guid": "b1076dfc-b9ad-4769-8c92-a6c4dae69d19",
    "_kg_hide-input": true,
    "_kg_hide-output": true,
    "_uuid": "8f2839f25d086af736a60e9eeb907d3b93b6e0e5",
    "execution": {
     "iopub.execute_input": "2021-03-25T06:31:38.620628Z",
     "iopub.status.busy": "2021-03-25T06:31:38.620041Z",
     "iopub.status.idle": "2021-03-25T06:31:38.631246Z",
     "shell.execute_reply": "2021-03-25T06:31:38.631676Z"
    },
    "papermill": {
     "duration": 0.042533,
     "end_time": "2021-03-25T06:31:38.631846",
     "exception": false,
     "start_time": "2021-03-25T06:31:38.589313",
     "status": "completed"
    },
    "tags": []
   },
   "outputs": [
    {
     "name": "stdout",
     "output_type": "stream",
     "text": [
      "/kaggle/input/telecom-users-dataset/telecom_users.csv\n"
     ]
    }
   ],
   "source": [
    "# This Python 3 environment comes with many helpful analytics libraries installed\n",
    "# It is defined by the kaggle/python Docker image: https://github.com/kaggle/docker-python\n",
    "# For example, here's several helpful packages to load\n",
    "\n",
    "import numpy as np # linear algebra\n",
    "import pandas as pd # data processing, CSV file I/O (e.g. pd.read_csv)\n",
    "\n",
    "# Input data files are available in the read-only \"../input/\" directory\n",
    "# For example, running this (by clicking run or pressing Shift+Enter) will list all files under the input directory\n",
    "\n",
    "import os\n",
    "for dirname, _, filenames in os.walk('/kaggle/input'):\n",
    "    for filename in filenames:\n",
    "        print(os.path.join(dirname, filename))\n",
    "\n",
    "# You can write up to 20GB to the current directory (/kaggle/working/) that gets preserved as output when you create a version using \"Save & Run All\" \n",
    "# You can also write temporary files to /kaggle/temp/, but they won't be saved outside of the current session"
   ]
  },
  {
   "cell_type": "markdown",
   "metadata": {
    "papermill": {
     "duration": 0.026488,
     "end_time": "2021-03-25T06:31:38.685284",
     "exception": false,
     "start_time": "2021-03-25T06:31:38.658796",
     "status": "completed"
    },
    "tags": []
   },
   "source": [
    "## Data Preprocessing"
   ]
  },
  {
   "cell_type": "markdown",
   "metadata": {
    "papermill": {
     "duration": 0.026158,
     "end_time": "2021-03-25T06:31:38.737903",
     "exception": false,
     "start_time": "2021-03-25T06:31:38.711745",
     "status": "completed"
    },
    "tags": []
   },
   "source": [
    "### About the data"
   ]
  },
  {
   "cell_type": "code",
   "execution_count": 6,
   "metadata": {
    "_kg_hide-input": true,
    "execution": {
     "iopub.execute_input": "2021-03-25T06:31:38.796354Z",
     "iopub.status.busy": "2021-03-25T06:31:38.795595Z",
     "iopub.status.idle": "2021-03-25T06:31:38.900635Z",
     "shell.execute_reply": "2021-03-25T06:31:38.899799Z"
    },
    "papermill": {
     "duration": 0.136232,
     "end_time": "2021-03-25T06:31:38.900814",
     "exception": false,
     "start_time": "2021-03-25T06:31:38.764582",
     "status": "completed"
    },
    "tags": []
   },
   "outputs": [
    {
     "name": "stdout",
     "output_type": "stream",
     "text": [
      "shape is :  (5986, 22)\n"
     ]
    },
    {
     "data": {
      "text/html": [
       "<div>\n",
       "<style scoped>\n",
       "    .dataframe tbody tr th:only-of-type {\n",
       "        vertical-align: middle;\n",
       "    }\n",
       "\n",
       "    .dataframe tbody tr th {\n",
       "        vertical-align: top;\n",
       "    }\n",
       "\n",
       "    .dataframe thead th {\n",
       "        text-align: right;\n",
       "    }\n",
       "</style>\n",
       "<table border=\"1\" class=\"dataframe\">\n",
       "  <thead>\n",
       "    <tr style=\"text-align: right;\">\n",
       "      <th></th>\n",
       "      <th>Unnamed: 0</th>\n",
       "      <th>customerID</th>\n",
       "      <th>gender</th>\n",
       "      <th>SeniorCitizen</th>\n",
       "      <th>Partner</th>\n",
       "      <th>Dependents</th>\n",
       "      <th>tenure</th>\n",
       "      <th>PhoneService</th>\n",
       "      <th>MultipleLines</th>\n",
       "      <th>InternetService</th>\n",
       "      <th>...</th>\n",
       "      <th>DeviceProtection</th>\n",
       "      <th>TechSupport</th>\n",
       "      <th>StreamingTV</th>\n",
       "      <th>StreamingMovies</th>\n",
       "      <th>Contract</th>\n",
       "      <th>PaperlessBilling</th>\n",
       "      <th>PaymentMethod</th>\n",
       "      <th>MonthlyCharges</th>\n",
       "      <th>TotalCharges</th>\n",
       "      <th>Churn</th>\n",
       "    </tr>\n",
       "  </thead>\n",
       "  <tbody>\n",
       "    <tr>\n",
       "      <th>0</th>\n",
       "      <td>1869</td>\n",
       "      <td>7010-BRBUU</td>\n",
       "      <td>Male</td>\n",
       "      <td>0</td>\n",
       "      <td>Yes</td>\n",
       "      <td>Yes</td>\n",
       "      <td>72</td>\n",
       "      <td>Yes</td>\n",
       "      <td>Yes</td>\n",
       "      <td>No</td>\n",
       "      <td>...</td>\n",
       "      <td>No internet service</td>\n",
       "      <td>No internet service</td>\n",
       "      <td>No internet service</td>\n",
       "      <td>No internet service</td>\n",
       "      <td>Two year</td>\n",
       "      <td>No</td>\n",
       "      <td>Credit card (automatic)</td>\n",
       "      <td>24.10</td>\n",
       "      <td>1734.65</td>\n",
       "      <td>No</td>\n",
       "    </tr>\n",
       "    <tr>\n",
       "      <th>1</th>\n",
       "      <td>4528</td>\n",
       "      <td>9688-YGXVR</td>\n",
       "      <td>Female</td>\n",
       "      <td>0</td>\n",
       "      <td>No</td>\n",
       "      <td>No</td>\n",
       "      <td>44</td>\n",
       "      <td>Yes</td>\n",
       "      <td>No</td>\n",
       "      <td>Fiber optic</td>\n",
       "      <td>...</td>\n",
       "      <td>Yes</td>\n",
       "      <td>No</td>\n",
       "      <td>Yes</td>\n",
       "      <td>No</td>\n",
       "      <td>Month-to-month</td>\n",
       "      <td>Yes</td>\n",
       "      <td>Credit card (automatic)</td>\n",
       "      <td>88.15</td>\n",
       "      <td>3973.2</td>\n",
       "      <td>No</td>\n",
       "    </tr>\n",
       "    <tr>\n",
       "      <th>2</th>\n",
       "      <td>6344</td>\n",
       "      <td>9286-DOJGF</td>\n",
       "      <td>Female</td>\n",
       "      <td>1</td>\n",
       "      <td>Yes</td>\n",
       "      <td>No</td>\n",
       "      <td>38</td>\n",
       "      <td>Yes</td>\n",
       "      <td>Yes</td>\n",
       "      <td>Fiber optic</td>\n",
       "      <td>...</td>\n",
       "      <td>No</td>\n",
       "      <td>No</td>\n",
       "      <td>No</td>\n",
       "      <td>No</td>\n",
       "      <td>Month-to-month</td>\n",
       "      <td>Yes</td>\n",
       "      <td>Bank transfer (automatic)</td>\n",
       "      <td>74.95</td>\n",
       "      <td>2869.85</td>\n",
       "      <td>Yes</td>\n",
       "    </tr>\n",
       "    <tr>\n",
       "      <th>3</th>\n",
       "      <td>6739</td>\n",
       "      <td>6994-KERXL</td>\n",
       "      <td>Male</td>\n",
       "      <td>0</td>\n",
       "      <td>No</td>\n",
       "      <td>No</td>\n",
       "      <td>4</td>\n",
       "      <td>Yes</td>\n",
       "      <td>No</td>\n",
       "      <td>DSL</td>\n",
       "      <td>...</td>\n",
       "      <td>No</td>\n",
       "      <td>No</td>\n",
       "      <td>No</td>\n",
       "      <td>Yes</td>\n",
       "      <td>Month-to-month</td>\n",
       "      <td>Yes</td>\n",
       "      <td>Electronic check</td>\n",
       "      <td>55.90</td>\n",
       "      <td>238.5</td>\n",
       "      <td>No</td>\n",
       "    </tr>\n",
       "    <tr>\n",
       "      <th>4</th>\n",
       "      <td>432</td>\n",
       "      <td>2181-UAESM</td>\n",
       "      <td>Male</td>\n",
       "      <td>0</td>\n",
       "      <td>No</td>\n",
       "      <td>No</td>\n",
       "      <td>2</td>\n",
       "      <td>Yes</td>\n",
       "      <td>No</td>\n",
       "      <td>DSL</td>\n",
       "      <td>...</td>\n",
       "      <td>Yes</td>\n",
       "      <td>No</td>\n",
       "      <td>No</td>\n",
       "      <td>No</td>\n",
       "      <td>Month-to-month</td>\n",
       "      <td>No</td>\n",
       "      <td>Electronic check</td>\n",
       "      <td>53.45</td>\n",
       "      <td>119.5</td>\n",
       "      <td>No</td>\n",
       "    </tr>\n",
       "  </tbody>\n",
       "</table>\n",
       "<p>5 rows × 22 columns</p>\n",
       "</div>"
      ],
      "text/plain": [
       "   Unnamed: 0  customerID  gender  SeniorCitizen Partner Dependents  tenure  \\\n",
       "0        1869  7010-BRBUU    Male              0     Yes        Yes      72   \n",
       "1        4528  9688-YGXVR  Female              0      No         No      44   \n",
       "2        6344  9286-DOJGF  Female              1     Yes         No      38   \n",
       "3        6739  6994-KERXL    Male              0      No         No       4   \n",
       "4         432  2181-UAESM    Male              0      No         No       2   \n",
       "\n",
       "  PhoneService MultipleLines InternetService  ...     DeviceProtection  \\\n",
       "0          Yes           Yes              No  ...  No internet service   \n",
       "1          Yes            No     Fiber optic  ...                  Yes   \n",
       "2          Yes           Yes     Fiber optic  ...                   No   \n",
       "3          Yes            No             DSL  ...                   No   \n",
       "4          Yes            No             DSL  ...                  Yes   \n",
       "\n",
       "           TechSupport          StreamingTV      StreamingMovies  \\\n",
       "0  No internet service  No internet service  No internet service   \n",
       "1                   No                  Yes                   No   \n",
       "2                   No                   No                   No   \n",
       "3                   No                   No                  Yes   \n",
       "4                   No                   No                   No   \n",
       "\n",
       "         Contract PaperlessBilling              PaymentMethod MonthlyCharges  \\\n",
       "0        Two year               No    Credit card (automatic)          24.10   \n",
       "1  Month-to-month              Yes    Credit card (automatic)          88.15   \n",
       "2  Month-to-month              Yes  Bank transfer (automatic)          74.95   \n",
       "3  Month-to-month              Yes           Electronic check          55.90   \n",
       "4  Month-to-month               No           Electronic check          53.45   \n",
       "\n",
       "  TotalCharges  Churn  \n",
       "0      1734.65     No  \n",
       "1       3973.2     No  \n",
       "2      2869.85    Yes  \n",
       "3        238.5     No  \n",
       "4        119.5     No  \n",
       "\n",
       "[5 rows x 22 columns]"
      ]
     },
     "execution_count": 6,
     "metadata": {},
     "output_type": "execute_result"
    }
   ],
   "source": [
    "df = pd.read_csv('/kaggle/input/telecom-users-dataset/telecom_users.csv')\n",
    "print('shape is : ', df.shape)\n",
    "df.head()"
   ]
  },
  {
   "cell_type": "code",
   "execution_count": 7,
   "metadata": {
    "_kg_hide-input": true,
    "execution": {
     "iopub.execute_input": "2021-03-25T06:31:38.966731Z",
     "iopub.status.busy": "2021-03-25T06:31:38.965786Z",
     "iopub.status.idle": "2021-03-25T06:31:38.985040Z",
     "shell.execute_reply": "2021-03-25T06:31:38.984563Z"
    },
    "papermill": {
     "duration": 0.056711,
     "end_time": "2021-03-25T06:31:38.985197",
     "exception": false,
     "start_time": "2021-03-25T06:31:38.928486",
     "status": "completed"
    },
    "tags": []
   },
   "outputs": [
    {
     "name": "stdout",
     "output_type": "stream",
     "text": [
      "<class 'pandas.core.frame.DataFrame'>\n",
      "RangeIndex: 5986 entries, 0 to 5985\n",
      "Data columns (total 22 columns):\n",
      " #   Column            Non-Null Count  Dtype  \n",
      "---  ------            --------------  -----  \n",
      " 0   Unnamed: 0        5986 non-null   int64  \n",
      " 1   customerID        5986 non-null   object \n",
      " 2   gender            5986 non-null   object \n",
      " 3   SeniorCitizen     5986 non-null   int64  \n",
      " 4   Partner           5986 non-null   object \n",
      " 5   Dependents        5986 non-null   object \n",
      " 6   tenure            5986 non-null   int64  \n",
      " 7   PhoneService      5986 non-null   object \n",
      " 8   MultipleLines     5986 non-null   object \n",
      " 9   InternetService   5986 non-null   object \n",
      " 10  OnlineSecurity    5986 non-null   object \n",
      " 11  OnlineBackup      5986 non-null   object \n",
      " 12  DeviceProtection  5986 non-null   object \n",
      " 13  TechSupport       5986 non-null   object \n",
      " 14  StreamingTV       5986 non-null   object \n",
      " 15  StreamingMovies   5986 non-null   object \n",
      " 16  Contract          5986 non-null   object \n",
      " 17  PaperlessBilling  5986 non-null   object \n",
      " 18  PaymentMethod     5986 non-null   object \n",
      " 19  MonthlyCharges    5986 non-null   float64\n",
      " 20  TotalCharges      5986 non-null   object \n",
      " 21  Churn             5986 non-null   object \n",
      "dtypes: float64(1), int64(3), object(18)\n",
      "memory usage: 1.0+ MB\n"
     ]
    }
   ],
   "source": [
    "df.info()"
   ]
  },
  {
   "cell_type": "markdown",
   "metadata": {
    "papermill": {
     "duration": 0.026784,
     "end_time": "2021-03-25T06:31:39.039286",
     "exception": false,
     "start_time": "2021-03-25T06:31:39.012502",
     "status": "completed"
    },
    "tags": []
   },
   "source": [
    "Data has no null variables so that is great.</br>\n",
    "\n",
    "We do not need some of these columns in both data analysis and prediction approaches.\n",
    "\n",
    "Also 'Yes' and 'No' is not ideal to have a classification model so I will change them to 1 = 'Yes' and 0 = 'No'."
   ]
  },
  {
   "cell_type": "markdown",
   "metadata": {
    "papermill": {
     "duration": 0.027981,
     "end_time": "2021-03-25T06:31:39.094760",
     "exception": false,
     "start_time": "2021-03-25T06:31:39.066779",
     "status": "completed"
    },
    "tags": []
   },
   "source": [
    "### Dropping columns"
   ]
  },
  {
   "cell_type": "code",
   "execution_count": 8,
   "metadata": {
    "execution": {
     "iopub.execute_input": "2021-03-25T06:31:39.159687Z",
     "iopub.status.busy": "2021-03-25T06:31:39.157235Z",
     "iopub.status.idle": "2021-03-25T06:31:39.193167Z",
     "shell.execute_reply": "2021-03-25T06:31:39.192523Z"
    },
    "papermill": {
     "duration": 0.070543,
     "end_time": "2021-03-25T06:31:39.193306",
     "exception": false,
     "start_time": "2021-03-25T06:31:39.122763",
     "status": "completed"
    },
    "tags": []
   },
   "outputs": [],
   "source": [
    "df = df.drop(['Unnamed: 0', 'customerID'], axis=1)\n",
    "df = df.replace('No', 0)\n",
    "df = df.replace('Yes', 1)\n",
    "df = df.replace('No internet service', 0)"
   ]
  },
  {
   "cell_type": "code",
   "execution_count": 9,
   "metadata": {
    "_kg_hide-input": true,
    "execution": {
     "iopub.execute_input": "2021-03-25T06:31:39.258622Z",
     "iopub.status.busy": "2021-03-25T06:31:39.253099Z",
     "iopub.status.idle": "2021-03-25T06:31:39.270920Z",
     "shell.execute_reply": "2021-03-25T06:31:39.270410Z"
    },
    "papermill": {
     "duration": 0.050139,
     "end_time": "2021-03-25T06:31:39.271063",
     "exception": false,
     "start_time": "2021-03-25T06:31:39.220924",
     "status": "completed"
    },
    "tags": []
   },
   "outputs": [
    {
     "data": {
      "text/html": [
       "<div>\n",
       "<style scoped>\n",
       "    .dataframe tbody tr th:only-of-type {\n",
       "        vertical-align: middle;\n",
       "    }\n",
       "\n",
       "    .dataframe tbody tr th {\n",
       "        vertical-align: top;\n",
       "    }\n",
       "\n",
       "    .dataframe thead th {\n",
       "        text-align: right;\n",
       "    }\n",
       "</style>\n",
       "<table border=\"1\" class=\"dataframe\">\n",
       "  <thead>\n",
       "    <tr style=\"text-align: right;\">\n",
       "      <th></th>\n",
       "      <th>gender</th>\n",
       "      <th>SeniorCitizen</th>\n",
       "      <th>Partner</th>\n",
       "      <th>Dependents</th>\n",
       "      <th>tenure</th>\n",
       "      <th>PhoneService</th>\n",
       "      <th>MultipleLines</th>\n",
       "      <th>InternetService</th>\n",
       "      <th>OnlineSecurity</th>\n",
       "      <th>OnlineBackup</th>\n",
       "      <th>DeviceProtection</th>\n",
       "      <th>TechSupport</th>\n",
       "      <th>StreamingTV</th>\n",
       "      <th>StreamingMovies</th>\n",
       "      <th>Contract</th>\n",
       "      <th>PaperlessBilling</th>\n",
       "      <th>PaymentMethod</th>\n",
       "      <th>MonthlyCharges</th>\n",
       "      <th>TotalCharges</th>\n",
       "      <th>Churn</th>\n",
       "    </tr>\n",
       "  </thead>\n",
       "  <tbody>\n",
       "    <tr>\n",
       "      <th>0</th>\n",
       "      <td>Male</td>\n",
       "      <td>0</td>\n",
       "      <td>1</td>\n",
       "      <td>1</td>\n",
       "      <td>72</td>\n",
       "      <td>1</td>\n",
       "      <td>1</td>\n",
       "      <td>0</td>\n",
       "      <td>0</td>\n",
       "      <td>0</td>\n",
       "      <td>0</td>\n",
       "      <td>0</td>\n",
       "      <td>0</td>\n",
       "      <td>0</td>\n",
       "      <td>Two year</td>\n",
       "      <td>0</td>\n",
       "      <td>Credit card (automatic)</td>\n",
       "      <td>24.10</td>\n",
       "      <td>1734.65</td>\n",
       "      <td>0</td>\n",
       "    </tr>\n",
       "    <tr>\n",
       "      <th>1</th>\n",
       "      <td>Female</td>\n",
       "      <td>0</td>\n",
       "      <td>0</td>\n",
       "      <td>0</td>\n",
       "      <td>44</td>\n",
       "      <td>1</td>\n",
       "      <td>0</td>\n",
       "      <td>Fiber optic</td>\n",
       "      <td>0</td>\n",
       "      <td>1</td>\n",
       "      <td>1</td>\n",
       "      <td>0</td>\n",
       "      <td>1</td>\n",
       "      <td>0</td>\n",
       "      <td>Month-to-month</td>\n",
       "      <td>1</td>\n",
       "      <td>Credit card (automatic)</td>\n",
       "      <td>88.15</td>\n",
       "      <td>3973.2</td>\n",
       "      <td>0</td>\n",
       "    </tr>\n",
       "    <tr>\n",
       "      <th>2</th>\n",
       "      <td>Female</td>\n",
       "      <td>1</td>\n",
       "      <td>1</td>\n",
       "      <td>0</td>\n",
       "      <td>38</td>\n",
       "      <td>1</td>\n",
       "      <td>1</td>\n",
       "      <td>Fiber optic</td>\n",
       "      <td>0</td>\n",
       "      <td>0</td>\n",
       "      <td>0</td>\n",
       "      <td>0</td>\n",
       "      <td>0</td>\n",
       "      <td>0</td>\n",
       "      <td>Month-to-month</td>\n",
       "      <td>1</td>\n",
       "      <td>Bank transfer (automatic)</td>\n",
       "      <td>74.95</td>\n",
       "      <td>2869.85</td>\n",
       "      <td>1</td>\n",
       "    </tr>\n",
       "    <tr>\n",
       "      <th>3</th>\n",
       "      <td>Male</td>\n",
       "      <td>0</td>\n",
       "      <td>0</td>\n",
       "      <td>0</td>\n",
       "      <td>4</td>\n",
       "      <td>1</td>\n",
       "      <td>0</td>\n",
       "      <td>DSL</td>\n",
       "      <td>0</td>\n",
       "      <td>0</td>\n",
       "      <td>0</td>\n",
       "      <td>0</td>\n",
       "      <td>0</td>\n",
       "      <td>1</td>\n",
       "      <td>Month-to-month</td>\n",
       "      <td>1</td>\n",
       "      <td>Electronic check</td>\n",
       "      <td>55.90</td>\n",
       "      <td>238.5</td>\n",
       "      <td>0</td>\n",
       "    </tr>\n",
       "    <tr>\n",
       "      <th>4</th>\n",
       "      <td>Male</td>\n",
       "      <td>0</td>\n",
       "      <td>0</td>\n",
       "      <td>0</td>\n",
       "      <td>2</td>\n",
       "      <td>1</td>\n",
       "      <td>0</td>\n",
       "      <td>DSL</td>\n",
       "      <td>1</td>\n",
       "      <td>0</td>\n",
       "      <td>1</td>\n",
       "      <td>0</td>\n",
       "      <td>0</td>\n",
       "      <td>0</td>\n",
       "      <td>Month-to-month</td>\n",
       "      <td>0</td>\n",
       "      <td>Electronic check</td>\n",
       "      <td>53.45</td>\n",
       "      <td>119.5</td>\n",
       "      <td>0</td>\n",
       "    </tr>\n",
       "  </tbody>\n",
       "</table>\n",
       "</div>"
      ],
      "text/plain": [
       "   gender  SeniorCitizen  Partner  Dependents  tenure  PhoneService  \\\n",
       "0    Male              0        1           1      72             1   \n",
       "1  Female              0        0           0      44             1   \n",
       "2  Female              1        1           0      38             1   \n",
       "3    Male              0        0           0       4             1   \n",
       "4    Male              0        0           0       2             1   \n",
       "\n",
       "  MultipleLines InternetService  OnlineSecurity  OnlineBackup  \\\n",
       "0             1               0               0             0   \n",
       "1             0     Fiber optic               0             1   \n",
       "2             1     Fiber optic               0             0   \n",
       "3             0             DSL               0             0   \n",
       "4             0             DSL               1             0   \n",
       "\n",
       "   DeviceProtection  TechSupport  StreamingTV  StreamingMovies  \\\n",
       "0                 0            0            0                0   \n",
       "1                 1            0            1                0   \n",
       "2                 0            0            0                0   \n",
       "3                 0            0            0                1   \n",
       "4                 1            0            0                0   \n",
       "\n",
       "         Contract  PaperlessBilling              PaymentMethod  \\\n",
       "0        Two year                 0    Credit card (automatic)   \n",
       "1  Month-to-month                 1    Credit card (automatic)   \n",
       "2  Month-to-month                 1  Bank transfer (automatic)   \n",
       "3  Month-to-month                 1           Electronic check   \n",
       "4  Month-to-month                 0           Electronic check   \n",
       "\n",
       "   MonthlyCharges TotalCharges  Churn  \n",
       "0           24.10      1734.65      0  \n",
       "1           88.15       3973.2      0  \n",
       "2           74.95      2869.85      1  \n",
       "3           55.90        238.5      0  \n",
       "4           53.45        119.5      0  "
      ]
     },
     "execution_count": 9,
     "metadata": {},
     "output_type": "execute_result"
    }
   ],
   "source": [
    "df.head()"
   ]
  },
  {
   "cell_type": "markdown",
   "metadata": {
    "papermill": {
     "duration": 0.027846,
     "end_time": "2021-03-25T06:31:39.327263",
     "exception": false,
     "start_time": "2021-03-25T06:31:39.299417",
     "status": "completed"
    },
    "tags": []
   },
   "source": [
    "### Encoding categorical values"
   ]
  },
  {
   "cell_type": "code",
   "execution_count": 10,
   "metadata": {
    "execution": {
     "iopub.execute_input": "2021-03-25T06:31:39.391185Z",
     "iopub.status.busy": "2021-03-25T06:31:39.390383Z",
     "iopub.status.idle": "2021-03-25T06:31:39.394249Z",
     "shell.execute_reply": "2021-03-25T06:31:39.394749Z"
    },
    "papermill": {
     "duration": 0.039564,
     "end_time": "2021-03-25T06:31:39.394947",
     "exception": false,
     "start_time": "2021-03-25T06:31:39.355383",
     "status": "completed"
    },
    "tags": []
   },
   "outputs": [
    {
     "data": {
      "text/plain": [
       "Fiber optic    2627\n",
       "DSL            2068\n",
       "0              1291\n",
       "Name: InternetService, dtype: int64"
      ]
     },
     "execution_count": 10,
     "metadata": {},
     "output_type": "execute_result"
    }
   ],
   "source": [
    "df['InternetService'].value_counts()"
   ]
  },
  {
   "cell_type": "markdown",
   "metadata": {
    "papermill": {
     "duration": 0.02808,
     "end_time": "2021-03-25T06:31:39.452506",
     "exception": false,
     "start_time": "2021-03-25T06:31:39.424426",
     "status": "completed"
    },
    "tags": []
   },
   "source": [
    "Internet service:\n",
    "\n",
    "Fiber optic = 2\n",
    "DSL = 1"
   ]
  },
  {
   "cell_type": "code",
   "execution_count": 11,
   "metadata": {
    "execution": {
     "iopub.execute_input": "2021-03-25T06:31:39.517497Z",
     "iopub.status.busy": "2021-03-25T06:31:39.514173Z",
     "iopub.status.idle": "2021-03-25T06:31:39.520458Z",
     "shell.execute_reply": "2021-03-25T06:31:39.519931Z"
    },
    "papermill": {
     "duration": 0.039476,
     "end_time": "2021-03-25T06:31:39.520600",
     "exception": false,
     "start_time": "2021-03-25T06:31:39.481124",
     "status": "completed"
    },
    "tags": []
   },
   "outputs": [],
   "source": [
    "df['InternetService'] = df['InternetService'].replace('Fiber optic', 2)\n",
    "df['InternetService'] = df['InternetService'].replace('DSL', 1)"
   ]
  },
  {
   "cell_type": "code",
   "execution_count": 12,
   "metadata": {
    "execution": {
     "iopub.execute_input": "2021-03-25T06:31:39.586072Z",
     "iopub.status.busy": "2021-03-25T06:31:39.585455Z",
     "iopub.status.idle": "2021-03-25T06:31:39.588886Z",
     "shell.execute_reply": "2021-03-25T06:31:39.588369Z"
    },
    "papermill": {
     "duration": 0.038655,
     "end_time": "2021-03-25T06:31:39.589035",
     "exception": false,
     "start_time": "2021-03-25T06:31:39.550380",
     "status": "completed"
    },
    "tags": []
   },
   "outputs": [
    {
     "data": {
      "text/plain": [
       "Month-to-month    3269\n",
       "Two year          1441\n",
       "One year          1276\n",
       "Name: Contract, dtype: int64"
      ]
     },
     "execution_count": 12,
     "metadata": {},
     "output_type": "execute_result"
    }
   ],
   "source": [
    "df['Contract'].value_counts()"
   ]
  },
  {
   "cell_type": "markdown",
   "metadata": {
    "papermill": {
     "duration": 0.028595,
     "end_time": "2021-03-25T06:31:39.646603",
     "exception": false,
     "start_time": "2021-03-25T06:31:39.618008",
     "status": "completed"
    },
    "tags": []
   },
   "source": [
    "Contract:\n",
    "\n",
    "'Month-to-month' = 1\n",
    "'Two Year' = 24\n",
    "'One Year' = 12"
   ]
  },
  {
   "cell_type": "code",
   "execution_count": 13,
   "metadata": {
    "execution": {
     "iopub.execute_input": "2021-03-25T06:31:39.709069Z",
     "iopub.status.busy": "2021-03-25T06:31:39.708357Z",
     "iopub.status.idle": "2021-03-25T06:31:39.716942Z",
     "shell.execute_reply": "2021-03-25T06:31:39.717422Z"
    },
    "papermill": {
     "duration": 0.041453,
     "end_time": "2021-03-25T06:31:39.717589",
     "exception": false,
     "start_time": "2021-03-25T06:31:39.676136",
     "status": "completed"
    },
    "tags": []
   },
   "outputs": [],
   "source": [
    "df['Contract'] = df['Contract'].replace('Two year', 24)\n",
    "df['Contract'] = df['Contract'].replace('One year', 12)\n",
    "df['Contract'] = df['Contract'].replace('Month-to-month', 1)"
   ]
  },
  {
   "cell_type": "code",
   "execution_count": 14,
   "metadata": {
    "execution": {
     "iopub.execute_input": "2021-03-25T06:31:39.779196Z",
     "iopub.status.busy": "2021-03-25T06:31:39.778316Z",
     "iopub.status.idle": "2021-03-25T06:31:39.785680Z",
     "shell.execute_reply": "2021-03-25T06:31:39.786240Z"
    },
    "papermill": {
     "duration": 0.039745,
     "end_time": "2021-03-25T06:31:39.786404",
     "exception": false,
     "start_time": "2021-03-25T06:31:39.746659",
     "status": "completed"
    },
    "tags": []
   },
   "outputs": [
    {
     "data": {
      "text/plain": [
       "Electronic check             2006\n",
       "Mailed check                 1369\n",
       "Bank transfer (automatic)    1308\n",
       "Credit card (automatic)      1303\n",
       "Name: PaymentMethod, dtype: int64"
      ]
     },
     "execution_count": 14,
     "metadata": {},
     "output_type": "execute_result"
    }
   ],
   "source": [
    "df['PaymentMethod'].value_counts()\n"
   ]
  },
  {
   "cell_type": "markdown",
   "metadata": {
    "papermill": {
     "duration": 0.029687,
     "end_time": "2021-03-25T06:31:39.845243",
     "exception": false,
     "start_time": "2021-03-25T06:31:39.815556",
     "status": "completed"
    },
    "tags": []
   },
   "source": [
    "Payment Method:\n",
    "\n",
    "'Electronic Check' = 1\n",
    "'Mailed Check' = 2\n",
    "'Bank Transfer' = 3\n",
    "'Credit Card' = 4"
   ]
  },
  {
   "cell_type": "code",
   "execution_count": 15,
   "metadata": {
    "execution": {
     "iopub.execute_input": "2021-03-25T06:31:39.906904Z",
     "iopub.status.busy": "2021-03-25T06:31:39.906082Z",
     "iopub.status.idle": "2021-03-25T06:31:39.917949Z",
     "shell.execute_reply": "2021-03-25T06:31:39.918424Z"
    },
    "papermill": {
     "duration": 0.044193,
     "end_time": "2021-03-25T06:31:39.918588",
     "exception": false,
     "start_time": "2021-03-25T06:31:39.874395",
     "status": "completed"
    },
    "tags": []
   },
   "outputs": [],
   "source": [
    "df['PaymentMethod'] = df['PaymentMethod'].replace('Electronic check', 1)\n",
    "df['PaymentMethod'] = df['PaymentMethod'].replace('Mailed check', 2)\n",
    "df['PaymentMethod'] = df['PaymentMethod'].replace('Bank transfer (automatic)', 3)\n",
    "df['PaymentMethod'] = df['PaymentMethod'].replace('Credit card (automatic)', 4)\n",
    "\n",
    "df['MultipleLines'] = df['MultipleLines'].replace('No phone service', 0)"
   ]
  },
  {
   "cell_type": "markdown",
   "metadata": {
    "papermill": {
     "duration": 0.029176,
     "end_time": "2021-03-25T06:31:39.977733",
     "exception": false,
     "start_time": "2021-03-25T06:31:39.948557",
     "status": "completed"
    },
    "tags": []
   },
   "source": [
    "Gender:\n",
    "Female : 0 Male : 1"
   ]
  },
  {
   "cell_type": "code",
   "execution_count": 16,
   "metadata": {
    "execution": {
     "iopub.execute_input": "2021-03-25T06:31:40.041449Z",
     "iopub.status.busy": "2021-03-25T06:31:40.040583Z",
     "iopub.status.idle": "2021-03-25T06:31:40.047793Z",
     "shell.execute_reply": "2021-03-25T06:31:40.048268Z"
    },
    "papermill": {
     "duration": 0.040018,
     "end_time": "2021-03-25T06:31:40.048431",
     "exception": false,
     "start_time": "2021-03-25T06:31:40.008413",
     "status": "completed"
    },
    "tags": []
   },
   "outputs": [],
   "source": [
    "df['gender'] = df['gender'].replace('Male', 1)\n",
    "df['gender'] = df['gender'].replace('Female', 0)"
   ]
  },
  {
   "cell_type": "markdown",
   "metadata": {
    "papermill": {
     "duration": 0.029318,
     "end_time": "2021-03-25T06:31:40.108329",
     "exception": false,
     "start_time": "2021-03-25T06:31:40.079011",
     "status": "completed"
    },
    "tags": []
   },
   "source": [
    "Also as you can see on the above, we can change the contract, internet service and payment method types as well without changing column purpose. I labeled them accordingly so I will be showing these labels when we are visualizing the data.\n",
    "\n",
    "And finally, I do think that montly and total charge values can be integers. They are determinant factors but their fraction values are not that important."
   ]
  },
  {
   "cell_type": "code",
   "execution_count": 17,
   "metadata": {
    "execution": {
     "iopub.execute_input": "2021-03-25T06:31:40.172785Z",
     "iopub.status.busy": "2021-03-25T06:31:40.172212Z",
     "iopub.status.idle": "2021-03-25T06:31:40.178181Z",
     "shell.execute_reply": "2021-03-25T06:31:40.178601Z"
    },
    "papermill": {
     "duration": 0.039901,
     "end_time": "2021-03-25T06:31:40.178782",
     "exception": false,
     "start_time": "2021-03-25T06:31:40.138881",
     "status": "completed"
    },
    "tags": []
   },
   "outputs": [],
   "source": [
    "df['MultipleLines'] = df['MultipleLines'].astype(int)\n",
    "df['MonthlyCharges'] = df['MonthlyCharges'].astype(int)\n",
    "df['TotalCharges'] = df['TotalCharges'].astype(str)"
   ]
  },
  {
   "cell_type": "code",
   "execution_count": 18,
   "metadata": {
    "execution": {
     "iopub.execute_input": "2021-03-25T06:31:40.243000Z",
     "iopub.status.busy": "2021-03-25T06:31:40.242079Z",
     "iopub.status.idle": "2021-03-25T06:31:40.248455Z",
     "shell.execute_reply": "2021-03-25T06:31:40.248892Z"
    },
    "papermill": {
     "duration": 0.04008,
     "end_time": "2021-03-25T06:31:40.249065",
     "exception": false,
     "start_time": "2021-03-25T06:31:40.208985",
     "status": "completed"
    },
    "tags": []
   },
   "outputs": [],
   "source": [
    "df['TotalCharges'] = df['TotalCharges'].replace(' ', 0)\n",
    "df['TotalCharges'] = df['TotalCharges'].astype(float)\n",
    "total_charge = df['TotalCharges']"
   ]
  },
  {
   "cell_type": "code",
   "execution_count": 19,
   "metadata": {
    "execution": {
     "iopub.execute_input": "2021-03-25T06:31:40.316609Z",
     "iopub.status.busy": "2021-03-25T06:31:40.314767Z",
     "iopub.status.idle": "2021-03-25T06:31:42.853121Z",
     "shell.execute_reply": "2021-03-25T06:31:42.852485Z"
    },
    "papermill": {
     "duration": 2.574056,
     "end_time": "2021-03-25T06:31:42.853257",
     "exception": false,
     "start_time": "2021-03-25T06:31:40.279201",
     "status": "completed"
    },
    "tags": []
   },
   "outputs": [
    {
     "name": "stderr",
     "output_type": "stream",
     "text": [
      "/opt/conda/lib/python3.7/site-packages/ipykernel_launcher.py:2: SettingWithCopyWarning: \n",
      "A value is trying to be set on a copy of a slice from a DataFrame\n",
      "\n",
      "See the caveats in the documentation: https://pandas.pydata.org/pandas-docs/stable/user_guide/indexing.html#returning-a-view-versus-a-copy\n",
      "  \n"
     ]
    }
   ],
   "source": [
    "for i in range(0, len(df)-1):\n",
    "    total_charge[i] = int(total_charge[i])\n",
    "df['TotalCharges'] = df['TotalCharges'].astype(int)"
   ]
  },
  {
   "cell_type": "markdown",
   "metadata": {
    "papermill": {
     "duration": 0.029622,
     "end_time": "2021-03-25T06:31:42.912965",
     "exception": false,
     "start_time": "2021-03-25T06:31:42.883343",
     "status": "completed"
    },
    "tags": []
   },
   "source": [
    "### Updated DF"
   ]
  },
  {
   "cell_type": "code",
   "execution_count": 20,
   "metadata": {
    "_kg_hide-input": true,
    "execution": {
     "iopub.execute_input": "2021-03-25T06:31:42.988218Z",
     "iopub.status.busy": "2021-03-25T06:31:42.987249Z",
     "iopub.status.idle": "2021-03-25T06:31:42.991899Z",
     "shell.execute_reply": "2021-03-25T06:31:42.991393Z"
    },
    "papermill": {
     "duration": 0.049193,
     "end_time": "2021-03-25T06:31:42.992036",
     "exception": false,
     "start_time": "2021-03-25T06:31:42.942843",
     "status": "completed"
    },
    "tags": []
   },
   "outputs": [
    {
     "data": {
      "text/html": [
       "<div>\n",
       "<style scoped>\n",
       "    .dataframe tbody tr th:only-of-type {\n",
       "        vertical-align: middle;\n",
       "    }\n",
       "\n",
       "    .dataframe tbody tr th {\n",
       "        vertical-align: top;\n",
       "    }\n",
       "\n",
       "    .dataframe thead th {\n",
       "        text-align: right;\n",
       "    }\n",
       "</style>\n",
       "<table border=\"1\" class=\"dataframe\">\n",
       "  <thead>\n",
       "    <tr style=\"text-align: right;\">\n",
       "      <th></th>\n",
       "      <th>gender</th>\n",
       "      <th>SeniorCitizen</th>\n",
       "      <th>Partner</th>\n",
       "      <th>Dependents</th>\n",
       "      <th>tenure</th>\n",
       "      <th>PhoneService</th>\n",
       "      <th>MultipleLines</th>\n",
       "      <th>InternetService</th>\n",
       "      <th>OnlineSecurity</th>\n",
       "      <th>OnlineBackup</th>\n",
       "      <th>DeviceProtection</th>\n",
       "      <th>TechSupport</th>\n",
       "      <th>StreamingTV</th>\n",
       "      <th>StreamingMovies</th>\n",
       "      <th>Contract</th>\n",
       "      <th>PaperlessBilling</th>\n",
       "      <th>PaymentMethod</th>\n",
       "      <th>MonthlyCharges</th>\n",
       "      <th>TotalCharges</th>\n",
       "      <th>Churn</th>\n",
       "    </tr>\n",
       "  </thead>\n",
       "  <tbody>\n",
       "    <tr>\n",
       "      <th>0</th>\n",
       "      <td>1</td>\n",
       "      <td>0</td>\n",
       "      <td>1</td>\n",
       "      <td>1</td>\n",
       "      <td>72</td>\n",
       "      <td>1</td>\n",
       "      <td>1</td>\n",
       "      <td>0</td>\n",
       "      <td>0</td>\n",
       "      <td>0</td>\n",
       "      <td>0</td>\n",
       "      <td>0</td>\n",
       "      <td>0</td>\n",
       "      <td>0</td>\n",
       "      <td>24</td>\n",
       "      <td>0</td>\n",
       "      <td>4</td>\n",
       "      <td>24</td>\n",
       "      <td>1734</td>\n",
       "      <td>0</td>\n",
       "    </tr>\n",
       "    <tr>\n",
       "      <th>1</th>\n",
       "      <td>0</td>\n",
       "      <td>0</td>\n",
       "      <td>0</td>\n",
       "      <td>0</td>\n",
       "      <td>44</td>\n",
       "      <td>1</td>\n",
       "      <td>0</td>\n",
       "      <td>2</td>\n",
       "      <td>0</td>\n",
       "      <td>1</td>\n",
       "      <td>1</td>\n",
       "      <td>0</td>\n",
       "      <td>1</td>\n",
       "      <td>0</td>\n",
       "      <td>1</td>\n",
       "      <td>1</td>\n",
       "      <td>4</td>\n",
       "      <td>88</td>\n",
       "      <td>3973</td>\n",
       "      <td>0</td>\n",
       "    </tr>\n",
       "    <tr>\n",
       "      <th>2</th>\n",
       "      <td>0</td>\n",
       "      <td>1</td>\n",
       "      <td>1</td>\n",
       "      <td>0</td>\n",
       "      <td>38</td>\n",
       "      <td>1</td>\n",
       "      <td>1</td>\n",
       "      <td>2</td>\n",
       "      <td>0</td>\n",
       "      <td>0</td>\n",
       "      <td>0</td>\n",
       "      <td>0</td>\n",
       "      <td>0</td>\n",
       "      <td>0</td>\n",
       "      <td>1</td>\n",
       "      <td>1</td>\n",
       "      <td>3</td>\n",
       "      <td>74</td>\n",
       "      <td>2869</td>\n",
       "      <td>1</td>\n",
       "    </tr>\n",
       "    <tr>\n",
       "      <th>3</th>\n",
       "      <td>1</td>\n",
       "      <td>0</td>\n",
       "      <td>0</td>\n",
       "      <td>0</td>\n",
       "      <td>4</td>\n",
       "      <td>1</td>\n",
       "      <td>0</td>\n",
       "      <td>1</td>\n",
       "      <td>0</td>\n",
       "      <td>0</td>\n",
       "      <td>0</td>\n",
       "      <td>0</td>\n",
       "      <td>0</td>\n",
       "      <td>1</td>\n",
       "      <td>1</td>\n",
       "      <td>1</td>\n",
       "      <td>1</td>\n",
       "      <td>55</td>\n",
       "      <td>238</td>\n",
       "      <td>0</td>\n",
       "    </tr>\n",
       "    <tr>\n",
       "      <th>4</th>\n",
       "      <td>1</td>\n",
       "      <td>0</td>\n",
       "      <td>0</td>\n",
       "      <td>0</td>\n",
       "      <td>2</td>\n",
       "      <td>1</td>\n",
       "      <td>0</td>\n",
       "      <td>1</td>\n",
       "      <td>1</td>\n",
       "      <td>0</td>\n",
       "      <td>1</td>\n",
       "      <td>0</td>\n",
       "      <td>0</td>\n",
       "      <td>0</td>\n",
       "      <td>1</td>\n",
       "      <td>0</td>\n",
       "      <td>1</td>\n",
       "      <td>53</td>\n",
       "      <td>119</td>\n",
       "      <td>0</td>\n",
       "    </tr>\n",
       "  </tbody>\n",
       "</table>\n",
       "</div>"
      ],
      "text/plain": [
       "   gender  SeniorCitizen  Partner  Dependents  tenure  PhoneService  \\\n",
       "0       1              0        1           1      72             1   \n",
       "1       0              0        0           0      44             1   \n",
       "2       0              1        1           0      38             1   \n",
       "3       1              0        0           0       4             1   \n",
       "4       1              0        0           0       2             1   \n",
       "\n",
       "   MultipleLines  InternetService  OnlineSecurity  OnlineBackup  \\\n",
       "0              1                0               0             0   \n",
       "1              0                2               0             1   \n",
       "2              1                2               0             0   \n",
       "3              0                1               0             0   \n",
       "4              0                1               1             0   \n",
       "\n",
       "   DeviceProtection  TechSupport  StreamingTV  StreamingMovies  Contract  \\\n",
       "0                 0            0            0                0        24   \n",
       "1                 1            0            1                0         1   \n",
       "2                 0            0            0                0         1   \n",
       "3                 0            0            0                1         1   \n",
       "4                 1            0            0                0         1   \n",
       "\n",
       "   PaperlessBilling  PaymentMethod  MonthlyCharges  TotalCharges  Churn  \n",
       "0                 0              4              24          1734      0  \n",
       "1                 1              4              88          3973      0  \n",
       "2                 1              3              74          2869      1  \n",
       "3                 1              1              55           238      0  \n",
       "4                 0              1              53           119      0  "
      ]
     },
     "execution_count": 20,
     "metadata": {},
     "output_type": "execute_result"
    }
   ],
   "source": [
    "df.head()"
   ]
  },
  {
   "cell_type": "code",
   "execution_count": 21,
   "metadata": {
    "_kg_hide-input": true,
    "execution": {
     "iopub.execute_input": "2021-03-25T06:31:43.071378Z",
     "iopub.status.busy": "2021-03-25T06:31:43.061061Z",
     "iopub.status.idle": "2021-03-25T06:31:43.076214Z",
     "shell.execute_reply": "2021-03-25T06:31:43.075483Z"
    },
    "papermill": {
     "duration": 0.05242,
     "end_time": "2021-03-25T06:31:43.076402",
     "exception": false,
     "start_time": "2021-03-25T06:31:43.023982",
     "status": "completed"
    },
    "tags": []
   },
   "outputs": [
    {
     "name": "stdout",
     "output_type": "stream",
     "text": [
      "<class 'pandas.core.frame.DataFrame'>\n",
      "RangeIndex: 5986 entries, 0 to 5985\n",
      "Data columns (total 20 columns):\n",
      " #   Column            Non-Null Count  Dtype\n",
      "---  ------            --------------  -----\n",
      " 0   gender            5986 non-null   int64\n",
      " 1   SeniorCitizen     5986 non-null   int64\n",
      " 2   Partner           5986 non-null   int64\n",
      " 3   Dependents        5986 non-null   int64\n",
      " 4   tenure            5986 non-null   int64\n",
      " 5   PhoneService      5986 non-null   int64\n",
      " 6   MultipleLines     5986 non-null   int64\n",
      " 7   InternetService   5986 non-null   int64\n",
      " 8   OnlineSecurity    5986 non-null   int64\n",
      " 9   OnlineBackup      5986 non-null   int64\n",
      " 10  DeviceProtection  5986 non-null   int64\n",
      " 11  TechSupport       5986 non-null   int64\n",
      " 12  StreamingTV       5986 non-null   int64\n",
      " 13  StreamingMovies   5986 non-null   int64\n",
      " 14  Contract          5986 non-null   int64\n",
      " 15  PaperlessBilling  5986 non-null   int64\n",
      " 16  PaymentMethod     5986 non-null   int64\n",
      " 17  MonthlyCharges    5986 non-null   int64\n",
      " 18  TotalCharges      5986 non-null   int64\n",
      " 19  Churn             5986 non-null   int64\n",
      "dtypes: int64(20)\n",
      "memory usage: 935.4 KB\n"
     ]
    }
   ],
   "source": [
    "df.info()"
   ]
  },
  {
   "cell_type": "markdown",
   "metadata": {
    "papermill": {
     "duration": 0.031645,
     "end_time": "2021-03-25T06:31:43.140324",
     "exception": false,
     "start_time": "2021-03-25T06:31:43.108679",
     "status": "completed"
    },
    "tags": []
   },
   "source": [
    "Now the data is ready. Every column is in integer form. I will be looking for correlations of the columns with the Churn and if I find any uncorrelated columns I will drop them."
   ]
  },
  {
   "cell_type": "markdown",
   "metadata": {
    "papermill": {
     "duration": 0.032122,
     "end_time": "2021-03-25T06:31:43.203770",
     "exception": false,
     "start_time": "2021-03-25T06:31:43.171648",
     "status": "completed"
    },
    "tags": []
   },
   "source": [
    "## EDA"
   ]
  },
  {
   "cell_type": "code",
   "execution_count": 22,
   "metadata": {
    "_kg_hide-input": true,
    "execution": {
     "iopub.execute_input": "2021-03-25T06:31:43.273789Z",
     "iopub.status.busy": "2021-03-25T06:31:43.272786Z",
     "iopub.status.idle": "2021-03-25T06:31:43.500321Z",
     "shell.execute_reply": "2021-03-25T06:31:43.499778Z"
    },
    "papermill": {
     "duration": 0.264682,
     "end_time": "2021-03-25T06:31:43.500481",
     "exception": false,
     "start_time": "2021-03-25T06:31:43.235799",
     "status": "completed"
    },
    "tags": []
   },
   "outputs": [
    {
     "data": {
      "text/plain": [
       "<AxesSubplot:xlabel='Partner', ylabel='MonthlyCharges'>"
      ]
     },
     "execution_count": 22,
     "metadata": {},
     "output_type": "execute_result"
    },
    {
     "data": {
      "image/png": "[encoded data removed]",
      "text/plain": [
       "<Figure size 432x288 with 1 Axes>"
      ]
     },
     "metadata": {
      "needs_background": "light"
     },
     "output_type": "display_data"
    }
   ],
   "source": [
    "sns.barplot(x='Partner', y='MonthlyCharges', data=df)"
   ]
  },
  {
   "cell_type": "code",
   "execution_count": 23,
   "metadata": {
    "_kg_hide-input": true,
    "execution": {
     "iopub.execute_input": "2021-03-25T06:31:43.573495Z",
     "iopub.status.busy": "2021-03-25T06:31:43.572695Z",
     "iopub.status.idle": "2021-03-25T06:31:43.795617Z",
     "shell.execute_reply": "2021-03-25T06:31:43.795124Z"
    },
    "papermill": {
     "duration": 0.262315,
     "end_time": "2021-03-25T06:31:43.795752",
     "exception": false,
     "start_time": "2021-03-25T06:31:43.533437",
     "status": "completed"
    },
    "tags": []
   },
   "outputs": [
    {
     "data": {
      "text/plain": [
       "Text(0, 0.5, 'Charge')"
      ]
     },
     "execution_count": 23,
     "metadata": {},
     "output_type": "execute_result"
    },
    {
     "data": {
      "image/png": "[encoded data removed]",
      "text/plain": [
       "<Figure size 432x288 with 1 Axes>"
      ]
     },
     "metadata": {
      "needs_background": "light"
     },
     "output_type": "display_data"
    }
   ],
   "source": [
    "sns.barplot(x='Contract', y='MonthlyCharges', data=df)\n",
    "plt.ylabel('Charge')"
   ]
  },
  {
   "cell_type": "code",
   "execution_count": 24,
   "metadata": {
    "_kg_hide-input": true,
    "execution": {
     "iopub.execute_input": "2021-03-25T06:31:43.868833Z",
     "iopub.status.busy": "2021-03-25T06:31:43.868262Z",
     "iopub.status.idle": "2021-03-25T06:31:44.067984Z",
     "shell.execute_reply": "2021-03-25T06:31:44.067418Z"
    },
    "papermill": {
     "duration": 0.239111,
     "end_time": "2021-03-25T06:31:44.068129",
     "exception": false,
     "start_time": "2021-03-25T06:31:43.829018",
     "status": "completed"
    },
    "tags": []
   },
   "outputs": [
    {
     "data": {
      "text/plain": [
       "Text(0.5, 0, 'Non senior - Senior')"
      ]
     },
     "execution_count": 24,
     "metadata": {},
     "output_type": "execute_result"
    },
    {
     "data": {
      "image/png": "[encoded data removed]",
      "text/plain": [
       "<Figure size 432x288 with 1 Axes>"
      ]
     },
     "metadata": {
      "needs_background": "light"
     },
     "output_type": "display_data"
    }
   ],
   "source": [
    "sns.barplot(x='SeniorCitizen', y='MonthlyCharges', data=df)\n",
    "plt.xlabel('Non senior - Senior')"
   ]
  },
  {
   "cell_type": "code",
   "execution_count": 25,
   "metadata": {
    "execution": {
     "iopub.execute_input": "2021-03-25T06:31:44.142675Z",
     "iopub.status.busy": "2021-03-25T06:31:44.142100Z",
     "iopub.status.idle": "2021-03-25T06:31:44.350930Z",
     "shell.execute_reply": "2021-03-25T06:31:44.350270Z"
    },
    "papermill": {
     "duration": 0.247943,
     "end_time": "2021-03-25T06:31:44.351076",
     "exception": false,
     "start_time": "2021-03-25T06:31:44.103133",
     "status": "completed"
    },
    "tags": []
   },
   "outputs": [
    {
     "data": {
      "text/plain": [
       "Text(0.5, 0, 'No Internet - DSL - Fiber optic')"
      ]
     },
     "execution_count": 25,
     "metadata": {},
     "output_type": "execute_result"
    },
    {
     "data": {
      "image/png": "[encoded data removed]",
      "text/plain": [
       "<Figure size 432x288 with 1 Axes>"
      ]
     },
     "metadata": {
      "needs_background": "light"
     },
     "output_type": "display_data"
    }
   ],
   "source": [
    "sns.barplot(x='InternetService', y='MonthlyCharges', data=df)\n",
    "plt.xlabel('No Internet - DSL - Fiber optic')"
   ]
  },
  {
   "cell_type": "markdown",
   "metadata": {
    "papermill": {
     "duration": 0.034981,
     "end_time": "2021-03-25T06:31:44.421467",
     "exception": false,
     "start_time": "2021-03-25T06:31:44.386486",
     "status": "completed"
    },
    "tags": []
   },
   "source": [
    "### Observations"
   ]
  },
  {
   "cell_type": "markdown",
   "metadata": {
    "papermill": {
     "duration": 0.036605,
     "end_time": "2021-03-25T06:31:44.493305",
     "exception": false,
     "start_time": "2021-03-25T06:31:44.456700",
     "status": "completed"
    },
    "tags": []
   },
   "source": [
    "Having a partner or not having a partner does not effect the monthly charges that much, the effect is very minimal.\n",
    "\n",
    "Contract year effects monthly costs. The contract with the most length has the lowest prices because of the commitment of the customer.\n",
    "\n",
    "Senior citizens pays more than non senior citizens. That might be because younger people use more internet so their contracts have more throughput.\n",
    "\n",
    "Fiber optic is the fastest and most reliable internet right now. It is not surprise that it is the most expensive one."
   ]
  },
  {
   "cell_type": "markdown",
   "metadata": {
    "papermill": {
     "duration": 0.036033,
     "end_time": "2021-03-25T06:31:44.564122",
     "exception": false,
     "start_time": "2021-03-25T06:31:44.528089",
     "status": "completed"
    },
    "tags": []
   },
   "source": [
    "## Correlations"
   ]
  },
  {
   "cell_type": "code",
   "execution_count": 26,
   "metadata": {
    "execution": {
     "iopub.execute_input": "2021-03-25T06:31:44.638630Z",
     "iopub.status.busy": "2021-03-25T06:31:44.638037Z",
     "iopub.status.idle": "2021-03-25T06:31:44.652015Z",
     "shell.execute_reply": "2021-03-25T06:31:44.651448Z"
    },
    "papermill": {
     "duration": 0.053401,
     "end_time": "2021-03-25T06:31:44.652228",
     "exception": false,
     "start_time": "2021-03-25T06:31:44.598827",
     "status": "completed"
    },
    "tags": []
   },
   "outputs": [],
   "source": [
    "corr = df.corr()"
   ]
  },
  {
   "cell_type": "code",
   "execution_count": 27,
   "metadata": {
    "execution": {
     "iopub.execute_input": "2021-03-25T06:31:44.738585Z",
     "iopub.status.busy": "2021-03-25T06:31:44.729027Z",
     "iopub.status.idle": "2021-03-25T06:31:47.337376Z",
     "shell.execute_reply": "2021-03-25T06:31:47.337836Z"
    },
    "papermill": {
     "duration": 2.650734,
     "end_time": "2021-03-25T06:31:47.338045",
     "exception": false,
     "start_time": "2021-03-25T06:31:44.687311",
     "status": "completed"
    },
    "tags": []
   },
   "outputs": [
    {
     "data": {
      "image/png": "[encoded data removed]",
      "text/plain": [
       "<Figure size 2160x720 with 2 Axes>"
      ]
     },
     "metadata": {
      "needs_background": "light"
     },
     "output_type": "display_data"
    }
   ],
   "source": [
    "plt.figure(figsize=(30,10))\n",
    "sns.heatmap(corr, cmap='coolwarm', annot = True)\n",
    "plt.show()"
   ]
  },
  {
   "cell_type": "markdown",
   "metadata": {
    "papermill": {
     "duration": 0.04239,
     "end_time": "2021-03-25T06:31:47.424785",
     "exception": false,
     "start_time": "2021-03-25T06:31:47.382395",
     "status": "completed"
    },
    "tags": []
   },
   "source": [
    "I will not be looking each column one by one. I will choose the most correlated ones and use them in my models."
   ]
  },
  {
   "cell_type": "code",
   "execution_count": 28,
   "metadata": {
    "execution": {
     "iopub.execute_input": "2021-03-25T06:31:47.515486Z",
     "iopub.status.busy": "2021-03-25T06:31:47.514915Z",
     "iopub.status.idle": "2021-03-25T06:31:47.540836Z",
     "shell.execute_reply": "2021-03-25T06:31:47.540293Z"
    },
    "papermill": {
     "duration": 0.074355,
     "end_time": "2021-03-25T06:31:47.541025",
     "exception": false,
     "start_time": "2021-03-25T06:31:47.466670",
     "status": "completed"
    },
    "tags": []
   },
   "outputs": [
    {
     "data": {
      "text/plain": [
       "Index(['SeniorCitizen', 'Partner', 'Dependents', 'tenure', 'InternetService',\n",
       "       'OnlineSecurity', 'TechSupport', 'Contract', 'PaperlessBilling',\n",
       "       'PaymentMethod', 'MonthlyCharges', 'TotalCharges', 'Churn'],\n",
       "      dtype='object')"
      ]
     },
     "execution_count": 28,
     "metadata": {},
     "output_type": "execute_result"
    }
   ],
   "source": [
    "corr[abs(corr['Churn']) > 0.1].index"
   ]
  },
  {
   "cell_type": "markdown",
   "metadata": {
    "papermill": {
     "duration": 0.041827,
     "end_time": "2021-03-25T06:31:47.624609",
     "exception": false,
     "start_time": "2021-03-25T06:31:47.582782",
     "status": "completed"
    },
    "tags": []
   },
   "source": [
    "Usig most correalted columsn"
   ]
  },
  {
   "cell_type": "code",
   "execution_count": 29,
   "metadata": {
    "execution": {
     "iopub.execute_input": "2021-03-25T06:31:47.714192Z",
     "iopub.status.busy": "2021-03-25T06:31:47.713251Z",
     "iopub.status.idle": "2021-03-25T06:31:47.718392Z",
     "shell.execute_reply": "2021-03-25T06:31:47.717782Z"
    },
    "papermill": {
     "duration": 0.052377,
     "end_time": "2021-03-25T06:31:47.718544",
     "exception": false,
     "start_time": "2021-03-25T06:31:47.666167",
     "status": "completed"
    },
    "tags": []
   },
   "outputs": [],
   "source": [
    "df = df[['SeniorCitizen', 'Partner', 'Dependents', 'tenure', 'InternetService',\n",
    "       'OnlineSecurity', 'TechSupport', 'Contract', 'PaperlessBilling',\n",
    "       'PaymentMethod', 'MonthlyCharges', 'TotalCharges', 'Churn']]"
   ]
  },
  {
   "cell_type": "code",
   "execution_count": 30,
   "metadata": {
    "_kg_hide-input": true,
    "execution": {
     "iopub.execute_input": "2021-03-25T06:31:47.833690Z",
     "iopub.status.busy": "2021-03-25T06:31:47.828947Z",
     "iopub.status.idle": "2021-03-25T06:31:47.838445Z",
     "shell.execute_reply": "2021-03-25T06:31:47.838876Z"
    },
    "papermill": {
     "duration": 0.065363,
     "end_time": "2021-03-25T06:31:47.839054",
     "exception": false,
     "start_time": "2021-03-25T06:31:47.773691",
     "status": "completed"
    },
    "tags": []
   },
   "outputs": [
    {
     "data": {
      "text/html": [
       "<div>\n",
       "<style scoped>\n",
       "    .dataframe tbody tr th:only-of-type {\n",
       "        vertical-align: middle;\n",
       "    }\n",
       "\n",
       "    .dataframe tbody tr th {\n",
       "        vertical-align: top;\n",
       "    }\n",
       "\n",
       "    .dataframe thead th {\n",
       "        text-align: right;\n",
       "    }\n",
       "</style>\n",
       "<table border=\"1\" class=\"dataframe\">\n",
       "  <thead>\n",
       "    <tr style=\"text-align: right;\">\n",
       "      <th></th>\n",
       "      <th>SeniorCitizen</th>\n",
       "      <th>Partner</th>\n",
       "      <th>Dependents</th>\n",
       "      <th>tenure</th>\n",
       "      <th>InternetService</th>\n",
       "      <th>OnlineSecurity</th>\n",
       "      <th>TechSupport</th>\n",
       "      <th>Contract</th>\n",
       "      <th>PaperlessBilling</th>\n",
       "      <th>PaymentMethod</th>\n",
       "      <th>MonthlyCharges</th>\n",
       "      <th>TotalCharges</th>\n",
       "      <th>Churn</th>\n",
       "    </tr>\n",
       "  </thead>\n",
       "  <tbody>\n",
       "    <tr>\n",
       "      <th>0</th>\n",
       "      <td>0</td>\n",
       "      <td>1</td>\n",
       "      <td>1</td>\n",
       "      <td>72</td>\n",
       "      <td>0</td>\n",
       "      <td>0</td>\n",
       "      <td>0</td>\n",
       "      <td>24</td>\n",
       "      <td>0</td>\n",
       "      <td>4</td>\n",
       "      <td>24</td>\n",
       "      <td>1734</td>\n",
       "      <td>0</td>\n",
       "    </tr>\n",
       "    <tr>\n",
       "      <th>1</th>\n",
       "      <td>0</td>\n",
       "      <td>0</td>\n",
       "      <td>0</td>\n",
       "      <td>44</td>\n",
       "      <td>2</td>\n",
       "      <td>0</td>\n",
       "      <td>0</td>\n",
       "      <td>1</td>\n",
       "      <td>1</td>\n",
       "      <td>4</td>\n",
       "      <td>88</td>\n",
       "      <td>3973</td>\n",
       "      <td>0</td>\n",
       "    </tr>\n",
       "    <tr>\n",
       "      <th>2</th>\n",
       "      <td>1</td>\n",
       "      <td>1</td>\n",
       "      <td>0</td>\n",
       "      <td>38</td>\n",
       "      <td>2</td>\n",
       "      <td>0</td>\n",
       "      <td>0</td>\n",
       "      <td>1</td>\n",
       "      <td>1</td>\n",
       "      <td>3</td>\n",
       "      <td>74</td>\n",
       "      <td>2869</td>\n",
       "      <td>1</td>\n",
       "    </tr>\n",
       "    <tr>\n",
       "      <th>3</th>\n",
       "      <td>0</td>\n",
       "      <td>0</td>\n",
       "      <td>0</td>\n",
       "      <td>4</td>\n",
       "      <td>1</td>\n",
       "      <td>0</td>\n",
       "      <td>0</td>\n",
       "      <td>1</td>\n",
       "      <td>1</td>\n",
       "      <td>1</td>\n",
       "      <td>55</td>\n",
       "      <td>238</td>\n",
       "      <td>0</td>\n",
       "    </tr>\n",
       "    <tr>\n",
       "      <th>4</th>\n",
       "      <td>0</td>\n",
       "      <td>0</td>\n",
       "      <td>0</td>\n",
       "      <td>2</td>\n",
       "      <td>1</td>\n",
       "      <td>1</td>\n",
       "      <td>0</td>\n",
       "      <td>1</td>\n",
       "      <td>0</td>\n",
       "      <td>1</td>\n",
       "      <td>53</td>\n",
       "      <td>119</td>\n",
       "      <td>0</td>\n",
       "    </tr>\n",
       "  </tbody>\n",
       "</table>\n",
       "</div>"
      ],
      "text/plain": [
       "   SeniorCitizen  Partner  Dependents  tenure  InternetService  \\\n",
       "0              0        1           1      72                0   \n",
       "1              0        0           0      44                2   \n",
       "2              1        1           0      38                2   \n",
       "3              0        0           0       4                1   \n",
       "4              0        0           0       2                1   \n",
       "\n",
       "   OnlineSecurity  TechSupport  Contract  PaperlessBilling  PaymentMethod  \\\n",
       "0               0            0        24                 0              4   \n",
       "1               0            0         1                 1              4   \n",
       "2               0            0         1                 1              3   \n",
       "3               0            0         1                 1              1   \n",
       "4               1            0         1                 0              1   \n",
       "\n",
       "   MonthlyCharges  TotalCharges  Churn  \n",
       "0              24          1734      0  \n",
       "1              88          3973      0  \n",
       "2              74          2869      1  \n",
       "3              55           238      0  \n",
       "4              53           119      0  "
      ]
     },
     "execution_count": 30,
     "metadata": {},
     "output_type": "execute_result"
    }
   ],
   "source": [
    "df.head()"
   ]
  },
  {
   "cell_type": "markdown",
   "metadata": {
    "papermill": {
     "duration": 0.044966,
     "end_time": "2021-03-25T06:31:47.934362",
     "exception": false,
     "start_time": "2021-03-25T06:31:47.889396",
     "status": "completed"
    },
    "tags": []
   },
   "source": [
    "## Splitting the dataset"
   ]
  },
  {
   "cell_type": "code",
   "execution_count": 31,
   "metadata": {
    "execution": {
     "iopub.execute_input": "2021-03-25T06:31:48.042461Z",
     "iopub.status.busy": "2021-03-25T06:31:48.041343Z",
     "iopub.status.idle": "2021-03-25T06:31:48.043716Z",
     "shell.execute_reply": "2021-03-25T06:31:48.044465Z"
    },
    "papermill": {
     "duration": 0.055074,
     "end_time": "2021-03-25T06:31:48.044711",
     "exception": false,
     "start_time": "2021-03-25T06:31:47.989637",
     "status": "completed"
    },
    "tags": []
   },
   "outputs": [],
   "source": [
    "x = df.drop(['Churn'], axis=1)\n",
    "y = df['Churn']"
   ]
  },
  {
   "cell_type": "code",
   "execution_count": 32,
   "metadata": {
    "execution": {
     "iopub.execute_input": "2021-03-25T06:31:48.143293Z",
     "iopub.status.busy": "2021-03-25T06:31:48.142599Z",
     "iopub.status.idle": "2021-03-25T06:31:48.148527Z",
     "shell.execute_reply": "2021-03-25T06:31:48.149109Z"
    },
    "papermill": {
     "duration": 0.053332,
     "end_time": "2021-03-25T06:31:48.149281",
     "exception": false,
     "start_time": "2021-03-25T06:31:48.095949",
     "status": "completed"
    },
    "tags": []
   },
   "outputs": [
    {
     "data": {
      "text/plain": [
       "((5986, 12), (5986,))"
      ]
     },
     "execution_count": 32,
     "metadata": {},
     "output_type": "execute_result"
    }
   ],
   "source": [
    "x.shape, y.shape"
   ]
  },
  {
   "cell_type": "code",
   "execution_count": 33,
   "metadata": {
    "execution": {
     "iopub.execute_input": "2021-03-25T06:31:48.238946Z",
     "iopub.status.busy": "2021-03-25T06:31:48.238313Z",
     "iopub.status.idle": "2021-03-25T06:31:48.247201Z",
     "shell.execute_reply": "2021-03-25T06:31:48.246540Z"
    },
    "papermill": {
     "duration": 0.055139,
     "end_time": "2021-03-25T06:31:48.247340",
     "exception": false,
     "start_time": "2021-03-25T06:31:48.192201",
     "status": "completed"
    },
    "tags": []
   },
   "outputs": [],
   "source": [
    "x_train, x_test, y_train, y_test = train_test_split(x, y, test_size=0.2, random_state=42)"
   ]
  },
  {
   "cell_type": "markdown",
   "metadata": {
    "papermill": {
     "duration": 0.044897,
     "end_time": "2021-03-25T06:31:48.335178",
     "exception": false,
     "start_time": "2021-03-25T06:31:48.290281",
     "status": "completed"
    },
    "tags": []
   },
   "source": [
    "## Models"
   ]
  },
  {
   "cell_type": "markdown",
   "metadata": {
    "papermill": {
     "duration": 0.043151,
     "end_time": "2021-03-25T06:31:48.422696",
     "exception": false,
     "start_time": "2021-03-25T06:31:48.379545",
     "status": "completed"
    },
    "tags": []
   },
   "source": [
    "### Logictic Regression"
   ]
  },
  {
   "cell_type": "code",
   "execution_count": 34,
   "metadata": {
    "execution": {
     "iopub.execute_input": "2021-03-25T06:31:48.517482Z",
     "iopub.status.busy": "2021-03-25T06:31:48.516469Z",
     "iopub.status.idle": "2021-03-25T06:31:48.772102Z",
     "shell.execute_reply": "2021-03-25T06:31:48.771442Z"
    },
    "papermill": {
     "duration": 0.306147,
     "end_time": "2021-03-25T06:31:48.772242",
     "exception": false,
     "start_time": "2021-03-25T06:31:48.466095",
     "status": "completed"
    },
    "tags": []
   },
   "outputs": [
    {
     "name": "stdout",
     "output_type": "stream",
     "text": [
      "              precision    recall  f1-score   support\n",
      "\n",
      "           0       0.84      0.90      0.87       895\n",
      "           1       0.62      0.50      0.56       303\n",
      "\n",
      "    accuracy                           0.80      1198\n",
      "   macro avg       0.73      0.70      0.71      1198\n",
      "weighted avg       0.79      0.80      0.79      1198\n",
      "\n"
     ]
    },
    {
     "name": "stderr",
     "output_type": "stream",
     "text": [
      "/opt/conda/lib/python3.7/site-packages/sklearn/linear_model/_logistic.py:765: ConvergenceWarning: lbfgs failed to converge (status=1):\n",
      "STOP: TOTAL NO. of ITERATIONS REACHED LIMIT.\n",
      "\n",
      "Increase the number of iterations (max_iter) or scale the data as shown in:\n",
      "    https://scikit-learn.org/stable/modules/preprocessing.html\n",
      "Please also refer to the documentation for alternative solver options:\n",
      "    https://scikit-learn.org/stable/modules/linear_model.html#logistic-regression\n",
      "  extra_warning_msg=_LOGISTIC_SOLVER_CONVERGENCE_MSG)\n"
     ]
    },
    {
     "data": {
      "text/plain": [
       "<sklearn.metrics._plot.roc_curve.RocCurveDisplay at 0x7f4287dd5f50>"
      ]
     },
     "execution_count": 34,
     "metadata": {},
     "output_type": "execute_result"
    },
    {
     "data": {
      "image/png": "[encoded data removed]",
      "text/plain": [
       "<Figure size 432x288 with 1 Axes>"
      ]
     },
     "metadata": {
      "needs_background": "light"
     },
     "output_type": "display_data"
    }
   ],
   "source": [
    "logistic = LogisticRegression()\n",
    "logistic.fit(x_train, y_train)\n",
    "prediction_lr = logistic.predict(x_test)\n",
    "print(classification_report(y_test,prediction_lr))\n",
    "metrics.plot_roc_curve(logistic, x_test, y_test)"
   ]
  },
  {
   "cell_type": "markdown",
   "metadata": {
    "papermill": {
     "duration": 0.045065,
     "end_time": "2021-03-25T06:31:48.861517",
     "exception": false,
     "start_time": "2021-03-25T06:31:48.816452",
     "status": "completed"
    },
    "tags": []
   },
   "source": [
    "### Decision Tree"
   ]
  },
  {
   "cell_type": "code",
   "execution_count": 35,
   "metadata": {
    "execution": {
     "iopub.execute_input": "2021-03-25T06:31:48.958300Z",
     "iopub.status.busy": "2021-03-25T06:31:48.957670Z",
     "iopub.status.idle": "2021-03-25T06:31:49.125967Z",
     "shell.execute_reply": "2021-03-25T06:31:49.126424Z"
    },
    "papermill": {
     "duration": 0.219471,
     "end_time": "2021-03-25T06:31:49.126584",
     "exception": false,
     "start_time": "2021-03-25T06:31:48.907113",
     "status": "completed"
    },
    "tags": []
   },
   "outputs": [
    {
     "name": "stdout",
     "output_type": "stream",
     "text": [
      "              precision    recall  f1-score   support\n",
      "\n",
      "           0       0.83      0.81      0.82       895\n",
      "           1       0.47      0.50      0.48       303\n",
      "\n",
      "    accuracy                           0.73      1198\n",
      "   macro avg       0.65      0.65      0.65      1198\n",
      "weighted avg       0.74      0.73      0.73      1198\n",
      "\n"
     ]
    },
    {
     "data": {
      "text/plain": [
       "<sklearn.metrics._plot.roc_curve.RocCurveDisplay at 0x7f42872218d0>"
      ]
     },
     "execution_count": 35,
     "metadata": {},
     "output_type": "execute_result"
    },
    {
     "data": {
      "image/png": "[encoded data removed]",
      "text/plain": [
       "<Figure size 432x288 with 1 Axes>"
      ]
     },
     "metadata": {
      "needs_background": "light"
     },
     "output_type": "display_data"
    }
   ],
   "source": [
    "tree = DecisionTreeClassifier()\n",
    "tree.fit(x_train, y_train)\n",
    "prediction_dt = tree.predict(x_test)\n",
    "print(classification_report(y_test, prediction_dt))\n",
    "metrics.plot_roc_curve(tree, x_test, y_test)"
   ]
  },
  {
   "cell_type": "markdown",
   "metadata": {
    "papermill": {
     "duration": 0.045469,
     "end_time": "2021-03-25T06:31:49.217427",
     "exception": false,
     "start_time": "2021-03-25T06:31:49.171958",
     "status": "completed"
    },
    "tags": []
   },
   "source": [
    "### Random Forests"
   ]
  },
  {
   "cell_type": "code",
   "execution_count": 36,
   "metadata": {
    "execution": {
     "iopub.execute_input": "2021-03-25T06:31:49.315914Z",
     "iopub.status.busy": "2021-03-25T06:31:49.315269Z",
     "iopub.status.idle": "2021-03-25T06:31:50.053347Z",
     "shell.execute_reply": "2021-03-25T06:31:50.052724Z"
    },
    "papermill": {
     "duration": 0.790261,
     "end_time": "2021-03-25T06:31:50.053488",
     "exception": false,
     "start_time": "2021-03-25T06:31:49.263227",
     "status": "completed"
    },
    "tags": []
   },
   "outputs": [
    {
     "name": "stdout",
     "output_type": "stream",
     "text": [
      "              precision    recall  f1-score   support\n",
      "\n",
      "           0       0.84      0.89      0.86       895\n",
      "           1       0.60      0.48      0.54       303\n",
      "\n",
      "    accuracy                           0.79      1198\n",
      "   macro avg       0.72      0.69      0.70      1198\n",
      "weighted avg       0.78      0.79      0.78      1198\n",
      "\n"
     ]
    },
    {
     "data": {
      "text/plain": [
       "<sklearn.metrics._plot.roc_curve.RocCurveDisplay at 0x7f42879bb9d0>"
      ]
     },
     "execution_count": 36,
     "metadata": {},
     "output_type": "execute_result"
    },
    {
     "data": {
      "image/png": "[encoded data removed]",
      "text/plain": [
       "<Figure size 432x288 with 1 Axes>"
      ]
     },
     "metadata": {
      "needs_background": "light"
     },
     "output_type": "display_data"
    }
   ],
   "source": [
    "forest = RandomForestClassifier()\n",
    "forest.fit(x_train, y_train)\n",
    "prediction_rf = forest.predict(x_test)\n",
    "print(classification_report(y_test, prediction_rf))\n",
    "metrics.plot_roc_curve(forest, x_test, y_test) "
   ]
  },
  {
   "cell_type": "markdown",
   "metadata": {
    "papermill": {
     "duration": 0.047471,
     "end_time": "2021-03-25T06:31:50.148172",
     "exception": false,
     "start_time": "2021-03-25T06:31:50.100701",
     "status": "completed"
    },
    "tags": []
   },
   "source": [
    "### ANN"
   ]
  },
  {
   "cell_type": "code",
   "execution_count": 37,
   "metadata": {
    "execution": {
     "iopub.execute_input": "2021-03-25T06:31:50.248351Z",
     "iopub.status.busy": "2021-03-25T06:31:50.247746Z",
     "iopub.status.idle": "2021-03-25T06:31:50.361001Z",
     "shell.execute_reply": "2021-03-25T06:31:50.361432Z"
    },
    "papermill": {
     "duration": 0.16628,
     "end_time": "2021-03-25T06:31:50.361605",
     "exception": false,
     "start_time": "2021-03-25T06:31:50.195325",
     "status": "completed"
    },
    "tags": []
   },
   "outputs": [
    {
     "name": "stdout",
     "output_type": "stream",
     "text": [
      "Model: \"sequential\"\n",
      "_________________________________________________________________\n",
      "Layer (type)                 Output Shape              Param #   \n",
      "=================================================================\n",
      "dense (Dense)                (None, 32)                416       \n",
      "_________________________________________________________________\n",
      "dropout (Dropout)            (None, 32)                0         \n",
      "_________________________________________________________________\n",
      "dense_1 (Dense)              (None, 16)                528       \n",
      "_________________________________________________________________\n",
      "dense_2 (Dense)              (None, 1)                 17        \n",
      "=================================================================\n",
      "Total params: 961\n",
      "Trainable params: 961\n",
      "Non-trainable params: 0\n",
      "_________________________________________________________________\n"
     ]
    }
   ],
   "source": [
    "model = Sequential([\n",
    "    Dense(32, activation='relu', input_dim=12),\n",
    "    Dropout(0.5),\n",
    "    Dense(16, activation='relu'),\n",
    "    Dense(1, activation='sigmoid')\n",
    "])\n",
    "model.compile(optimizer='adam', loss='mean_squared_error', metrics=['accuracy'])\n",
    "model.summary()"
   ]
  },
  {
   "cell_type": "code",
   "execution_count": 38,
   "metadata": {
    "execution": {
     "iopub.execute_input": "2021-03-25T06:31:50.462370Z",
     "iopub.status.busy": "2021-03-25T06:31:50.461704Z",
     "iopub.status.idle": "2021-03-25T06:32:13.903776Z",
     "shell.execute_reply": "2021-03-25T06:32:13.904273Z"
    },
    "papermill": {
     "duration": 23.495518,
     "end_time": "2021-03-25T06:32:13.904467",
     "exception": false,
     "start_time": "2021-03-25T06:31:50.408949",
     "status": "completed"
    },
    "tags": []
   },
   "outputs": [
    {
     "name": "stdout",
     "output_type": "stream",
     "text": [
      "Epoch 1/50\n",
      "479/479 - 1s - loss: 0.2769 - accuracy: 0.7218\n",
      "Epoch 2/50\n",
      "479/479 - 0s - loss: 0.2684 - accuracy: 0.7308\n",
      "Epoch 3/50\n",
      "479/479 - 0s - loss: 0.2684 - accuracy: 0.7272\n",
      "Epoch 4/50\n",
      "479/479 - 0s - loss: 0.2549 - accuracy: 0.7362\n",
      "Epoch 5/50\n",
      "479/479 - 0s - loss: 0.2470 - accuracy: 0.7412\n",
      "Epoch 6/50\n",
      "479/479 - 0s - loss: 0.2418 - accuracy: 0.7462\n",
      "Epoch 7/50\n",
      "479/479 - 0s - loss: 0.2351 - accuracy: 0.7531\n",
      "Epoch 8/50\n",
      "479/479 - 0s - loss: 0.2349 - accuracy: 0.7481\n",
      "Epoch 9/50\n",
      "479/479 - 0s - loss: 0.2314 - accuracy: 0.7467\n",
      "Epoch 10/50\n",
      "479/479 - 0s - loss: 0.2285 - accuracy: 0.7504\n",
      "Epoch 11/50\n",
      "479/479 - 0s - loss: 0.2187 - accuracy: 0.7558\n",
      "Epoch 12/50\n",
      "479/479 - 0s - loss: 0.2217 - accuracy: 0.7546\n",
      "Epoch 13/50\n",
      "479/479 - 0s - loss: 0.2124 - accuracy: 0.7655\n",
      "Epoch 14/50\n",
      "479/479 - 0s - loss: 0.2143 - accuracy: 0.7625\n",
      "Epoch 15/50\n",
      "479/479 - 0s - loss: 0.2094 - accuracy: 0.7657\n",
      "Epoch 16/50\n",
      "479/479 - 0s - loss: 0.2097 - accuracy: 0.7625\n",
      "Epoch 17/50\n",
      "479/479 - 0s - loss: 0.2068 - accuracy: 0.7598\n",
      "Epoch 18/50\n",
      "479/479 - 0s - loss: 0.2035 - accuracy: 0.7558\n",
      "Epoch 19/50\n",
      "479/479 - 0s - loss: 0.1965 - accuracy: 0.7577\n",
      "Epoch 20/50\n",
      "479/479 - 0s - loss: 0.1932 - accuracy: 0.7667\n",
      "Epoch 21/50\n",
      "479/479 - 0s - loss: 0.1916 - accuracy: 0.7634\n",
      "Epoch 22/50\n",
      "479/479 - 0s - loss: 0.1903 - accuracy: 0.7711\n",
      "Epoch 23/50\n",
      "479/479 - 0s - loss: 0.1877 - accuracy: 0.7640\n",
      "Epoch 24/50\n",
      "479/479 - 0s - loss: 0.1862 - accuracy: 0.7655\n",
      "Epoch 25/50\n",
      "479/479 - 0s - loss: 0.1803 - accuracy: 0.7686\n",
      "Epoch 26/50\n",
      "479/479 - 0s - loss: 0.1754 - accuracy: 0.7642\n",
      "Epoch 27/50\n",
      "479/479 - 0s - loss: 0.1746 - accuracy: 0.7627\n",
      "Epoch 28/50\n",
      "479/479 - 0s - loss: 0.1728 - accuracy: 0.7661\n",
      "Epoch 29/50\n",
      "479/479 - 0s - loss: 0.1673 - accuracy: 0.7684\n",
      "Epoch 30/50\n",
      "479/479 - 0s - loss: 0.1689 - accuracy: 0.7627\n",
      "Epoch 31/50\n",
      "479/479 - 0s - loss: 0.1640 - accuracy: 0.7650\n",
      "Epoch 32/50\n",
      "479/479 - 0s - loss: 0.1633 - accuracy: 0.7684\n",
      "Epoch 33/50\n",
      "479/479 - 0s - loss: 0.1573 - accuracy: 0.7746\n",
      "Epoch 34/50\n",
      "479/479 - 1s - loss: 0.1593 - accuracy: 0.7730\n",
      "Epoch 35/50\n",
      "479/479 - 0s - loss: 0.1549 - accuracy: 0.7784\n",
      "Epoch 36/50\n",
      "479/479 - 0s - loss: 0.1551 - accuracy: 0.7799\n",
      "Epoch 37/50\n",
      "479/479 - 0s - loss: 0.1519 - accuracy: 0.7776\n",
      "Epoch 38/50\n",
      "479/479 - 0s - loss: 0.1519 - accuracy: 0.7788\n",
      "Epoch 39/50\n",
      "479/479 - 0s - loss: 0.1499 - accuracy: 0.7799\n",
      "Epoch 40/50\n",
      "479/479 - 0s - loss: 0.1491 - accuracy: 0.7847\n",
      "Epoch 41/50\n",
      "479/479 - 0s - loss: 0.1495 - accuracy: 0.7817\n",
      "Epoch 42/50\n",
      "479/479 - 0s - loss: 0.1500 - accuracy: 0.7813\n",
      "Epoch 43/50\n",
      "479/479 - 0s - loss: 0.1511 - accuracy: 0.7822\n",
      "Epoch 44/50\n",
      "479/479 - 0s - loss: 0.1512 - accuracy: 0.7772\n",
      "Epoch 45/50\n",
      "479/479 - 0s - loss: 0.1504 - accuracy: 0.7824\n",
      "Epoch 46/50\n",
      "479/479 - 0s - loss: 0.1474 - accuracy: 0.7882\n",
      "Epoch 47/50\n",
      "479/479 - 0s - loss: 0.1485 - accuracy: 0.7897\n",
      "Epoch 48/50\n",
      "479/479 - 0s - loss: 0.1485 - accuracy: 0.7817\n",
      "Epoch 49/50\n",
      "479/479 - 0s - loss: 0.1486 - accuracy: 0.7863\n",
      "Epoch 50/50\n",
      "479/479 - 0s - loss: 0.1489 - accuracy: 0.7859\n"
     ]
    }
   ],
   "source": [
    "history = model.fit(x_train, y_train, batch_size=10, epochs=50,verbose=2)"
   ]
  },
  {
   "cell_type": "code",
   "execution_count": 39,
   "metadata": {
    "execution": {
     "iopub.execute_input": "2021-03-25T06:32:14.051547Z",
     "iopub.status.busy": "2021-03-25T06:32:14.050779Z",
     "iopub.status.idle": "2021-03-25T06:32:14.053653Z",
     "shell.execute_reply": "2021-03-25T06:32:14.054242Z"
    },
    "papermill": {
     "duration": 0.079677,
     "end_time": "2021-03-25T06:32:14.054420",
     "exception": false,
     "start_time": "2021-03-25T06:32:13.974743",
     "status": "completed"
    },
    "tags": []
   },
   "outputs": [
    {
     "name": "stdout",
     "output_type": "stream",
     "text": [
      "dict_keys(['loss', 'accuracy'])\n"
     ]
    }
   ],
   "source": [
    "print(history.history.keys())"
   ]
  },
  {
   "cell_type": "code",
   "execution_count": 40,
   "metadata": {
    "execution": {
     "iopub.execute_input": "2021-03-25T06:32:14.223579Z",
     "iopub.status.busy": "2021-03-25T06:32:14.217121Z",
     "iopub.status.idle": "2021-03-25T06:32:14.356555Z",
     "shell.execute_reply": "2021-03-25T06:32:14.356001Z"
    },
    "papermill": {
     "duration": 0.231353,
     "end_time": "2021-03-25T06:32:14.356705",
     "exception": false,
     "start_time": "2021-03-25T06:32:14.125352",
     "status": "completed"
    },
    "tags": []
   },
   "outputs": [
    {
     "data": {
      "text/plain": [
       "<matplotlib.legend.Legend at 0x7f4284434850>"
      ]
     },
     "execution_count": 40,
     "metadata": {},
     "output_type": "execute_result"
    },
    {
     "data": {
      "image/png": "[encoded data removed]",
      "text/plain": [
       "<Figure size 432x288 with 1 Axes>"
      ]
     },
     "metadata": {
      "needs_background": "light"
     },
     "output_type": "display_data"
    }
   ],
   "source": [
    "plt.plot(history.history['accuracy'], label='Accuracy', color='blue')\n",
    "plt.plot(history.history['loss'], label='Loss', color='red')\n",
    "plt.legend()"
   ]
  },
  {
   "cell_type": "markdown",
   "metadata": {
    "papermill": {
     "duration": 0.071083,
     "end_time": "2021-03-25T06:32:14.500102",
     "exception": false,
     "start_time": "2021-03-25T06:32:14.429019",
     "status": "completed"
    },
    "tags": []
   },
   "source": [
    "#### Confuiosn Matrix"
   ]
  },
  {
   "cell_type": "code",
   "execution_count": 41,
   "metadata": {
    "execution": {
     "iopub.execute_input": "2021-03-25T06:32:14.650873Z",
     "iopub.status.busy": "2021-03-25T06:32:14.649194Z",
     "iopub.status.idle": "2021-03-25T06:32:14.785285Z",
     "shell.execute_reply": "2021-03-25T06:32:14.786034Z"
    },
    "papermill": {
     "duration": 0.213444,
     "end_time": "2021-03-25T06:32:14.786219",
     "exception": false,
     "start_time": "2021-03-25T06:32:14.572775",
     "status": "completed"
    },
    "tags": []
   },
   "outputs": [
    {
     "name": "stdout",
     "output_type": "stream",
     "text": [
      "              precision    recall  f1-score   support\n",
      "\n",
      "           0       0.78      0.98      0.87       895\n",
      "           1       0.79      0.20      0.32       303\n",
      "\n",
      "    accuracy                           0.78      1198\n",
      "   macro avg       0.79      0.59      0.60      1198\n",
      "weighted avg       0.79      0.78      0.73      1198\n",
      "\n"
     ]
    }
   ],
   "source": [
    "prediction_nn = model.predict(x_test)\n",
    "prediction_nn = [1 if y>=0.5 else 0 for y in prediction_nn]\n",
    "print(classification_report(y_test, prediction_nn))"
   ]
  },
  {
   "cell_type": "markdown",
   "metadata": {
    "papermill": {
     "duration": 0.071657,
     "end_time": "2021-03-25T06:32:14.928917",
     "exception": false,
     "start_time": "2021-03-25T06:32:14.857260",
     "status": "completed"
    },
    "tags": []
   },
   "source": [
    "We achieved around %80 accuracy with different models. If we do some feature engineering after the preprocess maybe we can increase the accuracy little bit more."
   ]
  },
  {
   "cell_type": "code",
   "execution_count": null,
   "metadata": {
    "papermill": {
     "duration": 0.070778,
     "end_time": "2021-03-25T06:32:15.070656",
     "exception": false,
     "start_time": "2021-03-25T06:32:14.999878",
     "status": "completed"
    },
    "tags": []
   },
   "outputs": [],
   "source": []
  }
 ],
 "metadata": {
  "kernelspec": {
   "display_name": "Python 3",
   "language": "python",
   "name": "python3"
  },
  "language_info": {
   "codemirror_mode": {
    "name": "ipython",
    "version": 3
   },
   "file_extension": ".py",
   "mimetype": "text/x-python",
   "name": "python",
   "nbconvert_exporter": "python",
   "pygments_lexer": "ipython3",
   "version": "3.7.9"
  },
  "papermill": {
   "default_parameters": {},
   "duration": 51.355565,
   "end_time": "2021-03-25T06:32:16.253975",
   "environment_variables": {},
   "exception": null,
   "input_path": "__notebook__.ipynb",
   "output_path": "__notebook__.ipynb",
   "parameters": {},
   "start_time": "2021-03-25T06:31:24.898410",
   "version": "2.2.2"
  }
 },
 "nbformat": 4,
 "nbformat_minor": 4
}
