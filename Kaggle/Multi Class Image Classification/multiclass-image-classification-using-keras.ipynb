{
 "cells": [
  {
   "cell_type": "markdown",
   "metadata": {
    "papermill": {
     "duration": 0.01771,
     "end_time": "2021-02-26T18:03:54.047201",
     "exception": false,
     "start_time": "2021-02-26T18:03:54.029491",
     "status": "completed"
    },
    "tags": []
   },
   "source": [
    "# MultiClass Image Classification using keras"
   ]
  },
  {
   "cell_type": "code",
   "execution_count": 1,
   "metadata": {
    "_cell_guid": "b1076dfc-b9ad-4769-8c92-a6c4dae69d19",
    "_kg_hide-input": true,
    "_kg_hide-output": true,
    "_uuid": "8f2839f25d086af736a60e9eeb907d3b93b6e0e5",
    "execution": {
     "iopub.execute_input": "2021-02-26T18:03:54.082432Z",
     "iopub.status.busy": "2021-02-26T18:03:54.081411Z",
     "iopub.status.idle": "2021-02-26T18:03:54.259885Z",
     "shell.execute_reply": "2021-02-26T18:03:54.259122Z"
    },
    "papermill": {
     "duration": 0.197746,
     "end_time": "2021-02-26T18:03:54.260105",
     "exception": false,
     "start_time": "2021-02-26T18:03:54.062359",
     "status": "completed"
    },
    "tags": []
   },
   "outputs": [
    {
     "name": "stdout",
     "output_type": "stream",
     "text": [
      "/kaggle/input/fruit-images-for-object-detection/train_zip/train/banana_68.jpg\n",
      "/kaggle/input/fruit-images-for-object-detection/train_zip/train/apple_46.jpg\n",
      "/kaggle/input/fruit-images-for-object-detection/train_zip/train/apple_28.xml\n",
      "/kaggle/input/fruit-images-for-object-detection/train_zip/train/orange_20.jpg\n",
      "/kaggle/input/fruit-images-for-object-detection/train_zip/train/orange_22.xml\n",
      "/kaggle/input/fruit-images-for-object-detection/train_zip/train/apple_65.xml\n",
      "/kaggle/input/fruit-images-for-object-detection/train_zip/train/orange_41.xml\n",
      "/kaggle/input/fruit-images-for-object-detection/train_zip/train/banana_67.xml\n",
      "/kaggle/input/fruit-images-for-object-detection/train_zip/train/mixed_12.xml\n",
      "/kaggle/input/fruit-images-for-object-detection/train_zip/train/banana_37.xml\n",
      "/kaggle/input/fruit-images-for-object-detection/train_zip/train/mixed_1.jpg\n",
      "/kaggle/input/fruit-images-for-object-detection/train_zip/train/apple_55.xml\n",
      "/kaggle/input/fruit-images-for-object-detection/train_zip/train/mixed_20.xml\n",
      "/kaggle/input/fruit-images-for-object-detection/train_zip/train/apple_70.xml\n",
      "/kaggle/input/fruit-images-for-object-detection/train_zip/train/apple_68.jpg\n",
      "/kaggle/input/fruit-images-for-object-detection/train_zip/train/banana_45.xml\n",
      "/kaggle/input/fruit-images-for-object-detection/train_zip/train/orange_50.xml\n",
      "/kaggle/input/fruit-images-for-object-detection/train_zip/train/banana_31.jpg\n",
      "/kaggle/input/fruit-images-for-object-detection/train_zip/train/mixed_11.xml\n",
      "/kaggle/input/fruit-images-for-object-detection/train_zip/train/apple_46.xml\n",
      "/kaggle/input/fruit-images-for-object-detection/train_zip/train/orange_28.jpg\n",
      "/kaggle/input/fruit-images-for-object-detection/train_zip/train/apple_4.xml\n",
      "/kaggle/input/fruit-images-for-object-detection/train_zip/train/apple_38.jpg\n",
      "/kaggle/input/fruit-images-for-object-detection/train_zip/train/apple_62.jpg\n",
      "/kaggle/input/fruit-images-for-object-detection/train_zip/train/orange_44.xml\n",
      "/kaggle/input/fruit-images-for-object-detection/train_zip/train/apple_21.jpg\n",
      "/kaggle/input/fruit-images-for-object-detection/train_zip/train/apple_14.jpg\n",
      "/kaggle/input/fruit-images-for-object-detection/train_zip/train/orange_71.xml\n",
      "/kaggle/input/fruit-images-for-object-detection/train_zip/train/apple_54.xml\n",
      "/kaggle/input/fruit-images-for-object-detection/train_zip/train/apple_73.jpg\n",
      "/kaggle/input/fruit-images-for-object-detection/train_zip/train/apple_32.xml\n",
      "/kaggle/input/fruit-images-for-object-detection/train_zip/train/orange_73.xml\n",
      "/kaggle/input/fruit-images-for-object-detection/train_zip/train/banana_44.jpg\n",
      "/kaggle/input/fruit-images-for-object-detection/train_zip/train/orange_8.xml\n",
      "/kaggle/input/fruit-images-for-object-detection/train_zip/train/mixed_4.xml\n",
      "/kaggle/input/fruit-images-for-object-detection/train_zip/train/orange_10.xml\n",
      "/kaggle/input/fruit-images-for-object-detection/train_zip/train/apple_15.jpg\n",
      "/kaggle/input/fruit-images-for-object-detection/train_zip/train/banana_3.xml\n",
      "/kaggle/input/fruit-images-for-object-detection/train_zip/train/banana_52.jpg\n",
      "/kaggle/input/fruit-images-for-object-detection/train_zip/train/orange_70.jpg\n",
      "/kaggle/input/fruit-images-for-object-detection/train_zip/train/banana_63.xml\n",
      "/kaggle/input/fruit-images-for-object-detection/train_zip/train/orange_48.jpg\n",
      "/kaggle/input/fruit-images-for-object-detection/train_zip/train/apple_20.xml\n",
      "/kaggle/input/fruit-images-for-object-detection/train_zip/train/apple_73.xml\n",
      "/kaggle/input/fruit-images-for-object-detection/train_zip/train/orange_31.jpg\n",
      "/kaggle/input/fruit-images-for-object-detection/train_zip/train/apple_70.jpg\n",
      "/kaggle/input/fruit-images-for-object-detection/train_zip/train/banana_67.jpg\n",
      "/kaggle/input/fruit-images-for-object-detection/train_zip/train/mixed_10.xml\n",
      "/kaggle/input/fruit-images-for-object-detection/train_zip/train/banana_72.jpg\n",
      "/kaggle/input/fruit-images-for-object-detection/train_zip/train/mixed_3.jpg\n",
      "/kaggle/input/fruit-images-for-object-detection/train_zip/train/banana_50.jpg\n",
      "/kaggle/input/fruit-images-for-object-detection/train_zip/train/banana_69.xml\n",
      "/kaggle/input/fruit-images-for-object-detection/train_zip/train/banana_9.jpg\n",
      "/kaggle/input/fruit-images-for-object-detection/train_zip/train/mixed_12.jpg\n",
      "/kaggle/input/fruit-images-for-object-detection/train_zip/train/mixed_13.xml\n",
      "/kaggle/input/fruit-images-for-object-detection/train_zip/train/banana_61.xml\n",
      "/kaggle/input/fruit-images-for-object-detection/train_zip/train/apple_43.xml\n",
      "/kaggle/input/fruit-images-for-object-detection/train_zip/train/apple_23.jpg\n",
      "/kaggle/input/fruit-images-for-object-detection/train_zip/train/orange_76.xml\n",
      "/kaggle/input/fruit-images-for-object-detection/train_zip/train/banana_7.jpg\n",
      "/kaggle/input/fruit-images-for-object-detection/train_zip/train/banana_28.xml\n",
      "/kaggle/input/fruit-images-for-object-detection/train_zip/train/apple_63.jpg\n",
      "/kaggle/input/fruit-images-for-object-detection/train_zip/train/orange_53.jpg\n",
      "/kaggle/input/fruit-images-for-object-detection/train_zip/train/orange_62.xml\n",
      "/kaggle/input/fruit-images-for-object-detection/train_zip/train/apple_44.jpg\n",
      "/kaggle/input/fruit-images-for-object-detection/train_zip/train/banana_50.xml\n",
      "/kaggle/input/fruit-images-for-object-detection/train_zip/train/banana_42.jpg\n",
      "/kaggle/input/fruit-images-for-object-detection/train_zip/train/apple_71.jpg\n",
      "/kaggle/input/fruit-images-for-object-detection/train_zip/train/orange_48.xml\n",
      "/kaggle/input/fruit-images-for-object-detection/train_zip/train/apple_52.jpg\n",
      "/kaggle/input/fruit-images-for-object-detection/train_zip/train/banana_62.xml\n",
      "/kaggle/input/fruit-images-for-object-detection/train_zip/train/banana_2.jpg\n",
      "/kaggle/input/fruit-images-for-object-detection/train_zip/train/orange_74.jpg\n",
      "/kaggle/input/fruit-images-for-object-detection/train_zip/train/mixed_10.jpg\n",
      "/kaggle/input/fruit-images-for-object-detection/train_zip/train/orange_6.xml\n",
      "/kaggle/input/fruit-images-for-object-detection/train_zip/train/orange_11.jpg\n",
      "/kaggle/input/fruit-images-for-object-detection/train_zip/train/banana_76.xml\n",
      "/kaggle/input/fruit-images-for-object-detection/train_zip/train/orange_38.jpg\n",
      "/kaggle/input/fruit-images-for-object-detection/train_zip/train/apple_7.jpg\n",
      "/kaggle/input/fruit-images-for-object-detection/train_zip/train/mixed_3.xml\n",
      "/kaggle/input/fruit-images-for-object-detection/train_zip/train/banana_27.jpg\n",
      "/kaggle/input/fruit-images-for-object-detection/train_zip/train/apple_17.xml\n",
      "/kaggle/input/fruit-images-for-object-detection/train_zip/train/orange_61.jpg\n",
      "/kaggle/input/fruit-images-for-object-detection/train_zip/train/mixed_15.xml\n",
      "/kaggle/input/fruit-images-for-object-detection/train_zip/train/mixed_2.xml\n",
      "/kaggle/input/fruit-images-for-object-detection/train_zip/train/orange_24.jpg\n",
      "/kaggle/input/fruit-images-for-object-detection/train_zip/train/orange_26.xml\n",
      "/kaggle/input/fruit-images-for-object-detection/train_zip/train/orange_11.xml\n",
      "/kaggle/input/fruit-images-for-object-detection/train_zip/train/banana_6.jpg\n",
      "/kaggle/input/fruit-images-for-object-detection/train_zip/train/apple_26.jpg\n",
      "/kaggle/input/fruit-images-for-object-detection/train_zip/train/banana_4.xml\n",
      "/kaggle/input/fruit-images-for-object-detection/train_zip/train/banana_22.xml\n",
      "/kaggle/input/fruit-images-for-object-detection/train_zip/train/apple_1.jpg\n",
      "/kaggle/input/fruit-images-for-object-detection/train_zip/train/orange_18.jpg\n",
      "/kaggle/input/fruit-images-for-object-detection/train_zip/train/apple_61.jpg\n",
      "/kaggle/input/fruit-images-for-object-detection/train_zip/train/apple_37.jpg\n",
      "/kaggle/input/fruit-images-for-object-detection/train_zip/train/orange_9.xml\n",
      "/kaggle/input/fruit-images-for-object-detection/train_zip/train/orange_37.jpg\n",
      "/kaggle/input/fruit-images-for-object-detection/train_zip/train/orange_12.xml\n",
      "/kaggle/input/fruit-images-for-object-detection/train_zip/train/orange_59.jpg\n",
      "/kaggle/input/fruit-images-for-object-detection/train_zip/train/orange_67.xml\n",
      "/kaggle/input/fruit-images-for-object-detection/train_zip/train/banana_39.xml\n",
      "/kaggle/input/fruit-images-for-object-detection/train_zip/train/banana_17.jpg\n",
      "/kaggle/input/fruit-images-for-object-detection/train_zip/train/banana_26.xml\n",
      "/kaggle/input/fruit-images-for-object-detection/train_zip/train/apple_32.jpg\n",
      "/kaggle/input/fruit-images-for-object-detection/train_zip/train/orange_35.xml\n",
      "/kaggle/input/fruit-images-for-object-detection/train_zip/train/orange_69.xml\n",
      "/kaggle/input/fruit-images-for-object-detection/train_zip/train/banana_31.xml\n",
      "/kaggle/input/fruit-images-for-object-detection/train_zip/train/banana_8.jpg\n",
      "/kaggle/input/fruit-images-for-object-detection/train_zip/train/orange_16.jpg\n",
      "/kaggle/input/fruit-images-for-object-detection/train_zip/train/apple_33.jpg\n",
      "/kaggle/input/fruit-images-for-object-detection/train_zip/train/banana_68.xml\n",
      "/kaggle/input/fruit-images-for-object-detection/train_zip/train/orange_17.xml\n",
      "/kaggle/input/fruit-images-for-object-detection/train_zip/train/banana_27.xml\n",
      "/kaggle/input/fruit-images-for-object-detection/train_zip/train/banana_51.xml\n",
      "/kaggle/input/fruit-images-for-object-detection/train_zip/train/apple_48.jpg\n",
      "/kaggle/input/fruit-images-for-object-detection/train_zip/train/apple_74.xml\n",
      "/kaggle/input/fruit-images-for-object-detection/train_zip/train/orange_41.jpg\n",
      "/kaggle/input/fruit-images-for-object-detection/train_zip/train/banana_70.jpg\n",
      "/kaggle/input/fruit-images-for-object-detection/train_zip/train/apple_31.jpg\n",
      "/kaggle/input/fruit-images-for-object-detection/train_zip/train/apple_8.xml\n",
      "/kaggle/input/fruit-images-for-object-detection/train_zip/train/banana_58.jpg\n",
      "/kaggle/input/fruit-images-for-object-detection/train_zip/train/orange_7.xml\n",
      "/kaggle/input/fruit-images-for-object-detection/train_zip/train/orange_26.jpg\n",
      "/kaggle/input/fruit-images-for-object-detection/train_zip/train/banana_21.xml\n",
      "/kaggle/input/fruit-images-for-object-detection/train_zip/train/apple_45.jpg\n",
      "/kaggle/input/fruit-images-for-object-detection/train_zip/train/apple_4.jpg\n",
      "/kaggle/input/fruit-images-for-object-detection/train_zip/train/orange_13.xml\n",
      "/kaggle/input/fruit-images-for-object-detection/train_zip/train/orange_17.jpg\n",
      "/kaggle/input/fruit-images-for-object-detection/train_zip/train/apple_58.jpg\n",
      "/kaggle/input/fruit-images-for-object-detection/train_zip/train/orange_19.xml\n",
      "/kaggle/input/fruit-images-for-object-detection/train_zip/train/orange_10.jpg\n",
      "/kaggle/input/fruit-images-for-object-detection/train_zip/train/orange_54.jpg\n",
      "/kaggle/input/fruit-images-for-object-detection/train_zip/train/orange_19.jpg\n",
      "/kaggle/input/fruit-images-for-object-detection/train_zip/train/mixed_13.jpg\n",
      "/kaggle/input/fruit-images-for-object-detection/train_zip/train/orange_9.jpg\n",
      "/kaggle/input/fruit-images-for-object-detection/train_zip/train/orange_5.xml\n",
      "/kaggle/input/fruit-images-for-object-detection/train_zip/train/mixed_1.xml\n",
      "/kaggle/input/fruit-images-for-object-detection/train_zip/train/apple_11.jpg\n",
      "/kaggle/input/fruit-images-for-object-detection/train_zip/train/orange_75.xml\n",
      "/kaggle/input/fruit-images-for-object-detection/train_zip/train/apple_60.xml\n",
      "/kaggle/input/fruit-images-for-object-detection/train_zip/train/apple_2.xml\n",
      "/kaggle/input/fruit-images-for-object-detection/train_zip/train/banana_46.xml\n",
      "/kaggle/input/fruit-images-for-object-detection/train_zip/train/orange_47.xml\n",
      "/kaggle/input/fruit-images-for-object-detection/train_zip/train/orange_30.xml\n",
      "/kaggle/input/fruit-images-for-object-detection/train_zip/train/mixed_6.xml\n",
      "/kaggle/input/fruit-images-for-object-detection/train_zip/train/apple_22.xml\n",
      "/kaggle/input/fruit-images-for-object-detection/train_zip/train/mixed_8.xml\n",
      "/kaggle/input/fruit-images-for-object-detection/train_zip/train/apple_18.jpg\n",
      "/kaggle/input/fruit-images-for-object-detection/train_zip/train/orange_64.xml\n",
      "/kaggle/input/fruit-images-for-object-detection/train_zip/train/apple_49.jpg\n",
      "/kaggle/input/fruit-images-for-object-detection/train_zip/train/apple_69.xml\n",
      "/kaggle/input/fruit-images-for-object-detection/train_zip/train/orange_52.jpg\n",
      "/kaggle/input/fruit-images-for-object-detection/train_zip/train/orange_40.xml\n",
      "/kaggle/input/fruit-images-for-object-detection/train_zip/train/mixed_14.xml\n",
      "/kaggle/input/fruit-images-for-object-detection/train_zip/train/apple_57.xml\n",
      "/kaggle/input/fruit-images-for-object-detection/train_zip/train/apple_30.jpg\n",
      "/kaggle/input/fruit-images-for-object-detection/train_zip/train/orange_3.jpg\n",
      "/kaggle/input/fruit-images-for-object-detection/train_zip/train/banana_26.jpg\n",
      "/kaggle/input/fruit-images-for-object-detection/train_zip/train/apple_33.xml\n",
      "/kaggle/input/fruit-images-for-object-detection/train_zip/train/orange_30.jpg\n",
      "/kaggle/input/fruit-images-for-object-detection/train_zip/train/mixed_19.jpg\n",
      "/kaggle/input/fruit-images-for-object-detection/train_zip/train/banana_30.jpg\n",
      "/kaggle/input/fruit-images-for-object-detection/train_zip/train/banana_1.xml\n",
      "/kaggle/input/fruit-images-for-object-detection/train_zip/train/orange_33.jpg\n",
      "/kaggle/input/fruit-images-for-object-detection/train_zip/train/orange_36.xml\n",
      "/kaggle/input/fruit-images-for-object-detection/train_zip/train/banana_63.jpg\n",
      "/kaggle/input/fruit-images-for-object-detection/train_zip/train/orange_49.xml\n",
      "/kaggle/input/fruit-images-for-object-detection/train_zip/train/orange_28.xml\n",
      "/kaggle/input/fruit-images-for-object-detection/train_zip/train/mixed_17.xml\n",
      "/kaggle/input/fruit-images-for-object-detection/train_zip/train/orange_63.xml\n",
      "/kaggle/input/fruit-images-for-object-detection/train_zip/train/mixed_18.xml\n",
      "/kaggle/input/fruit-images-for-object-detection/train_zip/train/orange_64.jpg\n",
      "/kaggle/input/fruit-images-for-object-detection/train_zip/train/orange_15.xml\n",
      "/kaggle/input/fruit-images-for-object-detection/train_zip/train/apple_15.xml\n",
      "/kaggle/input/fruit-images-for-object-detection/train_zip/train/mixed_16.jpg\n",
      "/kaggle/input/fruit-images-for-object-detection/train_zip/train/banana_34.xml\n",
      "/kaggle/input/fruit-images-for-object-detection/train_zip/train/apple_75.jpg\n",
      "/kaggle/input/fruit-images-for-object-detection/train_zip/train/orange_8.jpg\n",
      "/kaggle/input/fruit-images-for-object-detection/train_zip/train/apple_42.xml\n",
      "/kaggle/input/fruit-images-for-object-detection/train_zip/train/apple_13.jpg\n",
      "/kaggle/input/fruit-images-for-object-detection/train_zip/train/banana_65.jpg\n",
      "/kaggle/input/fruit-images-for-object-detection/train_zip/train/banana_35.xml\n",
      "/kaggle/input/fruit-images-for-object-detection/train_zip/train/orange_12.jpg\n",
      "/kaggle/input/fruit-images-for-object-detection/train_zip/train/orange_2.xml\n",
      "/kaggle/input/fruit-images-for-object-detection/train_zip/train/banana_37.jpg\n",
      "/kaggle/input/fruit-images-for-object-detection/train_zip/train/banana_1.jpg\n",
      "/kaggle/input/fruit-images-for-object-detection/train_zip/train/apple_41.jpg\n",
      "/kaggle/input/fruit-images-for-object-detection/train_zip/train/banana_43.xml\n",
      "/kaggle/input/fruit-images-for-object-detection/train_zip/train/orange_57.jpg\n",
      "/kaggle/input/fruit-images-for-object-detection/train_zip/train/orange_38.xml\n",
      "/kaggle/input/fruit-images-for-object-detection/train_zip/train/apple_66.jpg\n",
      "/kaggle/input/fruit-images-for-object-detection/train_zip/train/banana_38.jpg\n",
      "/kaggle/input/fruit-images-for-object-detection/train_zip/train/orange_70.xml\n",
      "/kaggle/input/fruit-images-for-object-detection/train_zip/train/orange_61.xml\n",
      "/kaggle/input/fruit-images-for-object-detection/train_zip/train/orange_22.jpg\n",
      "/kaggle/input/fruit-images-for-object-detection/train_zip/train/apple_13.xml\n",
      "/kaggle/input/fruit-images-for-object-detection/train_zip/train/apple_11.xml\n",
      "/kaggle/input/fruit-images-for-object-detection/train_zip/train/mixed_14.jpg\n",
      "/kaggle/input/fruit-images-for-object-detection/train_zip/train/apple_24.xml\n",
      "/kaggle/input/fruit-images-for-object-detection/train_zip/train/orange_68.xml\n",
      "/kaggle/input/fruit-images-for-object-detection/train_zip/train/orange_55.jpg\n",
      "/kaggle/input/fruit-images-for-object-detection/train_zip/train/apple_72.xml\n",
      "/kaggle/input/fruit-images-for-object-detection/train_zip/train/orange_4.xml\n",
      "/kaggle/input/fruit-images-for-object-detection/train_zip/train/apple_71.xml\n",
      "/kaggle/input/fruit-images-for-object-detection/train_zip/train/banana_74.xml\n",
      "/kaggle/input/fruit-images-for-object-detection/train_zip/train/orange_27.xml\n",
      "/kaggle/input/fruit-images-for-object-detection/train_zip/train/banana_30.xml\n",
      "/kaggle/input/fruit-images-for-object-detection/train_zip/train/banana_23.xml\n",
      "/kaggle/input/fruit-images-for-object-detection/train_zip/train/apple_68.xml\n",
      "/kaggle/input/fruit-images-for-object-detection/train_zip/train/banana_48.xml\n",
      "/kaggle/input/fruit-images-for-object-detection/train_zip/train/banana_14.xml\n",
      "/kaggle/input/fruit-images-for-object-detection/train_zip/train/mixed_11.jpg\n",
      "/kaggle/input/fruit-images-for-object-detection/train_zip/train/orange_51.xml\n",
      "/kaggle/input/fruit-images-for-object-detection/train_zip/train/banana_22.jpg\n",
      "/kaggle/input/fruit-images-for-object-detection/train_zip/train/apple_22.jpg\n",
      "/kaggle/input/fruit-images-for-object-detection/train_zip/train/banana_49.jpg\n",
      "/kaggle/input/fruit-images-for-object-detection/train_zip/train/banana_55.jpg\n",
      "/kaggle/input/fruit-images-for-object-detection/train_zip/train/apple_16.jpg\n",
      "/kaggle/input/fruit-images-for-object-detection/train_zip/train/orange_63.jpg\n",
      "/kaggle/input/fruit-images-for-object-detection/train_zip/train/orange_21.jpg\n",
      "/kaggle/input/fruit-images-for-object-detection/train_zip/train/orange_43.jpg\n",
      "/kaggle/input/fruit-images-for-object-detection/train_zip/train/orange_52.xml\n",
      "/kaggle/input/fruit-images-for-object-detection/train_zip/train/apple_12.jpg\n",
      "/kaggle/input/fruit-images-for-object-detection/train_zip/train/orange_69.jpg\n",
      "/kaggle/input/fruit-images-for-object-detection/train_zip/train/banana_20.xml\n",
      "/kaggle/input/fruit-images-for-object-detection/train_zip/train/apple_56.jpg\n",
      "/kaggle/input/fruit-images-for-object-detection/train_zip/train/apple_30.xml\n",
      "/kaggle/input/fruit-images-for-object-detection/train_zip/train/banana_71.jpg\n",
      "/kaggle/input/fruit-images-for-object-detection/train_zip/train/banana_64.jpg\n",
      "/kaggle/input/fruit-images-for-object-detection/train_zip/train/orange_40.jpg\n",
      "/kaggle/input/fruit-images-for-object-detection/train_zip/train/banana_10.jpg\n",
      "/kaggle/input/fruit-images-for-object-detection/train_zip/train/orange_43.xml\n",
      "/kaggle/input/fruit-images-for-object-detection/train_zip/train/apple_54.jpg\n",
      "/kaggle/input/fruit-images-for-object-detection/train_zip/train/apple_29.jpg\n",
      "/kaggle/input/fruit-images-for-object-detection/train_zip/train/banana_73.xml\n",
      "/kaggle/input/fruit-images-for-object-detection/train_zip/train/apple_47.jpg\n",
      "/kaggle/input/fruit-images-for-object-detection/train_zip/train/banana_34.jpg\n",
      "/kaggle/input/fruit-images-for-object-detection/train_zip/train/apple_17.jpg\n",
      "/kaggle/input/fruit-images-for-object-detection/train_zip/train/apple_61.xml\n",
      "/kaggle/input/fruit-images-for-object-detection/train_zip/train/banana_25.xml\n",
      "/kaggle/input/fruit-images-for-object-detection/train_zip/train/apple_35.xml\n",
      "/kaggle/input/fruit-images-for-object-detection/train_zip/train/apple_25.jpg\n",
      "/kaggle/input/fruit-images-for-object-detection/train_zip/train/banana_25.jpg\n",
      "/kaggle/input/fruit-images-for-object-detection/train_zip/train/banana_43.jpg\n",
      "/kaggle/input/fruit-images-for-object-detection/train_zip/train/orange_32.jpg\n",
      "/kaggle/input/fruit-images-for-object-detection/train_zip/train/banana_69.jpg\n",
      "/kaggle/input/fruit-images-for-object-detection/train_zip/train/banana_66.jpg\n",
      "/kaggle/input/fruit-images-for-object-detection/train_zip/train/banana_32.xml\n",
      "/kaggle/input/fruit-images-for-object-detection/train_zip/train/apple_40.jpg\n",
      "/kaggle/input/fruit-images-for-object-detection/train_zip/train/orange_51.jpg\n",
      "/kaggle/input/fruit-images-for-object-detection/train_zip/train/apple_49.xml\n",
      "/kaggle/input/fruit-images-for-object-detection/train_zip/train/apple_69.jpg\n",
      "/kaggle/input/fruit-images-for-object-detection/train_zip/train/orange_27.jpg\n",
      "/kaggle/input/fruit-images-for-object-detection/train_zip/train/orange_49.jpg\n",
      "/kaggle/input/fruit-images-for-object-detection/train_zip/train/orange_72.xml\n",
      "/kaggle/input/fruit-images-for-object-detection/train_zip/train/apple_44.xml\n",
      "/kaggle/input/fruit-images-for-object-detection/train_zip/train/banana_75.xml\n",
      "/kaggle/input/fruit-images-for-object-detection/train_zip/train/banana_48.jpg\n",
      "/kaggle/input/fruit-images-for-object-detection/train_zip/train/mixed_16.xml\n",
      "/kaggle/input/fruit-images-for-object-detection/train_zip/train/banana_57.xml\n",
      "/kaggle/input/fruit-images-for-object-detection/train_zip/train/apple_50.xml\n",
      "/kaggle/input/fruit-images-for-object-detection/train_zip/train/apple_10.jpg\n",
      "/kaggle/input/fruit-images-for-object-detection/train_zip/train/banana_41.jpg\n",
      "/kaggle/input/fruit-images-for-object-detection/train_zip/train/banana_10.xml\n",
      "/kaggle/input/fruit-images-for-object-detection/train_zip/train/orange_24.xml\n",
      "/kaggle/input/fruit-images-for-object-detection/train_zip/train/banana_24.xml\n",
      "/kaggle/input/fruit-images-for-object-detection/train_zip/train/orange_74.xml\n",
      "/kaggle/input/fruit-images-for-object-detection/train_zip/train/mixed_8.jpg\n",
      "/kaggle/input/fruit-images-for-object-detection/train_zip/train/apple_14.xml\n",
      "/kaggle/input/fruit-images-for-object-detection/train_zip/train/orange_33.xml\n",
      "/kaggle/input/fruit-images-for-object-detection/train_zip/train/orange_2.jpg\n",
      "/kaggle/input/fruit-images-for-object-detection/train_zip/train/banana_52.xml\n",
      "/kaggle/input/fruit-images-for-object-detection/train_zip/train/apple_76.jpg\n",
      "/kaggle/input/fruit-images-for-object-detection/train_zip/train/banana_51.jpg\n",
      "/kaggle/input/fruit-images-for-object-detection/train_zip/train/orange_34.xml\n",
      "/kaggle/input/fruit-images-for-object-detection/train_zip/train/apple_16.xml\n",
      "/kaggle/input/fruit-images-for-object-detection/train_zip/train/apple_12.xml\n",
      "/kaggle/input/fruit-images-for-object-detection/train_zip/train/orange_58.xml\n",
      "/kaggle/input/fruit-images-for-object-detection/train_zip/train/orange_73.jpg\n",
      "/kaggle/input/fruit-images-for-object-detection/train_zip/train/apple_3.jpg\n",
      "/kaggle/input/fruit-images-for-object-detection/train_zip/train/apple_39.xml\n",
      "/kaggle/input/fruit-images-for-object-detection/train_zip/train/apple_18.xml\n",
      "/kaggle/input/fruit-images-for-object-detection/train_zip/train/mixed_17.jpg\n",
      "/kaggle/input/fruit-images-for-object-detection/train_zip/train/apple_37.xml\n",
      "/kaggle/input/fruit-images-for-object-detection/train_zip/train/apple_53.xml\n",
      "/kaggle/input/fruit-images-for-object-detection/train_zip/train/banana_74.jpg\n",
      "/kaggle/input/fruit-images-for-object-detection/train_zip/train/apple_50.jpg\n",
      "/kaggle/input/fruit-images-for-object-detection/train_zip/train/banana_39.jpg\n",
      "/kaggle/input/fruit-images-for-object-detection/train_zip/train/apple_76.xml\n",
      "/kaggle/input/fruit-images-for-object-detection/train_zip/train/banana_5.xml\n",
      "/kaggle/input/fruit-images-for-object-detection/train_zip/train/banana_58.xml\n",
      "/kaggle/input/fruit-images-for-object-detection/train_zip/train/apple_45.xml\n",
      "/kaggle/input/fruit-images-for-object-detection/train_zip/train/apple_9.jpg\n",
      "/kaggle/input/fruit-images-for-object-detection/train_zip/train/apple_8.jpg\n",
      "/kaggle/input/fruit-images-for-object-detection/train_zip/train/apple_26.xml\n",
      "/kaggle/input/fruit-images-for-object-detection/train_zip/train/banana_70.xml\n",
      "/kaggle/input/fruit-images-for-object-detection/train_zip/train/banana_29.jpg\n",
      "/kaggle/input/fruit-images-for-object-detection/train_zip/train/banana_8.xml\n",
      "/kaggle/input/fruit-images-for-object-detection/train_zip/train/apple_7.xml\n",
      "/kaggle/input/fruit-images-for-object-detection/train_zip/train/apple_64.xml\n",
      "/kaggle/input/fruit-images-for-object-detection/train_zip/train/orange_1.jpg\n",
      "/kaggle/input/fruit-images-for-object-detection/train_zip/train/banana_2.xml\n",
      "/kaggle/input/fruit-images-for-object-detection/train_zip/train/banana_12.jpg\n",
      "/kaggle/input/fruit-images-for-object-detection/train_zip/train/orange_25.jpg\n",
      "/kaggle/input/fruit-images-for-object-detection/train_zip/train/banana_7.xml\n",
      "/kaggle/input/fruit-images-for-object-detection/train_zip/train/orange_29.xml\n",
      "/kaggle/input/fruit-images-for-object-detection/train_zip/train/mixed_7.jpg\n",
      "/kaggle/input/fruit-images-for-object-detection/train_zip/train/orange_71.jpg\n",
      "/kaggle/input/fruit-images-for-object-detection/train_zip/train/banana_9.xml\n",
      "/kaggle/input/fruit-images-for-object-detection/train_zip/train/apple_35.jpg\n",
      "/kaggle/input/fruit-images-for-object-detection/train_zip/train/apple_52.xml\n",
      "/kaggle/input/fruit-images-for-object-detection/train_zip/train/mixed_20.jpg\n",
      "/kaggle/input/fruit-images-for-object-detection/train_zip/train/apple_25.xml\n",
      "/kaggle/input/fruit-images-for-object-detection/train_zip/train/apple_53.jpg\n",
      "/kaggle/input/fruit-images-for-object-detection/train_zip/train/apple_19.xml\n",
      "/kaggle/input/fruit-images-for-object-detection/train_zip/train/mixed_18.jpg\n",
      "/kaggle/input/fruit-images-for-object-detection/train_zip/train/banana_47.xml\n",
      "/kaggle/input/fruit-images-for-object-detection/train_zip/train/apple_42.jpg\n",
      "/kaggle/input/fruit-images-for-object-detection/train_zip/train/apple_20.jpg\n",
      "/kaggle/input/fruit-images-for-object-detection/train_zip/train/orange_23.jpg\n",
      "/kaggle/input/fruit-images-for-object-detection/train_zip/train/orange_46.jpg\n",
      "/kaggle/input/fruit-images-for-object-detection/train_zip/train/mixed_2.jpg\n",
      "/kaggle/input/fruit-images-for-object-detection/train_zip/train/banana_62.jpg\n",
      "/kaggle/input/fruit-images-for-object-detection/train_zip/train/orange_35.jpg\n",
      "/kaggle/input/fruit-images-for-object-detection/train_zip/train/banana_6.xml\n",
      "/kaggle/input/fruit-images-for-object-detection/train_zip/train/orange_36.jpg\n",
      "/kaggle/input/fruit-images-for-object-detection/train_zip/train/apple_36.jpg\n",
      "/kaggle/input/fruit-images-for-object-detection/train_zip/train/apple_67.xml\n",
      "/kaggle/input/fruit-images-for-object-detection/train_zip/train/orange_15.jpg\n",
      "/kaggle/input/fruit-images-for-object-detection/train_zip/train/banana_53.xml\n",
      "/kaggle/input/fruit-images-for-object-detection/train_zip/train/apple_72.jpg\n",
      "/kaggle/input/fruit-images-for-object-detection/train_zip/train/orange_16.xml\n",
      "/kaggle/input/fruit-images-for-object-detection/train_zip/train/orange_46.xml\n",
      "/kaggle/input/fruit-images-for-object-detection/train_zip/train/mixed_6.jpg\n",
      "/kaggle/input/fruit-images-for-object-detection/train_zip/train/mixed_7.xml\n",
      "/kaggle/input/fruit-images-for-object-detection/train_zip/train/apple_19.jpg\n",
      "/kaggle/input/fruit-images-for-object-detection/train_zip/train/banana_29.xml\n",
      "/kaggle/input/fruit-images-for-object-detection/train_zip/train/mixed_4.jpg\n",
      "/kaggle/input/fruit-images-for-object-detection/train_zip/train/apple_5.xml\n",
      "/kaggle/input/fruit-images-for-object-detection/train_zip/train/apple_66.xml\n",
      "/kaggle/input/fruit-images-for-object-detection/train_zip/train/apple_23.xml\n",
      "/kaggle/input/fruit-images-for-object-detection/train_zip/train/orange_5.jpg\n",
      "/kaggle/input/fruit-images-for-object-detection/train_zip/train/banana_4.jpg\n",
      "/kaggle/input/fruit-images-for-object-detection/train_zip/train/orange_60.xml\n",
      "/kaggle/input/fruit-images-for-object-detection/train_zip/train/banana_46.jpg\n",
      "/kaggle/input/fruit-images-for-object-detection/train_zip/train/orange_32.xml\n",
      "/kaggle/input/fruit-images-for-object-detection/train_zip/train/banana_21.jpg\n",
      "/kaggle/input/fruit-images-for-object-detection/train_zip/train/banana_60.xml\n",
      "/kaggle/input/fruit-images-for-object-detection/train_zip/train/orange_20.xml\n",
      "/kaggle/input/fruit-images-for-object-detection/train_zip/train/banana_75.jpg\n",
      "/kaggle/input/fruit-images-for-object-detection/train_zip/train/apple_47.xml\n",
      "/kaggle/input/fruit-images-for-object-detection/train_zip/train/banana_38.xml\n",
      "/kaggle/input/fruit-images-for-object-detection/train_zip/train/orange_14.jpg\n",
      "/kaggle/input/fruit-images-for-object-detection/train_zip/train/apple_27.jpg\n",
      "/kaggle/input/fruit-images-for-object-detection/train_zip/train/orange_75.jpg\n",
      "/kaggle/input/fruit-images-for-object-detection/train_zip/train/banana_40.xml\n",
      "/kaggle/input/fruit-images-for-object-detection/train_zip/train/orange_18.xml\n",
      "/kaggle/input/fruit-images-for-object-detection/train_zip/train/banana_14.jpg\n",
      "/kaggle/input/fruit-images-for-object-detection/train_zip/train/mixed_5.jpg\n",
      "/kaggle/input/fruit-images-for-object-detection/train_zip/train/banana_40.jpg\n",
      "/kaggle/input/fruit-images-for-object-detection/train_zip/train/apple_10.xml\n",
      "/kaggle/input/fruit-images-for-object-detection/train_zip/train/apple_29.xml\n",
      "/kaggle/input/fruit-images-for-object-detection/train_zip/train/apple_62.xml\n",
      "/kaggle/input/fruit-images-for-object-detection/train_zip/train/apple_43.jpg\n",
      "/kaggle/input/fruit-images-for-object-detection/train_zip/train/orange_56.xml\n",
      "/kaggle/input/fruit-images-for-object-detection/train_zip/train/orange_42.xml\n",
      "/kaggle/input/fruit-images-for-object-detection/train_zip/train/orange_72.jpg\n",
      "/kaggle/input/fruit-images-for-object-detection/train_zip/train/orange_4.jpg\n",
      "/kaggle/input/fruit-images-for-object-detection/train_zip/train/apple_57.jpg\n",
      "/kaggle/input/fruit-images-for-object-detection/train_zip/train/apple_59.xml\n",
      "/kaggle/input/fruit-images-for-object-detection/train_zip/train/banana_3.jpg\n",
      "/kaggle/input/fruit-images-for-object-detection/train_zip/train/banana_73.jpg\n",
      "/kaggle/input/fruit-images-for-object-detection/train_zip/train/banana_60.jpg\n",
      "/kaggle/input/fruit-images-for-object-detection/train_zip/train/banana_45.jpg\n",
      "/kaggle/input/fruit-images-for-object-detection/train_zip/train/banana_32.jpg\n",
      "/kaggle/input/fruit-images-for-object-detection/train_zip/train/banana_42.xml\n",
      "/kaggle/input/fruit-images-for-object-detection/train_zip/train/banana_71.xml\n",
      "/kaggle/input/fruit-images-for-object-detection/train_zip/train/banana_5.jpg\n",
      "/kaggle/input/fruit-images-for-object-detection/train_zip/train/orange_7.jpg\n",
      "/kaggle/input/fruit-images-for-object-detection/train_zip/train/apple_40.xml\n",
      "/kaggle/input/fruit-images-for-object-detection/train_zip/train/apple_36.xml\n",
      "/kaggle/input/fruit-images-for-object-detection/train_zip/train/banana_76.jpg\n",
      "/kaggle/input/fruit-images-for-object-detection/train_zip/train/mixed_15.jpg\n",
      "/kaggle/input/fruit-images-for-object-detection/train_zip/train/mixed_19.xml\n",
      "/kaggle/input/fruit-images-for-object-detection/train_zip/train/banana_41.xml\n",
      "/kaggle/input/fruit-images-for-object-detection/train_zip/train/orange_57.xml\n",
      "/kaggle/input/fruit-images-for-object-detection/train_zip/train/orange_55.xml\n",
      "/kaggle/input/fruit-images-for-object-detection/train_zip/train/apple_55.jpg\n",
      "/kaggle/input/fruit-images-for-object-detection/train_zip/train/banana_20.jpg\n",
      "/kaggle/input/fruit-images-for-object-detection/train_zip/train/banana_24.jpg\n",
      "/kaggle/input/fruit-images-for-object-detection/train_zip/train/banana_47.jpg\n",
      "/kaggle/input/fruit-images-for-object-detection/train_zip/train/orange_58.jpg\n",
      "/kaggle/input/fruit-images-for-object-detection/train_zip/train/apple_58.xml\n",
      "/kaggle/input/fruit-images-for-object-detection/train_zip/train/orange_37.xml\n",
      "/kaggle/input/fruit-images-for-object-detection/train_zip/train/banana_23.jpg\n",
      "/kaggle/input/fruit-images-for-object-detection/train_zip/train/apple_60.jpg\n",
      "/kaggle/input/fruit-images-for-object-detection/train_zip/train/banana_65.xml\n",
      "/kaggle/input/fruit-images-for-object-detection/train_zip/train/apple_6.xml\n",
      "/kaggle/input/fruit-images-for-object-detection/train_zip/train/banana_61.jpg\n",
      "/kaggle/input/fruit-images-for-object-detection/train_zip/train/banana_59.jpg\n",
      "/kaggle/input/fruit-images-for-object-detection/train_zip/train/orange_47.jpg\n",
      "/kaggle/input/fruit-images-for-object-detection/train_zip/train/apple_41.xml\n",
      "/kaggle/input/fruit-images-for-object-detection/train_zip/train/orange_14.xml\n",
      "/kaggle/input/fruit-images-for-object-detection/train_zip/train/banana_44.xml\n",
      "/kaggle/input/fruit-images-for-object-detection/train_zip/train/banana_12.xml\n",
      "/kaggle/input/fruit-images-for-object-detection/train_zip/train/apple_51.jpg\n",
      "/kaggle/input/fruit-images-for-object-detection/train_zip/train/apple_65.jpg\n",
      "/kaggle/input/fruit-images-for-object-detection/train_zip/train/apple_38.xml\n",
      "/kaggle/input/fruit-images-for-object-detection/train_zip/train/orange_23.xml\n",
      "/kaggle/input/fruit-images-for-object-detection/train_zip/train/apple_56.xml\n",
      "/kaggle/input/fruit-images-for-object-detection/train_zip/train/orange_59.xml\n",
      "/kaggle/input/fruit-images-for-object-detection/train_zip/train/orange_34.jpg\n",
      "/kaggle/input/fruit-images-for-object-detection/train_zip/train/orange_1.xml\n",
      "/kaggle/input/fruit-images-for-object-detection/train_zip/train/banana_33.jpg\n",
      "/kaggle/input/fruit-images-for-object-detection/train_zip/train/banana_36.xml\n",
      "/kaggle/input/fruit-images-for-object-detection/train_zip/train/orange_25.xml\n",
      "/kaggle/input/fruit-images-for-object-detection/train_zip/train/apple_9.xml\n",
      "/kaggle/input/fruit-images-for-object-detection/train_zip/train/apple_5.jpg\n",
      "/kaggle/input/fruit-images-for-object-detection/train_zip/train/banana_54.jpg\n",
      "/kaggle/input/fruit-images-for-object-detection/train_zip/train/apple_24.jpg\n",
      "/kaggle/input/fruit-images-for-object-detection/train_zip/train/banana_59.xml\n",
      "/kaggle/input/fruit-images-for-object-detection/train_zip/train/banana_16.xml\n",
      "/kaggle/input/fruit-images-for-object-detection/train_zip/train/apple_3.xml\n",
      "/kaggle/input/fruit-images-for-object-detection/train_zip/train/banana_55.xml\n",
      "/kaggle/input/fruit-images-for-object-detection/train_zip/train/banana_11.xml\n",
      "/kaggle/input/fruit-images-for-object-detection/train_zip/train/banana_33.xml\n",
      "/kaggle/input/fruit-images-for-object-detection/train_zip/train/orange_67.jpg\n",
      "/kaggle/input/fruit-images-for-object-detection/train_zip/train/banana_28.jpg\n",
      "/kaggle/input/fruit-images-for-object-detection/train_zip/train/orange_42.jpg\n",
      "/kaggle/input/fruit-images-for-object-detection/train_zip/train/banana_36.jpg\n",
      "/kaggle/input/fruit-images-for-object-detection/train_zip/train/mixed_9.jpg\n",
      "/kaggle/input/fruit-images-for-object-detection/train_zip/train/apple_1.xml\n",
      "/kaggle/input/fruit-images-for-object-detection/train_zip/train/banana_16.jpg\n",
      "/kaggle/input/fruit-images-for-object-detection/train_zip/train/apple_64.jpg\n",
      "/kaggle/input/fruit-images-for-object-detection/train_zip/train/banana_66.xml\n",
      "/kaggle/input/fruit-images-for-object-detection/train_zip/train/mixed_5.xml\n",
      "/kaggle/input/fruit-images-for-object-detection/train_zip/train/orange_54.xml\n",
      "/kaggle/input/fruit-images-for-object-detection/train_zip/train/banana_17.xml\n",
      "/kaggle/input/fruit-images-for-object-detection/train_zip/train/orange_76.jpg\n",
      "/kaggle/input/fruit-images-for-object-detection/train_zip/train/banana_57.jpg\n",
      "/kaggle/input/fruit-images-for-object-detection/train_zip/train/apple_39.jpg\n",
      "/kaggle/input/fruit-images-for-object-detection/train_zip/train/orange_50.jpg\n",
      "/kaggle/input/fruit-images-for-object-detection/train_zip/train/apple_31.xml\n",
      "/kaggle/input/fruit-images-for-object-detection/train_zip/train/apple_48.xml\n",
      "/kaggle/input/fruit-images-for-object-detection/train_zip/train/orange_29.jpg\n",
      "/kaggle/input/fruit-images-for-object-detection/train_zip/train/orange_13.jpg\n",
      "/kaggle/input/fruit-images-for-object-detection/train_zip/train/orange_68.jpg\n",
      "/kaggle/input/fruit-images-for-object-detection/train_zip/train/banana_56.jpg\n",
      "/kaggle/input/fruit-images-for-object-detection/train_zip/train/apple_75.xml\n",
      "/kaggle/input/fruit-images-for-object-detection/train_zip/train/orange_21.xml\n",
      "/kaggle/input/fruit-images-for-object-detection/train_zip/train/banana_53.jpg\n",
      "/kaggle/input/fruit-images-for-object-detection/train_zip/train/orange_44.jpg\n",
      "/kaggle/input/fruit-images-for-object-detection/train_zip/train/apple_74.jpg\n",
      "/kaggle/input/fruit-images-for-object-detection/train_zip/train/apple_21.xml\n",
      "/kaggle/input/fruit-images-for-object-detection/train_zip/train/orange_31.xml\n",
      "/kaggle/input/fruit-images-for-object-detection/train_zip/train/banana_35.jpg\n",
      "/kaggle/input/fruit-images-for-object-detection/train_zip/train/apple_6.jpg\n",
      "/kaggle/input/fruit-images-for-object-detection/train_zip/train/banana_13.xml\n",
      "/kaggle/input/fruit-images-for-object-detection/train_zip/train/apple_51.xml\n",
      "/kaggle/input/fruit-images-for-object-detection/train_zip/train/banana_56.xml\n",
      "/kaggle/input/fruit-images-for-object-detection/train_zip/train/banana_49.xml\n",
      "/kaggle/input/fruit-images-for-object-detection/train_zip/train/apple_67.jpg\n",
      "/kaggle/input/fruit-images-for-object-detection/train_zip/train/orange_3.xml\n",
      "/kaggle/input/fruit-images-for-object-detection/train_zip/train/orange_62.jpg\n",
      "/kaggle/input/fruit-images-for-object-detection/train_zip/train/apple_28.jpg\n",
      "/kaggle/input/fruit-images-for-object-detection/train_zip/train/banana_13.jpg\n",
      "/kaggle/input/fruit-images-for-object-detection/train_zip/train/banana_72.xml\n",
      "/kaggle/input/fruit-images-for-object-detection/train_zip/train/orange_6.jpg\n",
      "/kaggle/input/fruit-images-for-object-detection/train_zip/train/mixed_9.xml\n",
      "/kaggle/input/fruit-images-for-object-detection/train_zip/train/apple_27.xml\n",
      "/kaggle/input/fruit-images-for-object-detection/train_zip/train/apple_63.xml\n",
      "/kaggle/input/fruit-images-for-object-detection/train_zip/train/orange_60.jpg\n",
      "/kaggle/input/fruit-images-for-object-detection/train_zip/train/banana_64.xml\n",
      "/kaggle/input/fruit-images-for-object-detection/train_zip/train/apple_2.jpg\n",
      "/kaggle/input/fruit-images-for-object-detection/train_zip/train/orange_53.xml\n",
      "/kaggle/input/fruit-images-for-object-detection/train_zip/train/banana_11.jpg\n",
      "/kaggle/input/fruit-images-for-object-detection/train_zip/train/orange_56.jpg\n",
      "/kaggle/input/fruit-images-for-object-detection/train_zip/train/apple_59.jpg\n",
      "/kaggle/input/fruit-images-for-object-detection/train_zip/train/banana_54.xml\n",
      "/kaggle/input/fruit-images-for-object-detection/test_zip/test/banana_84.xml\n",
      "/kaggle/input/fruit-images-for-object-detection/test_zip/test/orange_77.xml\n",
      "/kaggle/input/fruit-images-for-object-detection/test_zip/test/apple_91.jpg\n",
      "/kaggle/input/fruit-images-for-object-detection/test_zip/test/mixed_21.jpg\n",
      "/kaggle/input/fruit-images-for-object-detection/test_zip/test/orange_83.jpg\n",
      "/kaggle/input/fruit-images-for-object-detection/test_zip/test/banana_77.xml\n",
      "/kaggle/input/fruit-images-for-object-detection/test_zip/test/apple_82.xml\n",
      "/kaggle/input/fruit-images-for-object-detection/test_zip/test/apple_94.xml\n",
      "/kaggle/input/fruit-images-for-object-detection/test_zip/test/orange_94.jpg\n",
      "/kaggle/input/fruit-images-for-object-detection/test_zip/test/apple_80.jpg\n",
      "/kaggle/input/fruit-images-for-object-detection/test_zip/test/orange_80.xml\n",
      "/kaggle/input/fruit-images-for-object-detection/test_zip/test/orange_82.jpg\n",
      "/kaggle/input/fruit-images-for-object-detection/test_zip/test/banana_80.xml\n",
      "/kaggle/input/fruit-images-for-object-detection/test_zip/test/banana_85.jpg\n",
      "/kaggle/input/fruit-images-for-object-detection/test_zip/test/orange_93.xml\n",
      "/kaggle/input/fruit-images-for-object-detection/test_zip/test/banana_87.xml\n",
      "/kaggle/input/fruit-images-for-object-detection/test_zip/test/apple_82.jpg\n",
      "/kaggle/input/fruit-images-for-object-detection/test_zip/test/apple_85.xml\n",
      "/kaggle/input/fruit-images-for-object-detection/test_zip/test/apple_78.jpg\n",
      "/kaggle/input/fruit-images-for-object-detection/test_zip/test/mixed_23.jpg\n",
      "/kaggle/input/fruit-images-for-object-detection/test_zip/test/apple_92.jpg\n",
      "/kaggle/input/fruit-images-for-object-detection/test_zip/test/banana_93.xml\n",
      "/kaggle/input/fruit-images-for-object-detection/test_zip/test/mixed_24.xml\n",
      "/kaggle/input/fruit-images-for-object-detection/test_zip/test/apple_77.xml\n",
      "/kaggle/input/fruit-images-for-object-detection/test_zip/test/banana_91.jpg\n",
      "/kaggle/input/fruit-images-for-object-detection/test_zip/test/apple_94.jpg\n",
      "/kaggle/input/fruit-images-for-object-detection/test_zip/test/orange_91.xml\n",
      "/kaggle/input/fruit-images-for-object-detection/test_zip/test/orange_82.xml\n",
      "/kaggle/input/fruit-images-for-object-detection/test_zip/test/apple_81.jpg\n",
      "/kaggle/input/fruit-images-for-object-detection/test_zip/test/mixed_22.xml\n",
      "/kaggle/input/fruit-images-for-object-detection/test_zip/test/orange_95.xml\n",
      "/kaggle/input/fruit-images-for-object-detection/test_zip/test/apple_91.xml\n",
      "/kaggle/input/fruit-images-for-object-detection/test_zip/test/banana_82.jpg\n",
      "/kaggle/input/fruit-images-for-object-detection/test_zip/test/apple_84.jpg\n",
      "/kaggle/input/fruit-images-for-object-detection/test_zip/test/orange_84.xml\n",
      "/kaggle/input/fruit-images-for-object-detection/test_zip/test/banana_90.xml\n",
      "/kaggle/input/fruit-images-for-object-detection/test_zip/test/banana_93.jpg\n",
      "/kaggle/input/fruit-images-for-object-detection/test_zip/test/orange_89.jpg\n",
      "/kaggle/input/fruit-images-for-object-detection/test_zip/test/apple_95.jpg\n",
      "/kaggle/input/fruit-images-for-object-detection/test_zip/test/apple_88.xml\n",
      "/kaggle/input/fruit-images-for-object-detection/test_zip/test/apple_86.xml\n",
      "/kaggle/input/fruit-images-for-object-detection/test_zip/test/apple_83.xml\n",
      "/kaggle/input/fruit-images-for-object-detection/test_zip/test/banana_77.jpg\n",
      "/kaggle/input/fruit-images-for-object-detection/test_zip/test/apple_84.xml\n",
      "/kaggle/input/fruit-images-for-object-detection/test_zip/test/apple_78.xml\n",
      "/kaggle/input/fruit-images-for-object-detection/test_zip/test/apple_95.xml\n",
      "/kaggle/input/fruit-images-for-object-detection/test_zip/test/mixed_22.jpg\n",
      "/kaggle/input/fruit-images-for-object-detection/test_zip/test/apple_80.xml\n",
      "/kaggle/input/fruit-images-for-object-detection/test_zip/test/mixed_23.xml\n",
      "/kaggle/input/fruit-images-for-object-detection/test_zip/test/orange_81.xml\n",
      "/kaggle/input/fruit-images-for-object-detection/test_zip/test/mixed_25.xml\n",
      "/kaggle/input/fruit-images-for-object-detection/test_zip/test/banana_92.jpg\n",
      "/kaggle/input/fruit-images-for-object-detection/test_zip/test/apple_90.jpg\n",
      "/kaggle/input/fruit-images-for-object-detection/test_zip/test/orange_89.xml\n",
      "/kaggle/input/fruit-images-for-object-detection/test_zip/test/orange_92.xml\n",
      "/kaggle/input/fruit-images-for-object-detection/test_zip/test/orange_85.jpg\n",
      "/kaggle/input/fruit-images-for-object-detection/test_zip/test/orange_92.jpg\n",
      "/kaggle/input/fruit-images-for-object-detection/test_zip/test/apple_87.jpg\n",
      "/kaggle/input/fruit-images-for-object-detection/test_zip/test/banana_82.xml\n",
      "/kaggle/input/fruit-images-for-object-detection/test_zip/test/orange_90.xml\n",
      "/kaggle/input/fruit-images-for-object-detection/test_zip/test/orange_93.jpg\n",
      "/kaggle/input/fruit-images-for-object-detection/test_zip/test/orange_90.jpg\n",
      "/kaggle/input/fruit-images-for-object-detection/test_zip/test/banana_81.xml\n",
      "/kaggle/input/fruit-images-for-object-detection/test_zip/test/orange_95.jpg\n",
      "/kaggle/input/fruit-images-for-object-detection/test_zip/test/banana_84.jpg\n",
      "/kaggle/input/fruit-images-for-object-detection/test_zip/test/banana_86.xml\n",
      "/kaggle/input/fruit-images-for-object-detection/test_zip/test/mixed_24.jpg\n",
      "/kaggle/input/fruit-images-for-object-detection/test_zip/test/apple_81.xml\n",
      "/kaggle/input/fruit-images-for-object-detection/test_zip/test/apple_90.xml\n",
      "/kaggle/input/fruit-images-for-object-detection/test_zip/test/orange_91.jpg\n",
      "/kaggle/input/fruit-images-for-object-detection/test_zip/test/orange_86.jpg\n",
      "/kaggle/input/fruit-images-for-object-detection/test_zip/test/banana_79.xml\n",
      "/kaggle/input/fruit-images-for-object-detection/test_zip/test/banana_83.jpg\n",
      "/kaggle/input/fruit-images-for-object-detection/test_zip/test/apple_79.xml\n",
      "/kaggle/input/fruit-images-for-object-detection/test_zip/test/banana_80.jpg\n",
      "/kaggle/input/fruit-images-for-object-detection/test_zip/test/orange_77.jpg\n",
      "/kaggle/input/fruit-images-for-object-detection/test_zip/test/apple_89.xml\n",
      "/kaggle/input/fruit-images-for-object-detection/test_zip/test/banana_94.jpg\n",
      "/kaggle/input/fruit-images-for-object-detection/test_zip/test/orange_94.xml\n",
      "/kaggle/input/fruit-images-for-object-detection/test_zip/test/apple_85.jpg\n",
      "/kaggle/input/fruit-images-for-object-detection/test_zip/test/apple_86.jpg\n",
      "/kaggle/input/fruit-images-for-object-detection/test_zip/test/banana_83.xml\n",
      "/kaggle/input/fruit-images-for-object-detection/test_zip/test/banana_88.xml\n",
      "/kaggle/input/fruit-images-for-object-detection/test_zip/test/banana_85.xml\n",
      "/kaggle/input/fruit-images-for-object-detection/test_zip/test/banana_88.jpg\n",
      "/kaggle/input/fruit-images-for-object-detection/test_zip/test/orange_80.jpg\n",
      "/kaggle/input/fruit-images-for-object-detection/test_zip/test/banana_79.jpg\n",
      "/kaggle/input/fruit-images-for-object-detection/test_zip/test/orange_87.jpg\n",
      "/kaggle/input/fruit-images-for-object-detection/test_zip/test/apple_88.jpg\n",
      "/kaggle/input/fruit-images-for-object-detection/test_zip/test/apple_79.jpg\n",
      "/kaggle/input/fruit-images-for-object-detection/test_zip/test/mixed_21.xml\n",
      "/kaggle/input/fruit-images-for-object-detection/test_zip/test/apple_77.jpg\n",
      "/kaggle/input/fruit-images-for-object-detection/test_zip/test/orange_85.xml\n",
      "/kaggle/input/fruit-images-for-object-detection/test_zip/test/banana_92.xml\n",
      "/kaggle/input/fruit-images-for-object-detection/test_zip/test/banana_87.jpg\n",
      "/kaggle/input/fruit-images-for-object-detection/test_zip/test/banana_89.xml\n",
      "/kaggle/input/fruit-images-for-object-detection/test_zip/test/apple_93.jpg\n",
      "/kaggle/input/fruit-images-for-object-detection/test_zip/test/orange_79.jpg\n",
      "/kaggle/input/fruit-images-for-object-detection/test_zip/test/banana_89.jpg\n",
      "/kaggle/input/fruit-images-for-object-detection/test_zip/test/apple_92.xml\n",
      "/kaggle/input/fruit-images-for-object-detection/test_zip/test/orange_87.xml\n",
      "/kaggle/input/fruit-images-for-object-detection/test_zip/test/orange_78.jpg\n",
      "/kaggle/input/fruit-images-for-object-detection/test_zip/test/orange_84.jpg\n",
      "/kaggle/input/fruit-images-for-object-detection/test_zip/test/orange_79.xml\n",
      "/kaggle/input/fruit-images-for-object-detection/test_zip/test/orange_86.xml\n",
      "/kaggle/input/fruit-images-for-object-detection/test_zip/test/apple_87.xml\n",
      "/kaggle/input/fruit-images-for-object-detection/test_zip/test/apple_93.xml\n",
      "/kaggle/input/fruit-images-for-object-detection/test_zip/test/apple_83.jpg\n",
      "/kaggle/input/fruit-images-for-object-detection/test_zip/test/banana_78.xml\n",
      "/kaggle/input/fruit-images-for-object-detection/test_zip/test/banana_90.jpg\n",
      "/kaggle/input/fruit-images-for-object-detection/test_zip/test/banana_81.jpg\n",
      "/kaggle/input/fruit-images-for-object-detection/test_zip/test/orange_78.xml\n",
      "/kaggle/input/fruit-images-for-object-detection/test_zip/test/apple_89.jpg\n",
      "/kaggle/input/fruit-images-for-object-detection/test_zip/test/orange_83.xml\n",
      "/kaggle/input/fruit-images-for-object-detection/test_zip/test/banana_78.jpg\n",
      "/kaggle/input/fruit-images-for-object-detection/test_zip/test/banana_91.xml\n",
      "/kaggle/input/fruit-images-for-object-detection/test_zip/test/mixed_25.jpg\n",
      "/kaggle/input/fruit-images-for-object-detection/test_zip/test/banana_94.xml\n",
      "/kaggle/input/fruit-images-for-object-detection/test_zip/test/orange_81.jpg\n",
      "/kaggle/input/fruit-images-for-object-detection/test_zip/test/banana_86.jpg\n"
     ]
    }
   ],
   "source": [
    "# This Python 3 environment comes with many helpful analytics libraries installed\n",
    "# It is defined by the kaggle/python Docker image: https://github.com/kaggle/docker-python\n",
    "# For example, here's several helpful packages to load\n",
    "\n",
    "import numpy as np # linear algebra\n",
    "import pandas as pd # data processing, CSV file I/O (e.g. pd.read_csv)\n",
    "\n",
    "# Input data files are available in the read-only \"../input/\" directory\n",
    "# For example, running this (by clicking run or pressing Shift+Enter) will list all files under the input directory\n",
    "\n",
    "import os\n",
    "for dirname, _, filenames in os.walk('/kaggle/input'):\n",
    "    for filename in filenames:\n",
    "        print(os.path.join(dirname, filename))\n",
    "\n",
    "# You can write up to 20GB to the current directory (/kaggle/working/) that gets preserved as output when you create a version using \"Save & Run All\" \n",
    "# You can also write temporary files to /kaggle/temp/, but they won't be saved outside of the current session"
   ]
  },
  {
   "cell_type": "markdown",
   "metadata": {
    "papermill": {
     "duration": 0.016323,
     "end_time": "2021-02-26T18:03:54.294053",
     "exception": false,
     "start_time": "2021-02-26T18:03:54.277730",
     "status": "completed"
    },
    "tags": []
   },
   "source": [
    "## Importing modules "
   ]
  },
  {
   "cell_type": "code",
   "execution_count": 2,
   "metadata": {
    "execution": {
     "iopub.execute_input": "2021-02-26T18:03:54.333644Z",
     "iopub.status.busy": "2021-02-26T18:03:54.332912Z",
     "iopub.status.idle": "2021-02-26T18:04:02.647826Z",
     "shell.execute_reply": "2021-02-26T18:04:02.648549Z"
    },
    "papermill": {
     "duration": 8.33809,
     "end_time": "2021-02-26T18:04:02.648724",
     "exception": false,
     "start_time": "2021-02-26T18:03:54.310634",
     "status": "completed"
    },
    "tags": []
   },
   "outputs": [],
   "source": [
    "import numpy as np \n",
    "import pandas as pd \n",
    "import os\n",
    "import matplotlib.pyplot as plt\n",
    "import cv2\n",
    "\n",
    "from keras.utils import to_categorical\n",
    "from keras.layers import Dense,Conv2D,Flatten,MaxPool2D,Dropout\n",
    "from keras.models import Sequential\n",
    "\n",
    "from sklearn.model_selection import train_test_split\n",
    "\n",
    "np.random.seed(1)"
   ]
  },
  {
   "cell_type": "markdown",
   "metadata": {
    "papermill": {
     "duration": 0.017413,
     "end_time": "2021-02-26T18:04:02.682884",
     "exception": false,
     "start_time": "2021-02-26T18:04:02.665471",
     "status": "completed"
    },
    "tags": []
   },
   "source": [
    "## Processing data"
   ]
  },
  {
   "cell_type": "markdown",
   "metadata": {
    "papermill": {
     "duration": 0.01612,
     "end_time": "2021-02-26T18:04:02.715676",
     "exception": false,
     "start_time": "2021-02-26T18:04:02.699556",
     "status": "completed"
    },
    "tags": []
   },
   "source": [
    "### Processing training data"
   ]
  },
  {
   "cell_type": "code",
   "execution_count": 3,
   "metadata": {
    "_kg_hide-input": true,
    "execution": {
     "iopub.execute_input": "2021-02-26T18:04:02.753738Z",
     "iopub.status.busy": "2021-02-26T18:04:02.752718Z",
     "iopub.status.idle": "2021-02-26T18:04:07.794442Z",
     "shell.execute_reply": "2021-02-26T18:04:07.793714Z"
    },
    "papermill": {
     "duration": 5.061668,
     "end_time": "2021-02-26T18:04:07.794593",
     "exception": false,
     "start_time": "2021-02-26T18:04:02.732925",
     "status": "completed"
    },
    "tags": []
   },
   "outputs": [],
   "source": [
    "# -> appending images in a list 'train_images'\n",
    "# -> appending labels in a list 'train_labels'\n",
    "\n",
    "train_images = []       \n",
    "train_labels = []\n",
    "shape = (200,200)  \n",
    "train_path = '../input/fruit-images-for-object-detection/train_zip/train'\n",
    "\n",
    "for filename in os.listdir('../input/fruit-images-for-object-detection/train_zip/train'):\n",
    "    if filename.split('.')[1] == 'jpg':\n",
    "        img = cv2.imread(os.path.join(train_path,filename))\n",
    "        \n",
    "        # Spliting file names and storing the labels for image in list\n",
    "        train_labels.append(filename.split('_')[0])\n",
    "        \n",
    "        # Resize all images to a specific shape\n",
    "        img = cv2.resize(img,shape)\n",
    "        \n",
    "        train_images.append(img)\n",
    "\n",
    "# Converting labels into One Hot encoded sparse matrix\n",
    "train_labels = pd.get_dummies(train_labels).values\n",
    "\n",
    "# Converting train_images to array\n",
    "train_images = np.array(train_images)\n",
    "\n",
    "# Splitting Training data into train and validation dataset\n",
    "x_train,x_val,y_train,y_val = train_test_split(train_images,train_labels,random_state=1)\n"
   ]
  },
  {
   "cell_type": "markdown",
   "metadata": {
    "papermill": {
     "duration": 0.01677,
     "end_time": "2021-02-26T18:04:07.828574",
     "exception": false,
     "start_time": "2021-02-26T18:04:07.811804",
     "status": "completed"
    },
    "tags": []
   },
   "source": [
    "### Processing testing data"
   ]
  },
  {
   "cell_type": "code",
   "execution_count": 4,
   "metadata": {
    "_kg_hide-input": true,
    "execution": {
     "iopub.execute_input": "2021-02-26T18:04:07.871676Z",
     "iopub.status.busy": "2021-02-26T18:04:07.870939Z",
     "iopub.status.idle": "2021-02-26T18:04:09.065645Z",
     "shell.execute_reply": "2021-02-26T18:04:09.064031Z"
    },
    "papermill": {
     "duration": 1.218834,
     "end_time": "2021-02-26T18:04:09.065809",
     "exception": false,
     "start_time": "2021-02-26T18:04:07.846975",
     "status": "completed"
    },
    "tags": []
   },
   "outputs": [],
   "source": [
    "# -> appending images in a list 'test_images'\n",
    "# -> appending labels in a list 'test_labels'\n",
    "# The test data contains labels as well also we are appending it to a list but we are'nt going to use it while training.\n",
    "\n",
    "test_images = []\n",
    "test_labels = []\n",
    "shape = (200,200)\n",
    "test_path = '../input/fruit-images-for-object-detection/test_zip/test'\n",
    "\n",
    "for filename in os.listdir('../input/fruit-images-for-object-detection/test_zip/test'):\n",
    "    if filename.split('.')[1] == 'jpg':\n",
    "        img = cv2.imread(os.path.join(test_path,filename))\n",
    "        \n",
    "        # Spliting file names and storing the labels for image in list\n",
    "        test_labels.append(filename.split('_')[0])\n",
    "        \n",
    "        # Resize all images to a specific shape\n",
    "        img = cv2.resize(img,shape)\n",
    "        \n",
    "        test_images.append(img)\n",
    "        \n",
    "# Converting test_images to array\n",
    "test_images = np.array(test_images)"
   ]
  },
  {
   "cell_type": "markdown",
   "metadata": {
    "papermill": {
     "duration": 0.016698,
     "end_time": "2021-02-26T18:04:09.099507",
     "exception": false,
     "start_time": "2021-02-26T18:04:09.082809",
     "status": "completed"
    },
    "tags": []
   },
   "source": [
    "## Visualizing Training data"
   ]
  },
  {
   "cell_type": "code",
   "execution_count": 5,
   "metadata": {
    "_kg_hide-input": true,
    "execution": {
     "iopub.execute_input": "2021-02-26T18:04:09.140558Z",
     "iopub.status.busy": "2021-02-26T18:04:09.139870Z",
     "iopub.status.idle": "2021-02-26T18:04:09.349649Z",
     "shell.execute_reply": "2021-02-26T18:04:09.349018Z"
    },
    "papermill": {
     "duration": 0.233302,
     "end_time": "2021-02-26T18:04:09.349800",
     "exception": false,
     "start_time": "2021-02-26T18:04:09.116498",
     "status": "completed"
    },
    "tags": []
   },
   "outputs": [
    {
     "name": "stdout",
     "output_type": "stream",
     "text": [
      "[0 1 0 0]\n"
     ]
    },
    {
     "data": {
      "text/plain": [
       "<matplotlib.image.AxesImage at 0x7fb74d027810>"
      ]
     },
     "execution_count": 5,
     "metadata": {},
     "output_type": "execute_result"
    },
    {
     "data": {
      "image/png": "[encoded data removed]",
      "text/plain": [
       "<Figure size 432x288 with 1 Axes>"
      ]
     },
     "metadata": {
      "needs_background": "light"
     },
     "output_type": "display_data"
    }
   ],
   "source": [
    "print(train_labels[0])\n",
    "plt.imshow(train_images[0])"
   ]
  },
  {
   "cell_type": "code",
   "execution_count": 6,
   "metadata": {
    "_kg_hide-input": true,
    "execution": {
     "iopub.execute_input": "2021-02-26T18:04:09.413731Z",
     "iopub.status.busy": "2021-02-26T18:04:09.413042Z",
     "iopub.status.idle": "2021-02-26T18:04:09.576698Z",
     "shell.execute_reply": "2021-02-26T18:04:09.576066Z"
    },
    "papermill": {
     "duration": 0.206677,
     "end_time": "2021-02-26T18:04:09.576876",
     "exception": false,
     "start_time": "2021-02-26T18:04:09.370199",
     "status": "completed"
    },
    "tags": []
   },
   "outputs": [
    {
     "name": "stdout",
     "output_type": "stream",
     "text": [
      "[1 0 0 0]\n"
     ]
    },
    {
     "data": {
      "text/plain": [
       "<matplotlib.image.AxesImage at 0x7fb78cd0a4d0>"
      ]
     },
     "execution_count": 6,
     "metadata": {},
     "output_type": "execute_result"
    },
    {
     "data": {
      "image/png": "[encoded data removed]",
      "text/plain": [
       "<Figure size 432x288 with 1 Axes>"
      ]
     },
     "metadata": {
      "needs_background": "light"
     },
     "output_type": "display_data"
    }
   ],
   "source": [
    "print(train_labels[4])\n",
    "plt.imshow(train_images[4])"
   ]
  },
  {
   "cell_type": "markdown",
   "metadata": {
    "papermill": {
     "duration": 0.023761,
     "end_time": "2021-02-26T18:04:09.623837",
     "exception": false,
     "start_time": "2021-02-26T18:04:09.600076",
     "status": "completed"
    },
    "tags": []
   },
   "source": [
    "## Model Creation"
   ]
  },
  {
   "cell_type": "code",
   "execution_count": 7,
   "metadata": {
    "_kg_hide-input": true,
    "execution": {
     "iopub.execute_input": "2021-02-26T18:04:09.679536Z",
     "iopub.status.busy": "2021-02-26T18:04:09.678845Z",
     "iopub.status.idle": "2021-02-26T18:04:09.856551Z",
     "shell.execute_reply": "2021-02-26T18:04:09.855040Z"
    },
    "papermill": {
     "duration": 0.209755,
     "end_time": "2021-02-26T18:04:09.856716",
     "exception": false,
     "start_time": "2021-02-26T18:04:09.646961",
     "status": "completed"
    },
    "tags": []
   },
   "outputs": [],
   "source": [
    "# Creating a Sequential model\n",
    "model= Sequential()\n",
    "model.add(Conv2D(kernel_size=(3,3), filters=32, activation='tanh', input_shape=(200,200,3,)))\n",
    "model.add(Conv2D(filters=30,kernel_size = (3,3),activation='tanh'))\n",
    "model.add(MaxPool2D(2,2))\n",
    "model.add(Conv2D(filters=30,kernel_size = (3,3),activation='tanh'))\n",
    "model.add(MaxPool2D(2,2))\n",
    "model.add(Conv2D(filters=30,kernel_size = (3,3),activation='tanh'))\n",
    "\n",
    "model.add(Flatten())\n",
    "\n",
    "model.add(Dense(20,activation='relu'))\n",
    "model.add(Dense(15,activation='relu'))\n",
    "model.add(Dense(4,activation = 'softmax'))\n",
    "    \n",
    "model.compile(\n",
    "              loss='categorical_crossentropy', \n",
    "              metrics=['acc'],\n",
    "              optimizer='adam'\n",
    "             )"
   ]
  },
  {
   "cell_type": "markdown",
   "metadata": {
    "papermill": {
     "duration": 0.023179,
     "end_time": "2021-02-26T18:04:09.905073",
     "exception": false,
     "start_time": "2021-02-26T18:04:09.881894",
     "status": "completed"
    },
    "tags": []
   },
   "source": [
    "### Model Summary"
   ]
  },
  {
   "cell_type": "code",
   "execution_count": 8,
   "metadata": {
    "_kg_hide-input": true,
    "execution": {
     "iopub.execute_input": "2021-02-26T18:04:09.960926Z",
     "iopub.status.busy": "2021-02-26T18:04:09.960265Z",
     "iopub.status.idle": "2021-02-26T18:04:09.967249Z",
     "shell.execute_reply": "2021-02-26T18:04:09.967780Z"
    },
    "papermill": {
     "duration": 0.038777,
     "end_time": "2021-02-26T18:04:09.967953",
     "exception": false,
     "start_time": "2021-02-26T18:04:09.929176",
     "status": "completed"
    },
    "tags": []
   },
   "outputs": [
    {
     "name": "stdout",
     "output_type": "stream",
     "text": [
      "Model: \"sequential\"\n",
      "_________________________________________________________________\n",
      "Layer (type)                 Output Shape              Param #   \n",
      "=================================================================\n",
      "conv2d (Conv2D)              (None, 198, 198, 32)      896       \n",
      "_________________________________________________________________\n",
      "conv2d_1 (Conv2D)            (None, 196, 196, 30)      8670      \n",
      "_________________________________________________________________\n",
      "max_pooling2d (MaxPooling2D) (None, 98, 98, 30)        0         \n",
      "_________________________________________________________________\n",
      "conv2d_2 (Conv2D)            (None, 96, 96, 30)        8130      \n",
      "_________________________________________________________________\n",
      "max_pooling2d_1 (MaxPooling2 (None, 48, 48, 30)        0         \n",
      "_________________________________________________________________\n",
      "conv2d_3 (Conv2D)            (None, 46, 46, 30)        8130      \n",
      "_________________________________________________________________\n",
      "flatten (Flatten)            (None, 63480)             0         \n",
      "_________________________________________________________________\n",
      "dense (Dense)                (None, 20)                1269620   \n",
      "_________________________________________________________________\n",
      "dense_1 (Dense)              (None, 15)                315       \n",
      "_________________________________________________________________\n",
      "dense_2 (Dense)              (None, 4)                 64        \n",
      "=================================================================\n",
      "Total params: 1,295,825\n",
      "Trainable params: 1,295,825\n",
      "Non-trainable params: 0\n",
      "_________________________________________________________________\n"
     ]
    }
   ],
   "source": [
    "model.summary()"
   ]
  },
  {
   "cell_type": "markdown",
   "metadata": {
    "papermill": {
     "duration": 0.023489,
     "end_time": "2021-02-26T18:04:10.015266",
     "exception": false,
     "start_time": "2021-02-26T18:04:09.991777",
     "status": "completed"
    },
    "tags": []
   },
   "source": [
    "### Training the model"
   ]
  },
  {
   "cell_type": "code",
   "execution_count": 9,
   "metadata": {
    "_kg_hide-output": true,
    "execution": {
     "iopub.execute_input": "2021-02-26T18:04:10.068585Z",
     "iopub.status.busy": "2021-02-26T18:04:10.067852Z",
     "iopub.status.idle": "2021-02-26T18:16:11.187555Z",
     "shell.execute_reply": "2021-02-26T18:16:11.186478Z"
    },
    "papermill": {
     "duration": 721.148631,
     "end_time": "2021-02-26T18:16:11.187785",
     "exception": false,
     "start_time": "2021-02-26T18:04:10.039154",
     "status": "completed"
    },
    "tags": []
   },
   "outputs": [
    {
     "name": "stdout",
     "output_type": "stream",
     "text": [
      "Epoch 1/50\n",
      "4/4 [==============================] - 16s 4s/step - loss: 2.4858 - acc: 0.2098 - val_loss: 1.3924 - val_acc: 0.4667\n",
      "Epoch 2/50\n",
      "4/4 [==============================] - 15s 4s/step - loss: 2.5544 - acc: 0.4529 - val_loss: 1.2342 - val_acc: 0.4667\n",
      "Epoch 3/50\n",
      "4/4 [==============================] - 14s 4s/step - loss: 1.2844 - acc: 0.4827 - val_loss: 1.2124 - val_acc: 0.4500\n",
      "Epoch 4/50\n",
      "4/4 [==============================] - 15s 4s/step - loss: 1.1877 - acc: 0.5020 - val_loss: 1.0513 - val_acc: 0.5500\n",
      "Epoch 5/50\n",
      "4/4 [==============================] - 14s 4s/step - loss: 1.0996 - acc: 0.4869 - val_loss: 1.1136 - val_acc: 0.5333\n",
      "Epoch 6/50\n",
      "4/4 [==============================] - 15s 4s/step - loss: 1.1734 - acc: 0.5300 - val_loss: 1.0466 - val_acc: 0.5333\n",
      "Epoch 7/50\n",
      "4/4 [==============================] - 14s 4s/step - loss: 1.1038 - acc: 0.4907 - val_loss: 1.1606 - val_acc: 0.4333\n",
      "Epoch 8/50\n",
      "4/4 [==============================] - 15s 4s/step - loss: 1.1800 - acc: 0.5356 - val_loss: 0.9831 - val_acc: 0.5500\n",
      "Epoch 9/50\n",
      "4/4 [==============================] - 14s 4s/step - loss: 1.0794 - acc: 0.5691 - val_loss: 1.0683 - val_acc: 0.5500\n",
      "Epoch 10/50\n",
      "4/4 [==============================] - 14s 4s/step - loss: 1.1610 - acc: 0.5136 - val_loss: 1.2002 - val_acc: 0.3833\n",
      "Epoch 11/50\n",
      "4/4 [==============================] - 15s 4s/step - loss: 1.1825 - acc: 0.4736 - val_loss: 1.0177 - val_acc: 0.5500\n",
      "Epoch 12/50\n",
      "4/4 [==============================] - 14s 4s/step - loss: 1.0981 - acc: 0.5638 - val_loss: 1.0963 - val_acc: 0.5000\n",
      "Epoch 13/50\n",
      "4/4 [==============================] - 15s 4s/step - loss: 1.1099 - acc: 0.5840 - val_loss: 1.0769 - val_acc: 0.5000\n",
      "Epoch 14/50\n",
      "4/4 [==============================] - 14s 4s/step - loss: 1.0785 - acc: 0.5313 - val_loss: 0.9896 - val_acc: 0.6000\n",
      "Epoch 15/50\n",
      "4/4 [==============================] - 14s 4s/step - loss: 1.0560 - acc: 0.5760 - val_loss: 1.0705 - val_acc: 0.5667\n",
      "Epoch 16/50\n",
      "4/4 [==============================] - 14s 4s/step - loss: 1.0290 - acc: 0.6171 - val_loss: 1.1115 - val_acc: 0.5500\n",
      "Epoch 17/50\n",
      "4/4 [==============================] - 14s 4s/step - loss: 0.9952 - acc: 0.5900 - val_loss: 0.9804 - val_acc: 0.6000\n",
      "Epoch 18/50\n",
      "4/4 [==============================] - 15s 4s/step - loss: 1.0905 - acc: 0.5553 - val_loss: 1.0077 - val_acc: 0.5833\n",
      "Epoch 19/50\n",
      "4/4 [==============================] - 15s 4s/step - loss: 0.9837 - acc: 0.5844 - val_loss: 1.1627 - val_acc: 0.5500\n",
      "Epoch 20/50\n",
      "4/4 [==============================] - 14s 4s/step - loss: 0.9706 - acc: 0.6158 - val_loss: 0.9886 - val_acc: 0.6000\n",
      "Epoch 21/50\n",
      "4/4 [==============================] - 14s 4s/step - loss: 1.0186 - acc: 0.5907 - val_loss: 0.9841 - val_acc: 0.6000\n",
      "Epoch 22/50\n",
      "4/4 [==============================] - 15s 4s/step - loss: 1.0299 - acc: 0.5847 - val_loss: 1.0288 - val_acc: 0.6000\n",
      "Epoch 23/50\n",
      "4/4 [==============================] - 14s 4s/step - loss: 0.9622 - acc: 0.6009 - val_loss: 1.0551 - val_acc: 0.5833\n",
      "Epoch 24/50\n",
      "4/4 [==============================] - 14s 4s/step - loss: 0.9576 - acc: 0.5827 - val_loss: 1.0255 - val_acc: 0.6167\n",
      "Epoch 25/50\n",
      "4/4 [==============================] - 14s 4s/step - loss: 0.9781 - acc: 0.6080 - val_loss: 1.0544 - val_acc: 0.6000\n",
      "Epoch 26/50\n",
      "4/4 [==============================] - 14s 4s/step - loss: 1.0085 - acc: 0.6040 - val_loss: 1.0053 - val_acc: 0.6167\n",
      "Epoch 27/50\n",
      "4/4 [==============================] - 15s 4s/step - loss: 0.9277 - acc: 0.6131 - val_loss: 1.0083 - val_acc: 0.6000\n",
      "Epoch 28/50\n",
      "4/4 [==============================] - 14s 4s/step - loss: 0.9375 - acc: 0.5936 - val_loss: 1.0186 - val_acc: 0.5833\n",
      "Epoch 29/50\n",
      "4/4 [==============================] - 14s 4s/step - loss: 0.9138 - acc: 0.6296 - val_loss: 0.9751 - val_acc: 0.5833\n",
      "Epoch 30/50\n",
      "4/4 [==============================] - 14s 4s/step - loss: 0.9545 - acc: 0.6127 - val_loss: 0.9772 - val_acc: 0.5833\n",
      "Epoch 31/50\n",
      "4/4 [==============================] - 15s 4s/step - loss: 0.9408 - acc: 0.6080 - val_loss: 0.9974 - val_acc: 0.5833\n",
      "Epoch 32/50\n",
      "4/4 [==============================] - 14s 4s/step - loss: 0.9377 - acc: 0.5938 - val_loss: 0.9419 - val_acc: 0.6000\n",
      "Epoch 33/50\n",
      "4/4 [==============================] - 15s 4s/step - loss: 0.9573 - acc: 0.6356 - val_loss: 0.9483 - val_acc: 0.6000\n",
      "Epoch 34/50\n",
      "4/4 [==============================] - 15s 4s/step - loss: 0.9714 - acc: 0.5916 - val_loss: 1.1008 - val_acc: 0.5833\n",
      "Epoch 35/50\n",
      "4/4 [==============================] - 14s 4s/step - loss: 0.9936 - acc: 0.5587 - val_loss: 0.9069 - val_acc: 0.6167\n",
      "Epoch 36/50\n",
      "4/4 [==============================] - 15s 4s/step - loss: 0.9375 - acc: 0.6287 - val_loss: 0.9158 - val_acc: 0.6167\n",
      "Epoch 37/50\n",
      "4/4 [==============================] - 14s 4s/step - loss: 0.9729 - acc: 0.5751 - val_loss: 1.1839 - val_acc: 0.5833\n",
      "Epoch 38/50\n",
      "4/4 [==============================] - 14s 4s/step - loss: 0.9620 - acc: 0.5856 - val_loss: 0.9877 - val_acc: 0.6167\n",
      "Epoch 39/50\n",
      "4/4 [==============================] - 14s 4s/step - loss: 0.9339 - acc: 0.6036 - val_loss: 0.9612 - val_acc: 0.6167\n",
      "Epoch 40/50\n",
      "4/4 [==============================] - 14s 4s/step - loss: 0.9369 - acc: 0.6096 - val_loss: 1.0448 - val_acc: 0.5833\n",
      "Epoch 41/50\n",
      "4/4 [==============================] - 15s 4s/step - loss: 0.9365 - acc: 0.6056 - val_loss: 1.1034 - val_acc: 0.5833\n",
      "Epoch 42/50\n",
      "4/4 [==============================] - 14s 4s/step - loss: 0.9161 - acc: 0.6113 - val_loss: 0.9980 - val_acc: 0.6000\n",
      "Epoch 43/50\n",
      "4/4 [==============================] - 15s 4s/step - loss: 0.9387 - acc: 0.6324 - val_loss: 0.9946 - val_acc: 0.6000\n",
      "Epoch 44/50\n",
      "4/4 [==============================] - 14s 4s/step - loss: 0.9116 - acc: 0.5951 - val_loss: 1.0280 - val_acc: 0.5833\n",
      "Epoch 45/50\n",
      "4/4 [==============================] - 14s 4s/step - loss: 0.8976 - acc: 0.6218 - val_loss: 1.0134 - val_acc: 0.6000\n",
      "Epoch 46/50\n",
      "4/4 [==============================] - 14s 4s/step - loss: 0.8831 - acc: 0.6438 - val_loss: 0.9577 - val_acc: 0.6000\n",
      "Epoch 47/50\n",
      "4/4 [==============================] - 14s 4s/step - loss: 0.8998 - acc: 0.6049 - val_loss: 1.0147 - val_acc: 0.5833\n",
      "Epoch 48/50\n",
      "4/4 [==============================] - 14s 4s/step - loss: 0.9236 - acc: 0.6009 - val_loss: 1.0127 - val_acc: 0.5833\n",
      "Epoch 49/50\n",
      "4/4 [==============================] - 14s 4s/step - loss: 0.8714 - acc: 0.6171 - val_loss: 0.9837 - val_acc: 0.6000\n",
      "Epoch 50/50\n",
      "4/4 [==============================] - 14s 4s/step - loss: 0.8843 - acc: 0.5924 - val_loss: 0.9904 - val_acc: 0.6000\n"
     ]
    }
   ],
   "source": [
    "history = model.fit(x_train,y_train,epochs=50,batch_size=50,validation_data=(x_val,y_val))"
   ]
  },
  {
   "cell_type": "markdown",
   "metadata": {
    "papermill": {
     "duration": 0.113593,
     "end_time": "2021-02-26T18:16:11.415662",
     "exception": false,
     "start_time": "2021-02-26T18:16:11.302069",
     "status": "completed"
    },
    "tags": []
   },
   "source": [
    "### Plotting model accuracy"
   ]
  },
  {
   "cell_type": "code",
   "execution_count": 10,
   "metadata": {
    "_kg_hide-input": true,
    "execution": {
     "iopub.execute_input": "2021-02-26T18:16:11.647183Z",
     "iopub.status.busy": "2021-02-26T18:16:11.646550Z",
     "iopub.status.idle": "2021-02-26T18:16:11.828032Z",
     "shell.execute_reply": "2021-02-26T18:16:11.827465Z"
    },
    "papermill": {
     "duration": 0.298254,
     "end_time": "2021-02-26T18:16:11.828182",
     "exception": false,
     "start_time": "2021-02-26T18:16:11.529928",
     "status": "completed"
    },
    "tags": []
   },
   "outputs": [
    {
     "data": {
      "image/png": "[encoded data removed]",
      "text/plain": [
       "<Figure size 432x288 with 1 Axes>"
      ]
     },
     "metadata": {
      "needs_background": "light"
     },
     "output_type": "display_data"
    }
   ],
   "source": [
    "# summarize history for accuracy\n",
    "plt.plot(history.history['acc'])\n",
    "plt.plot(history.history['val_acc'])\n",
    "plt.title('model accuracy')\n",
    "plt.ylabel('accuracy')\n",
    "plt.xlabel('epoch')\n",
    "plt.legend(['train', 'test'], loc='upper left')\n",
    "plt.show()"
   ]
  },
  {
   "cell_type": "markdown",
   "metadata": {
    "papermill": {
     "duration": 0.114742,
     "end_time": "2021-02-26T18:16:12.063144",
     "exception": false,
     "start_time": "2021-02-26T18:16:11.948402",
     "status": "completed"
    },
    "tags": []
   },
   "source": [
    "### Plotting loss"
   ]
  },
  {
   "cell_type": "code",
   "execution_count": 11,
   "metadata": {
    "_kg_hide-input": true,
    "execution": {
     "iopub.execute_input": "2021-02-26T18:16:12.302954Z",
     "iopub.status.busy": "2021-02-26T18:16:12.302195Z",
     "iopub.status.idle": "2021-02-26T18:16:12.478866Z",
     "shell.execute_reply": "2021-02-26T18:16:12.478328Z"
    },
    "papermill": {
     "duration": 0.299175,
     "end_time": "2021-02-26T18:16:12.479018",
     "exception": false,
     "start_time": "2021-02-26T18:16:12.179843",
     "status": "completed"
    },
    "tags": []
   },
   "outputs": [
    {
     "data": {
      "image/png": "[encoded data removed]",
      "text/plain": [
       "<Figure size 432x288 with 1 Axes>"
      ]
     },
     "metadata": {
      "needs_background": "light"
     },
     "output_type": "display_data"
    }
   ],
   "source": [
    "# summarize history for loss\n",
    "plt.plot(history.history['loss'])\n",
    "plt.plot(history.history['val_loss'])\n",
    "plt.title('model loss')\n",
    "plt.ylabel('loss')\n",
    "plt.xlabel('epoch')\n",
    "plt.legend(['train', 'test'], loc='upper left')\n",
    "plt.show()"
   ]
  },
  {
   "cell_type": "markdown",
   "metadata": {
    "papermill": {
     "duration": 0.116243,
     "end_time": "2021-02-26T18:16:12.713699",
     "exception": false,
     "start_time": "2021-02-26T18:16:12.597456",
     "status": "completed"
    },
    "tags": []
   },
   "source": [
    "### Evaluating model on validation data"
   ]
  },
  {
   "cell_type": "code",
   "execution_count": 12,
   "metadata": {
    "_kg_hide-input": true,
    "execution": {
     "iopub.execute_input": "2021-02-26T18:16:12.993001Z",
     "iopub.status.busy": "2021-02-26T18:16:12.986599Z",
     "iopub.status.idle": "2021-02-26T18:16:14.173821Z",
     "shell.execute_reply": "2021-02-26T18:16:14.173170Z"
    },
    "papermill": {
     "duration": 1.33988,
     "end_time": "2021-02-26T18:16:14.173984",
     "exception": false,
     "start_time": "2021-02-26T18:16:12.834104",
     "status": "completed"
    },
    "tags": []
   },
   "outputs": [
    {
     "name": "stdout",
     "output_type": "stream",
     "text": [
      "2/2 [==============================] - 1s 527ms/step - loss: 0.9904 - acc: 0.6000\n",
      "[0.9904381036758423, 0.6000000238418579]\n"
     ]
    }
   ],
   "source": [
    "evaluate = model.evaluate(x_val,y_val)\n",
    "print(evaluate)"
   ]
  },
  {
   "cell_type": "markdown",
   "metadata": {
    "papermill": {
     "duration": 0.117645,
     "end_time": "2021-02-26T18:16:14.411628",
     "exception": false,
     "start_time": "2021-02-26T18:16:14.293983",
     "status": "completed"
    },
    "tags": []
   },
   "source": [
    "### Making predictions on Test data"
   ]
  },
  {
   "cell_type": "code",
   "execution_count": 13,
   "metadata": {
    "execution": {
     "iopub.execute_input": "2021-02-26T18:16:14.653697Z",
     "iopub.status.busy": "2021-02-26T18:16:14.652977Z",
     "iopub.status.idle": "2021-02-26T18:16:14.809982Z",
     "shell.execute_reply": "2021-02-26T18:16:14.808474Z"
    },
    "papermill": {
     "duration": 0.280482,
     "end_time": "2021-02-26T18:16:14.810161",
     "exception": false,
     "start_time": "2021-02-26T18:16:14.529679",
     "status": "completed"
    },
    "tags": []
   },
   "outputs": [
    {
     "name": "stdout",
     "output_type": "stream",
     "text": [
      "Actual :-  ['apple']\n",
      "Predicted :-  apple\n"
     ]
    }
   ],
   "source": [
    "checkImage = test_images[0:1]\n",
    "checklabel = test_labels[0:1]\n",
    "\n",
    "predict = model.predict(np.array(checkImage))\n",
    "\n",
    "output = { 0:'apple',1:'banana',2:'mixed',3:'orange'}\n",
    "\n",
    "print(\"Actual :- \",checklabel)\n",
    "print(\"Predicted :- \",output[np.argmax(predict)])"
   ]
  },
  {
   "cell_type": "code",
   "execution_count": 14,
   "metadata": {
    "execution": {
     "iopub.execute_input": "2021-02-26T18:16:15.056056Z",
     "iopub.status.busy": "2021-02-26T18:16:15.055372Z",
     "iopub.status.idle": "2021-02-26T18:16:15.120667Z",
     "shell.execute_reply": "2021-02-26T18:16:15.119853Z"
    },
    "papermill": {
     "duration": 0.191603,
     "end_time": "2021-02-26T18:16:15.120842",
     "exception": false,
     "start_time": "2021-02-26T18:16:14.929239",
     "status": "completed"
    },
    "tags": []
   },
   "outputs": [
    {
     "name": "stdout",
     "output_type": "stream",
     "text": [
      "Actual :-  ['orange']\n",
      "Predicted :-  orange\n"
     ]
    }
   ],
   "source": [
    "checkImage = test_images[3:4]\n",
    "checklabel = test_labels[3:4]\n",
    "\n",
    "predict = model.predict(np.array(checkImage))\n",
    "\n",
    "print(\"Actual :- \",checklabel)\n",
    "print(\"Predicted :- \",output[np.argmax(predict)])"
   ]
  },
  {
   "cell_type": "code",
   "execution_count": null,
   "metadata": {
    "papermill": {
     "duration": 0.11808,
     "end_time": "2021-02-26T18:16:15.358998",
     "exception": false,
     "start_time": "2021-02-26T18:16:15.240918",
     "status": "completed"
    },
    "tags": []
   },
   "outputs": [],
   "source": []
  }
 ],
 "metadata": {
  "kernelspec": {
   "display_name": "Python 3",
   "language": "python",
   "name": "python3"
  },
  "language_info": {
   "codemirror_mode": {
    "name": "ipython",
    "version": 3
   },
   "file_extension": ".py",
   "mimetype": "text/x-python",
   "name": "python",
   "nbconvert_exporter": "python",
   "pygments_lexer": "ipython3",
   "version": "3.7.9"
  },
  "papermill": {
   "default_parameters": {},
   "duration": 749.238907,
   "end_time": "2021-02-26T18:16:16.689199",
   "environment_variables": {},
   "exception": null,
   "input_path": "__notebook__.ipynb",
   "output_path": "__notebook__.ipynb",
   "parameters": {},
   "start_time": "2021-02-26T18:03:47.450292",
   "version": "2.2.2"
  }
 },
 "nbformat": 4,
 "nbformat_minor": 4
}
