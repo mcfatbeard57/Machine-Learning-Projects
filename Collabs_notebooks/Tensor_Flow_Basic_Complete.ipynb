{
  "nbformat": 4,
  "nbformat_minor": 0,
  "metadata": {
    "colab": {
      "name": "First_Collab_notebook.ipynb",
      "provenance": [],
      "collapsed_sections": [],
      "authorship_tag": "ABX9TyNqlMoyMItxOzLcudE6ucNZ",
      "include_colab_link": true
    },
    "kernelspec": {
      "name": "python3",
      "display_name": "Python 3"
    }
  },
  "cells": [
    {
      "cell_type": "markdown",
      "metadata": {
        "id": "view-in-github",
        "colab_type": "text"
      },
      "source": [
        "<a href=\"https://colab.research.google.com/github/mcfatbeard57/Collabs_notebooks/blob/master/Tensor_Flow_Basic_Complete.ipynb\" target=\"_parent\"><img src=\"https://colab.research.google.com/assets/colab-badge.svg\" alt=\"Open In Colab\"/></a>"
      ]
    },
    {
      "cell_type": "code",
      "metadata": {
        "id": "GfGWFkw22Mcm",
        "colab_type": "code",
        "outputId": "ab6d0111-653d-41d8-97b0-7fa3e54444f8",
        "colab": {
          "base_uri": "https://localhost:8080/",
          "height": 34
        }
      },
      "source": [
        "print('Jelly Boy! Mcfatbeard')"
      ],
      "execution_count": 4,
      "outputs": [
        {
          "output_type": "stream",
          "text": [
            "Jelly Boy! Mcfatbeard\n"
          ],
          "name": "stdout"
        }
      ]
    },
    {
      "cell_type": "code",
      "metadata": {
        "id": "ptjx_yWiBMZq",
        "colab_type": "code",
        "colab": {}
      },
      "source": [
        "import tensorflow as tf"
      ],
      "execution_count": 0,
      "outputs": []
    },
    {
      "cell_type": "code",
      "metadata": {
        "id": "MZ9vtDL03S-Z",
        "colab_type": "code",
        "colab": {}
      },
      "source": [
        "from tensorflow.keras.models import Sequential\n",
        "from tensorflow.keras.layers import Dense, Activation"
      ],
      "execution_count": 0,
      "outputs": []
    },
    {
      "cell_type": "code",
      "metadata": {
        "id": "rKnyca5UMBAp",
        "colab_type": "code",
        "colab": {}
      },
      "source": [
        "model = Sequential()\n",
        "\n",
        "model.add(Dense(4,activation='relu'))\n",
        "model.add(Dense(4,activation='relu'))\n",
        "model.add(Dense(4,activation='relu'))\n",
        "\n",
        "# Final output node for prediction\n",
        "model.add(Dense(1))\n",
        "\n",
        "model.compile(optimizer='rmsprop',loss='mse')"
      ],
      "execution_count": 0,
      "outputs": []
    },
    {
      "cell_type": "code",
      "metadata": {
        "id": "LE7ZjRxTNiMK",
        "colab_type": "code",
        "colab": {
          "base_uri": "https://localhost:8080/",
          "height": 34
        },
        "outputId": "92757d68-8fde-4435-b46a-5ed8c05eda26"
      },
      "source": [
        "type(model)"
      ],
      "execution_count": 8,
      "outputs": [
        {
          "output_type": "execute_result",
          "data": {
            "text/plain": [
              "tensorflow.python.keras.engine.sequential.Sequential"
            ]
          },
          "metadata": {
            "tags": []
          },
          "execution_count": 8
        }
      ]
    },
    {
      "cell_type": "code",
      "metadata": {
        "id": "R-4ChQYdS1j9",
        "colab_type": "code",
        "colab": {}
      },
      "source": [
        "model.fit?"
      ],
      "execution_count": 0,
      "outputs": []
    },
    {
      "cell_type": "code",
      "metadata": {
        "id": "8c5VtMMzTawx",
        "colab_type": "code",
        "colab": {
          "resources": {
            "http://localhost:8080/nbextensions/google.colab/files.js": {
              "data": "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",
              "ok": true,
              "headers": [
                [
                  "content-type",
                  "application/javascript"
                ]
              ],
              "status": 200,
              "status_text": ""
            }
          },
          "base_uri": "https://localhost:8080/",
          "height": 74
        },
        "outputId": "e5416bc3-7800-4ac9-c4a7-e284ac350007"
      },
      "source": [
        "from google.colab import files\n",
        "uploaded = files.upload()"
      ],
      "execution_count": 15,
      "outputs": [
        {
          "output_type": "display_data",
          "data": {
            "text/html": [
              "\n",
              "     <input type=\"file\" id=\"files-9e1902ee-c106-45af-a4e2-a47486dcb38f\" name=\"files[]\" multiple disabled />\n",
              "     <output id=\"result-9e1902ee-c106-45af-a4e2-a47486dcb38f\">\n",
              "      Upload widget is only available when the cell has been executed in the\n",
              "      current browser session. Please rerun this cell to enable.\n",
              "      </output>\n",
              "      <script src=\"/nbextensions/google.colab/files.js\"></script> "
            ],
            "text/plain": [
              "<IPython.core.display.HTML object>"
            ]
          },
          "metadata": {
            "tags": []
          }
        },
        {
          "output_type": "stream",
          "text": [
            "Saving fake_reg.csv to fake_reg.csv\n"
          ],
          "name": "stdout"
        }
      ]
    },
    {
      "cell_type": "code",
      "metadata": {
        "id": "Jjp1kiDMU22u",
        "colab_type": "code",
        "colab": {}
      },
      "source": [
        "import io\n",
        "import pandas as pd\n",
        "df2 = pd.read_csv(io.BytesIO(uploaded['fake_reg.csv']))"
      ],
      "execution_count": 0,
      "outputs": []
    },
    {
      "cell_type": "code",
      "metadata": {
        "id": "eN5SXifIXM6q",
        "colab_type": "code",
        "colab": {
          "base_uri": "https://localhost:8080/",
          "height": 195
        },
        "outputId": "63722641-4212-4438-b9af-a2defaeb6a60"
      },
      "source": [
        "df2.head()"
      ],
      "execution_count": 18,
      "outputs": [
        {
          "output_type": "execute_result",
          "data": {
            "text/html": [
              "<div>\n",
              "<style scoped>\n",
              "    .dataframe tbody tr th:only-of-type {\n",
              "        vertical-align: middle;\n",
              "    }\n",
              "\n",
              "    .dataframe tbody tr th {\n",
              "        vertical-align: top;\n",
              "    }\n",
              "\n",
              "    .dataframe thead th {\n",
              "        text-align: right;\n",
              "    }\n",
              "</style>\n",
              "<table border=\"1\" class=\"dataframe\">\n",
              "  <thead>\n",
              "    <tr style=\"text-align: right;\">\n",
              "      <th></th>\n",
              "      <th>price</th>\n",
              "      <th>feature1</th>\n",
              "      <th>feature2</th>\n",
              "    </tr>\n",
              "  </thead>\n",
              "  <tbody>\n",
              "    <tr>\n",
              "      <th>0</th>\n",
              "      <td>461.527929</td>\n",
              "      <td>999.787558</td>\n",
              "      <td>999.766096</td>\n",
              "    </tr>\n",
              "    <tr>\n",
              "      <th>1</th>\n",
              "      <td>548.130011</td>\n",
              "      <td>998.861615</td>\n",
              "      <td>1001.042403</td>\n",
              "    </tr>\n",
              "    <tr>\n",
              "      <th>2</th>\n",
              "      <td>410.297162</td>\n",
              "      <td>1000.070267</td>\n",
              "      <td>998.844015</td>\n",
              "    </tr>\n",
              "    <tr>\n",
              "      <th>3</th>\n",
              "      <td>540.382220</td>\n",
              "      <td>999.952251</td>\n",
              "      <td>1000.440940</td>\n",
              "    </tr>\n",
              "    <tr>\n",
              "      <th>4</th>\n",
              "      <td>546.024553</td>\n",
              "      <td>1000.446011</td>\n",
              "      <td>1000.338531</td>\n",
              "    </tr>\n",
              "  </tbody>\n",
              "</table>\n",
              "</div>"
            ],
            "text/plain": [
              "        price     feature1     feature2\n",
              "0  461.527929   999.787558   999.766096\n",
              "1  548.130011   998.861615  1001.042403\n",
              "2  410.297162  1000.070267   998.844015\n",
              "3  540.382220   999.952251  1000.440940\n",
              "4  546.024553  1000.446011  1000.338531"
            ]
          },
          "metadata": {
            "tags": []
          },
          "execution_count": 18
        }
      ]
    },
    {
      "cell_type": "code",
      "metadata": {
        "id": "jfNCT4pTXS3W",
        "colab_type": "code",
        "colab": {
          "base_uri": "https://localhost:8080/",
          "height": 70
        },
        "outputId": "92638560-5a7e-4113-c218-131c65b297ed"
      },
      "source": [
        "import seaborn as sns\n",
        "import matplotlib.pyplot as plt"
      ],
      "execution_count": 19,
      "outputs": [
        {
          "output_type": "stream",
          "text": [
            "/usr/local/lib/python3.6/dist-packages/statsmodels/tools/_testing.py:19: FutureWarning: pandas.util.testing is deprecated. Use the functions in the public API at pandas.testing instead.\n",
            "  import pandas.util.testing as tm\n"
          ],
          "name": "stderr"
        }
      ]
    },
    {
      "cell_type": "code",
      "metadata": {
        "id": "ClJr8XaSYcvH",
        "colab_type": "code",
        "colab": {}
      },
      "source": [
        "from sklearn.model_selection import train_test_split"
      ],
      "execution_count": 0,
      "outputs": []
    },
    {
      "cell_type": "code",
      "metadata": {
        "id": "2WVgsvJhYe-N",
        "colab_type": "code",
        "colab": {}
      },
      "source": [
        "# Convert Pandas to Numpy for Keras\n",
        "\n",
        "# Features\n",
        "X = df2[['feature1','feature2']].values\n",
        "\n",
        "# Label\n",
        "y = df2['price'].values\n",
        "\n",
        "# Split\n",
        "X_train, X_test, y_train, y_test = train_test_split(X,y,test_size=0.3,random_state=42)"
      ],
      "execution_count": 0,
      "outputs": []
    },
    {
      "cell_type": "code",
      "metadata": {
        "id": "yD_0UjOyYjdr",
        "colab_type": "code",
        "colab": {}
      },
      "source": [
        "from sklearn.preprocessing import MinMaxScaler"
      ],
      "execution_count": 0,
      "outputs": []
    },
    {
      "cell_type": "code",
      "metadata": {
        "id": "Qut6Ec9-Yl-x",
        "colab_type": "code",
        "colab": {}
      },
      "source": [
        "#help(MinMaxScaler)"
      ],
      "execution_count": 0,
      "outputs": []
    },
    {
      "cell_type": "code",
      "metadata": {
        "id": "fOnuM-5wYnQK",
        "colab_type": "code",
        "colab": {}
      },
      "source": [
        "scaler = MinMaxScaler()"
      ],
      "execution_count": 0,
      "outputs": []
    },
    {
      "cell_type": "code",
      "metadata": {
        "id": "axuDPZmoYrZs",
        "colab_type": "code",
        "colab": {
          "base_uri": "https://localhost:8080/",
          "height": 34
        },
        "outputId": "f034bd33-6ddb-467d-ad6e-354502beb95f"
      },
      "source": [
        "scaler.fit(X_train)"
      ],
      "execution_count": 25,
      "outputs": [
        {
          "output_type": "execute_result",
          "data": {
            "text/plain": [
              "MinMaxScaler(copy=True, feature_range=(0, 1))"
            ]
          },
          "metadata": {
            "tags": []
          },
          "execution_count": 25
        }
      ]
    },
    {
      "cell_type": "code",
      "metadata": {
        "id": "wVJbLG3CYs8v",
        "colab_type": "code",
        "colab": {}
      },
      "source": [
        "X_train = scaler.transform(X_train)\n",
        "X_test = scaler.transform(X_test)"
      ],
      "execution_count": 0,
      "outputs": []
    },
    {
      "cell_type": "code",
      "metadata": {
        "id": "zEEKk3mzY2qO",
        "colab_type": "code",
        "colab": {
          "base_uri": "https://localhost:8080/",
          "height": 1000
        },
        "outputId": "d0478514-7fb9-48a8-e94c-ed92244aed6f"
      },
      "source": [
        "model.fit(X_train,y_train,epochs=250)"
      ],
      "execution_count": 30,
      "outputs": [
        {
          "output_type": "stream",
          "text": [
            "Epoch 1/250\n",
            "22/22 [==============================] - 0s 1ms/step - loss: 256754.4062\n",
            "Epoch 2/250\n",
            "22/22 [==============================] - 0s 1ms/step - loss: 256681.0781\n",
            "Epoch 3/250\n",
            "22/22 [==============================] - 0s 1ms/step - loss: 256612.4531\n",
            "Epoch 4/250\n",
            "22/22 [==============================] - 0s 1ms/step - loss: 256557.0938\n",
            "Epoch 5/250\n",
            "22/22 [==============================] - 0s 1ms/step - loss: 256499.2188\n",
            "Epoch 6/250\n",
            "22/22 [==============================] - 0s 1ms/step - loss: 256435.2656\n",
            "Epoch 7/250\n",
            "22/22 [==============================] - 0s 1ms/step - loss: 256364.2500\n",
            "Epoch 8/250\n",
            "22/22 [==============================] - 0s 1ms/step - loss: 256285.8906\n",
            "Epoch 9/250\n",
            "22/22 [==============================] - 0s 1ms/step - loss: 256199.6562\n",
            "Epoch 10/250\n",
            "22/22 [==============================] - 0s 1ms/step - loss: 256104.8750\n",
            "Epoch 11/250\n",
            "22/22 [==============================] - 0s 1ms/step - loss: 256000.4531\n",
            "Epoch 12/250\n",
            "22/22 [==============================] - 0s 2ms/step - loss: 255885.9844\n",
            "Epoch 13/250\n",
            "22/22 [==============================] - 0s 1ms/step - loss: 255760.9219\n",
            "Epoch 14/250\n",
            "22/22 [==============================] - 0s 1ms/step - loss: 255624.1562\n",
            "Epoch 15/250\n",
            "22/22 [==============================] - 0s 1ms/step - loss: 255475.0469\n",
            "Epoch 16/250\n",
            "22/22 [==============================] - 0s 1ms/step - loss: 255313.4219\n",
            "Epoch 17/250\n",
            "22/22 [==============================] - 0s 1ms/step - loss: 255136.8750\n",
            "Epoch 18/250\n",
            "22/22 [==============================] - 0s 1ms/step - loss: 254946.1562\n",
            "Epoch 19/250\n",
            "22/22 [==============================] - 0s 1ms/step - loss: 254740.2031\n",
            "Epoch 20/250\n",
            "22/22 [==============================] - 0s 1ms/step - loss: 254518.3750\n",
            "Epoch 21/250\n",
            "22/22 [==============================] - 0s 1ms/step - loss: 254277.4688\n",
            "Epoch 22/250\n",
            "22/22 [==============================] - 0s 1ms/step - loss: 254019.0469\n",
            "Epoch 23/250\n",
            "22/22 [==============================] - 0s 1ms/step - loss: 253742.8594\n",
            "Epoch 24/250\n",
            "22/22 [==============================] - 0s 1ms/step - loss: 253445.5781\n",
            "Epoch 25/250\n",
            "22/22 [==============================] - 0s 1ms/step - loss: 253126.7188\n",
            "Epoch 26/250\n",
            "22/22 [==============================] - 0s 1ms/step - loss: 252785.0312\n",
            "Epoch 27/250\n",
            "22/22 [==============================] - 0s 1ms/step - loss: 252422.7031\n",
            "Epoch 28/250\n",
            "22/22 [==============================] - 0s 1ms/step - loss: 252036.6094\n",
            "Epoch 29/250\n",
            "22/22 [==============================] - 0s 1ms/step - loss: 251622.4219\n",
            "Epoch 30/250\n",
            "22/22 [==============================] - 0s 1ms/step - loss: 251183.6562\n",
            "Epoch 31/250\n",
            "22/22 [==============================] - 0s 1ms/step - loss: 250719.2031\n",
            "Epoch 32/250\n",
            "22/22 [==============================] - 0s 1ms/step - loss: 250226.7812\n",
            "Epoch 33/250\n",
            "22/22 [==============================] - 0s 1ms/step - loss: 249703.3438\n",
            "Epoch 34/250\n",
            "22/22 [==============================] - 0s 1ms/step - loss: 249147.3594\n",
            "Epoch 35/250\n",
            "22/22 [==============================] - 0s 1ms/step - loss: 248562.0625\n",
            "Epoch 36/250\n",
            "22/22 [==============================] - 0s 1ms/step - loss: 247944.8750\n",
            "Epoch 37/250\n",
            "22/22 [==============================] - 0s 1ms/step - loss: 247295.5625\n",
            "Epoch 38/250\n",
            "22/22 [==============================] - 0s 1ms/step - loss: 246609.2188\n",
            "Epoch 39/250\n",
            "22/22 [==============================] - 0s 1ms/step - loss: 245886.5156\n",
            "Epoch 40/250\n",
            "22/22 [==============================] - 0s 1ms/step - loss: 245127.6562\n",
            "Epoch 41/250\n",
            "22/22 [==============================] - 0s 1ms/step - loss: 244326.7188\n",
            "Epoch 42/250\n",
            "22/22 [==============================] - 0s 1ms/step - loss: 243487.4688\n",
            "Epoch 43/250\n",
            "22/22 [==============================] - 0s 1ms/step - loss: 242607.2656\n",
            "Epoch 44/250\n",
            "22/22 [==============================] - 0s 1ms/step - loss: 241687.6875\n",
            "Epoch 45/250\n",
            "22/22 [==============================] - 0s 1ms/step - loss: 240726.6719\n",
            "Epoch 46/250\n",
            "22/22 [==============================] - 0s 1ms/step - loss: 239716.7812\n",
            "Epoch 47/250\n",
            "22/22 [==============================] - 0s 1ms/step - loss: 238662.4062\n",
            "Epoch 48/250\n",
            "22/22 [==============================] - 0s 1ms/step - loss: 237564.0625\n",
            "Epoch 49/250\n",
            "22/22 [==============================] - 0s 1ms/step - loss: 236417.5156\n",
            "Epoch 50/250\n",
            "22/22 [==============================] - 0s 1ms/step - loss: 235222.9219\n",
            "Epoch 51/250\n",
            "22/22 [==============================] - 0s 1ms/step - loss: 233972.8281\n",
            "Epoch 52/250\n",
            "22/22 [==============================] - 0s 1ms/step - loss: 232671.9062\n",
            "Epoch 53/250\n",
            "22/22 [==============================] - 0s 1ms/step - loss: 231322.6250\n",
            "Epoch 54/250\n",
            "22/22 [==============================] - 0s 1ms/step - loss: 229922.3125\n",
            "Epoch 55/250\n",
            "22/22 [==============================] - 0s 1ms/step - loss: 228465.2500\n",
            "Epoch 56/250\n",
            "22/22 [==============================] - 0s 1ms/step - loss: 226951.5938\n",
            "Epoch 57/250\n",
            "22/22 [==============================] - 0s 1ms/step - loss: 225384.0156\n",
            "Epoch 58/250\n",
            "22/22 [==============================] - 0s 1ms/step - loss: 223755.4531\n",
            "Epoch 59/250\n",
            "22/22 [==============================] - 0s 1ms/step - loss: 222065.3438\n",
            "Epoch 60/250\n",
            "22/22 [==============================] - 0s 1ms/step - loss: 220321.1719\n",
            "Epoch 61/250\n",
            "22/22 [==============================] - 0s 1ms/step - loss: 218519.2656\n",
            "Epoch 62/250\n",
            "22/22 [==============================] - 0s 1ms/step - loss: 216648.5938\n",
            "Epoch 63/250\n",
            "22/22 [==============================] - 0s 1ms/step - loss: 214722.0156\n",
            "Epoch 64/250\n",
            "22/22 [==============================] - 0s 1ms/step - loss: 212737.6250\n",
            "Epoch 65/250\n",
            "22/22 [==============================] - 0s 1ms/step - loss: 210693.5156\n",
            "Epoch 66/250\n",
            "22/22 [==============================] - 0s 1ms/step - loss: 208583.1719\n",
            "Epoch 67/250\n",
            "22/22 [==============================] - 0s 1ms/step - loss: 206396.4062\n",
            "Epoch 68/250\n",
            "22/22 [==============================] - 0s 1ms/step - loss: 204144.3125\n",
            "Epoch 69/250\n",
            "22/22 [==============================] - 0s 1ms/step - loss: 201834.6250\n",
            "Epoch 70/250\n",
            "22/22 [==============================] - 0s 1ms/step - loss: 199452.6562\n",
            "Epoch 71/250\n",
            "22/22 [==============================] - 0s 1ms/step - loss: 197004.7969\n",
            "Epoch 72/250\n",
            "22/22 [==============================] - 0s 1ms/step - loss: 194488.0938\n",
            "Epoch 73/250\n",
            "22/22 [==============================] - 0s 1ms/step - loss: 191917.5469\n",
            "Epoch 74/250\n",
            "22/22 [==============================] - 0s 1ms/step - loss: 189271.4531\n",
            "Epoch 75/250\n",
            "22/22 [==============================] - 0s 1ms/step - loss: 186553.9844\n",
            "Epoch 76/250\n",
            "22/22 [==============================] - 0s 1ms/step - loss: 183780.8750\n",
            "Epoch 77/250\n",
            "22/22 [==============================] - 0s 1ms/step - loss: 180941.6875\n",
            "Epoch 78/250\n",
            "22/22 [==============================] - 0s 1ms/step - loss: 178015.7031\n",
            "Epoch 79/250\n",
            "22/22 [==============================] - 0s 1ms/step - loss: 175038.9219\n",
            "Epoch 80/250\n",
            "22/22 [==============================] - 0s 2ms/step - loss: 172003.5625\n",
            "Epoch 81/250\n",
            "22/22 [==============================] - 0s 1ms/step - loss: 168891.0938\n",
            "Epoch 82/250\n",
            "22/22 [==============================] - 0s 1ms/step - loss: 165710.3594\n",
            "Epoch 83/250\n",
            "22/22 [==============================] - 0s 1ms/step - loss: 162467.5156\n",
            "Epoch 84/250\n",
            "22/22 [==============================] - 0s 1ms/step - loss: 159167.1875\n",
            "Epoch 85/250\n",
            "22/22 [==============================] - 0s 1ms/step - loss: 155813.2500\n",
            "Epoch 86/250\n",
            "22/22 [==============================] - 0s 1ms/step - loss: 152396.2812\n",
            "Epoch 87/250\n",
            "22/22 [==============================] - 0s 1ms/step - loss: 148904.7500\n",
            "Epoch 88/250\n",
            "22/22 [==============================] - 0s 1ms/step - loss: 145378.3750\n",
            "Epoch 89/250\n",
            "22/22 [==============================] - 0s 1ms/step - loss: 141796.8281\n",
            "Epoch 90/250\n",
            "22/22 [==============================] - 0s 1ms/step - loss: 138174.4844\n",
            "Epoch 91/250\n",
            "22/22 [==============================] - 0s 1ms/step - loss: 134481.3750\n",
            "Epoch 92/250\n",
            "22/22 [==============================] - 0s 1ms/step - loss: 130716.3672\n",
            "Epoch 93/250\n",
            "22/22 [==============================] - 0s 1ms/step - loss: 126936.2031\n",
            "Epoch 94/250\n",
            "22/22 [==============================] - 0s 1ms/step - loss: 123097.9062\n",
            "Epoch 95/250\n",
            "22/22 [==============================] - 0s 1ms/step - loss: 119235.1172\n",
            "Epoch 96/250\n",
            "22/22 [==============================] - 0s 1ms/step - loss: 115322.0234\n",
            "Epoch 97/250\n",
            "22/22 [==============================] - 0s 1ms/step - loss: 111394.3750\n",
            "Epoch 98/250\n",
            "22/22 [==============================] - 0s 1ms/step - loss: 107441.2812\n",
            "Epoch 99/250\n",
            "22/22 [==============================] - 0s 1ms/step - loss: 103445.6562\n",
            "Epoch 100/250\n",
            "22/22 [==============================] - 0s 1ms/step - loss: 99444.9062\n",
            "Epoch 101/250\n",
            "22/22 [==============================] - 0s 1ms/step - loss: 95397.0938\n",
            "Epoch 102/250\n",
            "22/22 [==============================] - 0s 1ms/step - loss: 91362.8594\n",
            "Epoch 103/250\n",
            "22/22 [==============================] - 0s 1ms/step - loss: 87327.4062\n",
            "Epoch 104/250\n",
            "22/22 [==============================] - 0s 1ms/step - loss: 83267.2031\n",
            "Epoch 105/250\n",
            "22/22 [==============================] - 0s 1ms/step - loss: 79217.4766\n",
            "Epoch 106/250\n",
            "22/22 [==============================] - 0s 1ms/step - loss: 75194.8516\n",
            "Epoch 107/250\n",
            "22/22 [==============================] - 0s 2ms/step - loss: 71189.1172\n",
            "Epoch 108/250\n",
            "22/22 [==============================] - 0s 1ms/step - loss: 67168.4062\n",
            "Epoch 109/250\n",
            "22/22 [==============================] - 0s 1ms/step - loss: 63209.8789\n",
            "Epoch 110/250\n",
            "22/22 [==============================] - 0s 1ms/step - loss: 59279.9414\n",
            "Epoch 111/250\n",
            "22/22 [==============================] - 0s 1ms/step - loss: 55402.5469\n",
            "Epoch 112/250\n",
            "22/22 [==============================] - 0s 1ms/step - loss: 51581.6211\n",
            "Epoch 113/250\n",
            "22/22 [==============================] - 0s 1ms/step - loss: 47799.1367\n",
            "Epoch 114/250\n",
            "22/22 [==============================] - 0s 1ms/step - loss: 44122.3867\n",
            "Epoch 115/250\n",
            "22/22 [==============================] - 0s 1ms/step - loss: 40509.7188\n",
            "Epoch 116/250\n",
            "22/22 [==============================] - 0s 2ms/step - loss: 36972.7656\n",
            "Epoch 117/250\n",
            "22/22 [==============================] - 0s 1ms/step - loss: 33527.3711\n",
            "Epoch 118/250\n",
            "22/22 [==============================] - 0s 1ms/step - loss: 30217.0078\n",
            "Epoch 119/250\n",
            "22/22 [==============================] - 0s 1ms/step - loss: 27038.9883\n",
            "Epoch 120/250\n",
            "22/22 [==============================] - 0s 1ms/step - loss: 23978.2285\n",
            "Epoch 121/250\n",
            "22/22 [==============================] - 0s 1ms/step - loss: 21068.2266\n",
            "Epoch 122/250\n",
            "22/22 [==============================] - 0s 1ms/step - loss: 18312.1426\n",
            "Epoch 123/250\n",
            "22/22 [==============================] - 0s 1ms/step - loss: 15719.5811\n",
            "Epoch 124/250\n",
            "22/22 [==============================] - 0s 1ms/step - loss: 13308.3613\n",
            "Epoch 125/250\n",
            "22/22 [==============================] - 0s 1ms/step - loss: 11078.0420\n",
            "Epoch 126/250\n",
            "22/22 [==============================] - 0s 1ms/step - loss: 9064.0615\n",
            "Epoch 127/250\n",
            "22/22 [==============================] - 0s 1ms/step - loss: 7267.4507\n",
            "Epoch 128/250\n",
            "22/22 [==============================] - 0s 1ms/step - loss: 5704.7598\n",
            "Epoch 129/250\n",
            "22/22 [==============================] - 0s 1ms/step - loss: 4372.6870\n",
            "Epoch 130/250\n",
            "22/22 [==============================] - 0s 1ms/step - loss: 3284.4253\n",
            "Epoch 131/250\n",
            "22/22 [==============================] - 0s 1ms/step - loss: 2493.7698\n",
            "Epoch 132/250\n",
            "22/22 [==============================] - 0s 1ms/step - loss: 1945.6903\n",
            "Epoch 133/250\n",
            "22/22 [==============================] - 0s 1ms/step - loss: 1637.6141\n",
            "Epoch 134/250\n",
            "22/22 [==============================] - 0s 1ms/step - loss: 1509.2522\n",
            "Epoch 135/250\n",
            "22/22 [==============================] - 0s 1ms/step - loss: 1472.3650\n",
            "Epoch 136/250\n",
            "22/22 [==============================] - 0s 1ms/step - loss: 1454.2883\n",
            "Epoch 137/250\n",
            "22/22 [==============================] - 0s 1ms/step - loss: 1436.1576\n",
            "Epoch 138/250\n",
            "22/22 [==============================] - 0s 1ms/step - loss: 1416.1777\n",
            "Epoch 139/250\n",
            "22/22 [==============================] - 0s 2ms/step - loss: 1398.0264\n",
            "Epoch 140/250\n",
            "22/22 [==============================] - 0s 1ms/step - loss: 1378.4077\n",
            "Epoch 141/250\n",
            "22/22 [==============================] - 0s 1ms/step - loss: 1360.3064\n",
            "Epoch 142/250\n",
            "22/22 [==============================] - 0s 1ms/step - loss: 1341.8635\n",
            "Epoch 143/250\n",
            "22/22 [==============================] - 0s 1ms/step - loss: 1324.0002\n",
            "Epoch 144/250\n",
            "22/22 [==============================] - 0s 1ms/step - loss: 1306.9918\n",
            "Epoch 145/250\n",
            "22/22 [==============================] - 0s 1ms/step - loss: 1289.4872\n",
            "Epoch 146/250\n",
            "22/22 [==============================] - 0s 1ms/step - loss: 1274.2091\n",
            "Epoch 147/250\n",
            "22/22 [==============================] - 0s 1ms/step - loss: 1257.0759\n",
            "Epoch 148/250\n",
            "22/22 [==============================] - 0s 1ms/step - loss: 1238.6288\n",
            "Epoch 149/250\n",
            "22/22 [==============================] - 0s 1ms/step - loss: 1221.9583\n",
            "Epoch 150/250\n",
            "22/22 [==============================] - 0s 1ms/step - loss: 1203.5728\n",
            "Epoch 151/250\n",
            "22/22 [==============================] - 0s 1ms/step - loss: 1190.4369\n",
            "Epoch 152/250\n",
            "22/22 [==============================] - 0s 1ms/step - loss: 1172.6235\n",
            "Epoch 153/250\n",
            "22/22 [==============================] - 0s 1ms/step - loss: 1154.9281\n",
            "Epoch 154/250\n",
            "22/22 [==============================] - 0s 1ms/step - loss: 1139.2754\n",
            "Epoch 155/250\n",
            "22/22 [==============================] - 0s 1ms/step - loss: 1121.9802\n",
            "Epoch 156/250\n",
            "22/22 [==============================] - 0s 1ms/step - loss: 1107.2899\n",
            "Epoch 157/250\n",
            "22/22 [==============================] - 0s 1ms/step - loss: 1090.8796\n",
            "Epoch 158/250\n",
            "22/22 [==============================] - 0s 1ms/step - loss: 1073.5243\n",
            "Epoch 159/250\n",
            "22/22 [==============================] - 0s 1ms/step - loss: 1056.0098\n",
            "Epoch 160/250\n",
            "22/22 [==============================] - 0s 1ms/step - loss: 1040.7595\n",
            "Epoch 161/250\n",
            "22/22 [==============================] - 0s 1ms/step - loss: 1023.6216\n",
            "Epoch 162/250\n",
            "22/22 [==============================] - 0s 1ms/step - loss: 1006.2562\n",
            "Epoch 163/250\n",
            "22/22 [==============================] - 0s 1ms/step - loss: 990.2980\n",
            "Epoch 164/250\n",
            "22/22 [==============================] - 0s 1ms/step - loss: 974.6570\n",
            "Epoch 165/250\n",
            "22/22 [==============================] - 0s 1ms/step - loss: 958.3185\n",
            "Epoch 166/250\n",
            "22/22 [==============================] - 0s 1ms/step - loss: 941.7791\n",
            "Epoch 167/250\n",
            "22/22 [==============================] - 0s 1ms/step - loss: 925.7875\n",
            "Epoch 168/250\n",
            "22/22 [==============================] - 0s 1ms/step - loss: 909.9446\n",
            "Epoch 169/250\n",
            "22/22 [==============================] - 0s 1ms/step - loss: 896.3295\n",
            "Epoch 170/250\n",
            "22/22 [==============================] - 0s 1ms/step - loss: 880.6960\n",
            "Epoch 171/250\n",
            "22/22 [==============================] - 0s 1ms/step - loss: 865.0922\n",
            "Epoch 172/250\n",
            "22/22 [==============================] - 0s 1ms/step - loss: 849.9842\n",
            "Epoch 173/250\n",
            "22/22 [==============================] - 0s 1ms/step - loss: 833.0843\n",
            "Epoch 174/250\n",
            "22/22 [==============================] - 0s 1ms/step - loss: 817.3354\n",
            "Epoch 175/250\n",
            "22/22 [==============================] - 0s 1ms/step - loss: 802.0041\n",
            "Epoch 176/250\n",
            "22/22 [==============================] - 0s 1ms/step - loss: 786.1428\n",
            "Epoch 177/250\n",
            "22/22 [==============================] - 0s 1ms/step - loss: 771.0693\n",
            "Epoch 178/250\n",
            "22/22 [==============================] - 0s 1ms/step - loss: 758.7182\n",
            "Epoch 179/250\n",
            "22/22 [==============================] - 0s 1ms/step - loss: 744.5259\n",
            "Epoch 180/250\n",
            "22/22 [==============================] - 0s 1ms/step - loss: 731.4982\n",
            "Epoch 181/250\n",
            "22/22 [==============================] - 0s 1ms/step - loss: 716.2271\n",
            "Epoch 182/250\n",
            "22/22 [==============================] - 0s 2ms/step - loss: 704.0674\n",
            "Epoch 183/250\n",
            "22/22 [==============================] - 0s 1ms/step - loss: 689.4174\n",
            "Epoch 184/250\n",
            "22/22 [==============================] - 0s 1ms/step - loss: 675.3481\n",
            "Epoch 185/250\n",
            "22/22 [==============================] - 0s 1ms/step - loss: 660.6592\n",
            "Epoch 186/250\n",
            "22/22 [==============================] - 0s 1ms/step - loss: 647.1445\n",
            "Epoch 187/250\n",
            "22/22 [==============================] - 0s 1ms/step - loss: 634.6374\n",
            "Epoch 188/250\n",
            "22/22 [==============================] - 0s 1ms/step - loss: 622.0378\n",
            "Epoch 189/250\n",
            "22/22 [==============================] - 0s 1ms/step - loss: 607.7552\n",
            "Epoch 190/250\n",
            "22/22 [==============================] - 0s 1ms/step - loss: 597.3882\n",
            "Epoch 191/250\n",
            "22/22 [==============================] - 0s 1ms/step - loss: 583.8197\n",
            "Epoch 192/250\n",
            "22/22 [==============================] - 0s 1ms/step - loss: 572.7046\n",
            "Epoch 193/250\n",
            "22/22 [==============================] - 0s 1ms/step - loss: 558.1935\n",
            "Epoch 194/250\n",
            "22/22 [==============================] - 0s 1ms/step - loss: 547.9605\n",
            "Epoch 195/250\n",
            "22/22 [==============================] - 0s 1ms/step - loss: 534.9891\n",
            "Epoch 196/250\n",
            "22/22 [==============================] - 0s 1ms/step - loss: 523.5453\n",
            "Epoch 197/250\n",
            "22/22 [==============================] - 0s 1ms/step - loss: 509.6431\n",
            "Epoch 198/250\n",
            "22/22 [==============================] - 0s 1ms/step - loss: 496.5853\n",
            "Epoch 199/250\n",
            "22/22 [==============================] - 0s 1ms/step - loss: 482.7601\n",
            "Epoch 200/250\n",
            "22/22 [==============================] - 0s 1ms/step - loss: 471.2785\n",
            "Epoch 201/250\n",
            "22/22 [==============================] - 0s 1ms/step - loss: 458.3890\n",
            "Epoch 202/250\n",
            "22/22 [==============================] - 0s 1ms/step - loss: 447.6041\n",
            "Epoch 203/250\n",
            "22/22 [==============================] - 0s 1ms/step - loss: 437.4341\n",
            "Epoch 204/250\n",
            "22/22 [==============================] - 0s 1ms/step - loss: 427.2321\n",
            "Epoch 205/250\n",
            "22/22 [==============================] - 0s 1ms/step - loss: 417.3855\n",
            "Epoch 206/250\n",
            "22/22 [==============================] - 0s 1ms/step - loss: 407.9593\n",
            "Epoch 207/250\n",
            "22/22 [==============================] - 0s 1ms/step - loss: 397.2143\n",
            "Epoch 208/250\n",
            "22/22 [==============================] - 0s 1ms/step - loss: 387.8596\n",
            "Epoch 209/250\n",
            "22/22 [==============================] - 0s 2ms/step - loss: 376.5162\n",
            "Epoch 210/250\n",
            "22/22 [==============================] - 0s 1ms/step - loss: 366.1255\n",
            "Epoch 211/250\n",
            "22/22 [==============================] - 0s 1ms/step - loss: 355.3706\n",
            "Epoch 212/250\n",
            "22/22 [==============================] - 0s 1ms/step - loss: 344.9154\n",
            "Epoch 213/250\n",
            "22/22 [==============================] - 0s 1ms/step - loss: 335.4302\n",
            "Epoch 214/250\n",
            "22/22 [==============================] - 0s 1ms/step - loss: 325.1402\n",
            "Epoch 215/250\n",
            "22/22 [==============================] - 0s 1ms/step - loss: 315.7712\n",
            "Epoch 216/250\n",
            "22/22 [==============================] - 0s 1ms/step - loss: 306.4329\n",
            "Epoch 217/250\n",
            "22/22 [==============================] - 0s 1ms/step - loss: 296.7453\n",
            "Epoch 218/250\n",
            "22/22 [==============================] - 0s 1ms/step - loss: 287.9062\n",
            "Epoch 219/250\n",
            "22/22 [==============================] - 0s 1ms/step - loss: 278.9024\n",
            "Epoch 220/250\n",
            "22/22 [==============================] - 0s 1ms/step - loss: 270.4540\n",
            "Epoch 221/250\n",
            "22/22 [==============================] - 0s 1ms/step - loss: 261.4146\n",
            "Epoch 222/250\n",
            "22/22 [==============================] - 0s 1ms/step - loss: 252.5831\n",
            "Epoch 223/250\n",
            "22/22 [==============================] - 0s 1ms/step - loss: 244.9040\n",
            "Epoch 224/250\n",
            "22/22 [==============================] - 0s 1ms/step - loss: 237.9259\n",
            "Epoch 225/250\n",
            "22/22 [==============================] - 0s 1ms/step - loss: 230.9418\n",
            "Epoch 226/250\n",
            "22/22 [==============================] - 0s 1ms/step - loss: 223.2493\n",
            "Epoch 227/250\n",
            "22/22 [==============================] - 0s 1ms/step - loss: 216.7190\n",
            "Epoch 228/250\n",
            "22/22 [==============================] - 0s 1ms/step - loss: 209.8641\n",
            "Epoch 229/250\n",
            "22/22 [==============================] - 0s 1ms/step - loss: 203.2737\n",
            "Epoch 230/250\n",
            "22/22 [==============================] - 0s 1ms/step - loss: 195.8973\n",
            "Epoch 231/250\n",
            "22/22 [==============================] - 0s 1ms/step - loss: 189.3699\n",
            "Epoch 232/250\n",
            "22/22 [==============================] - 0s 1ms/step - loss: 181.7785\n",
            "Epoch 233/250\n",
            "22/22 [==============================] - 0s 1ms/step - loss: 174.6568\n",
            "Epoch 234/250\n",
            "22/22 [==============================] - 0s 1ms/step - loss: 167.6001\n",
            "Epoch 235/250\n",
            "22/22 [==============================] - 0s 1ms/step - loss: 161.8776\n",
            "Epoch 236/250\n",
            "22/22 [==============================] - 0s 1ms/step - loss: 155.6809\n",
            "Epoch 237/250\n",
            "22/22 [==============================] - 0s 1ms/step - loss: 148.7708\n",
            "Epoch 238/250\n",
            "22/22 [==============================] - 0s 1ms/step - loss: 143.1008\n",
            "Epoch 239/250\n",
            "22/22 [==============================] - 0s 1ms/step - loss: 137.2200\n",
            "Epoch 240/250\n",
            "22/22 [==============================] - 0s 1ms/step - loss: 131.9001\n",
            "Epoch 241/250\n",
            "22/22 [==============================] - 0s 1ms/step - loss: 126.3048\n",
            "Epoch 242/250\n",
            "22/22 [==============================] - 0s 1ms/step - loss: 120.6666\n",
            "Epoch 243/250\n",
            "22/22 [==============================] - 0s 1ms/step - loss: 115.3262\n",
            "Epoch 244/250\n",
            "22/22 [==============================] - 0s 1ms/step - loss: 109.6392\n",
            "Epoch 245/250\n",
            "22/22 [==============================] - 0s 1ms/step - loss: 105.3997\n",
            "Epoch 246/250\n",
            "22/22 [==============================] - 0s 1ms/step - loss: 100.7609\n",
            "Epoch 247/250\n",
            "22/22 [==============================] - 0s 1ms/step - loss: 96.6972\n",
            "Epoch 248/250\n",
            "22/22 [==============================] - 0s 1ms/step - loss: 92.3028\n",
            "Epoch 249/250\n",
            "22/22 [==============================] - 0s 1ms/step - loss: 88.1056\n",
            "Epoch 250/250\n",
            "22/22 [==============================] - 0s 1ms/step - loss: 84.4619\n"
          ],
          "name": "stdout"
        },
        {
          "output_type": "execute_result",
          "data": {
            "text/plain": [
              "<tensorflow.python.keras.callbacks.History at 0x7f90e423f400>"
            ]
          },
          "metadata": {
            "tags": []
          },
          "execution_count": 30
        }
      ]
    },
    {
      "cell_type": "code",
      "metadata": {
        "id": "5m3EMFPKY-EX",
        "colab_type": "code",
        "colab": {
          "base_uri": "https://localhost:8080/",
          "height": 1000
        },
        "outputId": "7b7e6549-1216-4410-9eb4-92736cd91e81"
      },
      "source": [
        "model.history.history"
      ],
      "execution_count": 31,
      "outputs": [
        {
          "output_type": "execute_result",
          "data": {
            "text/plain": [
              "{'loss': [256754.40625,\n",
              "  256681.078125,\n",
              "  256612.453125,\n",
              "  256557.09375,\n",
              "  256499.21875,\n",
              "  256435.265625,\n",
              "  256364.25,\n",
              "  256285.890625,\n",
              "  256199.65625,\n",
              "  256104.875,\n",
              "  256000.453125,\n",
              "  255885.984375,\n",
              "  255760.921875,\n",
              "  255624.15625,\n",
              "  255475.046875,\n",
              "  255313.421875,\n",
              "  255136.875,\n",
              "  254946.15625,\n",
              "  254740.203125,\n",
              "  254518.375,\n",
              "  254277.46875,\n",
              "  254019.046875,\n",
              "  253742.859375,\n",
              "  253445.578125,\n",
              "  253126.71875,\n",
              "  252785.03125,\n",
              "  252422.703125,\n",
              "  252036.609375,\n",
              "  251622.421875,\n",
              "  251183.65625,\n",
              "  250719.203125,\n",
              "  250226.78125,\n",
              "  249703.34375,\n",
              "  249147.359375,\n",
              "  248562.0625,\n",
              "  247944.875,\n",
              "  247295.5625,\n",
              "  246609.21875,\n",
              "  245886.515625,\n",
              "  245127.65625,\n",
              "  244326.71875,\n",
              "  243487.46875,\n",
              "  242607.265625,\n",
              "  241687.6875,\n",
              "  240726.671875,\n",
              "  239716.78125,\n",
              "  238662.40625,\n",
              "  237564.0625,\n",
              "  236417.515625,\n",
              "  235222.921875,\n",
              "  233972.828125,\n",
              "  232671.90625,\n",
              "  231322.625,\n",
              "  229922.3125,\n",
              "  228465.25,\n",
              "  226951.59375,\n",
              "  225384.015625,\n",
              "  223755.453125,\n",
              "  222065.34375,\n",
              "  220321.171875,\n",
              "  218519.265625,\n",
              "  216648.59375,\n",
              "  214722.015625,\n",
              "  212737.625,\n",
              "  210693.515625,\n",
              "  208583.171875,\n",
              "  206396.40625,\n",
              "  204144.3125,\n",
              "  201834.625,\n",
              "  199452.65625,\n",
              "  197004.796875,\n",
              "  194488.09375,\n",
              "  191917.546875,\n",
              "  189271.453125,\n",
              "  186553.984375,\n",
              "  183780.875,\n",
              "  180941.6875,\n",
              "  178015.703125,\n",
              "  175038.921875,\n",
              "  172003.5625,\n",
              "  168891.09375,\n",
              "  165710.359375,\n",
              "  162467.515625,\n",
              "  159167.1875,\n",
              "  155813.25,\n",
              "  152396.28125,\n",
              "  148904.75,\n",
              "  145378.375,\n",
              "  141796.828125,\n",
              "  138174.484375,\n",
              "  134481.375,\n",
              "  130716.3671875,\n",
              "  126936.203125,\n",
              "  123097.90625,\n",
              "  119235.1171875,\n",
              "  115322.0234375,\n",
              "  111394.375,\n",
              "  107441.28125,\n",
              "  103445.65625,\n",
              "  99444.90625,\n",
              "  95397.09375,\n",
              "  91362.859375,\n",
              "  87327.40625,\n",
              "  83267.203125,\n",
              "  79217.4765625,\n",
              "  75194.8515625,\n",
              "  71189.1171875,\n",
              "  67168.40625,\n",
              "  63209.87890625,\n",
              "  59279.94140625,\n",
              "  55402.546875,\n",
              "  51581.62109375,\n",
              "  47799.13671875,\n",
              "  44122.38671875,\n",
              "  40509.71875,\n",
              "  36972.765625,\n",
              "  33527.37109375,\n",
              "  30217.0078125,\n",
              "  27038.98828125,\n",
              "  23978.228515625,\n",
              "  21068.2265625,\n",
              "  18312.142578125,\n",
              "  15719.5810546875,\n",
              "  13308.361328125,\n",
              "  11078.0419921875,\n",
              "  9064.0615234375,\n",
              "  7267.45068359375,\n",
              "  5704.759765625,\n",
              "  4372.68701171875,\n",
              "  3284.42529296875,\n",
              "  2493.769775390625,\n",
              "  1945.6903076171875,\n",
              "  1637.6141357421875,\n",
              "  1509.252197265625,\n",
              "  1472.364990234375,\n",
              "  1454.288330078125,\n",
              "  1436.1575927734375,\n",
              "  1416.177734375,\n",
              "  1398.0263671875,\n",
              "  1378.40771484375,\n",
              "  1360.306396484375,\n",
              "  1341.863525390625,\n",
              "  1324.000244140625,\n",
              "  1306.9918212890625,\n",
              "  1289.4871826171875,\n",
              "  1274.2091064453125,\n",
              "  1257.075927734375,\n",
              "  1238.6287841796875,\n",
              "  1221.958251953125,\n",
              "  1203.57275390625,\n",
              "  1190.4368896484375,\n",
              "  1172.62353515625,\n",
              "  1154.9281005859375,\n",
              "  1139.275390625,\n",
              "  1121.980224609375,\n",
              "  1107.2899169921875,\n",
              "  1090.879638671875,\n",
              "  1073.5242919921875,\n",
              "  1056.009765625,\n",
              "  1040.759521484375,\n",
              "  1023.62158203125,\n",
              "  1006.2562255859375,\n",
              "  990.2980346679688,\n",
              "  974.656982421875,\n",
              "  958.3185424804688,\n",
              "  941.7791137695312,\n",
              "  925.7874755859375,\n",
              "  909.9446411132812,\n",
              "  896.3294677734375,\n",
              "  880.696044921875,\n",
              "  865.0921630859375,\n",
              "  849.9841918945312,\n",
              "  833.0842895507812,\n",
              "  817.33544921875,\n",
              "  802.0040893554688,\n",
              "  786.1427612304688,\n",
              "  771.0692749023438,\n",
              "  758.7182006835938,\n",
              "  744.5259399414062,\n",
              "  731.4981689453125,\n",
              "  716.2271118164062,\n",
              "  704.0673828125,\n",
              "  689.4174194335938,\n",
              "  675.34814453125,\n",
              "  660.6591796875,\n",
              "  647.1444702148438,\n",
              "  634.6373901367188,\n",
              "  622.0377807617188,\n",
              "  607.7552490234375,\n",
              "  597.3882446289062,\n",
              "  583.8197021484375,\n",
              "  572.70458984375,\n",
              "  558.1935424804688,\n",
              "  547.9605102539062,\n",
              "  534.9891357421875,\n",
              "  523.5452880859375,\n",
              "  509.64306640625,\n",
              "  496.5853271484375,\n",
              "  482.7601013183594,\n",
              "  471.2784729003906,\n",
              "  458.3890075683594,\n",
              "  447.6040954589844,\n",
              "  437.43414306640625,\n",
              "  427.2321472167969,\n",
              "  417.3855285644531,\n",
              "  407.9593200683594,\n",
              "  397.2143249511719,\n",
              "  387.85955810546875,\n",
              "  376.5162048339844,\n",
              "  366.1255187988281,\n",
              "  355.3706359863281,\n",
              "  344.9154357910156,\n",
              "  335.43023681640625,\n",
              "  325.14019775390625,\n",
              "  315.77117919921875,\n",
              "  306.4328918457031,\n",
              "  296.7452697753906,\n",
              "  287.90625,\n",
              "  278.9024353027344,\n",
              "  270.45404052734375,\n",
              "  261.41461181640625,\n",
              "  252.5831298828125,\n",
              "  244.90399169921875,\n",
              "  237.92593383789062,\n",
              "  230.94180297851562,\n",
              "  223.24928283691406,\n",
              "  216.71897888183594,\n",
              "  209.8640899658203,\n",
              "  203.27374267578125,\n",
              "  195.89732360839844,\n",
              "  189.369873046875,\n",
              "  181.77853393554688,\n",
              "  174.6568145751953,\n",
              "  167.60006713867188,\n",
              "  161.87759399414062,\n",
              "  155.680908203125,\n",
              "  148.770751953125,\n",
              "  143.100830078125,\n",
              "  137.21995544433594,\n",
              "  131.90011596679688,\n",
              "  126.3047866821289,\n",
              "  120.66661071777344,\n",
              "  115.32620239257812,\n",
              "  109.63916015625,\n",
              "  105.39968872070312,\n",
              "  100.76085662841797,\n",
              "  96.6971664428711,\n",
              "  92.30278015136719,\n",
              "  88.10560607910156,\n",
              "  84.46190643310547]}"
            ]
          },
          "metadata": {
            "tags": []
          },
          "execution_count": 31
        }
      ]
    },
    {
      "cell_type": "code",
      "metadata": {
        "id": "YYkno2jgZI37",
        "colab_type": "code",
        "colab": {
          "base_uri": "https://localhost:8080/",
          "height": 195
        },
        "outputId": "2fc65255-2310-458a-8d17-dd8ca61fcf83"
      },
      "source": [
        "loss_data = pd.DataFrame(model.history.history)\n",
        "loss_data.head()"
      ],
      "execution_count": 34,
      "outputs": [
        {
          "output_type": "execute_result",
          "data": {
            "text/html": [
              "<div>\n",
              "<style scoped>\n",
              "    .dataframe tbody tr th:only-of-type {\n",
              "        vertical-align: middle;\n",
              "    }\n",
              "\n",
              "    .dataframe tbody tr th {\n",
              "        vertical-align: top;\n",
              "    }\n",
              "\n",
              "    .dataframe thead th {\n",
              "        text-align: right;\n",
              "    }\n",
              "</style>\n",
              "<table border=\"1\" class=\"dataframe\">\n",
              "  <thead>\n",
              "    <tr style=\"text-align: right;\">\n",
              "      <th></th>\n",
              "      <th>loss</th>\n",
              "    </tr>\n",
              "  </thead>\n",
              "  <tbody>\n",
              "    <tr>\n",
              "      <th>0</th>\n",
              "      <td>256754.406250</td>\n",
              "    </tr>\n",
              "    <tr>\n",
              "      <th>1</th>\n",
              "      <td>256681.078125</td>\n",
              "    </tr>\n",
              "    <tr>\n",
              "      <th>2</th>\n",
              "      <td>256612.453125</td>\n",
              "    </tr>\n",
              "    <tr>\n",
              "      <th>3</th>\n",
              "      <td>256557.093750</td>\n",
              "    </tr>\n",
              "    <tr>\n",
              "      <th>4</th>\n",
              "      <td>256499.218750</td>\n",
              "    </tr>\n",
              "  </tbody>\n",
              "</table>\n",
              "</div>"
            ],
            "text/plain": [
              "            loss\n",
              "0  256754.406250\n",
              "1  256681.078125\n",
              "2  256612.453125\n",
              "3  256557.093750\n",
              "4  256499.218750"
            ]
          },
          "metadata": {
            "tags": []
          },
          "execution_count": 34
        }
      ]
    },
    {
      "cell_type": "code",
      "metadata": {
        "id": "kOw38gy-ZPO5",
        "colab_type": "code",
        "colab": {
          "base_uri": "https://localhost:8080/",
          "height": 282
        },
        "outputId": "5832c08a-9395-4dbe-f51f-e9762205afe9"
      },
      "source": [
        "loss_data.plot()"
      ],
      "execution_count": 33,
      "outputs": [
        {
          "output_type": "execute_result",
          "data": {
            "text/plain": [
              "<matplotlib.axes._subplots.AxesSubplot at 0x7f90e12914e0>"
            ]
          },
          "metadata": {
            "tags": []
          },
          "execution_count": 33
        },
        {
          "output_type": "display_data",
          "data": {
            "image/png": "[encoded data removed]",
            "text/plain": [
              "<Figure size 432x288 with 1 Axes>"
            ]
          },
          "metadata": {
            "tags": [],
            "needs_background": "light"
          }
        }
      ]
    },
    {
      "cell_type": "code",
      "metadata": {
        "id": "cbgeSJDNZaEt",
        "colab_type": "code",
        "colab": {
          "base_uri": "https://localhost:8080/",
          "height": 50
        },
        "outputId": "29cb14c1-e39c-4c30-dc33-4d18da644c3b"
      },
      "source": [
        "model.evaluate(X_train, y_train)"
      ],
      "execution_count": 38,
      "outputs": [
        {
          "output_type": "stream",
          "text": [
            "22/22 [==============================] - 0s 1ms/step - loss: 81.4234\n"
          ],
          "name": "stdout"
        },
        {
          "output_type": "execute_result",
          "data": {
            "text/plain": [
              "81.42339324951172"
            ]
          },
          "metadata": {
            "tags": []
          },
          "execution_count": 38
        }
      ]
    },
    {
      "cell_type": "code",
      "metadata": {
        "id": "s9cC-9KsaG40",
        "colab_type": "code",
        "colab": {
          "base_uri": "https://localhost:8080/",
          "height": 50
        },
        "outputId": "275a89b7-f99f-4622-dd7e-7e920e97640c"
      },
      "source": [
        "model.evaluate(X_test, y_test)"
      ],
      "execution_count": 37,
      "outputs": [
        {
          "output_type": "stream",
          "text": [
            "10/10 [==============================] - 0s 1ms/step - loss: 79.8544\n"
          ],
          "name": "stdout"
        },
        {
          "output_type": "execute_result",
          "data": {
            "text/plain": [
              "79.85440063476562"
            ]
          },
          "metadata": {
            "tags": []
          },
          "execution_count": 37
        }
      ]
    },
    {
      "cell_type": "code",
      "metadata": {
        "id": "DAstdWiuaNvO",
        "colab_type": "code",
        "colab": {}
      },
      "source": [
        "test_predictions = model.predict(X_test)"
      ],
      "execution_count": 0,
      "outputs": []
    },
    {
      "cell_type": "code",
      "metadata": {
        "id": "TUPYkXmha7ba",
        "colab_type": "code",
        "colab": {
          "base_uri": "https://localhost:8080/",
          "height": 34
        },
        "outputId": "87626bab-adcd-4ba6-abe5-42678b0df981"
      },
      "source": [
        "type(test_predictions)"
      ],
      "execution_count": 42,
      "outputs": [
        {
          "output_type": "execute_result",
          "data": {
            "text/plain": [
              "numpy.ndarray"
            ]
          },
          "metadata": {
            "tags": []
          },
          "execution_count": 42
        }
      ]
    },
    {
      "cell_type": "code",
      "metadata": {
        "id": "zkrDnfTubD1h",
        "colab_type": "code",
        "colab": {}
      },
      "source": [
        "test_predictions = pd.Series(test_predictions.reshape(300,))"
      ],
      "execution_count": 0,
      "outputs": []
    },
    {
      "cell_type": "code",
      "metadata": {
        "id": "9XcLRr7Jb62I",
        "colab_type": "code",
        "colab": {}
      },
      "source": [
        "pred_df = pd.DataFrame(y_test, columns = ['True Y Value'])"
      ],
      "execution_count": 0,
      "outputs": []
    },
    {
      "cell_type": "code",
      "metadata": {
        "id": "kXqvHjYJcJ92",
        "colab_type": "code",
        "colab": {}
      },
      "source": [
        "pred_df = pd.concat([pred_df,test_predictions],axis =1)"
      ],
      "execution_count": 0,
      "outputs": []
    },
    {
      "cell_type": "code",
      "metadata": {
        "id": "FTfFL6qicVdb",
        "colab_type": "code",
        "colab": {}
      },
      "source": [
        "pred_df.columns = ['True Y Value','Model Predictions']"
      ],
      "execution_count": 0,
      "outputs": []
    },
    {
      "cell_type": "code",
      "metadata": {
        "id": "XDJU2kfBcujR",
        "colab_type": "code",
        "colab": {
          "base_uri": "https://localhost:8080/",
          "height": 351
        },
        "outputId": "ba146a9b-9bd2-43bb-e904-4a44d95e8b1a"
      },
      "source": [
        "pred_df.plot.scatter(x='True Y Value', y='Model Predictions', figsize =(10,5))"
      ],
      "execution_count": 60,
      "outputs": [
        {
          "output_type": "execute_result",
          "data": {
            "text/plain": [
              "<matplotlib.axes._subplots.AxesSubplot at 0x7f90e01bd5c0>"
            ]
          },
          "metadata": {
            "tags": []
          },
          "execution_count": 60
        },
        {
          "output_type": "display_data",
          "data": {
            "image/png": "[encoded data removed]",
            "text/plain": [
              "<Figure size 720x360 with 1 Axes>"
            ]
          },
          "metadata": {
            "tags": [],
            "needs_background": "light"
          }
        }
      ]
    },
    {
      "cell_type": "code",
      "metadata": {
        "id": "opha7n0Hc_IA",
        "colab_type": "code",
        "colab": {}
      },
      "source": [
        "from sklearn.metrics import mean_absolute_error,mean_squared_error"
      ],
      "execution_count": 0,
      "outputs": []
    },
    {
      "cell_type": "code",
      "metadata": {
        "id": "htZ4gfPIe_I0",
        "colab_type": "code",
        "colab": {
          "base_uri": "https://localhost:8080/",
          "height": 34
        },
        "outputId": "5050a47b-e61e-432a-ecc1-85e0aaf76df2"
      },
      "source": [
        "mean_absolute_error(pred_df['True Y Value'],pred_df['Model Predictions'])"
      ],
      "execution_count": 65,
      "outputs": [
        {
          "output_type": "execute_result",
          "data": {
            "text/plain": [
              "7.297771476557176"
            ]
          },
          "metadata": {
            "tags": []
          },
          "execution_count": 65
        }
      ]
    },
    {
      "cell_type": "code",
      "metadata": {
        "id": "4KuVmrEVfAvN",
        "colab_type": "code",
        "colab": {}
      },
      "source": [
        "new_gem = [[998,1000]]"
      ],
      "execution_count": 0,
      "outputs": []
    },
    {
      "cell_type": "code",
      "metadata": {
        "id": "wKMTz5s0fqq5",
        "colab_type": "code",
        "colab": {}
      },
      "source": [
        "new_gem = scaler.transform(new_gem)"
      ],
      "execution_count": 0,
      "outputs": []
    },
    {
      "cell_type": "code",
      "metadata": {
        "id": "K8IW1Ps_ft4G",
        "colab_type": "code",
        "colab": {
          "base_uri": "https://localhost:8080/",
          "height": 34
        },
        "outputId": "9c67d972-9d24-441a-dbd9-edb5c39a771e"
      },
      "source": [
        "model.predict(new_gem)"
      ],
      "execution_count": 68,
      "outputs": [
        {
          "output_type": "execute_result",
          "data": {
            "text/plain": [
              "array([[428.8555]], dtype=float32)"
            ]
          },
          "metadata": {
            "tags": []
          },
          "execution_count": 68
        }
      ]
    },
    {
      "cell_type": "code",
      "metadata": {
        "id": "eYTWFqsAfv3R",
        "colab_type": "code",
        "colab": {}
      },
      "source": [
        "from tensorflow.keras.models import load_model"
      ],
      "execution_count": 0,
      "outputs": []
    },
    {
      "cell_type": "code",
      "metadata": {
        "id": "pyGMwG2-gRN4",
        "colab_type": "code",
        "colab": {}
      },
      "source": [
        "model.save('my_model.h5')  # creates a HDF5 file 'my_model.h5'"
      ],
      "execution_count": 0,
      "outputs": []
    },
    {
      "cell_type": "code",
      "metadata": {
        "id": "-W8DckaogSlG",
        "colab_type": "code",
        "colab": {}
      },
      "source": [
        "later_model = load_model('my_model.h5')"
      ],
      "execution_count": 0,
      "outputs": []
    },
    {
      "cell_type": "code",
      "metadata": {
        "id": "-hHnylgDgUc6",
        "colab_type": "code",
        "colab": {
          "base_uri": "https://localhost:8080/",
          "height": 34
        },
        "outputId": "8fa079cc-7318-4850-fb3a-b1c5d67765a4"
      },
      "source": [
        "later_model.predict(new_gem)"
      ],
      "execution_count": 73,
      "outputs": [
        {
          "output_type": "execute_result",
          "data": {
            "text/plain": [
              "array([[428.8555]], dtype=float32)"
            ]
          },
          "metadata": {
            "tags": []
          },
          "execution_count": 73
        }
      ]
    },
    {
      "cell_type": "code",
      "metadata": {
        "id": "4-N2c8lkgWv0",
        "colab_type": "code",
        "colab": {}
      },
      "source": [
        ""
      ],
      "execution_count": 0,
      "outputs": []
    }
  ]
}