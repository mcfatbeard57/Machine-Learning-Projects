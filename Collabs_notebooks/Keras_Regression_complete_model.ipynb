{
  "nbformat": 4,
  "nbformat_minor": 0,
  "metadata": {
    "colab": {
      "name": "Keras_Regression_House_value_dataset(kaggle).ipynb",
      "provenance": [],
      "collapsed_sections": [],
      "authorship_tag": "ABX9TyPtIJkuTzGX9VXox7OXejMj",
      "include_colab_link": true
    },
    "kernelspec": {
      "name": "python3",
      "display_name": "Python 3"
    }
  },
  "cells": [
    {
      "cell_type": "markdown",
      "metadata": {
        "id": "view-in-github",
        "colab_type": "text"
      },
      "source": [
        "<a href=\"https://colab.research.google.com/github/mcfatbeard57/Collabs_notebooks/blob/master/Keras_Regression_complete_model.ipynb\" target=\"_parent\"><img src=\"https://colab.research.google.com/assets/colab-badge.svg\" alt=\"Open In Colab\"/></a>"
      ]
    },
    {
      "cell_type": "code",
      "metadata": {
        "id": "UHdr7nx4hycj",
        "colab_type": "code",
        "colab": {
          "resources": {
            "http://localhost:8080/nbextensions/google.colab/files.js": {
              "data": "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",
              "ok": true,
              "headers": [
                [
                  "content-type",
                  "application/javascript"
                ]
              ],
              "status": 200,
              "status_text": ""
            }
          },
          "base_uri": "https://localhost:8080/",
          "height": 74
        },
        "outputId": "ba96799b-c116-46eb-bacb-0104563c4531"
      },
      "source": [
        "from google.colab import files\n",
        "uploaded = files.upload()"
      ],
      "execution_count": 1,
      "outputs": [
        {
          "output_type": "display_data",
          "data": {
            "text/html": [
              "\n",
              "     <input type=\"file\" id=\"files-c2016e0b-6cd2-4b80-8d32-9f9661a6ee1d\" name=\"files[]\" multiple disabled />\n",
              "     <output id=\"result-c2016e0b-6cd2-4b80-8d32-9f9661a6ee1d\">\n",
              "      Upload widget is only available when the cell has been executed in the\n",
              "      current browser session. Please rerun this cell to enable.\n",
              "      </output>\n",
              "      <script src=\"/nbextensions/google.colab/files.js\"></script> "
            ],
            "text/plain": [
              "<IPython.core.display.HTML object>"
            ]
          },
          "metadata": {
            "tags": []
          }
        },
        {
          "output_type": "stream",
          "text": [
            "Saving kc_house_data.csv to kc_house_data.csv\n"
          ],
          "name": "stdout"
        }
      ]
    },
    {
      "cell_type": "code",
      "metadata": {
        "id": "X_Yrw9tu18KY",
        "colab_type": "code",
        "colab": {}
      },
      "source": [
        "import io\n",
        "import pandas as pd\n",
        "df = pd.read_csv(io.BytesIO(uploaded['kc_house_data.csv']))"
      ],
      "execution_count": 0,
      "outputs": []
    },
    {
      "cell_type": "code",
      "metadata": {
        "id": "vd2wR3sS2k8e",
        "colab_type": "code",
        "colab": {
          "base_uri": "https://localhost:8080/",
          "height": 70
        },
        "outputId": "a84ff0c1-24bd-4812-e68b-1b01108b0d9b"
      },
      "source": [
        "import numpy as np\n",
        "import matplotlib.pyplot as plt\n",
        "import seaborn as sns"
      ],
      "execution_count": 4,
      "outputs": [
        {
          "output_type": "stream",
          "text": [
            "/usr/local/lib/python3.6/dist-packages/statsmodels/tools/_testing.py:19: FutureWarning: pandas.util.testing is deprecated. Use the functions in the public API at pandas.testing instead.\n",
            "  import pandas.util.testing as tm\n"
          ],
          "name": "stderr"
        }
      ]
    },
    {
      "cell_type": "code",
      "metadata": {
        "id": "eyt-aBGO2l2K",
        "colab_type": "code",
        "colab": {
          "base_uri": "https://localhost:8080/",
          "height": 386
        },
        "outputId": "e1887aed-f6f9-4b88-9854-18a6c92e44fe"
      },
      "source": [
        "df.isnull().sum()"
      ],
      "execution_count": 6,
      "outputs": [
        {
          "output_type": "execute_result",
          "data": {
            "text/plain": [
              "id               0\n",
              "date             0\n",
              "price            0\n",
              "bedrooms         0\n",
              "bathrooms        0\n",
              "sqft_living      0\n",
              "sqft_lot         0\n",
              "floors           0\n",
              "waterfront       0\n",
              "view             0\n",
              "condition        0\n",
              "grade            0\n",
              "sqft_above       0\n",
              "sqft_basement    0\n",
              "yr_built         0\n",
              "yr_renovated     0\n",
              "zipcode          0\n",
              "lat              0\n",
              "long             0\n",
              "sqft_living15    0\n",
              "sqft_lot15       0\n",
              "dtype: int64"
            ]
          },
          "metadata": {
            "tags": []
          },
          "execution_count": 6
        }
      ]
    },
    {
      "cell_type": "code",
      "metadata": {
        "id": "UWGkb_Bc8k3y",
        "colab_type": "code",
        "colab": {}
      },
      "source": [
        "#df.head()"
      ],
      "execution_count": 0,
      "outputs": []
    },
    {
      "cell_type": "code",
      "metadata": {
        "id": "2VtFXtQi2xJ0",
        "colab_type": "code",
        "colab": {
          "base_uri": "https://localhost:8080/",
          "height": 639
        },
        "outputId": "d319cb42-6580-443e-fbfd-dc9b722195cc"
      },
      "source": [
        "df.describe().transpose()"
      ],
      "execution_count": 10,
      "outputs": [
        {
          "output_type": "execute_result",
          "data": {
            "text/html": [
              "<div>\n",
              "<style scoped>\n",
              "    .dataframe tbody tr th:only-of-type {\n",
              "        vertical-align: middle;\n",
              "    }\n",
              "\n",
              "    .dataframe tbody tr th {\n",
              "        vertical-align: top;\n",
              "    }\n",
              "\n",
              "    .dataframe thead th {\n",
              "        text-align: right;\n",
              "    }\n",
              "</style>\n",
              "<table border=\"1\" class=\"dataframe\">\n",
              "  <thead>\n",
              "    <tr style=\"text-align: right;\">\n",
              "      <th></th>\n",
              "      <th>count</th>\n",
              "      <th>mean</th>\n",
              "      <th>std</th>\n",
              "      <th>min</th>\n",
              "      <th>25%</th>\n",
              "      <th>50%</th>\n",
              "      <th>75%</th>\n",
              "      <th>max</th>\n",
              "    </tr>\n",
              "  </thead>\n",
              "  <tbody>\n",
              "    <tr>\n",
              "      <th>id</th>\n",
              "      <td>21597.0</td>\n",
              "      <td>4.580474e+09</td>\n",
              "      <td>2.876736e+09</td>\n",
              "      <td>1.000102e+06</td>\n",
              "      <td>2.123049e+09</td>\n",
              "      <td>3.904930e+09</td>\n",
              "      <td>7.308900e+09</td>\n",
              "      <td>9.900000e+09</td>\n",
              "    </tr>\n",
              "    <tr>\n",
              "      <th>price</th>\n",
              "      <td>21597.0</td>\n",
              "      <td>5.402966e+05</td>\n",
              "      <td>3.673681e+05</td>\n",
              "      <td>7.800000e+04</td>\n",
              "      <td>3.220000e+05</td>\n",
              "      <td>4.500000e+05</td>\n",
              "      <td>6.450000e+05</td>\n",
              "      <td>7.700000e+06</td>\n",
              "    </tr>\n",
              "    <tr>\n",
              "      <th>bedrooms</th>\n",
              "      <td>21597.0</td>\n",
              "      <td>3.373200e+00</td>\n",
              "      <td>9.262989e-01</td>\n",
              "      <td>1.000000e+00</td>\n",
              "      <td>3.000000e+00</td>\n",
              "      <td>3.000000e+00</td>\n",
              "      <td>4.000000e+00</td>\n",
              "      <td>3.300000e+01</td>\n",
              "    </tr>\n",
              "    <tr>\n",
              "      <th>bathrooms</th>\n",
              "      <td>21597.0</td>\n",
              "      <td>2.115826e+00</td>\n",
              "      <td>7.689843e-01</td>\n",
              "      <td>5.000000e-01</td>\n",
              "      <td>1.750000e+00</td>\n",
              "      <td>2.250000e+00</td>\n",
              "      <td>2.500000e+00</td>\n",
              "      <td>8.000000e+00</td>\n",
              "    </tr>\n",
              "    <tr>\n",
              "      <th>sqft_living</th>\n",
              "      <td>21597.0</td>\n",
              "      <td>2.080322e+03</td>\n",
              "      <td>9.181061e+02</td>\n",
              "      <td>3.700000e+02</td>\n",
              "      <td>1.430000e+03</td>\n",
              "      <td>1.910000e+03</td>\n",
              "      <td>2.550000e+03</td>\n",
              "      <td>1.354000e+04</td>\n",
              "    </tr>\n",
              "    <tr>\n",
              "      <th>sqft_lot</th>\n",
              "      <td>21597.0</td>\n",
              "      <td>1.509941e+04</td>\n",
              "      <td>4.141264e+04</td>\n",
              "      <td>5.200000e+02</td>\n",
              "      <td>5.040000e+03</td>\n",
              "      <td>7.618000e+03</td>\n",
              "      <td>1.068500e+04</td>\n",
              "      <td>1.651359e+06</td>\n",
              "    </tr>\n",
              "    <tr>\n",
              "      <th>floors</th>\n",
              "      <td>21597.0</td>\n",
              "      <td>1.494096e+00</td>\n",
              "      <td>5.396828e-01</td>\n",
              "      <td>1.000000e+00</td>\n",
              "      <td>1.000000e+00</td>\n",
              "      <td>1.500000e+00</td>\n",
              "      <td>2.000000e+00</td>\n",
              "      <td>3.500000e+00</td>\n",
              "    </tr>\n",
              "    <tr>\n",
              "      <th>waterfront</th>\n",
              "      <td>21597.0</td>\n",
              "      <td>7.547345e-03</td>\n",
              "      <td>8.654900e-02</td>\n",
              "      <td>0.000000e+00</td>\n",
              "      <td>0.000000e+00</td>\n",
              "      <td>0.000000e+00</td>\n",
              "      <td>0.000000e+00</td>\n",
              "      <td>1.000000e+00</td>\n",
              "    </tr>\n",
              "    <tr>\n",
              "      <th>view</th>\n",
              "      <td>21597.0</td>\n",
              "      <td>2.342918e-01</td>\n",
              "      <td>7.663898e-01</td>\n",
              "      <td>0.000000e+00</td>\n",
              "      <td>0.000000e+00</td>\n",
              "      <td>0.000000e+00</td>\n",
              "      <td>0.000000e+00</td>\n",
              "      <td>4.000000e+00</td>\n",
              "    </tr>\n",
              "    <tr>\n",
              "      <th>condition</th>\n",
              "      <td>21597.0</td>\n",
              "      <td>3.409825e+00</td>\n",
              "      <td>6.505456e-01</td>\n",
              "      <td>1.000000e+00</td>\n",
              "      <td>3.000000e+00</td>\n",
              "      <td>3.000000e+00</td>\n",
              "      <td>4.000000e+00</td>\n",
              "      <td>5.000000e+00</td>\n",
              "    </tr>\n",
              "    <tr>\n",
              "      <th>grade</th>\n",
              "      <td>21597.0</td>\n",
              "      <td>7.657915e+00</td>\n",
              "      <td>1.173200e+00</td>\n",
              "      <td>3.000000e+00</td>\n",
              "      <td>7.000000e+00</td>\n",
              "      <td>7.000000e+00</td>\n",
              "      <td>8.000000e+00</td>\n",
              "      <td>1.300000e+01</td>\n",
              "    </tr>\n",
              "    <tr>\n",
              "      <th>sqft_above</th>\n",
              "      <td>21597.0</td>\n",
              "      <td>1.788597e+03</td>\n",
              "      <td>8.277598e+02</td>\n",
              "      <td>3.700000e+02</td>\n",
              "      <td>1.190000e+03</td>\n",
              "      <td>1.560000e+03</td>\n",
              "      <td>2.210000e+03</td>\n",
              "      <td>9.410000e+03</td>\n",
              "    </tr>\n",
              "    <tr>\n",
              "      <th>sqft_basement</th>\n",
              "      <td>21597.0</td>\n",
              "      <td>2.917250e+02</td>\n",
              "      <td>4.426678e+02</td>\n",
              "      <td>0.000000e+00</td>\n",
              "      <td>0.000000e+00</td>\n",
              "      <td>0.000000e+00</td>\n",
              "      <td>5.600000e+02</td>\n",
              "      <td>4.820000e+03</td>\n",
              "    </tr>\n",
              "    <tr>\n",
              "      <th>yr_built</th>\n",
              "      <td>21597.0</td>\n",
              "      <td>1.971000e+03</td>\n",
              "      <td>2.937523e+01</td>\n",
              "      <td>1.900000e+03</td>\n",
              "      <td>1.951000e+03</td>\n",
              "      <td>1.975000e+03</td>\n",
              "      <td>1.997000e+03</td>\n",
              "      <td>2.015000e+03</td>\n",
              "    </tr>\n",
              "    <tr>\n",
              "      <th>yr_renovated</th>\n",
              "      <td>21597.0</td>\n",
              "      <td>8.446479e+01</td>\n",
              "      <td>4.018214e+02</td>\n",
              "      <td>0.000000e+00</td>\n",
              "      <td>0.000000e+00</td>\n",
              "      <td>0.000000e+00</td>\n",
              "      <td>0.000000e+00</td>\n",
              "      <td>2.015000e+03</td>\n",
              "    </tr>\n",
              "    <tr>\n",
              "      <th>zipcode</th>\n",
              "      <td>21597.0</td>\n",
              "      <td>9.807795e+04</td>\n",
              "      <td>5.351307e+01</td>\n",
              "      <td>9.800100e+04</td>\n",
              "      <td>9.803300e+04</td>\n",
              "      <td>9.806500e+04</td>\n",
              "      <td>9.811800e+04</td>\n",
              "      <td>9.819900e+04</td>\n",
              "    </tr>\n",
              "    <tr>\n",
              "      <th>lat</th>\n",
              "      <td>21597.0</td>\n",
              "      <td>4.756009e+01</td>\n",
              "      <td>1.385518e-01</td>\n",
              "      <td>4.715590e+01</td>\n",
              "      <td>4.747110e+01</td>\n",
              "      <td>4.757180e+01</td>\n",
              "      <td>4.767800e+01</td>\n",
              "      <td>4.777760e+01</td>\n",
              "    </tr>\n",
              "    <tr>\n",
              "      <th>long</th>\n",
              "      <td>21597.0</td>\n",
              "      <td>-1.222140e+02</td>\n",
              "      <td>1.407235e-01</td>\n",
              "      <td>-1.225190e+02</td>\n",
              "      <td>-1.223280e+02</td>\n",
              "      <td>-1.222310e+02</td>\n",
              "      <td>-1.221250e+02</td>\n",
              "      <td>-1.213150e+02</td>\n",
              "    </tr>\n",
              "    <tr>\n",
              "      <th>sqft_living15</th>\n",
              "      <td>21597.0</td>\n",
              "      <td>1.986620e+03</td>\n",
              "      <td>6.852305e+02</td>\n",
              "      <td>3.990000e+02</td>\n",
              "      <td>1.490000e+03</td>\n",
              "      <td>1.840000e+03</td>\n",
              "      <td>2.360000e+03</td>\n",
              "      <td>6.210000e+03</td>\n",
              "    </tr>\n",
              "    <tr>\n",
              "      <th>sqft_lot15</th>\n",
              "      <td>21597.0</td>\n",
              "      <td>1.275828e+04</td>\n",
              "      <td>2.727444e+04</td>\n",
              "      <td>6.510000e+02</td>\n",
              "      <td>5.100000e+03</td>\n",
              "      <td>7.620000e+03</td>\n",
              "      <td>1.008300e+04</td>\n",
              "      <td>8.712000e+05</td>\n",
              "    </tr>\n",
              "  </tbody>\n",
              "</table>\n",
              "</div>"
            ],
            "text/plain": [
              "                 count          mean  ...           75%           max\n",
              "id             21597.0  4.580474e+09  ...  7.308900e+09  9.900000e+09\n",
              "price          21597.0  5.402966e+05  ...  6.450000e+05  7.700000e+06\n",
              "bedrooms       21597.0  3.373200e+00  ...  4.000000e+00  3.300000e+01\n",
              "bathrooms      21597.0  2.115826e+00  ...  2.500000e+00  8.000000e+00\n",
              "sqft_living    21597.0  2.080322e+03  ...  2.550000e+03  1.354000e+04\n",
              "sqft_lot       21597.0  1.509941e+04  ...  1.068500e+04  1.651359e+06\n",
              "floors         21597.0  1.494096e+00  ...  2.000000e+00  3.500000e+00\n",
              "waterfront     21597.0  7.547345e-03  ...  0.000000e+00  1.000000e+00\n",
              "view           21597.0  2.342918e-01  ...  0.000000e+00  4.000000e+00\n",
              "condition      21597.0  3.409825e+00  ...  4.000000e+00  5.000000e+00\n",
              "grade          21597.0  7.657915e+00  ...  8.000000e+00  1.300000e+01\n",
              "sqft_above     21597.0  1.788597e+03  ...  2.210000e+03  9.410000e+03\n",
              "sqft_basement  21597.0  2.917250e+02  ...  5.600000e+02  4.820000e+03\n",
              "yr_built       21597.0  1.971000e+03  ...  1.997000e+03  2.015000e+03\n",
              "yr_renovated   21597.0  8.446479e+01  ...  0.000000e+00  2.015000e+03\n",
              "zipcode        21597.0  9.807795e+04  ...  9.811800e+04  9.819900e+04\n",
              "lat            21597.0  4.756009e+01  ...  4.767800e+01  4.777760e+01\n",
              "long           21597.0 -1.222140e+02  ... -1.221250e+02 -1.213150e+02\n",
              "sqft_living15  21597.0  1.986620e+03  ...  2.360000e+03  6.210000e+03\n",
              "sqft_lot15     21597.0  1.275828e+04  ...  1.008300e+04  8.712000e+05\n",
              "\n",
              "[20 rows x 8 columns]"
            ]
          },
          "metadata": {
            "tags": []
          },
          "execution_count": 10
        }
      ]
    },
    {
      "cell_type": "markdown",
      "metadata": {
        "id": "DPxHFY07_m6p",
        "colab_type": "text"
      },
      "source": [
        "# ***EDA***\n",
        "\n",
        "\n",
        "\n"
      ]
    },
    {
      "cell_type": "code",
      "metadata": {
        "id": "liIyhJC-7NUT",
        "colab_type": "code",
        "colab": {}
      },
      "source": [
        "# plt.figure(figsize=(12,8))\n",
        "# sns.distplot(df['price'])"
      ],
      "execution_count": 0,
      "outputs": []
    },
    {
      "cell_type": "code",
      "metadata": {
        "id": "b6jMrst27gLW",
        "colab_type": "code",
        "colab": {}
      },
      "source": [
        "#sns.countplot(df['bedrooms'])"
      ],
      "execution_count": 0,
      "outputs": []
    },
    {
      "cell_type": "code",
      "metadata": {
        "id": "XJY3iORL78VD",
        "colab_type": "code",
        "colab": {}
      },
      "source": [
        "#df.corr()['price'].sort_values()"
      ],
      "execution_count": 0,
      "outputs": []
    },
    {
      "cell_type": "code",
      "metadata": {
        "id": "m4mMHADK7-1M",
        "colab_type": "code",
        "colab": {}
      },
      "source": [
        "# plt.figure(figsize=(12,8))\n",
        "# sns.scatterplot(x='price',y='sqft_living',data=df)"
      ],
      "execution_count": 0,
      "outputs": []
    },
    {
      "cell_type": "code",
      "metadata": {
        "id": "s40WUj468YTD",
        "colab_type": "code",
        "colab": {}
      },
      "source": [
        "# plt.figure(figsize=(12,8))\n",
        "# sns.boxplot(x='bedrooms',y='price',data=df)"
      ],
      "execution_count": 0,
      "outputs": []
    },
    {
      "cell_type": "code",
      "metadata": {
        "id": "yVb6gt219A80",
        "colab_type": "code",
        "colab": {}
      },
      "source": [
        "# plt.figure(figsize=(12,8))\n",
        "# sns.scatterplot(x='price',y='long',data=df)"
      ],
      "execution_count": 0,
      "outputs": []
    },
    {
      "cell_type": "code",
      "metadata": {
        "id": "i1v-xOfE-AMw",
        "colab_type": "code",
        "colab": {}
      },
      "source": [
        "# plt.figure(figsize=(12,8))\n",
        "# sns.scatterplot(x='long',y='lat',data=df,hue='price')"
      ],
      "execution_count": 0,
      "outputs": []
    },
    {
      "cell_type": "code",
      "metadata": {
        "id": "75Ve-DUu-NaB",
        "colab_type": "code",
        "colab": {
          "base_uri": "https://localhost:8080/",
          "height": 659
        },
        "outputId": "97cf8594-7db7-4523-82a0-9546fd27fa44"
      },
      "source": [
        "df.sort_values('price',ascending=False).head(20)"
      ],
      "execution_count": 23,
      "outputs": [
        {
          "output_type": "execute_result",
          "data": {
            "text/html": [
              "<div>\n",
              "<style scoped>\n",
              "    .dataframe tbody tr th:only-of-type {\n",
              "        vertical-align: middle;\n",
              "    }\n",
              "\n",
              "    .dataframe tbody tr th {\n",
              "        vertical-align: top;\n",
              "    }\n",
              "\n",
              "    .dataframe thead th {\n",
              "        text-align: right;\n",
              "    }\n",
              "</style>\n",
              "<table border=\"1\" class=\"dataframe\">\n",
              "  <thead>\n",
              "    <tr style=\"text-align: right;\">\n",
              "      <th></th>\n",
              "      <th>id</th>\n",
              "      <th>date</th>\n",
              "      <th>price</th>\n",
              "      <th>bedrooms</th>\n",
              "      <th>bathrooms</th>\n",
              "      <th>sqft_living</th>\n",
              "      <th>sqft_lot</th>\n",
              "      <th>floors</th>\n",
              "      <th>waterfront</th>\n",
              "      <th>view</th>\n",
              "      <th>condition</th>\n",
              "      <th>grade</th>\n",
              "      <th>sqft_above</th>\n",
              "      <th>sqft_basement</th>\n",
              "      <th>yr_built</th>\n",
              "      <th>yr_renovated</th>\n",
              "      <th>zipcode</th>\n",
              "      <th>lat</th>\n",
              "      <th>long</th>\n",
              "      <th>sqft_living15</th>\n",
              "      <th>sqft_lot15</th>\n",
              "    </tr>\n",
              "  </thead>\n",
              "  <tbody>\n",
              "    <tr>\n",
              "      <th>7245</th>\n",
              "      <td>6762700020</td>\n",
              "      <td>10/13/2014</td>\n",
              "      <td>7700000.0</td>\n",
              "      <td>6</td>\n",
              "      <td>8.00</td>\n",
              "      <td>12050</td>\n",
              "      <td>27600</td>\n",
              "      <td>2.5</td>\n",
              "      <td>0</td>\n",
              "      <td>3</td>\n",
              "      <td>4</td>\n",
              "      <td>13</td>\n",
              "      <td>8570</td>\n",
              "      <td>3480</td>\n",
              "      <td>1910</td>\n",
              "      <td>1987</td>\n",
              "      <td>98102</td>\n",
              "      <td>47.6298</td>\n",
              "      <td>-122.323</td>\n",
              "      <td>3940</td>\n",
              "      <td>8800</td>\n",
              "    </tr>\n",
              "    <tr>\n",
              "      <th>3910</th>\n",
              "      <td>9808700762</td>\n",
              "      <td>6/11/2014</td>\n",
              "      <td>7060000.0</td>\n",
              "      <td>5</td>\n",
              "      <td>4.50</td>\n",
              "      <td>10040</td>\n",
              "      <td>37325</td>\n",
              "      <td>2.0</td>\n",
              "      <td>1</td>\n",
              "      <td>2</td>\n",
              "      <td>3</td>\n",
              "      <td>11</td>\n",
              "      <td>7680</td>\n",
              "      <td>2360</td>\n",
              "      <td>1940</td>\n",
              "      <td>2001</td>\n",
              "      <td>98004</td>\n",
              "      <td>47.6500</td>\n",
              "      <td>-122.214</td>\n",
              "      <td>3930</td>\n",
              "      <td>25449</td>\n",
              "    </tr>\n",
              "    <tr>\n",
              "      <th>9245</th>\n",
              "      <td>9208900037</td>\n",
              "      <td>9/19/2014</td>\n",
              "      <td>6890000.0</td>\n",
              "      <td>6</td>\n",
              "      <td>7.75</td>\n",
              "      <td>9890</td>\n",
              "      <td>31374</td>\n",
              "      <td>2.0</td>\n",
              "      <td>0</td>\n",
              "      <td>4</td>\n",
              "      <td>3</td>\n",
              "      <td>13</td>\n",
              "      <td>8860</td>\n",
              "      <td>1030</td>\n",
              "      <td>2001</td>\n",
              "      <td>0</td>\n",
              "      <td>98039</td>\n",
              "      <td>47.6305</td>\n",
              "      <td>-122.240</td>\n",
              "      <td>4540</td>\n",
              "      <td>42730</td>\n",
              "    </tr>\n",
              "    <tr>\n",
              "      <th>4407</th>\n",
              "      <td>2470100110</td>\n",
              "      <td>8/4/2014</td>\n",
              "      <td>5570000.0</td>\n",
              "      <td>5</td>\n",
              "      <td>5.75</td>\n",
              "      <td>9200</td>\n",
              "      <td>35069</td>\n",
              "      <td>2.0</td>\n",
              "      <td>0</td>\n",
              "      <td>0</td>\n",
              "      <td>3</td>\n",
              "      <td>13</td>\n",
              "      <td>6200</td>\n",
              "      <td>3000</td>\n",
              "      <td>2001</td>\n",
              "      <td>0</td>\n",
              "      <td>98039</td>\n",
              "      <td>47.6289</td>\n",
              "      <td>-122.233</td>\n",
              "      <td>3560</td>\n",
              "      <td>24345</td>\n",
              "    </tr>\n",
              "    <tr>\n",
              "      <th>1446</th>\n",
              "      <td>8907500070</td>\n",
              "      <td>4/13/2015</td>\n",
              "      <td>5350000.0</td>\n",
              "      <td>5</td>\n",
              "      <td>5.00</td>\n",
              "      <td>8000</td>\n",
              "      <td>23985</td>\n",
              "      <td>2.0</td>\n",
              "      <td>0</td>\n",
              "      <td>4</td>\n",
              "      <td>3</td>\n",
              "      <td>12</td>\n",
              "      <td>6720</td>\n",
              "      <td>1280</td>\n",
              "      <td>2009</td>\n",
              "      <td>0</td>\n",
              "      <td>98004</td>\n",
              "      <td>47.6232</td>\n",
              "      <td>-122.220</td>\n",
              "      <td>4600</td>\n",
              "      <td>21750</td>\n",
              "    </tr>\n",
              "    <tr>\n",
              "      <th>1313</th>\n",
              "      <td>7558700030</td>\n",
              "      <td>4/13/2015</td>\n",
              "      <td>5300000.0</td>\n",
              "      <td>6</td>\n",
              "      <td>6.00</td>\n",
              "      <td>7390</td>\n",
              "      <td>24829</td>\n",
              "      <td>2.0</td>\n",
              "      <td>1</td>\n",
              "      <td>4</td>\n",
              "      <td>4</td>\n",
              "      <td>12</td>\n",
              "      <td>5000</td>\n",
              "      <td>2390</td>\n",
              "      <td>1991</td>\n",
              "      <td>0</td>\n",
              "      <td>98040</td>\n",
              "      <td>47.5631</td>\n",
              "      <td>-122.210</td>\n",
              "      <td>4320</td>\n",
              "      <td>24619</td>\n",
              "    </tr>\n",
              "    <tr>\n",
              "      <th>1162</th>\n",
              "      <td>1247600105</td>\n",
              "      <td>10/20/2014</td>\n",
              "      <td>5110000.0</td>\n",
              "      <td>5</td>\n",
              "      <td>5.25</td>\n",
              "      <td>8010</td>\n",
              "      <td>45517</td>\n",
              "      <td>2.0</td>\n",
              "      <td>1</td>\n",
              "      <td>4</td>\n",
              "      <td>3</td>\n",
              "      <td>12</td>\n",
              "      <td>5990</td>\n",
              "      <td>2020</td>\n",
              "      <td>1999</td>\n",
              "      <td>0</td>\n",
              "      <td>98033</td>\n",
              "      <td>47.6767</td>\n",
              "      <td>-122.211</td>\n",
              "      <td>3430</td>\n",
              "      <td>26788</td>\n",
              "    </tr>\n",
              "    <tr>\n",
              "      <th>8085</th>\n",
              "      <td>1924059029</td>\n",
              "      <td>6/17/2014</td>\n",
              "      <td>4670000.0</td>\n",
              "      <td>5</td>\n",
              "      <td>6.75</td>\n",
              "      <td>9640</td>\n",
              "      <td>13068</td>\n",
              "      <td>1.0</td>\n",
              "      <td>1</td>\n",
              "      <td>4</td>\n",
              "      <td>3</td>\n",
              "      <td>12</td>\n",
              "      <td>4820</td>\n",
              "      <td>4820</td>\n",
              "      <td>1983</td>\n",
              "      <td>2009</td>\n",
              "      <td>98040</td>\n",
              "      <td>47.5570</td>\n",
              "      <td>-122.210</td>\n",
              "      <td>3270</td>\n",
              "      <td>10454</td>\n",
              "    </tr>\n",
              "    <tr>\n",
              "      <th>2624</th>\n",
              "      <td>7738500731</td>\n",
              "      <td>8/15/2014</td>\n",
              "      <td>4500000.0</td>\n",
              "      <td>5</td>\n",
              "      <td>5.50</td>\n",
              "      <td>6640</td>\n",
              "      <td>40014</td>\n",
              "      <td>2.0</td>\n",
              "      <td>1</td>\n",
              "      <td>4</td>\n",
              "      <td>3</td>\n",
              "      <td>12</td>\n",
              "      <td>6350</td>\n",
              "      <td>290</td>\n",
              "      <td>2004</td>\n",
              "      <td>0</td>\n",
              "      <td>98155</td>\n",
              "      <td>47.7493</td>\n",
              "      <td>-122.280</td>\n",
              "      <td>3030</td>\n",
              "      <td>23408</td>\n",
              "    </tr>\n",
              "    <tr>\n",
              "      <th>8629</th>\n",
              "      <td>3835500195</td>\n",
              "      <td>6/18/2014</td>\n",
              "      <td>4490000.0</td>\n",
              "      <td>4</td>\n",
              "      <td>3.00</td>\n",
              "      <td>6430</td>\n",
              "      <td>27517</td>\n",
              "      <td>2.0</td>\n",
              "      <td>0</td>\n",
              "      <td>0</td>\n",
              "      <td>3</td>\n",
              "      <td>12</td>\n",
              "      <td>6430</td>\n",
              "      <td>0</td>\n",
              "      <td>2001</td>\n",
              "      <td>0</td>\n",
              "      <td>98004</td>\n",
              "      <td>47.6208</td>\n",
              "      <td>-122.219</td>\n",
              "      <td>3720</td>\n",
              "      <td>14592</td>\n",
              "    </tr>\n",
              "    <tr>\n",
              "      <th>12358</th>\n",
              "      <td>6065300370</td>\n",
              "      <td>5/6/2015</td>\n",
              "      <td>4210000.0</td>\n",
              "      <td>5</td>\n",
              "      <td>6.00</td>\n",
              "      <td>7440</td>\n",
              "      <td>21540</td>\n",
              "      <td>2.0</td>\n",
              "      <td>0</td>\n",
              "      <td>0</td>\n",
              "      <td>3</td>\n",
              "      <td>12</td>\n",
              "      <td>5550</td>\n",
              "      <td>1890</td>\n",
              "      <td>2003</td>\n",
              "      <td>0</td>\n",
              "      <td>98006</td>\n",
              "      <td>47.5692</td>\n",
              "      <td>-122.189</td>\n",
              "      <td>4740</td>\n",
              "      <td>19329</td>\n",
              "    </tr>\n",
              "    <tr>\n",
              "      <th>4145</th>\n",
              "      <td>6447300265</td>\n",
              "      <td>10/14/2014</td>\n",
              "      <td>4000000.0</td>\n",
              "      <td>4</td>\n",
              "      <td>5.50</td>\n",
              "      <td>7080</td>\n",
              "      <td>16573</td>\n",
              "      <td>2.0</td>\n",
              "      <td>0</td>\n",
              "      <td>0</td>\n",
              "      <td>3</td>\n",
              "      <td>12</td>\n",
              "      <td>5760</td>\n",
              "      <td>1320</td>\n",
              "      <td>2008</td>\n",
              "      <td>0</td>\n",
              "      <td>98039</td>\n",
              "      <td>47.6151</td>\n",
              "      <td>-122.224</td>\n",
              "      <td>3140</td>\n",
              "      <td>15996</td>\n",
              "    </tr>\n",
              "    <tr>\n",
              "      <th>2083</th>\n",
              "      <td>8106100105</td>\n",
              "      <td>11/14/2014</td>\n",
              "      <td>3850000.0</td>\n",
              "      <td>4</td>\n",
              "      <td>4.25</td>\n",
              "      <td>5770</td>\n",
              "      <td>21300</td>\n",
              "      <td>2.0</td>\n",
              "      <td>1</td>\n",
              "      <td>4</td>\n",
              "      <td>4</td>\n",
              "      <td>11</td>\n",
              "      <td>5770</td>\n",
              "      <td>0</td>\n",
              "      <td>1980</td>\n",
              "      <td>0</td>\n",
              "      <td>98040</td>\n",
              "      <td>47.5850</td>\n",
              "      <td>-122.222</td>\n",
              "      <td>4620</td>\n",
              "      <td>22748</td>\n",
              "    </tr>\n",
              "    <tr>\n",
              "      <th>7028</th>\n",
              "      <td>853200010</td>\n",
              "      <td>7/1/2014</td>\n",
              "      <td>3800000.0</td>\n",
              "      <td>5</td>\n",
              "      <td>5.50</td>\n",
              "      <td>7050</td>\n",
              "      <td>42840</td>\n",
              "      <td>1.0</td>\n",
              "      <td>0</td>\n",
              "      <td>2</td>\n",
              "      <td>4</td>\n",
              "      <td>13</td>\n",
              "      <td>4320</td>\n",
              "      <td>2730</td>\n",
              "      <td>1978</td>\n",
              "      <td>0</td>\n",
              "      <td>98004</td>\n",
              "      <td>47.6229</td>\n",
              "      <td>-122.220</td>\n",
              "      <td>5070</td>\n",
              "      <td>20570</td>\n",
              "    </tr>\n",
              "    <tr>\n",
              "      <th>19002</th>\n",
              "      <td>2303900100</td>\n",
              "      <td>9/11/2014</td>\n",
              "      <td>3800000.0</td>\n",
              "      <td>3</td>\n",
              "      <td>4.25</td>\n",
              "      <td>5510</td>\n",
              "      <td>35000</td>\n",
              "      <td>2.0</td>\n",
              "      <td>0</td>\n",
              "      <td>4</td>\n",
              "      <td>3</td>\n",
              "      <td>13</td>\n",
              "      <td>4910</td>\n",
              "      <td>600</td>\n",
              "      <td>1997</td>\n",
              "      <td>0</td>\n",
              "      <td>98177</td>\n",
              "      <td>47.7296</td>\n",
              "      <td>-122.370</td>\n",
              "      <td>3430</td>\n",
              "      <td>45302</td>\n",
              "    </tr>\n",
              "    <tr>\n",
              "      <th>16288</th>\n",
              "      <td>7397300170</td>\n",
              "      <td>5/30/2014</td>\n",
              "      <td>3710000.0</td>\n",
              "      <td>4</td>\n",
              "      <td>3.50</td>\n",
              "      <td>5550</td>\n",
              "      <td>28078</td>\n",
              "      <td>2.0</td>\n",
              "      <td>0</td>\n",
              "      <td>2</td>\n",
              "      <td>4</td>\n",
              "      <td>12</td>\n",
              "      <td>3350</td>\n",
              "      <td>2200</td>\n",
              "      <td>2000</td>\n",
              "      <td>0</td>\n",
              "      <td>98039</td>\n",
              "      <td>47.6395</td>\n",
              "      <td>-122.234</td>\n",
              "      <td>2980</td>\n",
              "      <td>19602</td>\n",
              "    </tr>\n",
              "    <tr>\n",
              "      <th>18467</th>\n",
              "      <td>4389201095</td>\n",
              "      <td>5/11/2015</td>\n",
              "      <td>3650000.0</td>\n",
              "      <td>5</td>\n",
              "      <td>3.75</td>\n",
              "      <td>5020</td>\n",
              "      <td>8694</td>\n",
              "      <td>2.0</td>\n",
              "      <td>0</td>\n",
              "      <td>1</td>\n",
              "      <td>3</td>\n",
              "      <td>12</td>\n",
              "      <td>3970</td>\n",
              "      <td>1050</td>\n",
              "      <td>2007</td>\n",
              "      <td>0</td>\n",
              "      <td>98004</td>\n",
              "      <td>47.6146</td>\n",
              "      <td>-122.213</td>\n",
              "      <td>4190</td>\n",
              "      <td>11275</td>\n",
              "    </tr>\n",
              "    <tr>\n",
              "      <th>6502</th>\n",
              "      <td>4217402115</td>\n",
              "      <td>4/21/2015</td>\n",
              "      <td>3650000.0</td>\n",
              "      <td>6</td>\n",
              "      <td>4.75</td>\n",
              "      <td>5480</td>\n",
              "      <td>19401</td>\n",
              "      <td>1.5</td>\n",
              "      <td>1</td>\n",
              "      <td>4</td>\n",
              "      <td>5</td>\n",
              "      <td>11</td>\n",
              "      <td>3910</td>\n",
              "      <td>1570</td>\n",
              "      <td>1936</td>\n",
              "      <td>0</td>\n",
              "      <td>98105</td>\n",
              "      <td>47.6515</td>\n",
              "      <td>-122.277</td>\n",
              "      <td>3510</td>\n",
              "      <td>15810</td>\n",
              "    </tr>\n",
              "    <tr>\n",
              "      <th>15241</th>\n",
              "      <td>2425049063</td>\n",
              "      <td>9/11/2014</td>\n",
              "      <td>3640000.0</td>\n",
              "      <td>4</td>\n",
              "      <td>3.25</td>\n",
              "      <td>4830</td>\n",
              "      <td>22257</td>\n",
              "      <td>2.0</td>\n",
              "      <td>1</td>\n",
              "      <td>4</td>\n",
              "      <td>4</td>\n",
              "      <td>11</td>\n",
              "      <td>4830</td>\n",
              "      <td>0</td>\n",
              "      <td>1990</td>\n",
              "      <td>0</td>\n",
              "      <td>98039</td>\n",
              "      <td>47.6409</td>\n",
              "      <td>-122.241</td>\n",
              "      <td>3820</td>\n",
              "      <td>25582</td>\n",
              "    </tr>\n",
              "    <tr>\n",
              "      <th>19133</th>\n",
              "      <td>3625049042</td>\n",
              "      <td>10/11/2014</td>\n",
              "      <td>3640000.0</td>\n",
              "      <td>5</td>\n",
              "      <td>6.00</td>\n",
              "      <td>5490</td>\n",
              "      <td>19897</td>\n",
              "      <td>2.0</td>\n",
              "      <td>0</td>\n",
              "      <td>0</td>\n",
              "      <td>3</td>\n",
              "      <td>12</td>\n",
              "      <td>5490</td>\n",
              "      <td>0</td>\n",
              "      <td>2005</td>\n",
              "      <td>0</td>\n",
              "      <td>98039</td>\n",
              "      <td>47.6165</td>\n",
              "      <td>-122.236</td>\n",
              "      <td>2910</td>\n",
              "      <td>17600</td>\n",
              "    </tr>\n",
              "  </tbody>\n",
              "</table>\n",
              "</div>"
            ],
            "text/plain": [
              "               id        date      price  ...     long  sqft_living15  sqft_lot15\n",
              "7245   6762700020  10/13/2014  7700000.0  ... -122.323           3940        8800\n",
              "3910   9808700762   6/11/2014  7060000.0  ... -122.214           3930       25449\n",
              "9245   9208900037   9/19/2014  6890000.0  ... -122.240           4540       42730\n",
              "4407   2470100110    8/4/2014  5570000.0  ... -122.233           3560       24345\n",
              "1446   8907500070   4/13/2015  5350000.0  ... -122.220           4600       21750\n",
              "1313   7558700030   4/13/2015  5300000.0  ... -122.210           4320       24619\n",
              "1162   1247600105  10/20/2014  5110000.0  ... -122.211           3430       26788\n",
              "8085   1924059029   6/17/2014  4670000.0  ... -122.210           3270       10454\n",
              "2624   7738500731   8/15/2014  4500000.0  ... -122.280           3030       23408\n",
              "8629   3835500195   6/18/2014  4490000.0  ... -122.219           3720       14592\n",
              "12358  6065300370    5/6/2015  4210000.0  ... -122.189           4740       19329\n",
              "4145   6447300265  10/14/2014  4000000.0  ... -122.224           3140       15996\n",
              "2083   8106100105  11/14/2014  3850000.0  ... -122.222           4620       22748\n",
              "7028    853200010    7/1/2014  3800000.0  ... -122.220           5070       20570\n",
              "19002  2303900100   9/11/2014  3800000.0  ... -122.370           3430       45302\n",
              "16288  7397300170   5/30/2014  3710000.0  ... -122.234           2980       19602\n",
              "18467  4389201095   5/11/2015  3650000.0  ... -122.213           4190       11275\n",
              "6502   4217402115   4/21/2015  3650000.0  ... -122.277           3510       15810\n",
              "15241  2425049063   9/11/2014  3640000.0  ... -122.241           3820       25582\n",
              "19133  3625049042  10/11/2014  3640000.0  ... -122.236           2910       17600\n",
              "\n",
              "[20 rows x 21 columns]"
            ]
          },
          "metadata": {
            "tags": []
          },
          "execution_count": 23
        }
      ]
    },
    {
      "cell_type": "code",
      "metadata": {
        "id": "Oe4u2NfM-52X",
        "colab_type": "code",
        "colab": {
          "base_uri": "https://localhost:8080/",
          "height": 34
        },
        "outputId": "8a320cf3-8967-4d1a-839c-697c012e40aa"
      },
      "source": [
        "len(df)*(0.01)"
      ],
      "execution_count": 26,
      "outputs": [
        {
          "output_type": "execute_result",
          "data": {
            "text/plain": [
              "215.97"
            ]
          },
          "metadata": {
            "tags": []
          },
          "execution_count": 26
        }
      ]
    },
    {
      "cell_type": "code",
      "metadata": {
        "id": "62oT0hUl-Ye6",
        "colab_type": "code",
        "colab": {}
      },
      "source": [
        "non_top_1_perc = df.sort_values('price',ascending=False).iloc[216:]"
      ],
      "execution_count": 0,
      "outputs": []
    },
    {
      "cell_type": "code",
      "metadata": {
        "id": "MI32TvlY-yp-",
        "colab_type": "code",
        "colab": {}
      },
      "source": [
        "# plt.figure(figsize=(12,8))\n",
        "# sns.scatterplot(x='long',y='lat',\n",
        "#                 data=non_top_1_perc,hue='price',\n",
        "#                 palette='RdYlGn',edgecolor=None,alpha=0.2)"
      ],
      "execution_count": 0,
      "outputs": []
    },
    {
      "cell_type": "code",
      "metadata": {
        "id": "iaLsrKPI_HcU",
        "colab_type": "code",
        "colab": {}
      },
      "source": [
        "#sns.boxplot(x='waterfront',y='price',data=df)"
      ],
      "execution_count": 0,
      "outputs": []
    },
    {
      "cell_type": "markdown",
      "metadata": {
        "id": "ZZyaZ8uG_zYe",
        "colab_type": "text"
      },
      "source": [
        "# Feature Engg."
      ]
    },
    {
      "cell_type": "code",
      "metadata": {
        "id": "FxvUu-Ws_hFS",
        "colab_type": "code",
        "colab": {}
      },
      "source": [
        "df = df.drop('id',axis=1)"
      ],
      "execution_count": 0,
      "outputs": []
    },
    {
      "cell_type": "code",
      "metadata": {
        "id": "irf1odp2AbO8",
        "colab_type": "code",
        "colab": {}
      },
      "source": [
        "df['date'] = pd.to_datetime(df['date'])"
      ],
      "execution_count": 0,
      "outputs": []
    },
    {
      "cell_type": "code",
      "metadata": {
        "id": "OXOhxEuiAc1_",
        "colab_type": "code",
        "colab": {}
      },
      "source": [
        "df['month'] = df['date'].apply(lambda date:date.month)\n",
        "df['year'] = df['date'].apply(lambda date:date.year)"
      ],
      "execution_count": 0,
      "outputs": []
    },
    {
      "cell_type": "code",
      "metadata": {
        "id": "O25JmrEfBue8",
        "colab_type": "code",
        "colab": {}
      },
      "source": [
        "# plt.figure(figsize=(12,8))\n",
        "# sns.boxplot(x='month',y='price',data=df)"
      ],
      "execution_count": 0,
      "outputs": []
    },
    {
      "cell_type": "code",
      "metadata": {
        "id": "xVUs8qh1ApXw",
        "colab_type": "code",
        "colab": {
          "base_uri": "https://localhost:8080/",
          "height": 296
        },
        "outputId": "908d9dc5-43e1-49b2-8922-31ec2ca18a26"
      },
      "source": [
        "df.groupby('month').mean()['price'].plot()"
      ],
      "execution_count": 56,
      "outputs": [
        {
          "output_type": "execute_result",
          "data": {
            "text/plain": [
              "<matplotlib.axes._subplots.AxesSubplot at 0x7fe89f6ab940>"
            ]
          },
          "metadata": {
            "tags": []
          },
          "execution_count": 56
        },
        {
          "output_type": "display_data",
          "data": {
            "image/png": "[encoded data removed]",
            "text/plain": [
              "<Figure size 432x288 with 1 Axes>"
            ]
          },
          "metadata": {
            "tags": [],
            "needs_background": "light"
          }
        }
      ]
    },
    {
      "cell_type": "code",
      "metadata": {
        "id": "dDk03_NSBByV",
        "colab_type": "code",
        "colab": {}
      },
      "source": [
        "# df = df.drop('date',axis=1)\n",
        "df = df.drop('zipcode',axis=1)"
      ],
      "execution_count": 0,
      "outputs": []
    },
    {
      "cell_type": "markdown",
      "metadata": {
        "id": "MZMUBvPXF5Sp",
        "colab_type": "text"
      },
      "source": [
        "# Scaling and Create Model"
      ]
    },
    {
      "cell_type": "code",
      "metadata": {
        "id": "Y1EaONlGCfIe",
        "colab_type": "code",
        "colab": {}
      },
      "source": [
        "X = df.drop('price',axis=1).values\n",
        "y = df['price'].values"
      ],
      "execution_count": 0,
      "outputs": []
    },
    {
      "cell_type": "code",
      "metadata": {
        "id": "ueMW8cJhGBy4",
        "colab_type": "code",
        "colab": {}
      },
      "source": [
        "from sklearn.model_selection import train_test_split"
      ],
      "execution_count": 0,
      "outputs": []
    },
    {
      "cell_type": "code",
      "metadata": {
        "id": "IiZ7dD3fGDNU",
        "colab_type": "code",
        "colab": {}
      },
      "source": [
        "X_train, X_test, y_train, y_test = train_test_split(X,y,test_size=0.3,random_state=101)"
      ],
      "execution_count": 0,
      "outputs": []
    },
    {
      "cell_type": "code",
      "metadata": {
        "id": "J3NB2Ln0GG19",
        "colab_type": "code",
        "colab": {}
      },
      "source": [
        "from sklearn.preprocessing import MinMaxScaler"
      ],
      "execution_count": 0,
      "outputs": []
    },
    {
      "cell_type": "code",
      "metadata": {
        "id": "wfEw0QB7GKCe",
        "colab_type": "code",
        "colab": {}
      },
      "source": [
        "scaler = MinMaxScaler()\n",
        "X_train= scaler.fit_transform(X_train)\n",
        "X_test = scaler.transform(X_test)"
      ],
      "execution_count": 0,
      "outputs": []
    },
    {
      "cell_type": "code",
      "metadata": {
        "id": "cywpx_q9Gotg",
        "colab_type": "code",
        "colab": {
          "base_uri": "https://localhost:8080/",
          "height": 34
        },
        "outputId": "4e902d75-2444-424e-8043-279543fd7518"
      },
      "source": [
        "X_train.shape"
      ],
      "execution_count": 66,
      "outputs": [
        {
          "output_type": "execute_result",
          "data": {
            "text/plain": [
              "(15117, 19)"
            ]
          },
          "metadata": {
            "tags": []
          },
          "execution_count": 66
        }
      ]
    },
    {
      "cell_type": "markdown",
      "metadata": {
        "id": "HS68ehNESuVl",
        "colab_type": "text"
      },
      "source": [
        "# Imports"
      ]
    },
    {
      "cell_type": "code",
      "metadata": {
        "id": "O1bFz_ZzGt6E",
        "colab_type": "code",
        "colab": {}
      },
      "source": [
        "from tensorflow.keras.models import Sequential\n",
        "from tensorflow.keras.layers import Dense, Activation\n",
        "from tensorflow.keras.optimizers import Adam"
      ],
      "execution_count": 0,
      "outputs": []
    },
    {
      "cell_type": "code",
      "metadata": {
        "id": "-p89hgluGyfM",
        "colab_type": "code",
        "colab": {}
      },
      "source": [
        "model = Sequential()\n",
        "\n",
        "model.add(Dense(19,activation='relu'))\n",
        "model.add(Dense(19,activation='relu'))\n",
        "model.add(Dense(19,activation='relu'))\n",
        "model.add(Dense(19,activation='relu'))\n",
        "model.add(Dense(1))\n",
        "\n",
        "model.compile(optimizer='adam',loss='mse')"
      ],
      "execution_count": 0,
      "outputs": []
    },
    {
      "cell_type": "markdown",
      "metadata": {
        "id": "8tOj6MXOIkfj",
        "colab_type": "text"
      },
      "source": [
        "# Training the model"
      ]
    },
    {
      "cell_type": "code",
      "metadata": {
        "id": "4GVU7Q5UIiWp",
        "colab_type": "code",
        "colab": {
          "base_uri": "https://localhost:8080/",
          "height": 1000
        },
        "outputId": "922c2a7b-6928-4949-c7b1-6375e6cbe616"
      },
      "source": [
        "model.fit(x=X_train,y=y_train,\n",
        "          validation_data=(X_test,y_test),\n",
        "          batch_size=128,epochs=400)"
      ],
      "execution_count": 69,
      "outputs": [
        {
          "output_type": "stream",
          "text": [
            "Epoch 1/400\n",
            "119/119 [==============================] - 0s 3ms/step - loss: 430240006144.0000 - val_loss: 418916728832.0000\n",
            "Epoch 2/400\n",
            "119/119 [==============================] - 0s 2ms/step - loss: 429071400960.0000 - val_loss: 414842060800.0000\n",
            "Epoch 3/400\n",
            "119/119 [==============================] - 0s 2ms/step - loss: 413164896256.0000 - val_loss: 378835599360.0000\n",
            "Epoch 4/400\n",
            "119/119 [==============================] - 0s 2ms/step - loss: 337104502784.0000 - val_loss: 257064550400.0000\n",
            "Epoch 5/400\n",
            "119/119 [==============================] - 0s 2ms/step - loss: 187477688320.0000 - val_loss: 118251028480.0000\n",
            "Epoch 6/400\n",
            "119/119 [==============================] - 0s 2ms/step - loss: 105908240384.0000 - val_loss: 96337240064.0000\n",
            "Epoch 7/400\n",
            "119/119 [==============================] - 0s 2ms/step - loss: 98817703936.0000 - val_loss: 94791237632.0000\n",
            "Epoch 8/400\n",
            "119/119 [==============================] - 0s 2ms/step - loss: 97174716416.0000 - val_loss: 93261242368.0000\n",
            "Epoch 9/400\n",
            "119/119 [==============================] - 0s 2ms/step - loss: 95502049280.0000 - val_loss: 91667955712.0000\n",
            "Epoch 10/400\n",
            "119/119 [==============================] - 0s 2ms/step - loss: 93840834560.0000 - val_loss: 90041294848.0000\n",
            "Epoch 11/400\n",
            "119/119 [==============================] - 0s 2ms/step - loss: 92121489408.0000 - val_loss: 88361123840.0000\n",
            "Epoch 12/400\n",
            "119/119 [==============================] - 0s 2ms/step - loss: 90324795392.0000 - val_loss: 86672228352.0000\n",
            "Epoch 13/400\n",
            "119/119 [==============================] - 0s 2ms/step - loss: 88505556992.0000 - val_loss: 84992720896.0000\n",
            "Epoch 14/400\n",
            "119/119 [==============================] - 0s 2ms/step - loss: 86624641024.0000 - val_loss: 83084787712.0000\n",
            "Epoch 15/400\n",
            "119/119 [==============================] - 0s 2ms/step - loss: 84653170688.0000 - val_loss: 81209507840.0000\n",
            "Epoch 16/400\n",
            "119/119 [==============================] - 0s 2ms/step - loss: 82621513728.0000 - val_loss: 79066701824.0000\n",
            "Epoch 17/400\n",
            "119/119 [==============================] - 0s 2ms/step - loss: 80478068736.0000 - val_loss: 77054722048.0000\n",
            "Epoch 18/400\n",
            "119/119 [==============================] - 0s 2ms/step - loss: 78205386752.0000 - val_loss: 74585726976.0000\n",
            "Epoch 19/400\n",
            "119/119 [==============================] - 0s 2ms/step - loss: 75515822080.0000 - val_loss: 71830855680.0000\n",
            "Epoch 20/400\n",
            "119/119 [==============================] - 0s 2ms/step - loss: 72631894016.0000 - val_loss: 69056192512.0000\n",
            "Epoch 21/400\n",
            "119/119 [==============================] - 0s 2ms/step - loss: 69588238336.0000 - val_loss: 66111664128.0000\n",
            "Epoch 22/400\n",
            "119/119 [==============================] - 0s 2ms/step - loss: 66614050816.0000 - val_loss: 63379714048.0000\n",
            "Epoch 23/400\n",
            "119/119 [==============================] - 0s 2ms/step - loss: 63819243520.0000 - val_loss: 60625268736.0000\n",
            "Epoch 24/400\n",
            "119/119 [==============================] - 0s 2ms/step - loss: 61143048192.0000 - val_loss: 58173636608.0000\n",
            "Epoch 25/400\n",
            "119/119 [==============================] - 0s 2ms/step - loss: 58734813184.0000 - val_loss: 55965593600.0000\n",
            "Epoch 26/400\n",
            "119/119 [==============================] - 0s 2ms/step - loss: 56597413888.0000 - val_loss: 54155964416.0000\n",
            "Epoch 27/400\n",
            "119/119 [==============================] - 0s 2ms/step - loss: 54828331008.0000 - val_loss: 52556591104.0000\n",
            "Epoch 28/400\n",
            "119/119 [==============================] - 0s 2ms/step - loss: 53301219328.0000 - val_loss: 51278598144.0000\n",
            "Epoch 29/400\n",
            "119/119 [==============================] - 0s 2ms/step - loss: 52114386944.0000 - val_loss: 50234392576.0000\n",
            "Epoch 30/400\n",
            "119/119 [==============================] - 0s 2ms/step - loss: 51149803520.0000 - val_loss: 49418657792.0000\n",
            "Epoch 31/400\n",
            "119/119 [==============================] - 0s 2ms/step - loss: 50334265344.0000 - val_loss: 48689541120.0000\n",
            "Epoch 32/400\n",
            "119/119 [==============================] - 0s 2ms/step - loss: 49622372352.0000 - val_loss: 48079183872.0000\n",
            "Epoch 33/400\n",
            "119/119 [==============================] - 0s 2ms/step - loss: 48971108352.0000 - val_loss: 47567196160.0000\n",
            "Epoch 34/400\n",
            "119/119 [==============================] - 0s 2ms/step - loss: 48433401856.0000 - val_loss: 46998605824.0000\n",
            "Epoch 35/400\n",
            "119/119 [==============================] - 0s 2ms/step - loss: 47939223552.0000 - val_loss: 46534647808.0000\n",
            "Epoch 36/400\n",
            "119/119 [==============================] - 0s 2ms/step - loss: 47487774720.0000 - val_loss: 46244450304.0000\n",
            "Epoch 37/400\n",
            "119/119 [==============================] - 0s 2ms/step - loss: 47065546752.0000 - val_loss: 45720858624.0000\n",
            "Epoch 38/400\n",
            "119/119 [==============================] - 0s 2ms/step - loss: 46664028160.0000 - val_loss: 45372682240.0000\n",
            "Epoch 39/400\n",
            "119/119 [==============================] - 0s 2ms/step - loss: 46315466752.0000 - val_loss: 45004328960.0000\n",
            "Epoch 40/400\n",
            "119/119 [==============================] - 0s 2ms/step - loss: 45942591488.0000 - val_loss: 44700246016.0000\n",
            "Epoch 41/400\n",
            "119/119 [==============================] - 0s 2ms/step - loss: 45617561600.0000 - val_loss: 44377952256.0000\n",
            "Epoch 42/400\n",
            "119/119 [==============================] - 0s 2ms/step - loss: 45310402560.0000 - val_loss: 44076888064.0000\n",
            "Epoch 43/400\n",
            "119/119 [==============================] - 0s 2ms/step - loss: 44989988864.0000 - val_loss: 43786870784.0000\n",
            "Epoch 44/400\n",
            "119/119 [==============================] - 0s 2ms/step - loss: 44705247232.0000 - val_loss: 43502333952.0000\n",
            "Epoch 45/400\n",
            "119/119 [==============================] - 0s 2ms/step - loss: 44408164352.0000 - val_loss: 43432169472.0000\n",
            "Epoch 46/400\n",
            "119/119 [==============================] - 0s 2ms/step - loss: 44154351616.0000 - val_loss: 42957815808.0000\n",
            "Epoch 47/400\n",
            "119/119 [==============================] - 0s 2ms/step - loss: 43876102144.0000 - val_loss: 42709237760.0000\n",
            "Epoch 48/400\n",
            "119/119 [==============================] - 0s 2ms/step - loss: 43644383232.0000 - val_loss: 42513170432.0000\n",
            "Epoch 49/400\n",
            "119/119 [==============================] - 0s 2ms/step - loss: 43342905344.0000 - val_loss: 42211438592.0000\n",
            "Epoch 50/400\n",
            "119/119 [==============================] - 0s 2ms/step - loss: 43095474176.0000 - val_loss: 41947738112.0000\n",
            "Epoch 51/400\n",
            "119/119 [==============================] - 0s 2ms/step - loss: 42820820992.0000 - val_loss: 41729699840.0000\n",
            "Epoch 52/400\n",
            "119/119 [==============================] - 0s 2ms/step - loss: 42584260608.0000 - val_loss: 41429356544.0000\n",
            "Epoch 53/400\n",
            "119/119 [==============================] - 0s 2ms/step - loss: 42291490816.0000 - val_loss: 41221718016.0000\n",
            "Epoch 54/400\n",
            "119/119 [==============================] - 0s 2ms/step - loss: 42028716032.0000 - val_loss: 40955588608.0000\n",
            "Epoch 55/400\n",
            "119/119 [==============================] - 0s 2ms/step - loss: 41779499008.0000 - val_loss: 40663863296.0000\n",
            "Epoch 56/400\n",
            "119/119 [==============================] - 0s 2ms/step - loss: 41564995584.0000 - val_loss: 40481161216.0000\n",
            "Epoch 57/400\n",
            "119/119 [==============================] - 0s 2ms/step - loss: 41265078272.0000 - val_loss: 40113778688.0000\n",
            "Epoch 58/400\n",
            "119/119 [==============================] - 0s 2ms/step - loss: 40999268352.0000 - val_loss: 39851487232.0000\n",
            "Epoch 59/400\n",
            "119/119 [==============================] - 0s 2ms/step - loss: 40763305984.0000 - val_loss: 39607259136.0000\n",
            "Epoch 60/400\n",
            "119/119 [==============================] - 0s 2ms/step - loss: 40422694912.0000 - val_loss: 39279886336.0000\n",
            "Epoch 61/400\n",
            "119/119 [==============================] - 0s 2ms/step - loss: 40129355776.0000 - val_loss: 39063998464.0000\n",
            "Epoch 62/400\n",
            "119/119 [==============================] - 0s 2ms/step - loss: 39875502080.0000 - val_loss: 38756052992.0000\n",
            "Epoch 63/400\n",
            "119/119 [==============================] - 0s 2ms/step - loss: 39562801152.0000 - val_loss: 38444593152.0000\n",
            "Epoch 64/400\n",
            "119/119 [==============================] - 0s 2ms/step - loss: 39307997184.0000 - val_loss: 38099247104.0000\n",
            "Epoch 65/400\n",
            "119/119 [==============================] - 0s 2ms/step - loss: 39052947456.0000 - val_loss: 37853380608.0000\n",
            "Epoch 66/400\n",
            "119/119 [==============================] - 0s 2ms/step - loss: 38759223296.0000 - val_loss: 37554634752.0000\n",
            "Epoch 67/400\n",
            "119/119 [==============================] - 0s 2ms/step - loss: 38514307072.0000 - val_loss: 37268389888.0000\n",
            "Epoch 68/400\n",
            "119/119 [==============================] - 0s 2ms/step - loss: 38249742336.0000 - val_loss: 37083680768.0000\n",
            "Epoch 69/400\n",
            "119/119 [==============================] - 0s 2ms/step - loss: 38012125184.0000 - val_loss: 36813021184.0000\n",
            "Epoch 70/400\n",
            "119/119 [==============================] - 0s 2ms/step - loss: 37825212416.0000 - val_loss: 36677734400.0000\n",
            "Epoch 71/400\n",
            "119/119 [==============================] - 0s 2ms/step - loss: 37629784064.0000 - val_loss: 36428779520.0000\n",
            "Epoch 72/400\n",
            "119/119 [==============================] - 0s 2ms/step - loss: 37452447744.0000 - val_loss: 36269207552.0000\n",
            "Epoch 73/400\n",
            "119/119 [==============================] - 0s 2ms/step - loss: 37329248256.0000 - val_loss: 36117557248.0000\n",
            "Epoch 74/400\n",
            "119/119 [==============================] - 0s 2ms/step - loss: 37204877312.0000 - val_loss: 36009816064.0000\n",
            "Epoch 75/400\n",
            "119/119 [==============================] - 0s 2ms/step - loss: 37031383040.0000 - val_loss: 35870547968.0000\n",
            "Epoch 76/400\n",
            "119/119 [==============================] - 0s 2ms/step - loss: 36937060352.0000 - val_loss: 35790041088.0000\n",
            "Epoch 77/400\n",
            "119/119 [==============================] - 0s 2ms/step - loss: 36826025984.0000 - val_loss: 35650699264.0000\n",
            "Epoch 78/400\n",
            "119/119 [==============================] - 0s 2ms/step - loss: 36727943168.0000 - val_loss: 35562164224.0000\n",
            "Epoch 79/400\n",
            "119/119 [==============================] - 0s 2ms/step - loss: 36608188416.0000 - val_loss: 35431182336.0000\n",
            "Epoch 80/400\n",
            "119/119 [==============================] - 0s 2ms/step - loss: 36523032576.0000 - val_loss: 35381604352.0000\n",
            "Epoch 81/400\n",
            "119/119 [==============================] - 0s 2ms/step - loss: 36473692160.0000 - val_loss: 35237588992.0000\n",
            "Epoch 82/400\n",
            "119/119 [==============================] - 0s 2ms/step - loss: 36326240256.0000 - val_loss: 35166015488.0000\n",
            "Epoch 83/400\n",
            "119/119 [==============================] - 0s 2ms/step - loss: 36234481664.0000 - val_loss: 35092246528.0000\n",
            "Epoch 84/400\n",
            "119/119 [==============================] - 0s 2ms/step - loss: 36198232064.0000 - val_loss: 34988494848.0000\n",
            "Epoch 85/400\n",
            "119/119 [==============================] - 0s 2ms/step - loss: 36068810752.0000 - val_loss: 34900627456.0000\n",
            "Epoch 86/400\n",
            "119/119 [==============================] - 0s 2ms/step - loss: 36019011584.0000 - val_loss: 34813480960.0000\n",
            "Epoch 87/400\n",
            "119/119 [==============================] - 0s 2ms/step - loss: 35924107264.0000 - val_loss: 34776977408.0000\n",
            "Epoch 88/400\n",
            "119/119 [==============================] - 0s 2ms/step - loss: 35847008256.0000 - val_loss: 34667040768.0000\n",
            "Epoch 89/400\n",
            "119/119 [==============================] - 0s 2ms/step - loss: 35738591232.0000 - val_loss: 34608988160.0000\n",
            "Epoch 90/400\n",
            "119/119 [==============================] - 0s 2ms/step - loss: 35711254528.0000 - val_loss: 34492825600.0000\n",
            "Epoch 91/400\n",
            "119/119 [==============================] - 0s 2ms/step - loss: 35616403456.0000 - val_loss: 34411229184.0000\n",
            "Epoch 92/400\n",
            "119/119 [==============================] - 0s 2ms/step - loss: 35527741440.0000 - val_loss: 34337421312.0000\n",
            "Epoch 93/400\n",
            "119/119 [==============================] - 0s 2ms/step - loss: 35484835840.0000 - val_loss: 34269108224.0000\n",
            "Epoch 94/400\n",
            "119/119 [==============================] - 0s 2ms/step - loss: 35422064640.0000 - val_loss: 34194640896.0000\n",
            "Epoch 95/400\n",
            "119/119 [==============================] - 0s 2ms/step - loss: 35283943424.0000 - val_loss: 34164740096.0000\n",
            "Epoch 96/400\n",
            "119/119 [==============================] - 0s 2ms/step - loss: 35267174400.0000 - val_loss: 34045046784.0000\n",
            "Epoch 97/400\n",
            "119/119 [==============================] - 0s 2ms/step - loss: 35173314560.0000 - val_loss: 33969412096.0000\n",
            "Epoch 98/400\n",
            "119/119 [==============================] - 0s 2ms/step - loss: 35069272064.0000 - val_loss: 34245736448.0000\n",
            "Epoch 99/400\n",
            "119/119 [==============================] - 0s 2ms/step - loss: 35071897600.0000 - val_loss: 33930569728.0000\n",
            "Epoch 100/400\n",
            "119/119 [==============================] - 0s 2ms/step - loss: 34990870528.0000 - val_loss: 33758523392.0000\n",
            "Epoch 101/400\n",
            "119/119 [==============================] - 0s 2ms/step - loss: 34882879488.0000 - val_loss: 33680625664.0000\n",
            "Epoch 102/400\n",
            "119/119 [==============================] - 0s 2ms/step - loss: 34867863552.0000 - val_loss: 33631371264.0000\n",
            "Epoch 103/400\n",
            "119/119 [==============================] - 0s 2ms/step - loss: 34815221760.0000 - val_loss: 33619773440.0000\n",
            "Epoch 104/400\n",
            "119/119 [==============================] - 0s 2ms/step - loss: 34689691648.0000 - val_loss: 33533911040.0000\n",
            "Epoch 105/400\n",
            "119/119 [==============================] - 0s 2ms/step - loss: 34631421952.0000 - val_loss: 33691150336.0000\n",
            "Epoch 106/400\n",
            "119/119 [==============================] - 0s 2ms/step - loss: 34669219840.0000 - val_loss: 33349007360.0000\n",
            "Epoch 107/400\n",
            "119/119 [==============================] - 0s 2ms/step - loss: 34499268608.0000 - val_loss: 33376485376.0000\n",
            "Epoch 108/400\n",
            "119/119 [==============================] - 0s 2ms/step - loss: 34469421056.0000 - val_loss: 33235785728.0000\n",
            "Epoch 109/400\n",
            "119/119 [==============================] - 0s 2ms/step - loss: 34356576256.0000 - val_loss: 33179484160.0000\n",
            "Epoch 110/400\n",
            "119/119 [==============================] - 0s 2ms/step - loss: 34317711360.0000 - val_loss: 33104615424.0000\n",
            "Epoch 111/400\n",
            "119/119 [==============================] - 0s 2ms/step - loss: 34282487808.0000 - val_loss: 33039362048.0000\n",
            "Epoch 112/400\n",
            "119/119 [==============================] - 0s 2ms/step - loss: 34225045504.0000 - val_loss: 33002678272.0000\n",
            "Epoch 113/400\n",
            "119/119 [==============================] - 0s 2ms/step - loss: 34137937920.0000 - val_loss: 33050882048.0000\n",
            "Epoch 114/400\n",
            "119/119 [==============================] - 0s 2ms/step - loss: 34131546112.0000 - val_loss: 32873287680.0000\n",
            "Epoch 115/400\n",
            "119/119 [==============================] - 0s 2ms/step - loss: 34044057600.0000 - val_loss: 32866895872.0000\n",
            "Epoch 116/400\n",
            "119/119 [==============================] - 0s 2ms/step - loss: 34011535360.0000 - val_loss: 32763279360.0000\n",
            "Epoch 117/400\n",
            "119/119 [==============================] - 0s 2ms/step - loss: 33942272000.0000 - val_loss: 32708954112.0000\n",
            "Epoch 118/400\n",
            "119/119 [==============================] - 0s 2ms/step - loss: 33908748288.0000 - val_loss: 32652283904.0000\n",
            "Epoch 119/400\n",
            "119/119 [==============================] - 0s 2ms/step - loss: 33849366528.0000 - val_loss: 32608794624.0000\n",
            "Epoch 120/400\n",
            "119/119 [==============================] - 0s 2ms/step - loss: 33787699200.0000 - val_loss: 32566523904.0000\n",
            "Epoch 121/400\n",
            "119/119 [==============================] - 0s 2ms/step - loss: 33753913344.0000 - val_loss: 32515889152.0000\n",
            "Epoch 122/400\n",
            "119/119 [==============================] - 0s 2ms/step - loss: 33744429056.0000 - val_loss: 32461746176.0000\n",
            "Epoch 123/400\n",
            "119/119 [==============================] - 0s 2ms/step - loss: 33690503168.0000 - val_loss: 32417665024.0000\n",
            "Epoch 124/400\n",
            "119/119 [==============================] - 0s 2ms/step - loss: 33638256640.0000 - val_loss: 32373098496.0000\n",
            "Epoch 125/400\n",
            "119/119 [==============================] - 0s 2ms/step - loss: 33610020864.0000 - val_loss: 32338644992.0000\n",
            "Epoch 126/400\n",
            "119/119 [==============================] - 0s 2ms/step - loss: 33564231680.0000 - val_loss: 32368087040.0000\n",
            "Epoch 127/400\n",
            "119/119 [==============================] - 0s 2ms/step - loss: 33537280000.0000 - val_loss: 32247347200.0000\n",
            "Epoch 128/400\n",
            "119/119 [==============================] - 0s 2ms/step - loss: 33524781056.0000 - val_loss: 32260108288.0000\n",
            "Epoch 129/400\n",
            "119/119 [==============================] - 0s 2ms/step - loss: 33456982016.0000 - val_loss: 32229117952.0000\n",
            "Epoch 130/400\n",
            "119/119 [==============================] - 0s 2ms/step - loss: 33431097344.0000 - val_loss: 32235515904.0000\n",
            "Epoch 131/400\n",
            "119/119 [==============================] - 0s 2ms/step - loss: 33402654720.0000 - val_loss: 32094533632.0000\n",
            "Epoch 132/400\n",
            "119/119 [==============================] - 0s 2ms/step - loss: 33386373120.0000 - val_loss: 32038633472.0000\n",
            "Epoch 133/400\n",
            "119/119 [==============================] - 0s 2ms/step - loss: 33323345920.0000 - val_loss: 32014141440.0000\n",
            "Epoch 134/400\n",
            "119/119 [==============================] - 0s 2ms/step - loss: 33290162176.0000 - val_loss: 31955886080.0000\n",
            "Epoch 135/400\n",
            "119/119 [==============================] - 0s 2ms/step - loss: 33276086272.0000 - val_loss: 31942391808.0000\n",
            "Epoch 136/400\n",
            "119/119 [==============================] - 0s 2ms/step - loss: 33257232384.0000 - val_loss: 31885236224.0000\n",
            "Epoch 137/400\n",
            "119/119 [==============================] - 0s 2ms/step - loss: 33214083072.0000 - val_loss: 31905396736.0000\n",
            "Epoch 138/400\n",
            "119/119 [==============================] - 0s 2ms/step - loss: 33228216320.0000 - val_loss: 31865958400.0000\n",
            "Epoch 139/400\n",
            "119/119 [==============================] - 0s 2ms/step - loss: 33137319936.0000 - val_loss: 31790112768.0000\n",
            "Epoch 140/400\n",
            "119/119 [==============================] - 0s 2ms/step - loss: 33088509952.0000 - val_loss: 31759212544.0000\n",
            "Epoch 141/400\n",
            "119/119 [==============================] - 0s 2ms/step - loss: 33102878720.0000 - val_loss: 31708258304.0000\n",
            "Epoch 142/400\n",
            "119/119 [==============================] - 0s 2ms/step - loss: 33040883712.0000 - val_loss: 31679434752.0000\n",
            "Epoch 143/400\n",
            "119/119 [==============================] - 0s 2ms/step - loss: 33014796288.0000 - val_loss: 31670441984.0000\n",
            "Epoch 144/400\n",
            "119/119 [==============================] - 0s 2ms/step - loss: 32982687744.0000 - val_loss: 31643838464.0000\n",
            "Epoch 145/400\n",
            "119/119 [==============================] - 0s 2ms/step - loss: 32976904192.0000 - val_loss: 31640623104.0000\n",
            "Epoch 146/400\n",
            "119/119 [==============================] - 0s 2ms/step - loss: 32944455680.0000 - val_loss: 31550889984.0000\n",
            "Epoch 147/400\n",
            "119/119 [==============================] - 0s 2ms/step - loss: 32879034368.0000 - val_loss: 31570239488.0000\n",
            "Epoch 148/400\n",
            "119/119 [==============================] - 0s 2ms/step - loss: 32846850048.0000 - val_loss: 31518724096.0000\n",
            "Epoch 149/400\n",
            "119/119 [==============================] - 0s 2ms/step - loss: 32838238208.0000 - val_loss: 31482447872.0000\n",
            "Epoch 150/400\n",
            "119/119 [==============================] - 0s 2ms/step - loss: 32868489216.0000 - val_loss: 31447422976.0000\n",
            "Epoch 151/400\n",
            "119/119 [==============================] - 0s 2ms/step - loss: 32800219136.0000 - val_loss: 31442284544.0000\n",
            "Epoch 152/400\n",
            "119/119 [==============================] - 0s 2ms/step - loss: 32860452864.0000 - val_loss: 31353176064.0000\n",
            "Epoch 153/400\n",
            "119/119 [==============================] - 0s 2ms/step - loss: 32751241216.0000 - val_loss: 31291887616.0000\n",
            "Epoch 154/400\n",
            "119/119 [==============================] - 0s 2ms/step - loss: 32718428160.0000 - val_loss: 31250741248.0000\n",
            "Epoch 155/400\n",
            "119/119 [==============================] - 0s 2ms/step - loss: 32702724096.0000 - val_loss: 31230707712.0000\n",
            "Epoch 156/400\n",
            "119/119 [==============================] - 0s 2ms/step - loss: 32670904320.0000 - val_loss: 31273013248.0000\n",
            "Epoch 157/400\n",
            "119/119 [==============================] - 0s 2ms/step - loss: 32688486400.0000 - val_loss: 31171117056.0000\n",
            "Epoch 158/400\n",
            "119/119 [==============================] - 0s 2ms/step - loss: 32651671552.0000 - val_loss: 31140739072.0000\n",
            "Epoch 159/400\n",
            "119/119 [==============================] - 0s 2ms/step - loss: 32575440896.0000 - val_loss: 31082397696.0000\n",
            "Epoch 160/400\n",
            "119/119 [==============================] - 0s 2ms/step - loss: 32572141568.0000 - val_loss: 31085770752.0000\n",
            "Epoch 161/400\n",
            "119/119 [==============================] - 0s 2ms/step - loss: 32557467648.0000 - val_loss: 31039326208.0000\n",
            "Epoch 162/400\n",
            "119/119 [==============================] - 0s 2ms/step - loss: 32548040704.0000 - val_loss: 31116816384.0000\n",
            "Epoch 163/400\n",
            "119/119 [==============================] - 0s 2ms/step - loss: 32501315584.0000 - val_loss: 30978013184.0000\n",
            "Epoch 164/400\n",
            "119/119 [==============================] - 0s 2ms/step - loss: 32496695296.0000 - val_loss: 30942035968.0000\n",
            "Epoch 165/400\n",
            "119/119 [==============================] - 0s 2ms/step - loss: 32467992576.0000 - val_loss: 30942441472.0000\n",
            "Epoch 166/400\n",
            "119/119 [==============================] - 0s 2ms/step - loss: 32436754432.0000 - val_loss: 30877802496.0000\n",
            "Epoch 167/400\n",
            "119/119 [==============================] - 0s 2ms/step - loss: 32420470784.0000 - val_loss: 30851190784.0000\n",
            "Epoch 168/400\n",
            "119/119 [==============================] - 0s 2ms/step - loss: 32376723456.0000 - val_loss: 30833920000.0000\n",
            "Epoch 169/400\n",
            "119/119 [==============================] - 0s 2ms/step - loss: 32361816064.0000 - val_loss: 30832566272.0000\n",
            "Epoch 170/400\n",
            "119/119 [==============================] - 0s 2ms/step - loss: 32339693568.0000 - val_loss: 30803625984.0000\n",
            "Epoch 171/400\n",
            "119/119 [==============================] - 0s 2ms/step - loss: 32351735808.0000 - val_loss: 30782980096.0000\n",
            "Epoch 172/400\n",
            "119/119 [==============================] - 0s 2ms/step - loss: 32317155328.0000 - val_loss: 30737278976.0000\n",
            "Epoch 173/400\n",
            "119/119 [==============================] - 0s 2ms/step - loss: 32307064832.0000 - val_loss: 30700650496.0000\n",
            "Epoch 174/400\n",
            "119/119 [==============================] - 0s 2ms/step - loss: 32279732224.0000 - val_loss: 30780045312.0000\n",
            "Epoch 175/400\n",
            "119/119 [==============================] - 0s 2ms/step - loss: 32247355392.0000 - val_loss: 30644238336.0000\n",
            "Epoch 176/400\n",
            "119/119 [==============================] - 0s 2ms/step - loss: 32226641920.0000 - val_loss: 30626316288.0000\n",
            "Epoch 177/400\n",
            "119/119 [==============================] - 0s 2ms/step - loss: 32212006912.0000 - val_loss: 30702804992.0000\n",
            "Epoch 178/400\n",
            "119/119 [==============================] - 0s 2ms/step - loss: 32204484608.0000 - val_loss: 30547849216.0000\n",
            "Epoch 179/400\n",
            "119/119 [==============================] - 0s 2ms/step - loss: 32167016448.0000 - val_loss: 30559373312.0000\n",
            "Epoch 180/400\n",
            "119/119 [==============================] - 0s 2ms/step - loss: 32116555776.0000 - val_loss: 30514483200.0000\n",
            "Epoch 181/400\n",
            "119/119 [==============================] - 0s 2ms/step - loss: 32125665280.0000 - val_loss: 30531958784.0000\n",
            "Epoch 182/400\n",
            "119/119 [==============================] - 0s 2ms/step - loss: 32116035584.0000 - val_loss: 30483435520.0000\n",
            "Epoch 183/400\n",
            "119/119 [==============================] - 0s 2ms/step - loss: 32126820352.0000 - val_loss: 30549184512.0000\n",
            "Epoch 184/400\n",
            "119/119 [==============================] - 0s 2ms/step - loss: 32062482432.0000 - val_loss: 30397466624.0000\n",
            "Epoch 185/400\n",
            "119/119 [==============================] - 0s 2ms/step - loss: 32031348736.0000 - val_loss: 30403831808.0000\n",
            "Epoch 186/400\n",
            "119/119 [==============================] - 0s 2ms/step - loss: 32083763200.0000 - val_loss: 30378063872.0000\n",
            "Epoch 187/400\n",
            "119/119 [==============================] - 0s 2ms/step - loss: 32005990400.0000 - val_loss: 30318059520.0000\n",
            "Epoch 188/400\n",
            "119/119 [==============================] - 0s 2ms/step - loss: 31966416896.0000 - val_loss: 30379126784.0000\n",
            "Epoch 189/400\n",
            "119/119 [==============================] - 0s 2ms/step - loss: 31998390272.0000 - val_loss: 30341675008.0000\n",
            "Epoch 190/400\n",
            "119/119 [==============================] - 0s 2ms/step - loss: 31973060608.0000 - val_loss: 30351564800.0000\n",
            "Epoch 191/400\n",
            "119/119 [==============================] - 0s 2ms/step - loss: 31956985856.0000 - val_loss: 30302992384.0000\n",
            "Epoch 192/400\n",
            "119/119 [==============================] - 0s 2ms/step - loss: 31947823104.0000 - val_loss: 30234202112.0000\n",
            "Epoch 193/400\n",
            "119/119 [==============================] - 0s 2ms/step - loss: 31854895104.0000 - val_loss: 30169960448.0000\n",
            "Epoch 194/400\n",
            "119/119 [==============================] - 0s 2ms/step - loss: 31899121664.0000 - val_loss: 30219782144.0000\n",
            "Epoch 195/400\n",
            "119/119 [==============================] - 0s 2ms/step - loss: 31878692864.0000 - val_loss: 30123462656.0000\n",
            "Epoch 196/400\n",
            "119/119 [==============================] - 0s 2ms/step - loss: 31828934656.0000 - val_loss: 30127630336.0000\n",
            "Epoch 197/400\n",
            "119/119 [==============================] - 0s 2ms/step - loss: 31844380672.0000 - val_loss: 30074984448.0000\n",
            "Epoch 198/400\n",
            "119/119 [==============================] - 0s 2ms/step - loss: 31834687488.0000 - val_loss: 30080763904.0000\n",
            "Epoch 199/400\n",
            "119/119 [==============================] - 0s 2ms/step - loss: 31781095424.0000 - val_loss: 30082539520.0000\n",
            "Epoch 200/400\n",
            "119/119 [==============================] - 0s 2ms/step - loss: 31774533632.0000 - val_loss: 30064150528.0000\n",
            "Epoch 201/400\n",
            "119/119 [==============================] - 0s 2ms/step - loss: 31729561600.0000 - val_loss: 30020780032.0000\n",
            "Epoch 202/400\n",
            "119/119 [==============================] - 0s 2ms/step - loss: 31748673536.0000 - val_loss: 29999200256.0000\n",
            "Epoch 203/400\n",
            "119/119 [==============================] - 0s 2ms/step - loss: 31729500160.0000 - val_loss: 30002083840.0000\n",
            "Epoch 204/400\n",
            "119/119 [==============================] - 0s 2ms/step - loss: 31738302464.0000 - val_loss: 30013192192.0000\n",
            "Epoch 205/400\n",
            "119/119 [==============================] - 0s 2ms/step - loss: 31670253568.0000 - val_loss: 29963012096.0000\n",
            "Epoch 206/400\n",
            "119/119 [==============================] - 0s 2ms/step - loss: 31766558720.0000 - val_loss: 29964597248.0000\n",
            "Epoch 207/400\n",
            "119/119 [==============================] - 0s 2ms/step - loss: 31681437696.0000 - val_loss: 29892935680.0000\n",
            "Epoch 208/400\n",
            "119/119 [==============================] - 0s 2ms/step - loss: 31657914368.0000 - val_loss: 29887918080.0000\n",
            "Epoch 209/400\n",
            "119/119 [==============================] - 0s 2ms/step - loss: 31660769280.0000 - val_loss: 29878509568.0000\n",
            "Epoch 210/400\n",
            "119/119 [==============================] - 0s 2ms/step - loss: 31618064384.0000 - val_loss: 29850796032.0000\n",
            "Epoch 211/400\n",
            "119/119 [==============================] - 0s 2ms/step - loss: 31638284288.0000 - val_loss: 29835982848.0000\n",
            "Epoch 212/400\n",
            "119/119 [==============================] - 0s 2ms/step - loss: 31575162880.0000 - val_loss: 29806958592.0000\n",
            "Epoch 213/400\n",
            "119/119 [==============================] - 0s 2ms/step - loss: 31564414976.0000 - val_loss: 29820950528.0000\n",
            "Epoch 214/400\n",
            "119/119 [==============================] - 0s 2ms/step - loss: 31570190336.0000 - val_loss: 29798602752.0000\n",
            "Epoch 215/400\n",
            "119/119 [==============================] - 0s 2ms/step - loss: 31560376320.0000 - val_loss: 29736802304.0000\n",
            "Epoch 216/400\n",
            "119/119 [==============================] - 0s 2ms/step - loss: 31521648640.0000 - val_loss: 29788923904.0000\n",
            "Epoch 217/400\n",
            "119/119 [==============================] - 0s 2ms/step - loss: 31521310720.0000 - val_loss: 29741203456.0000\n",
            "Epoch 218/400\n",
            "119/119 [==============================] - 0s 2ms/step - loss: 31503806464.0000 - val_loss: 29668167680.0000\n",
            "Epoch 219/400\n",
            "119/119 [==============================] - 0s 2ms/step - loss: 31501637632.0000 - val_loss: 29671401472.0000\n",
            "Epoch 220/400\n",
            "119/119 [==============================] - 0s 2ms/step - loss: 31448504320.0000 - val_loss: 29634519040.0000\n",
            "Epoch 221/400\n",
            "119/119 [==============================] - 0s 2ms/step - loss: 31431208960.0000 - val_loss: 29668280320.0000\n",
            "Epoch 222/400\n",
            "119/119 [==============================] - 0s 2ms/step - loss: 31476738048.0000 - val_loss: 29596223488.0000\n",
            "Epoch 223/400\n",
            "119/119 [==============================] - 0s 2ms/step - loss: 31434291200.0000 - val_loss: 29587814400.0000\n",
            "Epoch 224/400\n",
            "119/119 [==============================] - 0s 2ms/step - loss: 31405719552.0000 - val_loss: 29587499008.0000\n",
            "Epoch 225/400\n",
            "119/119 [==============================] - 0s 2ms/step - loss: 31369027584.0000 - val_loss: 29624137728.0000\n",
            "Epoch 226/400\n",
            "119/119 [==============================] - 0s 2ms/step - loss: 31435163648.0000 - val_loss: 29599905792.0000\n",
            "Epoch 227/400\n",
            "119/119 [==============================] - 0s 2ms/step - loss: 31349671936.0000 - val_loss: 29578033152.0000\n",
            "Epoch 228/400\n",
            "119/119 [==============================] - 0s 2ms/step - loss: 31386699776.0000 - val_loss: 29517461504.0000\n",
            "Epoch 229/400\n",
            "119/119 [==============================] - 0s 2ms/step - loss: 31327217664.0000 - val_loss: 29528791040.0000\n",
            "Epoch 230/400\n",
            "119/119 [==============================] - 0s 2ms/step - loss: 31319984128.0000 - val_loss: 29511219200.0000\n",
            "Epoch 231/400\n",
            "119/119 [==============================] - 0s 2ms/step - loss: 31328038912.0000 - val_loss: 29474482176.0000\n",
            "Epoch 232/400\n",
            "119/119 [==============================] - 0s 2ms/step - loss: 31286321152.0000 - val_loss: 29433761792.0000\n",
            "Epoch 233/400\n",
            "119/119 [==============================] - 0s 2ms/step - loss: 31313170432.0000 - val_loss: 29398693888.0000\n",
            "Epoch 234/400\n",
            "119/119 [==============================] - 0s 2ms/step - loss: 31354030080.0000 - val_loss: 29410879488.0000\n",
            "Epoch 235/400\n",
            "119/119 [==============================] - 0s 2ms/step - loss: 31250937856.0000 - val_loss: 29430538240.0000\n",
            "Epoch 236/400\n",
            "119/119 [==============================] - 0s 2ms/step - loss: 31232233472.0000 - val_loss: 29457090560.0000\n",
            "Epoch 237/400\n",
            "119/119 [==============================] - 0s 2ms/step - loss: 31284905984.0000 - val_loss: 29636562944.0000\n",
            "Epoch 238/400\n",
            "119/119 [==============================] - 0s 2ms/step - loss: 31229605888.0000 - val_loss: 29444757504.0000\n",
            "Epoch 239/400\n",
            "119/119 [==============================] - 0s 2ms/step - loss: 31249424384.0000 - val_loss: 29380237312.0000\n",
            "Epoch 240/400\n",
            "119/119 [==============================] - 0s 2ms/step - loss: 31205947392.0000 - val_loss: 29325062144.0000\n",
            "Epoch 241/400\n",
            "119/119 [==============================] - 0s 2ms/step - loss: 31187427328.0000 - val_loss: 29284270080.0000\n",
            "Epoch 242/400\n",
            "119/119 [==============================] - 0s 2ms/step - loss: 31167336448.0000 - val_loss: 29344468992.0000\n",
            "Epoch 243/400\n",
            "119/119 [==============================] - 0s 2ms/step - loss: 31173197824.0000 - val_loss: 29319684096.0000\n",
            "Epoch 244/400\n",
            "119/119 [==============================] - 0s 2ms/step - loss: 31167275008.0000 - val_loss: 29254234112.0000\n",
            "Epoch 245/400\n",
            "119/119 [==============================] - 0s 2ms/step - loss: 31141986304.0000 - val_loss: 29273573376.0000\n",
            "Epoch 246/400\n",
            "119/119 [==============================] - 0s 2ms/step - loss: 31130091520.0000 - val_loss: 29264762880.0000\n",
            "Epoch 247/400\n",
            "119/119 [==============================] - 0s 2ms/step - loss: 31107358720.0000 - val_loss: 29240823808.0000\n",
            "Epoch 248/400\n",
            "119/119 [==============================] - 0s 2ms/step - loss: 31109681152.0000 - val_loss: 29253804032.0000\n",
            "Epoch 249/400\n",
            "119/119 [==============================] - 0s 2ms/step - loss: 31087771648.0000 - val_loss: 29217490944.0000\n",
            "Epoch 250/400\n",
            "119/119 [==============================] - 0s 2ms/step - loss: 31126800384.0000 - val_loss: 29239238656.0000\n",
            "Epoch 251/400\n",
            "119/119 [==============================] - 0s 2ms/step - loss: 31098712064.0000 - val_loss: 29147152384.0000\n",
            "Epoch 252/400\n",
            "119/119 [==============================] - 0s 2ms/step - loss: 31130796032.0000 - val_loss: 29211893760.0000\n",
            "Epoch 253/400\n",
            "119/119 [==============================] - 0s 2ms/step - loss: 31055454208.0000 - val_loss: 29141985280.0000\n",
            "Epoch 254/400\n",
            "119/119 [==============================] - 0s 2ms/step - loss: 31052781568.0000 - val_loss: 29187926016.0000\n",
            "Epoch 255/400\n",
            "119/119 [==============================] - 0s 2ms/step - loss: 31040018432.0000 - val_loss: 29134774272.0000\n",
            "Epoch 256/400\n",
            "119/119 [==============================] - 0s 2ms/step - loss: 30989674496.0000 - val_loss: 29077942272.0000\n",
            "Epoch 257/400\n",
            "119/119 [==============================] - 0s 2ms/step - loss: 31034241024.0000 - val_loss: 29086490624.0000\n",
            "Epoch 258/400\n",
            "119/119 [==============================] - 0s 2ms/step - loss: 30976356352.0000 - val_loss: 29151940608.0000\n",
            "Epoch 259/400\n",
            "119/119 [==============================] - 0s 2ms/step - loss: 30987569152.0000 - val_loss: 29051660288.0000\n",
            "Epoch 260/400\n",
            "119/119 [==============================] - 0s 2ms/step - loss: 30979004416.0000 - val_loss: 29049337856.0000\n",
            "Epoch 261/400\n",
            "119/119 [==============================] - 0s 2ms/step - loss: 30964500480.0000 - val_loss: 29020194816.0000\n",
            "Epoch 262/400\n",
            "119/119 [==============================] - 0s 2ms/step - loss: 31019718656.0000 - val_loss: 29098039296.0000\n",
            "Epoch 263/400\n",
            "119/119 [==============================] - 0s 2ms/step - loss: 30967627776.0000 - val_loss: 29086461952.0000\n",
            "Epoch 264/400\n",
            "119/119 [==============================] - 0s 2ms/step - loss: 30943762432.0000 - val_loss: 29018583040.0000\n",
            "Epoch 265/400\n",
            "119/119 [==============================] - 0s 2ms/step - loss: 30903664640.0000 - val_loss: 28992675840.0000\n",
            "Epoch 266/400\n",
            "119/119 [==============================] - 0s 2ms/step - loss: 30936260608.0000 - val_loss: 28940062720.0000\n",
            "Epoch 267/400\n",
            "119/119 [==============================] - 0s 2ms/step - loss: 30964342784.0000 - val_loss: 28972703744.0000\n",
            "Epoch 268/400\n",
            "119/119 [==============================] - 0s 2ms/step - loss: 30901741568.0000 - val_loss: 28965863424.0000\n",
            "Epoch 269/400\n",
            "119/119 [==============================] - 0s 2ms/step - loss: 30853550080.0000 - val_loss: 28895037440.0000\n",
            "Epoch 270/400\n",
            "119/119 [==============================] - 0s 2ms/step - loss: 30870153216.0000 - val_loss: 28891996160.0000\n",
            "Epoch 271/400\n",
            "119/119 [==============================] - 0s 2ms/step - loss: 30863063040.0000 - val_loss: 28916629504.0000\n",
            "Epoch 272/400\n",
            "119/119 [==============================] - 0s 2ms/step - loss: 30846347264.0000 - val_loss: 28876546048.0000\n",
            "Epoch 273/400\n",
            "119/119 [==============================] - 0s 2ms/step - loss: 30859669504.0000 - val_loss: 28884695040.0000\n",
            "Epoch 274/400\n",
            "119/119 [==============================] - 0s 2ms/step - loss: 30820296704.0000 - val_loss: 29055451136.0000\n",
            "Epoch 275/400\n",
            "119/119 [==============================] - 0s 2ms/step - loss: 30891358208.0000 - val_loss: 28909064192.0000\n",
            "Epoch 276/400\n",
            "119/119 [==============================] - 0s 2ms/step - loss: 30826950656.0000 - val_loss: 28878055424.0000\n",
            "Epoch 277/400\n",
            "119/119 [==============================] - 0s 2ms/step - loss: 30824906752.0000 - val_loss: 28844558336.0000\n",
            "Epoch 278/400\n",
            "119/119 [==============================] - 0s 2ms/step - loss: 30807056384.0000 - val_loss: 28849203200.0000\n",
            "Epoch 279/400\n",
            "119/119 [==============================] - 0s 2ms/step - loss: 30808578048.0000 - val_loss: 28817733632.0000\n",
            "Epoch 280/400\n",
            "119/119 [==============================] - 0s 2ms/step - loss: 30753433600.0000 - val_loss: 28900753408.0000\n",
            "Epoch 281/400\n",
            "119/119 [==============================] - 0s 2ms/step - loss: 30775209984.0000 - val_loss: 28782393344.0000\n",
            "Epoch 282/400\n",
            "119/119 [==============================] - 0s 2ms/step - loss: 30776479744.0000 - val_loss: 28804433920.0000\n",
            "Epoch 283/400\n",
            "119/119 [==============================] - 0s 2ms/step - loss: 30765690880.0000 - val_loss: 28936525824.0000\n",
            "Epoch 284/400\n",
            "119/119 [==============================] - 0s 2ms/step - loss: 30754805760.0000 - val_loss: 28781479936.0000\n",
            "Epoch 285/400\n",
            "119/119 [==============================] - 0s 2ms/step - loss: 30738585600.0000 - val_loss: 28792307712.0000\n",
            "Epoch 286/400\n",
            "119/119 [==============================] - 0s 2ms/step - loss: 30705373184.0000 - val_loss: 28741885952.0000\n",
            "Epoch 287/400\n",
            "119/119 [==============================] - 0s 2ms/step - loss: 30708336640.0000 - val_loss: 28726941696.0000\n",
            "Epoch 288/400\n",
            "119/119 [==============================] - 0s 2ms/step - loss: 30704678912.0000 - val_loss: 28704452608.0000\n",
            "Epoch 289/400\n",
            "119/119 [==============================] - 0s 2ms/step - loss: 30663380992.0000 - val_loss: 28794339328.0000\n",
            "Epoch 290/400\n",
            "119/119 [==============================] - 0s 2ms/step - loss: 30658977792.0000 - val_loss: 28680888320.0000\n",
            "Epoch 291/400\n",
            "119/119 [==============================] - 0s 2ms/step - loss: 30662631424.0000 - val_loss: 28687316992.0000\n",
            "Epoch 292/400\n",
            "119/119 [==============================] - 0s 2ms/step - loss: 30659401728.0000 - val_loss: 28655736832.0000\n",
            "Epoch 293/400\n",
            "119/119 [==============================] - 0s 2ms/step - loss: 30666692608.0000 - val_loss: 28655007744.0000\n",
            "Epoch 294/400\n",
            "119/119 [==============================] - 0s 2ms/step - loss: 30636429312.0000 - val_loss: 28641763328.0000\n",
            "Epoch 295/400\n",
            "119/119 [==============================] - 0s 2ms/step - loss: 30696316928.0000 - val_loss: 28603170816.0000\n",
            "Epoch 296/400\n",
            "119/119 [==============================] - 0s 2ms/step - loss: 30640822272.0000 - val_loss: 28737781760.0000\n",
            "Epoch 297/400\n",
            "119/119 [==============================] - 0s 2ms/step - loss: 30611638272.0000 - val_loss: 28579493888.0000\n",
            "Epoch 298/400\n",
            "119/119 [==============================] - 0s 2ms/step - loss: 30621972480.0000 - val_loss: 28594051072.0000\n",
            "Epoch 299/400\n",
            "119/119 [==============================] - 0s 2ms/step - loss: 30601914368.0000 - val_loss: 28573257728.0000\n",
            "Epoch 300/400\n",
            "119/119 [==============================] - 0s 2ms/step - loss: 30592079872.0000 - val_loss: 28537458688.0000\n",
            "Epoch 301/400\n",
            "119/119 [==============================] - 0s 2ms/step - loss: 30573772800.0000 - val_loss: 28568047616.0000\n",
            "Epoch 302/400\n",
            "119/119 [==============================] - 0s 2ms/step - loss: 30564882432.0000 - val_loss: 28539893760.0000\n",
            "Epoch 303/400\n",
            "119/119 [==============================] - 0s 2ms/step - loss: 30562877440.0000 - val_loss: 28574488576.0000\n",
            "Epoch 304/400\n",
            "119/119 [==============================] - 0s 2ms/step - loss: 30593089536.0000 - val_loss: 28519090176.0000\n",
            "Epoch 305/400\n",
            "119/119 [==============================] - 0s 2ms/step - loss: 30535258112.0000 - val_loss: 28570077184.0000\n",
            "Epoch 306/400\n",
            "119/119 [==============================] - 0s 2ms/step - loss: 30544717824.0000 - val_loss: 28534300672.0000\n",
            "Epoch 307/400\n",
            "119/119 [==============================] - 0s 2ms/step - loss: 30489198592.0000 - val_loss: 28473163776.0000\n",
            "Epoch 308/400\n",
            "119/119 [==============================] - 0s 2ms/step - loss: 30495690752.0000 - val_loss: 28519221248.0000\n",
            "Epoch 309/400\n",
            "119/119 [==============================] - 0s 2ms/step - loss: 30502694912.0000 - val_loss: 28495874048.0000\n",
            "Epoch 310/400\n",
            "119/119 [==============================] - 0s 2ms/step - loss: 30509498368.0000 - val_loss: 28535734272.0000\n",
            "Epoch 311/400\n",
            "119/119 [==============================] - 0s 2ms/step - loss: 30514728960.0000 - val_loss: 28506873856.0000\n",
            "Epoch 312/400\n",
            "119/119 [==============================] - 0s 2ms/step - loss: 30480087040.0000 - val_loss: 28489388032.0000\n",
            "Epoch 313/400\n",
            "119/119 [==============================] - 0s 2ms/step - loss: 30479413248.0000 - val_loss: 28467318784.0000\n",
            "Epoch 314/400\n",
            "119/119 [==============================] - 0s 2ms/step - loss: 30455617536.0000 - val_loss: 28391952384.0000\n",
            "Epoch 315/400\n",
            "119/119 [==============================] - 0s 2ms/step - loss: 30439448576.0000 - val_loss: 28391854080.0000\n",
            "Epoch 316/400\n",
            "119/119 [==============================] - 0s 2ms/step - loss: 30464802816.0000 - val_loss: 28424052736.0000\n",
            "Epoch 317/400\n",
            "119/119 [==============================] - 0s 2ms/step - loss: 30405396480.0000 - val_loss: 28461324288.0000\n",
            "Epoch 318/400\n",
            "119/119 [==============================] - 0s 2ms/step - loss: 30468704256.0000 - val_loss: 28370716672.0000\n",
            "Epoch 319/400\n",
            "119/119 [==============================] - 0s 2ms/step - loss: 30458216448.0000 - val_loss: 28377667584.0000\n",
            "Epoch 320/400\n",
            "119/119 [==============================] - 0s 2ms/step - loss: 30412312576.0000 - val_loss: 28363708416.0000\n",
            "Epoch 321/400\n",
            "119/119 [==============================] - 0s 2ms/step - loss: 30384734208.0000 - val_loss: 28408895488.0000\n",
            "Epoch 322/400\n",
            "119/119 [==============================] - 0s 2ms/step - loss: 30398081024.0000 - val_loss: 28337592320.0000\n",
            "Epoch 323/400\n",
            "119/119 [==============================] - 0s 2ms/step - loss: 30361729024.0000 - val_loss: 28387293184.0000\n",
            "Epoch 324/400\n",
            "119/119 [==============================] - 0s 2ms/step - loss: 30396776448.0000 - val_loss: 28287791104.0000\n",
            "Epoch 325/400\n",
            "119/119 [==============================] - 0s 2ms/step - loss: 30343763968.0000 - val_loss: 28434253824.0000\n",
            "Epoch 326/400\n",
            "119/119 [==============================] - 0s 2ms/step - loss: 30423152640.0000 - val_loss: 28434659328.0000\n",
            "Epoch 327/400\n",
            "119/119 [==============================] - 0s 2ms/step - loss: 30396225536.0000 - val_loss: 28285079552.0000\n",
            "Epoch 328/400\n",
            "119/119 [==============================] - 0s 2ms/step - loss: 30323226624.0000 - val_loss: 28238374912.0000\n",
            "Epoch 329/400\n",
            "119/119 [==============================] - 0s 2ms/step - loss: 30366662656.0000 - val_loss: 28204920832.0000\n",
            "Epoch 330/400\n",
            "119/119 [==============================] - 0s 2ms/step - loss: 30362523648.0000 - val_loss: 28225189888.0000\n",
            "Epoch 331/400\n",
            "119/119 [==============================] - 0s 2ms/step - loss: 30339143680.0000 - val_loss: 28199813120.0000\n",
            "Epoch 332/400\n",
            "119/119 [==============================] - 0s 2ms/step - loss: 30287798272.0000 - val_loss: 28184774656.0000\n",
            "Epoch 333/400\n",
            "119/119 [==============================] - 0s 2ms/step - loss: 30279313408.0000 - val_loss: 28263776256.0000\n",
            "Epoch 334/400\n",
            "119/119 [==============================] - 0s 2ms/step - loss: 30293667840.0000 - val_loss: 28168644608.0000\n",
            "Epoch 335/400\n",
            "119/119 [==============================] - 0s 2ms/step - loss: 30354092032.0000 - val_loss: 28182345728.0000\n",
            "Epoch 336/400\n",
            "119/119 [==============================] - 0s 2ms/step - loss: 30272317440.0000 - val_loss: 28233566208.0000\n",
            "Epoch 337/400\n",
            "119/119 [==============================] - 0s 2ms/step - loss: 30248054784.0000 - val_loss: 28140052480.0000\n",
            "Epoch 338/400\n",
            "119/119 [==============================] - 0s 2ms/step - loss: 30274324480.0000 - val_loss: 28124121088.0000\n",
            "Epoch 339/400\n",
            "119/119 [==============================] - 0s 2ms/step - loss: 30245576704.0000 - val_loss: 28108453888.0000\n",
            "Epoch 340/400\n",
            "119/119 [==============================] - 0s 2ms/step - loss: 30242304000.0000 - val_loss: 28111753216.0000\n",
            "Epoch 341/400\n",
            "119/119 [==============================] - 0s 2ms/step - loss: 30225596416.0000 - val_loss: 28132872192.0000\n",
            "Epoch 342/400\n",
            "119/119 [==============================] - 0s 2ms/step - loss: 30235445248.0000 - val_loss: 28112377856.0000\n",
            "Epoch 343/400\n",
            "119/119 [==============================] - 0s 2ms/step - loss: 30216196096.0000 - val_loss: 28107341824.0000\n",
            "Epoch 344/400\n",
            "119/119 [==============================] - 0s 2ms/step - loss: 30205378560.0000 - val_loss: 28134672384.0000\n",
            "Epoch 345/400\n",
            "119/119 [==============================] - 0s 2ms/step - loss: 30240387072.0000 - val_loss: 28089593856.0000\n",
            "Epoch 346/400\n",
            "119/119 [==============================] - 0s 2ms/step - loss: 30226509824.0000 - val_loss: 28058464256.0000\n",
            "Epoch 347/400\n",
            "119/119 [==============================] - 0s 2ms/step - loss: 30179168256.0000 - val_loss: 28053053440.0000\n",
            "Epoch 348/400\n",
            "119/119 [==============================] - 0s 2ms/step - loss: 30198728704.0000 - val_loss: 28073719808.0000\n",
            "Epoch 349/400\n",
            "119/119 [==============================] - 0s 2ms/step - loss: 30212462592.0000 - val_loss: 28038694912.0000\n",
            "Epoch 350/400\n",
            "119/119 [==============================] - 0s 2ms/step - loss: 30180968448.0000 - val_loss: 27992469504.0000\n",
            "Epoch 351/400\n",
            "119/119 [==============================] - 0s 2ms/step - loss: 30220468224.0000 - val_loss: 27974811648.0000\n",
            "Epoch 352/400\n",
            "119/119 [==============================] - 0s 2ms/step - loss: 30152144896.0000 - val_loss: 28013199360.0000\n",
            "Epoch 353/400\n",
            "119/119 [==============================] - 0s 2ms/step - loss: 30134046720.0000 - val_loss: 27956514816.0000\n",
            "Epoch 354/400\n",
            "119/119 [==============================] - 0s 2ms/step - loss: 30140823552.0000 - val_loss: 27962290176.0000\n",
            "Epoch 355/400\n",
            "119/119 [==============================] - 0s 2ms/step - loss: 30162632704.0000 - val_loss: 28006199296.0000\n",
            "Epoch 356/400\n",
            "119/119 [==============================] - 0s 2ms/step - loss: 30187470848.0000 - val_loss: 27945318400.0000\n",
            "Epoch 357/400\n",
            "119/119 [==============================] - 0s 2ms/step - loss: 30172153856.0000 - val_loss: 27914797056.0000\n",
            "Epoch 358/400\n",
            "119/119 [==============================] - 0s 2ms/step - loss: 30115092480.0000 - val_loss: 27913687040.0000\n",
            "Epoch 359/400\n",
            "119/119 [==============================] - 0s 2ms/step - loss: 30079510528.0000 - val_loss: 28012912640.0000\n",
            "Epoch 360/400\n",
            "119/119 [==============================] - 0s 2ms/step - loss: 30110642176.0000 - val_loss: 27913357312.0000\n",
            "Epoch 361/400\n",
            "119/119 [==============================] - 0s 2ms/step - loss: 30108665856.0000 - val_loss: 27868649472.0000\n",
            "Epoch 362/400\n",
            "119/119 [==============================] - 0s 2ms/step - loss: 30076168192.0000 - val_loss: 27842189312.0000\n",
            "Epoch 363/400\n",
            "119/119 [==============================] - 0s 2ms/step - loss: 30088091648.0000 - val_loss: 27844241408.0000\n",
            "Epoch 364/400\n",
            "119/119 [==============================] - 0s 2ms/step - loss: 30028474368.0000 - val_loss: 27826280448.0000\n",
            "Epoch 365/400\n",
            "119/119 [==============================] - 0s 2ms/step - loss: 30067355648.0000 - val_loss: 27844622336.0000\n",
            "Epoch 366/400\n",
            "119/119 [==============================] - 0s 2ms/step - loss: 30065414144.0000 - val_loss: 27862108160.0000\n",
            "Epoch 367/400\n",
            "119/119 [==============================] - 0s 2ms/step - loss: 30002862080.0000 - val_loss: 27796160512.0000\n",
            "Epoch 368/400\n",
            "119/119 [==============================] - 0s 2ms/step - loss: 30027962368.0000 - val_loss: 27818799104.0000\n",
            "Epoch 369/400\n",
            "119/119 [==============================] - 0s 2ms/step - loss: 29991645184.0000 - val_loss: 27777744896.0000\n",
            "Epoch 370/400\n",
            "119/119 [==============================] - 0s 2ms/step - loss: 30010556416.0000 - val_loss: 27765657600.0000\n",
            "Epoch 371/400\n",
            "119/119 [==============================] - 0s 2ms/step - loss: 30012719104.0000 - val_loss: 27741628416.0000\n",
            "Epoch 372/400\n",
            "119/119 [==============================] - 0s 2ms/step - loss: 29943959552.0000 - val_loss: 27764418560.0000\n",
            "Epoch 373/400\n",
            "119/119 [==============================] - 0s 2ms/step - loss: 29994936320.0000 - val_loss: 27812917248.0000\n",
            "Epoch 374/400\n",
            "119/119 [==============================] - 0s 2ms/step - loss: 29945501696.0000 - val_loss: 27716915200.0000\n",
            "Epoch 375/400\n",
            "119/119 [==============================] - 0s 2ms/step - loss: 29953347584.0000 - val_loss: 27711102976.0000\n",
            "Epoch 376/400\n",
            "119/119 [==============================] - 0s 2ms/step - loss: 29939308544.0000 - val_loss: 27688792064.0000\n",
            "Epoch 377/400\n",
            "119/119 [==============================] - 0s 2ms/step - loss: 29936826368.0000 - val_loss: 27652968448.0000\n",
            "Epoch 378/400\n",
            "119/119 [==============================] - 0s 2ms/step - loss: 29927837696.0000 - val_loss: 27674281984.0000\n",
            "Epoch 379/400\n",
            "119/119 [==============================] - 0s 2ms/step - loss: 29934032896.0000 - val_loss: 27657426944.0000\n",
            "Epoch 380/400\n",
            "119/119 [==============================] - 0s 2ms/step - loss: 29900781568.0000 - val_loss: 27654621184.0000\n",
            "Epoch 381/400\n",
            "119/119 [==============================] - 0s 2ms/step - loss: 29898993664.0000 - val_loss: 27624224768.0000\n",
            "Epoch 382/400\n",
            "119/119 [==============================] - 0s 2ms/step - loss: 29989060608.0000 - val_loss: 27721762816.0000\n",
            "Epoch 383/400\n",
            "119/119 [==============================] - 0s 2ms/step - loss: 29885241344.0000 - val_loss: 27636111360.0000\n",
            "Epoch 384/400\n",
            "119/119 [==============================] - 0s 2ms/step - loss: 29869754368.0000 - val_loss: 27629676544.0000\n",
            "Epoch 385/400\n",
            "119/119 [==============================] - 0s 2ms/step - loss: 29833349120.0000 - val_loss: 27597889536.0000\n",
            "Epoch 386/400\n",
            "119/119 [==============================] - 0s 2ms/step - loss: 29836965888.0000 - val_loss: 27615555584.0000\n",
            "Epoch 387/400\n",
            "119/119 [==============================] - 0s 2ms/step - loss: 29826727936.0000 - val_loss: 27700142080.0000\n",
            "Epoch 388/400\n",
            "119/119 [==============================] - 0s 2ms/step - loss: 29802815488.0000 - val_loss: 27533969408.0000\n",
            "Epoch 389/400\n",
            "119/119 [==============================] - 0s 2ms/step - loss: 29822365696.0000 - val_loss: 27568719872.0000\n",
            "Epoch 390/400\n",
            "119/119 [==============================] - 0s 2ms/step - loss: 29881315328.0000 - val_loss: 27585280000.0000\n",
            "Epoch 391/400\n",
            "119/119 [==============================] - 0s 2ms/step - loss: 29796599808.0000 - val_loss: 27537186816.0000\n",
            "Epoch 392/400\n",
            "119/119 [==============================] - 0s 2ms/step - loss: 29817196544.0000 - val_loss: 27591991296.0000\n",
            "Epoch 393/400\n",
            "119/119 [==============================] - 0s 2ms/step - loss: 29809967104.0000 - val_loss: 27496613888.0000\n",
            "Epoch 394/400\n",
            "119/119 [==============================] - 0s 2ms/step - loss: 29847566336.0000 - val_loss: 27497189376.0000\n",
            "Epoch 395/400\n",
            "119/119 [==============================] - 0s 2ms/step - loss: 29762492416.0000 - val_loss: 27561117696.0000\n",
            "Epoch 396/400\n",
            "119/119 [==============================] - 0s 2ms/step - loss: 29807003648.0000 - val_loss: 27508516864.0000\n",
            "Epoch 397/400\n",
            "119/119 [==============================] - 0s 2ms/step - loss: 29756307456.0000 - val_loss: 27458537472.0000\n",
            "Epoch 398/400\n",
            "119/119 [==============================] - 0s 2ms/step - loss: 29797421056.0000 - val_loss: 27469787136.0000\n",
            "Epoch 399/400\n",
            "119/119 [==============================] - 0s 2ms/step - loss: 29712887808.0000 - val_loss: 27451977728.0000\n",
            "Epoch 400/400\n",
            "119/119 [==============================] - 0s 2ms/step - loss: 29720985600.0000 - val_loss: 27438694400.0000\n"
          ],
          "name": "stdout"
        },
        {
          "output_type": "execute_result",
          "data": {
            "text/plain": [
              "<tensorflow.python.keras.callbacks.History at 0x7fe859834c88>"
            ]
          },
          "metadata": {
            "tags": []
          },
          "execution_count": 69
        }
      ]
    },
    {
      "cell_type": "code",
      "metadata": {
        "id": "g5uUfDC9Isks",
        "colab_type": "code",
        "colab": {}
      },
      "source": [
        "loss_data = pd.DataFrame(model.history.history)"
      ],
      "execution_count": 0,
      "outputs": []
    },
    {
      "cell_type": "code",
      "metadata": {
        "id": "tTuD-f-GJQyJ",
        "colab_type": "code",
        "colab": {
          "base_uri": "https://localhost:8080/",
          "height": 293
        },
        "outputId": "f8f321fe-eb6d-4892-a582-4719491dbdac"
      },
      "source": [
        "loss_data.plot()"
      ],
      "execution_count": 71,
      "outputs": [
        {
          "output_type": "execute_result",
          "data": {
            "text/plain": [
              "<matplotlib.axes._subplots.AxesSubplot at 0x7fe854dd0a20>"
            ]
          },
          "metadata": {
            "tags": []
          },
          "execution_count": 71
        },
        {
          "output_type": "display_data",
          "data": {
            "image/png": "[encoded data removed]",
            "text/plain": [
              "<Figure size 432x288 with 1 Axes>"
            ]
          },
          "metadata": {
            "tags": [],
            "needs_background": "light"
          }
        }
      ]
    },
    {
      "cell_type": "markdown",
      "metadata": {
        "id": "WM64JnGoKJKi",
        "colab_type": "text"
      },
      "source": [
        "# Evaluations"
      ]
    },
    {
      "cell_type": "code",
      "metadata": {
        "id": "Ws1rKTJEJ1y4",
        "colab_type": "code",
        "colab": {}
      },
      "source": [
        "from sklearn.metrics import mean_squared_error,mean_absolute_error,explained_variance_score"
      ],
      "execution_count": 0,
      "outputs": []
    },
    {
      "cell_type": "code",
      "metadata": {
        "id": "OaKHbc8XKIAg",
        "colab_type": "code",
        "colab": {}
      },
      "source": [
        "predictions = model.predict(X_test)"
      ],
      "execution_count": 0,
      "outputs": []
    },
    {
      "cell_type": "code",
      "metadata": {
        "id": "_9lfETuPKNfq",
        "colab_type": "code",
        "colab": {
          "base_uri": "https://localhost:8080/",
          "height": 34
        },
        "outputId": "e6d1cd40-e0da-4599-e3d4-30bbde424562"
      },
      "source": [
        "mean_absolute_error(y_test,predictions)"
      ],
      "execution_count": 74,
      "outputs": [
        {
          "output_type": "execute_result",
          "data": {
            "text/plain": [
              "102748.94010898919"
            ]
          },
          "metadata": {
            "tags": []
          },
          "execution_count": 74
        }
      ]
    },
    {
      "cell_type": "code",
      "metadata": {
        "id": "MgdVhXVIKO4d",
        "colab_type": "code",
        "colab": {
          "base_uri": "https://localhost:8080/",
          "height": 34
        },
        "outputId": "e408f948-4016-432c-d830-7590d3510124"
      },
      "source": [
        "np.sqrt(mean_squared_error(y_test,predictions))"
      ],
      "execution_count": 76,
      "outputs": [
        {
          "output_type": "execute_result",
          "data": {
            "text/plain": [
              "165646.28435110976"
            ]
          },
          "metadata": {
            "tags": []
          },
          "execution_count": 76
        }
      ]
    },
    {
      "cell_type": "code",
      "metadata": {
        "id": "TfsuFyttKS4l",
        "colab_type": "code",
        "colab": {
          "base_uri": "https://localhost:8080/",
          "height": 168
        },
        "outputId": "f32ce4e8-1a4f-45c3-feb3-bf0af3159b78"
      },
      "source": [
        "df['price'].describe()"
      ],
      "execution_count": 78,
      "outputs": [
        {
          "output_type": "execute_result",
          "data": {
            "text/plain": [
              "count    2.159700e+04\n",
              "mean     5.402966e+05\n",
              "std      3.673681e+05\n",
              "min      7.800000e+04\n",
              "25%      3.220000e+05\n",
              "50%      4.500000e+05\n",
              "75%      6.450000e+05\n",
              "max      7.700000e+06\n",
              "Name: price, dtype: float64"
            ]
          },
          "metadata": {
            "tags": []
          },
          "execution_count": 78
        }
      ]
    },
    {
      "cell_type": "code",
      "metadata": {
        "id": "ufaynj5eKeIn",
        "colab_type": "code",
        "colab": {
          "base_uri": "https://localhost:8080/",
          "height": 34
        },
        "outputId": "38f7f2af-03c5-4e39-ad96-8d6f36b6883b"
      },
      "source": [
        "explained_variance_score(y_test,predictions)"
      ],
      "execution_count": 79,
      "outputs": [
        {
          "output_type": "execute_result",
          "data": {
            "text/plain": [
              "0.7931181503848039"
            ]
          },
          "metadata": {
            "tags": []
          },
          "execution_count": 79
        }
      ]
    },
    {
      "cell_type": "code",
      "metadata": {
        "id": "HyxSVlC8KurT",
        "colab_type": "code",
        "colab": {
          "base_uri": "https://localhost:8080/",
          "height": 306
        },
        "outputId": "3dc9ff0d-55dd-456e-a452-4d101aca3a7f"
      },
      "source": [
        "# Our predictions\n",
        "plt.scatter(y_test,predictions)\n",
        "\n",
        "# Perfect predictions\n",
        "plt.plot(y_test,y_test,'r')"
      ],
      "execution_count": 80,
      "outputs": [
        {
          "output_type": "execute_result",
          "data": {
            "text/plain": [
              "[<matplotlib.lines.Line2D at 0x7fe854c11ef0>]"
            ]
          },
          "metadata": {
            "tags": []
          },
          "execution_count": 80
        },
        {
          "output_type": "display_data",
          "data": {
            "image/png": "[encoded data removed]",
            "text/plain": [
              "<Figure size 432x288 with 1 Axes>"
            ]
          },
          "metadata": {
            "tags": [],
            "needs_background": "light"
          }
        }
      ]
    },
    {
      "cell_type": "markdown",
      "metadata": {
        "id": "lWM3ICxeLehB",
        "colab_type": "text"
      },
      "source": [
        "# Predicting on a brand new house"
      ]
    },
    {
      "cell_type": "code",
      "metadata": {
        "id": "_EbXaETuK844",
        "colab_type": "code",
        "colab": {}
      },
      "source": [
        "single_house = df.drop('price',axis=1).iloc[0]"
      ],
      "execution_count": 0,
      "outputs": []
    },
    {
      "cell_type": "code",
      "metadata": {
        "id": "2R8cb71fLg2J",
        "colab_type": "code",
        "colab": {}
      },
      "source": [
        "single_house = scaler.transform(single_house.values.reshape(-1, 19))"
      ],
      "execution_count": 0,
      "outputs": []
    },
    {
      "cell_type": "code",
      "metadata": {
        "id": "3840f8c-Ljas",
        "colab_type": "code",
        "colab": {
          "base_uri": "https://localhost:8080/",
          "height": 84
        },
        "outputId": "2d2eae65-1953-418c-9d23-4490e4b8f8e5"
      },
      "source": [
        "single_house"
      ],
      "execution_count": 83,
      "outputs": [
        {
          "output_type": "execute_result",
          "data": {
            "text/plain": [
              "array([[0.2       , 0.08      , 0.08376422, 0.00310751, 0.        ,\n",
              "        0.        , 0.        , 0.5       , 0.4       , 0.10785619,\n",
              "        0.        , 0.47826087, 0.        , 0.57149751, 0.21760797,\n",
              "        0.16193426, 0.00582059, 0.81818182, 0.        ]])"
            ]
          },
          "metadata": {
            "tags": []
          },
          "execution_count": 83
        }
      ]
    },
    {
      "cell_type": "code",
      "metadata": {
        "id": "_3nYTFtMLnNN",
        "colab_type": "code",
        "colab": {
          "base_uri": "https://localhost:8080/",
          "height": 34
        },
        "outputId": "c7a59dd0-6bef-4669-b1e2-79c3002c6d00"
      },
      "source": [
        "model.predict(single_house)"
      ],
      "execution_count": 84,
      "outputs": [
        {
          "output_type": "execute_result",
          "data": {
            "text/plain": [
              "array([[278674.84]], dtype=float32)"
            ]
          },
          "metadata": {
            "tags": []
          },
          "execution_count": 84
        }
      ]
    },
    {
      "cell_type": "markdown",
      "metadata": {
        "id": "eEgoUpz1QnfV",
        "colab_type": "text"
      },
      "source": [
        "# Early Stopping"
      ]
    },
    {
      "cell_type": "code",
      "metadata": {
        "id": "X66mbHPXQ6Ys",
        "colab_type": "code",
        "colab": {
          "resources": {
            "http://localhost:8080/nbextensions/google.colab/files.js": {
              "data": "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",
              "ok": true,
              "headers": [
                [
                  "content-type",
                  "application/javascript"
                ]
              ],
              "status": 200,
              "status_text": ""
            }
          },
          "base_uri": "https://localhost:8080/",
          "height": 74
        },
        "outputId": "acfea836-59fd-4211-ed0e-795495a9d628"
      },
      "source": [
        "from google.colab import files\n",
        "uploaded = files.upload()"
      ],
      "execution_count": 86,
      "outputs": [
        {
          "output_type": "display_data",
          "data": {
            "text/html": [
              "\n",
              "     <input type=\"file\" id=\"files-433d4273-15e3-45e2-8a2f-61d67dc04ac5\" name=\"files[]\" multiple disabled />\n",
              "     <output id=\"result-433d4273-15e3-45e2-8a2f-61d67dc04ac5\">\n",
              "      Upload widget is only available when the cell has been executed in the\n",
              "      current browser session. Please rerun this cell to enable.\n",
              "      </output>\n",
              "      <script src=\"/nbextensions/google.colab/files.js\"></script> "
            ],
            "text/plain": [
              "<IPython.core.display.HTML object>"
            ]
          },
          "metadata": {
            "tags": []
          }
        },
        {
          "output_type": "stream",
          "text": [
            "Saving cancer_classification.csv to cancer_classification.csv\n"
          ],
          "name": "stdout"
        }
      ]
    },
    {
      "cell_type": "code",
      "metadata": {
        "id": "_thAsmgLLqRw",
        "colab_type": "code",
        "colab": {}
      },
      "source": [
        "df2 = pd.read_csv(io.BytesIO(uploaded['cancer_classification.csv']))"
      ],
      "execution_count": 0,
      "outputs": []
    },
    {
      "cell_type": "markdown",
      "metadata": {
        "id": "ND7LvW0rSFv_",
        "colab_type": "text"
      },
      "source": [
        "# EDA"
      ]
    },
    {
      "cell_type": "code",
      "metadata": {
        "id": "QoolXlJKQxc1",
        "colab_type": "code",
        "colab": {}
      },
      "source": [
        "#sns.countplot(x='benign_0__mal_1',data=df2)"
      ],
      "execution_count": 0,
      "outputs": []
    },
    {
      "cell_type": "code",
      "metadata": {
        "id": "e7q8peLbRebK",
        "colab_type": "code",
        "colab": {}
      },
      "source": [
        "#df2.corr()['benign_0__mal_1'][:-1].sort_values().plot(kind='bar')"
      ],
      "execution_count": 0,
      "outputs": []
    },
    {
      "cell_type": "code",
      "metadata": {
        "id": "407a2NsIRseg",
        "colab_type": "code",
        "colab": {}
      },
      "source": [
        "#sns.heatmap(df.corr())"
      ],
      "execution_count": 0,
      "outputs": []
    },
    {
      "cell_type": "markdown",
      "metadata": {
        "id": "LPrhWEIbSHq1",
        "colab_type": "text"
      },
      "source": [
        "## Train Test Split"
      ]
    },
    {
      "cell_type": "code",
      "metadata": {
        "id": "Xl2U38JeR1bv",
        "colab_type": "code",
        "colab": {}
      },
      "source": [
        "X = df2.drop('benign_0__mal_1',axis=1).values\n",
        "y = df2['benign_0__mal_1'].values"
      ],
      "execution_count": 0,
      "outputs": []
    },
    {
      "cell_type": "code",
      "metadata": {
        "id": "3HZKcx96R8Av",
        "colab_type": "code",
        "colab": {}
      },
      "source": [
        "X_train, X_test, y_train, y_test = train_test_split(X,y,test_size=0.25,random_state=101)"
      ],
      "execution_count": 0,
      "outputs": []
    },
    {
      "cell_type": "markdown",
      "metadata": {
        "id": "kNNbbkgVSN6l",
        "colab_type": "text"
      },
      "source": [
        "## Scaling Data"
      ]
    },
    {
      "cell_type": "code",
      "metadata": {
        "id": "SvjFcc5FSLxp",
        "colab_type": "code",
        "colab": {}
      },
      "source": [
        "scaler = MinMaxScaler()"
      ],
      "execution_count": 0,
      "outputs": []
    },
    {
      "cell_type": "code",
      "metadata": {
        "id": "XTZepHBxSSrO",
        "colab_type": "code",
        "colab": {
          "base_uri": "https://localhost:8080/",
          "height": 34
        },
        "outputId": "406da8ca-8e2f-4845-ec94-5b0bed7e925c"
      },
      "source": [
        "scaler.fit(X_train)"
      ],
      "execution_count": 100,
      "outputs": [
        {
          "output_type": "execute_result",
          "data": {
            "text/plain": [
              "MinMaxScaler(copy=True, feature_range=(0, 1))"
            ]
          },
          "metadata": {
            "tags": []
          },
          "execution_count": 100
        }
      ]
    },
    {
      "cell_type": "code",
      "metadata": {
        "id": "-jPpJTANSUOd",
        "colab_type": "code",
        "colab": {}
      },
      "source": [
        "X_train = scaler.fit_transform(X_train)\n",
        "X_test = scaler.transform(X_test)"
      ],
      "execution_count": 0,
      "outputs": []
    },
    {
      "cell_type": "code",
      "metadata": {
        "id": "1GHhclWqSV4a",
        "colab_type": "code",
        "colab": {}
      },
      "source": [
        "import tensorflow as tf\n",
        "from tensorflow.keras.layers import Dropout"
      ],
      "execution_count": 0,
      "outputs": []
    },
    {
      "cell_type": "code",
      "metadata": {
        "id": "4W7U9l11S8EX",
        "colab_type": "code",
        "colab": {
          "base_uri": "https://localhost:8080/",
          "height": 34
        },
        "outputId": "eb59f8d1-3a08-4362-860e-35daa0f221b0"
      },
      "source": [
        "X_train.shape"
      ],
      "execution_count": 104,
      "outputs": [
        {
          "output_type": "execute_result",
          "data": {
            "text/plain": [
              "(426, 30)"
            ]
          },
          "metadata": {
            "tags": []
          },
          "execution_count": 104
        }
      ]
    },
    {
      "cell_type": "code",
      "metadata": {
        "id": "PH1w5_dyS_7X",
        "colab_type": "code",
        "colab": {}
      },
      "source": [
        "model = Sequential()\n",
        "\n",
        "# https://stats.stackexchange.com/questions/181/how-to-choose-the-number-of-hidden-layers-and-nodes-in-a-feedforward-neural-netw\n",
        "\n",
        "model.add(Dense(units=30,activation='relu'))\n",
        "\n",
        "model.add(Dense(units=15,activation='relu'))\n",
        "\n",
        "\n",
        "model.add(Dense(units=1,activation='sigmoid'))\n",
        "\n",
        "# For a binary classification problem\n",
        "model.compile(loss='binary_crossentropy', optimizer='adam')"
      ],
      "execution_count": 0,
      "outputs": []
    },
    {
      "cell_type": "markdown",
      "metadata": {
        "id": "olC0AsFYT91p",
        "colab_type": "text"
      },
      "source": [
        "### Example One: Choosing too many epochs and overfitting!"
      ]
    },
    {
      "cell_type": "code",
      "metadata": {
        "id": "Lm9gehHzTIxT",
        "colab_type": "code",
        "colab": {}
      },
      "source": [
        "# model.fit(x=X_train, \n",
        "#           y=y_train, \n",
        "#           epochs=600,\n",
        "#           validation_data=(X_test, y_test), verbose=1\n",
        "#           )"
      ],
      "execution_count": 0,
      "outputs": []
    },
    {
      "cell_type": "code",
      "metadata": {
        "id": "cW0CvvFVU1qF",
        "colab_type": "code",
        "colab": {}
      },
      "source": [
        "# model_loss = pd.DataFrame(model.history.history)\n",
        "# model_loss.plot()"
      ],
      "execution_count": 0,
      "outputs": []
    },
    {
      "cell_type": "markdown",
      "metadata": {
        "id": "mnigRUBdVD4x",
        "colab_type": "text"
      },
      "source": [
        "## Early Stopping"
      ]
    },
    {
      "cell_type": "code",
      "metadata": {
        "id": "KdWr4DL4U6GE",
        "colab_type": "code",
        "colab": {}
      },
      "source": [
        "model = Sequential()\n",
        "model.add(Dense(units=30,activation='relu'))\n",
        "model.add(Dense(units=15,activation='relu'))\n",
        "model.add(Dense(units=1,activation='sigmoid'))\n",
        "model.compile(loss='binary_crossentropy', optimizer='adam')"
      ],
      "execution_count": 0,
      "outputs": []
    },
    {
      "cell_type": "code",
      "metadata": {
        "id": "0YpI-rGQU_Np",
        "colab_type": "code",
        "colab": {}
      },
      "source": [
        "from tensorflow.keras.callbacks import EarlyStopping"
      ],
      "execution_count": 0,
      "outputs": []
    },
    {
      "cell_type": "code",
      "metadata": {
        "id": "ts9wi5rDVAHe",
        "colab_type": "code",
        "colab": {}
      },
      "source": [
        "#help(EarlyStopping)"
      ],
      "execution_count": 0,
      "outputs": []
    },
    {
      "cell_type": "code",
      "metadata": {
        "id": "5DVopEe6VLh6",
        "colab_type": "code",
        "colab": {}
      },
      "source": [
        "early_stop = EarlyStopping(monitor='val_loss', mode='min', verbose=1, patience=25)"
      ],
      "execution_count": 0,
      "outputs": []
    },
    {
      "cell_type": "code",
      "metadata": {
        "id": "Pj1HBS0eVmku",
        "colab_type": "code",
        "colab": {
          "base_uri": "https://localhost:8080/",
          "height": 1000
        },
        "outputId": "3fd5d055-0c19-42dd-8dba-a84b5daec478"
      },
      "source": [
        "model.fit(x=X_train, \n",
        "          y=y_train, \n",
        "          epochs=600,\n",
        "          validation_data=(X_test, y_test), verbose=1,\n",
        "          callbacks=[early_stop]\n",
        "          )"
      ],
      "execution_count": 111,
      "outputs": [
        {
          "output_type": "stream",
          "text": [
            "Epoch 1/600\n",
            "14/14 [==============================] - 0s 9ms/step - loss: 0.6666 - val_loss: 0.6364\n",
            "Epoch 2/600\n",
            "14/14 [==============================] - 0s 4ms/step - loss: 0.6240 - val_loss: 0.5967\n",
            "Epoch 3/600\n",
            "14/14 [==============================] - 0s 4ms/step - loss: 0.5880 - val_loss: 0.5581\n",
            "Epoch 4/600\n",
            "14/14 [==============================] - 0s 4ms/step - loss: 0.5485 - val_loss: 0.5180\n",
            "Epoch 5/600\n",
            "14/14 [==============================] - 0s 4ms/step - loss: 0.5067 - val_loss: 0.4736\n",
            "Epoch 6/600\n",
            "14/14 [==============================] - 0s 4ms/step - loss: 0.4627 - val_loss: 0.4282\n",
            "Epoch 7/600\n",
            "14/14 [==============================] - 0s 4ms/step - loss: 0.4202 - val_loss: 0.3852\n",
            "Epoch 8/600\n",
            "14/14 [==============================] - 0s 4ms/step - loss: 0.3778 - val_loss: 0.3452\n",
            "Epoch 9/600\n",
            "14/14 [==============================] - 0s 4ms/step - loss: 0.3397 - val_loss: 0.3073\n",
            "Epoch 10/600\n",
            "14/14 [==============================] - 0s 4ms/step - loss: 0.3063 - val_loss: 0.2736\n",
            "Epoch 11/600\n",
            "14/14 [==============================] - 0s 4ms/step - loss: 0.2757 - val_loss: 0.2480\n",
            "Epoch 12/600\n",
            "14/14 [==============================] - 0s 4ms/step - loss: 0.2542 - val_loss: 0.2237\n",
            "Epoch 13/600\n",
            "14/14 [==============================] - 0s 4ms/step - loss: 0.2303 - val_loss: 0.2046\n",
            "Epoch 14/600\n",
            "14/14 [==============================] - 0s 4ms/step - loss: 0.2178 - val_loss: 0.1886\n",
            "Epoch 15/600\n",
            "14/14 [==============================] - 0s 4ms/step - loss: 0.1993 - val_loss: 0.1757\n",
            "Epoch 16/600\n",
            "14/14 [==============================] - 0s 4ms/step - loss: 0.1877 - val_loss: 0.1642\n",
            "Epoch 17/600\n",
            "14/14 [==============================] - 0s 4ms/step - loss: 0.1742 - val_loss: 0.1546\n",
            "Epoch 18/600\n",
            "14/14 [==============================] - 0s 4ms/step - loss: 0.1640 - val_loss: 0.1479\n",
            "Epoch 19/600\n",
            "14/14 [==============================] - 0s 4ms/step - loss: 0.1557 - val_loss: 0.1430\n",
            "Epoch 20/600\n",
            "14/14 [==============================] - 0s 4ms/step - loss: 0.1468 - val_loss: 0.1345\n",
            "Epoch 21/600\n",
            "14/14 [==============================] - 0s 4ms/step - loss: 0.1412 - val_loss: 0.1315\n",
            "Epoch 22/600\n",
            "14/14 [==============================] - 0s 4ms/step - loss: 0.1351 - val_loss: 0.1232\n",
            "Epoch 23/600\n",
            "14/14 [==============================] - 0s 4ms/step - loss: 0.1277 - val_loss: 0.1281\n",
            "Epoch 24/600\n",
            "14/14 [==============================] - 0s 4ms/step - loss: 0.1224 - val_loss: 0.1164\n",
            "Epoch 25/600\n",
            "14/14 [==============================] - 0s 4ms/step - loss: 0.1179 - val_loss: 0.1140\n",
            "Epoch 26/600\n",
            "14/14 [==============================] - 0s 4ms/step - loss: 0.1137 - val_loss: 0.1136\n",
            "Epoch 27/600\n",
            "14/14 [==============================] - 0s 4ms/step - loss: 0.1091 - val_loss: 0.1095\n",
            "Epoch 28/600\n",
            "14/14 [==============================] - 0s 4ms/step - loss: 0.1053 - val_loss: 0.1066\n",
            "Epoch 29/600\n",
            "14/14 [==============================] - 0s 4ms/step - loss: 0.1016 - val_loss: 0.1074\n",
            "Epoch 30/600\n",
            "14/14 [==============================] - 0s 4ms/step - loss: 0.0988 - val_loss: 0.1055\n",
            "Epoch 31/600\n",
            "14/14 [==============================] - 0s 4ms/step - loss: 0.0988 - val_loss: 0.1017\n",
            "Epoch 32/600\n",
            "14/14 [==============================] - 0s 4ms/step - loss: 0.0942 - val_loss: 0.0992\n",
            "Epoch 33/600\n",
            "14/14 [==============================] - 0s 4ms/step - loss: 0.0930 - val_loss: 0.1002\n",
            "Epoch 34/600\n",
            "14/14 [==============================] - 0s 4ms/step - loss: 0.0885 - val_loss: 0.0989\n",
            "Epoch 35/600\n",
            "14/14 [==============================] - 0s 4ms/step - loss: 0.0844 - val_loss: 0.1017\n",
            "Epoch 36/600\n",
            "14/14 [==============================] - 0s 4ms/step - loss: 0.0846 - val_loss: 0.0954\n",
            "Epoch 37/600\n",
            "14/14 [==============================] - 0s 4ms/step - loss: 0.0813 - val_loss: 0.0993\n",
            "Epoch 38/600\n",
            "14/14 [==============================] - 0s 4ms/step - loss: 0.0796 - val_loss: 0.0941\n",
            "Epoch 39/600\n",
            "14/14 [==============================] - 0s 4ms/step - loss: 0.0800 - val_loss: 0.0972\n",
            "Epoch 40/600\n",
            "14/14 [==============================] - 0s 4ms/step - loss: 0.0763 - val_loss: 0.0957\n",
            "Epoch 41/600\n",
            "14/14 [==============================] - 0s 4ms/step - loss: 0.0743 - val_loss: 0.0950\n",
            "Epoch 42/600\n",
            "14/14 [==============================] - 0s 4ms/step - loss: 0.0742 - val_loss: 0.0946\n",
            "Epoch 43/600\n",
            "14/14 [==============================] - 0s 4ms/step - loss: 0.0781 - val_loss: 0.0962\n",
            "Epoch 44/600\n",
            "14/14 [==============================] - 0s 4ms/step - loss: 0.0721 - val_loss: 0.0935\n",
            "Epoch 45/600\n",
            "14/14 [==============================] - 0s 4ms/step - loss: 0.0694 - val_loss: 0.0917\n",
            "Epoch 46/600\n",
            "14/14 [==============================] - 0s 4ms/step - loss: 0.0681 - val_loss: 0.0951\n",
            "Epoch 47/600\n",
            "14/14 [==============================] - 0s 4ms/step - loss: 0.0680 - val_loss: 0.0956\n",
            "Epoch 48/600\n",
            "14/14 [==============================] - 0s 4ms/step - loss: 0.0677 - val_loss: 0.0890\n",
            "Epoch 49/600\n",
            "14/14 [==============================] - 0s 4ms/step - loss: 0.0663 - val_loss: 0.0961\n",
            "Epoch 50/600\n",
            "14/14 [==============================] - 0s 4ms/step - loss: 0.0650 - val_loss: 0.0893\n",
            "Epoch 51/600\n",
            "14/14 [==============================] - 0s 4ms/step - loss: 0.0653 - val_loss: 0.0915\n",
            "Epoch 52/600\n",
            "14/14 [==============================] - 0s 4ms/step - loss: 0.0657 - val_loss: 0.0935\n",
            "Epoch 53/600\n",
            "14/14 [==============================] - 0s 4ms/step - loss: 0.0659 - val_loss: 0.0898\n",
            "Epoch 54/600\n",
            "14/14 [==============================] - 0s 4ms/step - loss: 0.0623 - val_loss: 0.0936\n",
            "Epoch 55/600\n",
            "14/14 [==============================] - 0s 4ms/step - loss: 0.0637 - val_loss: 0.0916\n",
            "Epoch 56/600\n",
            "14/14 [==============================] - 0s 4ms/step - loss: 0.0624 - val_loss: 0.0893\n",
            "Epoch 57/600\n",
            "14/14 [==============================] - 0s 4ms/step - loss: 0.0602 - val_loss: 0.0881\n",
            "Epoch 58/600\n",
            "14/14 [==============================] - 0s 4ms/step - loss: 0.0597 - val_loss: 0.0923\n",
            "Epoch 59/600\n",
            "14/14 [==============================] - 0s 4ms/step - loss: 0.0604 - val_loss: 0.0882\n",
            "Epoch 60/600\n",
            "14/14 [==============================] - 0s 4ms/step - loss: 0.0632 - val_loss: 0.0904\n",
            "Epoch 61/600\n",
            "14/14 [==============================] - 0s 4ms/step - loss: 0.0618 - val_loss: 0.0930\n",
            "Epoch 62/600\n",
            "14/14 [==============================] - 0s 4ms/step - loss: 0.0589 - val_loss: 0.0892\n",
            "Epoch 63/600\n",
            "14/14 [==============================] - 0s 4ms/step - loss: 0.0587 - val_loss: 0.0910\n",
            "Epoch 64/600\n",
            "14/14 [==============================] - 0s 4ms/step - loss: 0.0589 - val_loss: 0.0955\n",
            "Epoch 65/600\n",
            "14/14 [==============================] - 0s 4ms/step - loss: 0.0570 - val_loss: 0.0919\n",
            "Epoch 66/600\n",
            "14/14 [==============================] - 0s 4ms/step - loss: 0.0560 - val_loss: 0.0912\n",
            "Epoch 67/600\n",
            "14/14 [==============================] - 0s 4ms/step - loss: 0.0561 - val_loss: 0.0919\n",
            "Epoch 68/600\n",
            "14/14 [==============================] - 0s 4ms/step - loss: 0.0565 - val_loss: 0.0893\n",
            "Epoch 69/600\n",
            "14/14 [==============================] - 0s 4ms/step - loss: 0.0563 - val_loss: 0.0922\n",
            "Epoch 70/600\n",
            "14/14 [==============================] - 0s 5ms/step - loss: 0.0556 - val_loss: 0.0870\n",
            "Epoch 71/600\n",
            "14/14 [==============================] - 0s 4ms/step - loss: 0.0614 - val_loss: 0.0899\n",
            "Epoch 72/600\n",
            "14/14 [==============================] - 0s 4ms/step - loss: 0.0551 - val_loss: 0.0908\n",
            "Epoch 73/600\n",
            "14/14 [==============================] - 0s 4ms/step - loss: 0.0545 - val_loss: 0.0931\n",
            "Epoch 74/600\n",
            "14/14 [==============================] - 0s 4ms/step - loss: 0.0545 - val_loss: 0.0907\n",
            "Epoch 75/600\n",
            "14/14 [==============================] - 0s 4ms/step - loss: 0.0531 - val_loss: 0.0941\n",
            "Epoch 76/600\n",
            "14/14 [==============================] - 0s 4ms/step - loss: 0.0533 - val_loss: 0.0931\n",
            "Epoch 77/600\n",
            "14/14 [==============================] - 0s 4ms/step - loss: 0.0526 - val_loss: 0.0908\n",
            "Epoch 78/600\n",
            "14/14 [==============================] - 0s 4ms/step - loss: 0.0534 - val_loss: 0.0970\n",
            "Epoch 79/600\n",
            "14/14 [==============================] - 0s 4ms/step - loss: 0.0528 - val_loss: 0.0899\n",
            "Epoch 80/600\n",
            "14/14 [==============================] - 0s 4ms/step - loss: 0.0551 - val_loss: 0.0923\n",
            "Epoch 81/600\n",
            "14/14 [==============================] - 0s 4ms/step - loss: 0.0522 - val_loss: 0.0930\n",
            "Epoch 82/600\n",
            "14/14 [==============================] - 0s 4ms/step - loss: 0.0526 - val_loss: 0.0917\n",
            "Epoch 83/600\n",
            "14/14 [==============================] - 0s 4ms/step - loss: 0.0523 - val_loss: 0.0953\n",
            "Epoch 84/600\n",
            "14/14 [==============================] - 0s 4ms/step - loss: 0.0511 - val_loss: 0.0956\n",
            "Epoch 85/600\n",
            "14/14 [==============================] - 0s 4ms/step - loss: 0.0514 - val_loss: 0.0935\n",
            "Epoch 86/600\n",
            "14/14 [==============================] - 0s 4ms/step - loss: 0.0515 - val_loss: 0.0954\n",
            "Epoch 87/600\n",
            "14/14 [==============================] - 0s 4ms/step - loss: 0.0570 - val_loss: 0.0919\n",
            "Epoch 88/600\n",
            "14/14 [==============================] - 0s 4ms/step - loss: 0.0524 - val_loss: 0.0947\n",
            "Epoch 89/600\n",
            "14/14 [==============================] - 0s 4ms/step - loss: 0.0556 - val_loss: 0.0997\n",
            "Epoch 90/600\n",
            "14/14 [==============================] - 0s 4ms/step - loss: 0.0509 - val_loss: 0.0892\n",
            "Epoch 91/600\n",
            "14/14 [==============================] - 0s 4ms/step - loss: 0.0532 - val_loss: 0.1046\n",
            "Epoch 92/600\n",
            "14/14 [==============================] - 0s 4ms/step - loss: 0.0519 - val_loss: 0.0935\n",
            "Epoch 93/600\n",
            "14/14 [==============================] - 0s 4ms/step - loss: 0.0514 - val_loss: 0.0988\n",
            "Epoch 94/600\n",
            "14/14 [==============================] - 0s 4ms/step - loss: 0.0569 - val_loss: 0.0941\n",
            "Epoch 95/600\n",
            "14/14 [==============================] - 0s 4ms/step - loss: 0.0522 - val_loss: 0.0926\n",
            "Epoch 00095: early stopping\n"
          ],
          "name": "stdout"
        },
        {
          "output_type": "execute_result",
          "data": {
            "text/plain": [
              "<tensorflow.python.keras.callbacks.History at 0x7fe854b72dd8>"
            ]
          },
          "metadata": {
            "tags": []
          },
          "execution_count": 111
        }
      ]
    },
    {
      "cell_type": "code",
      "metadata": {
        "id": "tKscSR6EV5FU",
        "colab_type": "code",
        "colab": {
          "base_uri": "https://localhost:8080/",
          "height": 282
        },
        "outputId": "8e4c0bd3-125a-4110-a370-e6b385b2e461"
      },
      "source": [
        "model_loss = pd.DataFrame(model.history.history)\n",
        "model_loss.plot()"
      ],
      "execution_count": 112,
      "outputs": [
        {
          "output_type": "execute_result",
          "data": {
            "text/plain": [
              "<matplotlib.axes._subplots.AxesSubplot at 0x7fe854c996d8>"
            ]
          },
          "metadata": {
            "tags": []
          },
          "execution_count": 112
        },
        {
          "output_type": "display_data",
          "data": {
            "image/png": "[encoded data removed]",
            "text/plain": [
              "<Figure size 432x288 with 1 Axes>"
            ]
          },
          "metadata": {
            "tags": [],
            "needs_background": "light"
          }
        }
      ]
    },
    {
      "cell_type": "markdown",
      "metadata": {
        "id": "hqv_HRFgWrtq",
        "colab_type": "text"
      },
      "source": [
        "## Drop out layers"
      ]
    },
    {
      "cell_type": "code",
      "metadata": {
        "id": "iUIf-Hs2WJ6c",
        "colab_type": "code",
        "colab": {}
      },
      "source": [
        "model = Sequential()\n",
        "model.add(Dense(units=30,activation='relu'))\n",
        "model.add(Dropout(0.5))\n",
        "\n",
        "model.add(Dense(units=15,activation='relu'))\n",
        "model.add(Dropout(0.5))\n",
        "\n",
        "model.add(Dense(units=1,activation='sigmoid'))\n",
        "model.compile(loss='binary_crossentropy', optimizer='adam')"
      ],
      "execution_count": 0,
      "outputs": []
    },
    {
      "cell_type": "code",
      "metadata": {
        "id": "drZmbugjWzwS",
        "colab_type": "code",
        "colab": {
          "base_uri": "https://localhost:8080/",
          "height": 1000
        },
        "outputId": "bff67bdd-0bc5-41fb-ef34-13f03c154b33"
      },
      "source": [
        "model.fit(x=X_train, \n",
        "          y=y_train, \n",
        "          epochs=600,\n",
        "          validation_data=(X_test, y_test), verbose=1,\n",
        "          callbacks=[early_stop]\n",
        "          )"
      ],
      "execution_count": 114,
      "outputs": [
        {
          "output_type": "stream",
          "text": [
            "Epoch 1/600\n",
            "14/14 [==============================] - 0s 9ms/step - loss: 0.6956 - val_loss: 0.6666\n",
            "Epoch 2/600\n",
            "14/14 [==============================] - 0s 4ms/step - loss: 0.6556 - val_loss: 0.6402\n",
            "Epoch 3/600\n",
            "14/14 [==============================] - 0s 4ms/step - loss: 0.6433 - val_loss: 0.6103\n",
            "Epoch 4/600\n",
            "14/14 [==============================] - 0s 4ms/step - loss: 0.6107 - val_loss: 0.5843\n",
            "Epoch 5/600\n",
            "14/14 [==============================] - 0s 4ms/step - loss: 0.5983 - val_loss: 0.5557\n",
            "Epoch 6/600\n",
            "14/14 [==============================] - 0s 4ms/step - loss: 0.5943 - val_loss: 0.5293\n",
            "Epoch 7/600\n",
            "14/14 [==============================] - 0s 4ms/step - loss: 0.5487 - val_loss: 0.5028\n",
            "Epoch 8/600\n",
            "14/14 [==============================] - 0s 4ms/step - loss: 0.5190 - val_loss: 0.4691\n",
            "Epoch 9/600\n",
            "14/14 [==============================] - 0s 4ms/step - loss: 0.4659 - val_loss: 0.4212\n",
            "Epoch 10/600\n",
            "14/14 [==============================] - 0s 4ms/step - loss: 0.4558 - val_loss: 0.3867\n",
            "Epoch 11/600\n",
            "14/14 [==============================] - 0s 5ms/step - loss: 0.4422 - val_loss: 0.3611\n",
            "Epoch 12/600\n",
            "14/14 [==============================] - 0s 4ms/step - loss: 0.4080 - val_loss: 0.3344\n",
            "Epoch 13/600\n",
            "14/14 [==============================] - 0s 4ms/step - loss: 0.4067 - val_loss: 0.3130\n",
            "Epoch 14/600\n",
            "14/14 [==============================] - 0s 4ms/step - loss: 0.4022 - val_loss: 0.3057\n",
            "Epoch 15/600\n",
            "14/14 [==============================] - 0s 4ms/step - loss: 0.3619 - val_loss: 0.2773\n",
            "Epoch 16/600\n",
            "14/14 [==============================] - 0s 4ms/step - loss: 0.3393 - val_loss: 0.2616\n",
            "Epoch 17/600\n",
            "14/14 [==============================] - 0s 4ms/step - loss: 0.3308 - val_loss: 0.2446\n",
            "Epoch 18/600\n",
            "14/14 [==============================] - 0s 4ms/step - loss: 0.3191 - val_loss: 0.2240\n",
            "Epoch 19/600\n",
            "14/14 [==============================] - 0s 5ms/step - loss: 0.3105 - val_loss: 0.2101\n",
            "Epoch 20/600\n",
            "14/14 [==============================] - 0s 4ms/step - loss: 0.2944 - val_loss: 0.2019\n",
            "Epoch 21/600\n",
            "14/14 [==============================] - 0s 4ms/step - loss: 0.2959 - val_loss: 0.1939\n",
            "Epoch 22/600\n",
            "14/14 [==============================] - 0s 4ms/step - loss: 0.2675 - val_loss: 0.1906\n",
            "Epoch 23/600\n",
            "14/14 [==============================] - 0s 4ms/step - loss: 0.2941 - val_loss: 0.1884\n",
            "Epoch 24/600\n",
            "14/14 [==============================] - 0s 4ms/step - loss: 0.2770 - val_loss: 0.1770\n",
            "Epoch 25/600\n",
            "14/14 [==============================] - 0s 4ms/step - loss: 0.2757 - val_loss: 0.1837\n",
            "Epoch 26/600\n",
            "14/14 [==============================] - 0s 4ms/step - loss: 0.2631 - val_loss: 0.1751\n",
            "Epoch 27/600\n",
            "14/14 [==============================] - 0s 4ms/step - loss: 0.2490 - val_loss: 0.1663\n",
            "Epoch 28/600\n",
            "14/14 [==============================] - 0s 4ms/step - loss: 0.2365 - val_loss: 0.1533\n",
            "Epoch 29/600\n",
            "14/14 [==============================] - 0s 4ms/step - loss: 0.2400 - val_loss: 0.1514\n",
            "Epoch 30/600\n",
            "14/14 [==============================] - 0s 4ms/step - loss: 0.2389 - val_loss: 0.1511\n",
            "Epoch 31/600\n",
            "14/14 [==============================] - 0s 4ms/step - loss: 0.1935 - val_loss: 0.1394\n",
            "Epoch 32/600\n",
            "14/14 [==============================] - 0s 4ms/step - loss: 0.2028 - val_loss: 0.1357\n",
            "Epoch 33/600\n",
            "14/14 [==============================] - 0s 4ms/step - loss: 0.2037 - val_loss: 0.1335\n",
            "Epoch 34/600\n",
            "14/14 [==============================] - 0s 4ms/step - loss: 0.1859 - val_loss: 0.1288\n",
            "Epoch 35/600\n",
            "14/14 [==============================] - 0s 4ms/step - loss: 0.1969 - val_loss: 0.1329\n",
            "Epoch 36/600\n",
            "14/14 [==============================] - 0s 4ms/step - loss: 0.1695 - val_loss: 0.1315\n",
            "Epoch 37/600\n",
            "14/14 [==============================] - 0s 4ms/step - loss: 0.1885 - val_loss: 0.1227\n",
            "Epoch 38/600\n",
            "14/14 [==============================] - 0s 4ms/step - loss: 0.2124 - val_loss: 0.1306\n",
            "Epoch 39/600\n",
            "14/14 [==============================] - 0s 5ms/step - loss: 0.1945 - val_loss: 0.1234\n",
            "Epoch 40/600\n",
            "14/14 [==============================] - 0s 4ms/step - loss: 0.1896 - val_loss: 0.1256\n",
            "Epoch 41/600\n",
            "14/14 [==============================] - 0s 4ms/step - loss: 0.1718 - val_loss: 0.1271\n",
            "Epoch 42/600\n",
            "14/14 [==============================] - 0s 4ms/step - loss: 0.1604 - val_loss: 0.1215\n",
            "Epoch 43/600\n",
            "14/14 [==============================] - 0s 4ms/step - loss: 0.1634 - val_loss: 0.1181\n",
            "Epoch 44/600\n",
            "14/14 [==============================] - 0s 4ms/step - loss: 0.1512 - val_loss: 0.1173\n",
            "Epoch 45/600\n",
            "14/14 [==============================] - 0s 4ms/step - loss: 0.1713 - val_loss: 0.1158\n",
            "Epoch 46/600\n",
            "14/14 [==============================] - 0s 4ms/step - loss: 0.1677 - val_loss: 0.1139\n",
            "Epoch 47/600\n",
            "14/14 [==============================] - 0s 4ms/step - loss: 0.1580 - val_loss: 0.1187\n",
            "Epoch 48/600\n",
            "14/14 [==============================] - 0s 4ms/step - loss: 0.1602 - val_loss: 0.1155\n",
            "Epoch 49/600\n",
            "14/14 [==============================] - 0s 4ms/step - loss: 0.1409 - val_loss: 0.1132\n",
            "Epoch 50/600\n",
            "14/14 [==============================] - 0s 4ms/step - loss: 0.1149 - val_loss: 0.1072\n",
            "Epoch 51/600\n",
            "14/14 [==============================] - 0s 4ms/step - loss: 0.1456 - val_loss: 0.1084\n",
            "Epoch 52/600\n",
            "14/14 [==============================] - 0s 4ms/step - loss: 0.1497 - val_loss: 0.1080\n",
            "Epoch 53/600\n",
            "14/14 [==============================] - 0s 4ms/step - loss: 0.1367 - val_loss: 0.1200\n",
            "Epoch 54/600\n",
            "14/14 [==============================] - 0s 4ms/step - loss: 0.1248 - val_loss: 0.1095\n",
            "Epoch 55/600\n",
            "14/14 [==============================] - 0s 4ms/step - loss: 0.1437 - val_loss: 0.1077\n",
            "Epoch 56/600\n",
            "14/14 [==============================] - 0s 4ms/step - loss: 0.1103 - val_loss: 0.1164\n",
            "Epoch 57/600\n",
            "14/14 [==============================] - 0s 4ms/step - loss: 0.1325 - val_loss: 0.1078\n",
            "Epoch 58/600\n",
            "14/14 [==============================] - 0s 4ms/step - loss: 0.1447 - val_loss: 0.1088\n",
            "Epoch 59/600\n",
            "14/14 [==============================] - 0s 4ms/step - loss: 0.1618 - val_loss: 0.1062\n",
            "Epoch 60/600\n",
            "14/14 [==============================] - 0s 5ms/step - loss: 0.1396 - val_loss: 0.1139\n",
            "Epoch 61/600\n",
            "14/14 [==============================] - 0s 4ms/step - loss: 0.1229 - val_loss: 0.1094\n",
            "Epoch 62/600\n",
            "14/14 [==============================] - 0s 4ms/step - loss: 0.1209 - val_loss: 0.1146\n",
            "Epoch 63/600\n",
            "14/14 [==============================] - 0s 4ms/step - loss: 0.1156 - val_loss: 0.1068\n",
            "Epoch 64/600\n",
            "14/14 [==============================] - 0s 4ms/step - loss: 0.1195 - val_loss: 0.1036\n",
            "Epoch 65/600\n",
            "14/14 [==============================] - 0s 4ms/step - loss: 0.1368 - val_loss: 0.1157\n",
            "Epoch 66/600\n",
            "14/14 [==============================] - 0s 4ms/step - loss: 0.1182 - val_loss: 0.1083\n",
            "Epoch 67/600\n",
            "14/14 [==============================] - 0s 4ms/step - loss: 0.1116 - val_loss: 0.1143\n",
            "Epoch 68/600\n",
            "14/14 [==============================] - 0s 4ms/step - loss: 0.1244 - val_loss: 0.1032\n",
            "Epoch 69/600\n",
            "14/14 [==============================] - 0s 4ms/step - loss: 0.1272 - val_loss: 0.1091\n",
            "Epoch 70/600\n",
            "14/14 [==============================] - 0s 4ms/step - loss: 0.1168 - val_loss: 0.1102\n",
            "Epoch 71/600\n",
            "14/14 [==============================] - 0s 4ms/step - loss: 0.1042 - val_loss: 0.1032\n",
            "Epoch 72/600\n",
            "14/14 [==============================] - 0s 4ms/step - loss: 0.1246 - val_loss: 0.1000\n",
            "Epoch 73/600\n",
            "14/14 [==============================] - 0s 4ms/step - loss: 0.0958 - val_loss: 0.1195\n",
            "Epoch 74/600\n",
            "14/14 [==============================] - 0s 4ms/step - loss: 0.1215 - val_loss: 0.1067\n",
            "Epoch 75/600\n",
            "14/14 [==============================] - 0s 4ms/step - loss: 0.1027 - val_loss: 0.1050\n",
            "Epoch 76/600\n",
            "14/14 [==============================] - 0s 4ms/step - loss: 0.0947 - val_loss: 0.0994\n",
            "Epoch 77/600\n",
            "14/14 [==============================] - 0s 4ms/step - loss: 0.0937 - val_loss: 0.1133\n",
            "Epoch 78/600\n",
            "14/14 [==============================] - 0s 4ms/step - loss: 0.1174 - val_loss: 0.1012\n",
            "Epoch 79/600\n",
            "14/14 [==============================] - 0s 4ms/step - loss: 0.1110 - val_loss: 0.1100\n",
            "Epoch 80/600\n",
            "14/14 [==============================] - 0s 4ms/step - loss: 0.1059 - val_loss: 0.1053\n",
            "Epoch 81/600\n",
            "14/14 [==============================] - 0s 4ms/step - loss: 0.1198 - val_loss: 0.1007\n",
            "Epoch 82/600\n",
            "14/14 [==============================] - 0s 4ms/step - loss: 0.1225 - val_loss: 0.1025\n",
            "Epoch 83/600\n",
            "14/14 [==============================] - 0s 4ms/step - loss: 0.1063 - val_loss: 0.1119\n",
            "Epoch 84/600\n",
            "14/14 [==============================] - 0s 4ms/step - loss: 0.1144 - val_loss: 0.1057\n",
            "Epoch 85/600\n",
            "14/14 [==============================] - 0s 4ms/step - loss: 0.1161 - val_loss: 0.1018\n",
            "Epoch 86/600\n",
            "14/14 [==============================] - 0s 4ms/step - loss: 0.1048 - val_loss: 0.1220\n",
            "Epoch 87/600\n",
            "14/14 [==============================] - 0s 4ms/step - loss: 0.0977 - val_loss: 0.1072\n",
            "Epoch 88/600\n",
            "14/14 [==============================] - 0s 4ms/step - loss: 0.0881 - val_loss: 0.0991\n",
            "Epoch 89/600\n",
            "14/14 [==============================] - 0s 4ms/step - loss: 0.0973 - val_loss: 0.1100\n",
            "Epoch 90/600\n",
            "14/14 [==============================] - 0s 4ms/step - loss: 0.1165 - val_loss: 0.1197\n",
            "Epoch 91/600\n",
            "14/14 [==============================] - 0s 4ms/step - loss: 0.0974 - val_loss: 0.1090\n",
            "Epoch 92/600\n",
            "14/14 [==============================] - 0s 4ms/step - loss: 0.0884 - val_loss: 0.1038\n",
            "Epoch 93/600\n",
            "14/14 [==============================] - 0s 4ms/step - loss: 0.0939 - val_loss: 0.1043\n",
            "Epoch 94/600\n",
            "14/14 [==============================] - 0s 5ms/step - loss: 0.1092 - val_loss: 0.1027\n",
            "Epoch 95/600\n",
            "14/14 [==============================] - 0s 4ms/step - loss: 0.1050 - val_loss: 0.1102\n",
            "Epoch 96/600\n",
            "14/14 [==============================] - 0s 4ms/step - loss: 0.1036 - val_loss: 0.1038\n",
            "Epoch 97/600\n",
            "14/14 [==============================] - 0s 4ms/step - loss: 0.0876 - val_loss: 0.1033\n",
            "Epoch 98/600\n",
            "14/14 [==============================] - 0s 4ms/step - loss: 0.0738 - val_loss: 0.1119\n",
            "Epoch 99/600\n",
            "14/14 [==============================] - 0s 4ms/step - loss: 0.1091 - val_loss: 0.1014\n",
            "Epoch 100/600\n",
            "14/14 [==============================] - 0s 4ms/step - loss: 0.0996 - val_loss: 0.1253\n",
            "Epoch 101/600\n",
            "14/14 [==============================] - 0s 4ms/step - loss: 0.1027 - val_loss: 0.1012\n",
            "Epoch 102/600\n",
            "14/14 [==============================] - 0s 4ms/step - loss: 0.0796 - val_loss: 0.0984\n",
            "Epoch 103/600\n",
            "14/14 [==============================] - 0s 4ms/step - loss: 0.0752 - val_loss: 0.1052\n",
            "Epoch 104/600\n",
            "14/14 [==============================] - 0s 4ms/step - loss: 0.0962 - val_loss: 0.0980\n",
            "Epoch 105/600\n",
            "14/14 [==============================] - 0s 4ms/step - loss: 0.0929 - val_loss: 0.1113\n",
            "Epoch 106/600\n",
            "14/14 [==============================] - 0s 4ms/step - loss: 0.1020 - val_loss: 0.1043\n",
            "Epoch 107/600\n",
            "14/14 [==============================] - 0s 4ms/step - loss: 0.0877 - val_loss: 0.1096\n",
            "Epoch 108/600\n",
            "14/14 [==============================] - 0s 4ms/step - loss: 0.0789 - val_loss: 0.1017\n",
            "Epoch 109/600\n",
            "14/14 [==============================] - 0s 4ms/step - loss: 0.0976 - val_loss: 0.1064\n",
            "Epoch 110/600\n",
            "14/14 [==============================] - 0s 4ms/step - loss: 0.0877 - val_loss: 0.1101\n",
            "Epoch 111/600\n",
            "14/14 [==============================] - 0s 4ms/step - loss: 0.0993 - val_loss: 0.1047\n",
            "Epoch 112/600\n",
            "14/14 [==============================] - 0s 4ms/step - loss: 0.1039 - val_loss: 0.1105\n",
            "Epoch 113/600\n",
            "14/14 [==============================] - 0s 4ms/step - loss: 0.0878 - val_loss: 0.1094\n",
            "Epoch 114/600\n",
            "14/14 [==============================] - 0s 4ms/step - loss: 0.0940 - val_loss: 0.1045\n",
            "Epoch 115/600\n",
            "14/14 [==============================] - 0s 4ms/step - loss: 0.0893 - val_loss: 0.1079\n",
            "Epoch 116/600\n",
            "14/14 [==============================] - 0s 4ms/step - loss: 0.0842 - val_loss: 0.1091\n",
            "Epoch 117/600\n",
            "14/14 [==============================] - 0s 4ms/step - loss: 0.1042 - val_loss: 0.1007\n",
            "Epoch 118/600\n",
            "14/14 [==============================] - 0s 4ms/step - loss: 0.0905 - val_loss: 0.1157\n",
            "Epoch 119/600\n",
            "14/14 [==============================] - 0s 4ms/step - loss: 0.0850 - val_loss: 0.1057\n",
            "Epoch 120/600\n",
            "14/14 [==============================] - 0s 4ms/step - loss: 0.0995 - val_loss: 0.1019\n",
            "Epoch 121/600\n",
            "14/14 [==============================] - 0s 4ms/step - loss: 0.0810 - val_loss: 0.1076\n",
            "Epoch 122/600\n",
            "14/14 [==============================] - 0s 5ms/step - loss: 0.0850 - val_loss: 0.1163\n",
            "Epoch 123/600\n",
            "14/14 [==============================] - 0s 4ms/step - loss: 0.0747 - val_loss: 0.1107\n",
            "Epoch 124/600\n",
            "14/14 [==============================] - 0s 4ms/step - loss: 0.0806 - val_loss: 0.1102\n",
            "Epoch 125/600\n",
            "14/14 [==============================] - 0s 4ms/step - loss: 0.1021 - val_loss: 0.1184\n",
            "Epoch 126/600\n",
            "14/14 [==============================] - 0s 4ms/step - loss: 0.0736 - val_loss: 0.1032\n",
            "Epoch 127/600\n",
            "14/14 [==============================] - 0s 4ms/step - loss: 0.0782 - val_loss: 0.1166\n",
            "Epoch 128/600\n",
            "14/14 [==============================] - 0s 4ms/step - loss: 0.0683 - val_loss: 0.1074\n",
            "Epoch 129/600\n",
            "14/14 [==============================] - 0s 4ms/step - loss: 0.0881 - val_loss: 0.1071\n",
            "Epoch 00129: early stopping\n"
          ],
          "name": "stdout"
        },
        {
          "output_type": "execute_result",
          "data": {
            "text/plain": [
              "<tensorflow.python.keras.callbacks.History at 0x7fe854f75198>"
            ]
          },
          "metadata": {
            "tags": []
          },
          "execution_count": 114
        }
      ]
    },
    {
      "cell_type": "code",
      "metadata": {
        "id": "u7zdLPGGW14x",
        "colab_type": "code",
        "colab": {
          "base_uri": "https://localhost:8080/",
          "height": 282
        },
        "outputId": "279e0568-905f-44cf-9b1c-3427af550dba"
      },
      "source": [
        "model_loss = pd.DataFrame(model.history.history)\n",
        "model_loss.plot()"
      ],
      "execution_count": 115,
      "outputs": [
        {
          "output_type": "execute_result",
          "data": {
            "text/plain": [
              "<matplotlib.axes._subplots.AxesSubplot at 0x7fe85544dd68>"
            ]
          },
          "metadata": {
            "tags": []
          },
          "execution_count": 115
        },
        {
          "output_type": "display_data",
          "data": {
            "image/png": "[encoded data removed]",
            "text/plain": [
              "<Figure size 432x288 with 1 Axes>"
            ]
          },
          "metadata": {
            "tags": [],
            "needs_background": "light"
          }
        }
      ]
    },
    {
      "cell_type": "code",
      "metadata": {
        "id": "Mbylvm-LW_Ad",
        "colab_type": "code",
        "colab": {
          "base_uri": "https://localhost:8080/",
          "height": 87
        },
        "outputId": "fa46dd9f-5697-45df-8b0f-341272baebea"
      },
      "source": [
        "predictions = model.predict_classes(X_test)"
      ],
      "execution_count": 116,
      "outputs": [
        {
          "output_type": "stream",
          "text": [
            "WARNING:tensorflow:From <ipython-input-116-bc83193b8b59>:1: Sequential.predict_classes (from tensorflow.python.keras.engine.sequential) is deprecated and will be removed after 2021-01-01.\n",
            "Instructions for updating:\n",
            "Please use instead:* `np.argmax(model.predict(x), axis=-1)`,   if your model does multi-class classification   (e.g. if it uses a `softmax` last-layer activation).* `(model.predict(x) > 0.5).astype(\"int32\")`,   if your model does binary classification   (e.g. if it uses a `sigmoid` last-layer activation).\n"
          ],
          "name": "stdout"
        }
      ]
    },
    {
      "cell_type": "code",
      "metadata": {
        "id": "oQugG_H4XbKi",
        "colab_type": "code",
        "colab": {}
      },
      "source": [
        "from sklearn.metrics import classification_report,confusion_matrix"
      ],
      "execution_count": 0,
      "outputs": []
    },
    {
      "cell_type": "code",
      "metadata": {
        "id": "tiZVtlE0XeuH",
        "colab_type": "code",
        "colab": {
          "base_uri": "https://localhost:8080/",
          "height": 168
        },
        "outputId": "9817fc05-5de4-494f-9c59-4e26081fa643"
      },
      "source": [
        "print(classification_report(y_test,predictions))"
      ],
      "execution_count": 118,
      "outputs": [
        {
          "output_type": "stream",
          "text": [
            "              precision    recall  f1-score   support\n",
            "\n",
            "           0       0.96      0.98      0.97        55\n",
            "           1       0.99      0.98      0.98        88\n",
            "\n",
            "    accuracy                           0.98       143\n",
            "   macro avg       0.98      0.98      0.98       143\n",
            "weighted avg       0.98      0.98      0.98       143\n",
            "\n"
          ],
          "name": "stdout"
        }
      ]
    },
    {
      "cell_type": "code",
      "metadata": {
        "id": "HUQNKnUhXgR7",
        "colab_type": "code",
        "colab": {
          "base_uri": "https://localhost:8080/",
          "height": 50
        },
        "outputId": "faee6cb4-f1d5-40e6-cda6-50d6967447fe"
      },
      "source": [
        "print(confusion_matrix(y_test,predictions))"
      ],
      "execution_count": 119,
      "outputs": [
        {
          "output_type": "stream",
          "text": [
            "[[54  1]\n",
            " [ 2 86]]\n"
          ],
          "name": "stdout"
        }
      ]
    },
    {
      "cell_type": "code",
      "metadata": {
        "id": "qub-BDQtXqri",
        "colab_type": "code",
        "colab": {}
      },
      "source": [
        ""
      ],
      "execution_count": 0,
      "outputs": []
    }
  ]
}