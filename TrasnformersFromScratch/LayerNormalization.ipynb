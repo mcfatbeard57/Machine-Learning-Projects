{
 "cells": [
  {
   "cell_type": "code",
   "execution_count": null,
   "metadata": {
    "id": "yauMbbQbJ5Jk"
   },
   "outputs": [],
   "source": [
    "import torch\n",
    "from torch import nn"
   ]
  },
  {
   "cell_type": "code",
   "execution_count": null,
   "metadata": {
    "colab": {
     "base_uri": "https://localhost:8080/"
    },
    "id": "TL65EVE_J7KO",
    "outputId": "0d0ecb69-bc6b-4c26-91ea-15647d304287"
   },
   "outputs": [
    {
     "data": {
      "text/plain": [
       "torch.Size([2, 1, 3])"
      ]
     },
     "execution_count": 2,
     "metadata": {},
     "output_type": "execute_result"
    }
   ],
   "source": [
    "inputs = torch.Tensor([[[0.2, 0.1, 0.3], [0.5, 0.1, 0.1]]])\n",
    "B, S, E = inputs.size()\n",
    "inputs = inputs.reshape(S, B, E)\n",
    "inputs.size()"
   ]
  },
  {
   "cell_type": "code",
   "execution_count": null,
   "metadata": {
    "id": "--zvWWq2KLl1"
   },
   "outputs": [],
   "source": [
    "parameter_shape = inputs.size()[-2:]\n",
    "gamma = nn.Parameter(torch.ones(parameter_shape))\n",
    "beta =  nn.Parameter(torch.zeros(parameter_shape))"
   ]
  },
  {
   "cell_type": "code",
   "execution_count": null,
   "metadata": {
    "colab": {
     "base_uri": "https://localhost:8080/"
    },
    "id": "YAhmuOruKYzO",
    "outputId": "755d29b3-cfcf-42d0-ccce-6ffb09efd696"
   },
   "outputs": [
    {
     "data": {
      "text/plain": [
       "(torch.Size([1, 3]), torch.Size([1, 3]))"
      ]
     },
     "execution_count": 4,
     "metadata": {},
     "output_type": "execute_result"
    }
   ],
   "source": [
    "gamma.size(), beta.size()"
   ]
  },
  {
   "cell_type": "code",
   "execution_count": null,
   "metadata": {
    "id": "85ajY22cJ5Bg"
   },
   "outputs": [],
   "source": [
    "dims = [-(i + 1) for i in range(len(parameter_shape))]"
   ]
  },
  {
   "cell_type": "code",
   "execution_count": null,
   "metadata": {
    "colab": {
     "base_uri": "https://localhost:8080/"
    },
    "id": "APG-ccQ1J4zc",
    "outputId": "5c2ad65e-9740-42b5-bfd2-dfa7ed3fc24a"
   },
   "outputs": [
    {
     "data": {
      "text/plain": [
       "[-1, -2]"
      ]
     },
     "execution_count": 6,
     "metadata": {},
     "output_type": "execute_result"
    }
   ],
   "source": [
    "dims"
   ]
  },
  {
   "cell_type": "code",
   "execution_count": null,
   "metadata": {
    "colab": {
     "base_uri": "https://localhost:8080/"
    },
    "id": "Py8DHV7AMX6y",
    "outputId": "a897c5fc-a53c-497e-faae-c1c6cee49098"
   },
   "outputs": [
    {
     "data": {
      "text/plain": [
       "torch.Size([2, 1, 1])"
      ]
     },
     "execution_count": 7,
     "metadata": {},
     "output_type": "execute_result"
    }
   ],
   "source": [
    "mean = inputs.mean(dim=dims, keepdim=True)\n",
    "mean.size()"
   ]
  },
  {
   "cell_type": "code",
   "execution_count": null,
   "metadata": {
    "colab": {
     "base_uri": "https://localhost:8080/"
    },
    "id": "P4w9NIUPQRj-",
    "outputId": "97fca7ec-f26b-4429-ff4c-197ac2c5d970"
   },
   "outputs": [
    {
     "data": {
      "text/plain": [
       "tensor([[[0.2000]],\n",
       "\n",
       "        [[0.2333]]])"
      ]
     },
     "execution_count": 17,
     "metadata": {},
     "output_type": "execute_result"
    }
   ],
   "source": [
    "mean"
   ]
  },
  {
   "cell_type": "code",
   "execution_count": null,
   "metadata": {
    "colab": {
     "base_uri": "https://localhost:8080/"
    },
    "id": "1lEkVVi3M_8_",
    "outputId": "f4e2a32b-d5ed-4622-8923-eb380d5b5bfc"
   },
   "outputs": [
    {
     "data": {
      "text/plain": [
       "tensor([[[0.0817]],\n",
       "\n",
       "        [[0.1886]]])"
      ]
     },
     "execution_count": 8,
     "metadata": {},
     "output_type": "execute_result"
    }
   ],
   "source": [
    "var = ((inputs - mean) ** 2).mean(dim=dims, keepdim=True)\n",
    "epsilon = 1e-5\n",
    "std = (var + epsilon).sqrt()\n",
    "std"
   ]
  },
  {
   "cell_type": "code",
   "execution_count": null,
   "metadata": {
    "colab": {
     "base_uri": "https://localhost:8080/"
    },
    "id": "rRokYqlDN6yJ",
    "outputId": "f6dcbaf3-ad33-4d9f-e0ec-039e49424e4a"
   },
   "outputs": [
    {
     "data": {
      "text/plain": [
       "tensor([[[ 0.0000, -1.2238,  1.2238]],\n",
       "\n",
       "        [[ 1.4140, -0.7070, -0.7070]]])"
      ]
     },
     "execution_count": 9,
     "metadata": {},
     "output_type": "execute_result"
    }
   ],
   "source": [
    "y = (inputs - mean) / std\n",
    "y"
   ]
  },
  {
   "cell_type": "code",
   "execution_count": null,
   "metadata": {
    "id": "7cc8NMZVN_sQ"
   },
   "outputs": [],
   "source": [
    "out = gamma * y + beta"
   ]
  },
  {
   "cell_type": "code",
   "execution_count": null,
   "metadata": {
    "colab": {
     "base_uri": "https://localhost:8080/"
    },
    "id": "YquX9ABbOLKy",
    "outputId": "1bc33d96-e9e5-4a5d-e3cc-4cb9c89cea22"
   },
   "outputs": [
    {
     "data": {
      "text/plain": [
       "tensor([[[ 0.0000, -1.2238,  1.2238]],\n",
       "\n",
       "        [[ 1.4140, -0.7070, -0.7070]]], grad_fn=<AddBackward0>)"
      ]
     },
     "execution_count": 11,
     "metadata": {},
     "output_type": "execute_result"
    }
   ],
   "source": [
    "out"
   ]
  },
  {
   "cell_type": "markdown",
   "metadata": {
    "id": "BO4x-axkv9j8"
   },
   "source": [
    "## Class"
   ]
  },
  {
   "cell_type": "code",
   "execution_count": null,
   "metadata": {
    "id": "MYJ2AE7Sv-Wc"
   },
   "outputs": [],
   "source": [
    "import torch\n",
    "from torch import nn\n",
    "\n",
    "class LayerNormalization():\n",
    "    def __init__(self, parameters_shape, eps=1e-5):\n",
    "        self.parameters_shape=parameters_shape\n",
    "        self.eps=eps\n",
    "        self.gamma = nn.Parameter(torch.ones(parameters_shape))\n",
    "        self.beta =  nn.Parameter(torch.zeros(parameters_shape))\n",
    "\n",
    "    def forward(self, input):\n",
    "        dims = [-(i + 1) for i in range(len(self.parameters_shape))]\n",
    "        mean = inputs.mean(dim=dims, keepdim=True)\n",
    "        print(f\"Mean \\n ({mean.size()}): \\n {mean}\")\n",
    "        var = ((inputs - mean) ** 2).mean(dim=dims, keepdim=True)\n",
    "        std = (var + self.eps).sqrt()\n",
    "        print(f\"Standard Deviation \\n ({std.size()}): \\n {std}\")\n",
    "        y = (inputs - mean) / std\n",
    "        print(f\"y \\n ({y.size()}) = \\n {y}\")\n",
    "        out = self.gamma * y  + self.beta\n",
    "        print(f\"out \\n ({out.size()}) = \\n {out}\")\n",
    "        return out"
   ]
  },
  {
   "cell_type": "code",
   "execution_count": null,
   "metadata": {
    "colab": {
     "base_uri": "https://localhost:8080/"
    },
    "id": "zrnZx0HYyoRz",
    "outputId": "7d894aa6-6181-4597-b160-a932fc274d70"
   },
   "outputs": [
    {
     "name": "stdout",
     "output_type": "stream",
     "text": [
      "input \n",
      " (torch.Size([5, 3, 8])) = \n",
      " tensor([[[ 0.4989, -1.5183,  0.9349,  1.2598, -0.4364, -1.8070, -0.8136,\n",
      "          -1.0286],\n",
      "         [-0.8853, -0.4556, -0.0162,  1.5420,  0.4248,  1.4558, -1.0326,\n",
      "           0.3080],\n",
      "         [-0.5790,  1.7504,  0.6980,  0.0048, -2.1282, -0.7690,  1.0542,\n",
      "          -1.3146]],\n",
      "\n",
      "        [[ 1.0202,  0.5731,  0.5530,  0.0186, -0.8504,  0.9823,  0.7989,\n",
      "           1.2140],\n",
      "         [-0.6105, -1.0026, -1.0181, -0.1076,  2.1379, -0.3287, -0.5917,\n",
      "           0.3563],\n",
      "         [-0.3975, -0.4420,  1.0853,  0.2781,  0.9457,  1.0476,  0.4669,\n",
      "          -0.6695]],\n",
      "\n",
      "        [[-0.1404, -0.1451,  0.1926, -2.3987, -0.1363,  0.0039,  0.4464,\n",
      "          -1.8458],\n",
      "         [ 1.4095, -0.1229, -1.2031, -0.2409,  0.5317,  0.1864, -0.1956,\n",
      "          -0.4548],\n",
      "         [-0.5604,  0.1777,  0.8957,  1.6596, -0.1630,  1.0839,  0.0349,\n",
      "          -0.2990]],\n",
      "\n",
      "        [[ 1.4716,  0.4145,  2.3406,  0.7430,  0.2245, -0.9234, -0.5451,\n",
      "          -0.1811],\n",
      "         [ 1.5420, -0.6677, -0.5690, -0.9619, -0.7571, -0.3463,  0.8913,\n",
      "          -0.4114],\n",
      "         [ 0.0794, -2.1529, -0.6267, -1.5115, -0.3394,  0.2635,  1.7518,\n",
      "           2.0467]],\n",
      "\n",
      "        [[-0.7770,  0.0115, -0.8307, -0.2651,  1.1549,  1.2430,  0.1925,\n",
      "           0.5370],\n",
      "         [ 0.1525, -1.8730,  0.6787, -0.1923, -3.0675, -0.0424,  0.4896,\n",
      "          -1.4078],\n",
      "         [ 0.7393, -1.8295, -0.2973,  0.3578,  0.6325,  0.3332, -1.1568,\n",
      "          -1.1301]]])\n"
     ]
    }
   ],
   "source": [
    "batch_size = 3\n",
    "sentence_length = 5\n",
    "embedding_dim = 8 \n",
    "inputs = torch.randn(sentence_length, batch_size, embedding_dim)\n",
    "\n",
    "print(f\"input \\n ({inputs.size()}) = \\n {inputs}\")"
   ]
  },
  {
   "cell_type": "code",
   "execution_count": null,
   "metadata": {
    "id": "3U3akvkFys68"
   },
   "outputs": [],
   "source": [
    "layer_norm = LayerNormalization(inputs.size()[-1:])"
   ]
  },
  {
   "cell_type": "code",
   "execution_count": null,
   "metadata": {
    "colab": {
     "base_uri": "https://localhost:8080/"
    },
    "id": "JQ9lt7LUy-g9",
    "outputId": "658ed727-ec37-4eee-fef8-e553cb084e88"
   },
   "outputs": [
    {
     "name": "stdout",
     "output_type": "stream",
     "text": [
      "Mean \n",
      " (torch.Size([5, 3, 1])): \n",
      " tensor([[[-0.3638],\n",
      "         [ 0.1676],\n",
      "         [-0.1604]],\n",
      "\n",
      "        [[ 0.5387],\n",
      "         [-0.1456],\n",
      "         [ 0.2893]],\n",
      "\n",
      "        [[-0.5029],\n",
      "         [-0.0112],\n",
      "         [ 0.3537]],\n",
      "\n",
      "        [[ 0.4431],\n",
      "         [-0.1600],\n",
      "         [-0.0611]],\n",
      "\n",
      "        [[ 0.1583],\n",
      "         [-0.6578],\n",
      "         [-0.2939]]])\n",
      "Standard Deviation \n",
      " (torch.Size([5, 3, 1])): \n",
      " tensor([[[1.0684],\n",
      "         [0.9087],\n",
      "         [1.2063]],\n",
      "\n",
      "        [[0.6279],\n",
      "         [0.9626],\n",
      "         [0.6705]],\n",
      "\n",
      "        [[0.9639],\n",
      "         [0.7132],\n",
      "         [0.7240]],\n",
      "\n",
      "        [[1.0019],\n",
      "         [0.8310],\n",
      "         [1.3570]],\n",
      "\n",
      "        [[0.7389],\n",
      "         [1.2349],\n",
      "         [0.9045]]])\n",
      "y \n",
      " (torch.Size([5, 3, 8])) = \n",
      " tensor([[[ 0.8075, -1.0806,  1.2155,  1.5196, -0.0680, -1.3508, -0.4210,\n",
      "          -0.6222],\n",
      "         [-1.1587, -0.6859, -0.2022,  1.5125,  0.2831,  1.4177, -1.3208,\n",
      "           0.1545],\n",
      "         [-0.3470,  1.5841,  0.7116,  0.1370, -1.6313, -0.5046,  1.0069,\n",
      "          -0.9568]],\n",
      "\n",
      "        [[ 0.7669,  0.0548,  0.0227, -0.8283, -2.2124,  0.7065,  0.4143,\n",
      "           1.0755],\n",
      "         [-0.4830, -0.8903, -0.9064,  0.0395,  2.3724, -0.1902, -0.4634,\n",
      "           0.5214],\n",
      "         [-1.0242, -1.0907,  1.1871, -0.0168,  0.9789,  1.1308,  0.2648,\n",
      "          -1.4299]],\n",
      "\n",
      "        [[ 0.3761,  0.3712,  0.7216, -1.9667,  0.3803,  0.5258,  0.9848,\n",
      "          -1.3932],\n",
      "         [ 1.9921, -0.1566, -1.6713, -0.3221,  0.7613,  0.2771, -0.2585,\n",
      "          -0.6220],\n",
      "         [-1.2625, -0.2430,  0.7487,  1.8037, -0.7136,  1.0085, -0.4403,\n",
      "          -0.9014]],\n",
      "\n",
      "        [[ 1.0265, -0.0286,  1.8939,  0.2994, -0.2182, -1.3639, -0.9863,\n",
      "          -0.6230],\n",
      "         [ 2.0481, -0.6109, -0.4922, -0.9650, -0.7185, -0.2242,  1.2651,\n",
      "          -0.3025],\n",
      "         [ 0.1035, -1.5415, -0.4168, -1.0688, -0.2051,  0.2392,  1.3360,\n",
      "           1.5533]],\n",
      "\n",
      "        [[-1.2657, -0.1986, -1.3384, -0.5730,  1.3488,  1.4680,  0.0463,\n",
      "           0.5125],\n",
      "         [ 0.6561, -0.9841,  1.0822,  0.3769, -1.9513,  0.4983,  0.9291,\n",
      "          -0.6073],\n",
      "         [ 1.1422, -1.6977, -0.0038,  0.7204,  1.0241,  0.6932, -0.9540,\n",
      "          -0.9245]]])\n",
      "out \n",
      " (torch.Size([5, 3, 8])) = \n",
      " tensor([[[ 0.8075, -1.0806,  1.2155,  1.5196, -0.0680, -1.3508, -0.4210,\n",
      "          -0.6222],\n",
      "         [-1.1587, -0.6859, -0.2022,  1.5125,  0.2831,  1.4177, -1.3208,\n",
      "           0.1545],\n",
      "         [-0.3470,  1.5841,  0.7116,  0.1370, -1.6313, -0.5046,  1.0069,\n",
      "          -0.9568]],\n",
      "\n",
      "        [[ 0.7669,  0.0548,  0.0227, -0.8283, -2.2124,  0.7065,  0.4143,\n",
      "           1.0755],\n",
      "         [-0.4830, -0.8903, -0.9064,  0.0395,  2.3724, -0.1902, -0.4634,\n",
      "           0.5214],\n",
      "         [-1.0242, -1.0907,  1.1871, -0.0168,  0.9789,  1.1308,  0.2648,\n",
      "          -1.4299]],\n",
      "\n",
      "        [[ 0.3761,  0.3712,  0.7216, -1.9667,  0.3803,  0.5258,  0.9848,\n",
      "          -1.3932],\n",
      "         [ 1.9921, -0.1566, -1.6713, -0.3221,  0.7613,  0.2771, -0.2585,\n",
      "          -0.6220],\n",
      "         [-1.2625, -0.2430,  0.7487,  1.8037, -0.7136,  1.0085, -0.4403,\n",
      "          -0.9014]],\n",
      "\n",
      "        [[ 1.0265, -0.0286,  1.8939,  0.2994, -0.2182, -1.3639, -0.9863,\n",
      "          -0.6230],\n",
      "         [ 2.0481, -0.6109, -0.4922, -0.9650, -0.7185, -0.2242,  1.2651,\n",
      "          -0.3025],\n",
      "         [ 0.1035, -1.5415, -0.4168, -1.0688, -0.2051,  0.2392,  1.3360,\n",
      "           1.5533]],\n",
      "\n",
      "        [[-1.2657, -0.1986, -1.3384, -0.5730,  1.3488,  1.4680,  0.0463,\n",
      "           0.5125],\n",
      "         [ 0.6561, -0.9841,  1.0822,  0.3769, -1.9513,  0.4983,  0.9291,\n",
      "          -0.6073],\n",
      "         [ 1.1422, -1.6977, -0.0038,  0.7204,  1.0241,  0.6932, -0.9540,\n",
      "          -0.9245]]], grad_fn=<AddBackward0>)\n"
     ]
    }
   ],
   "source": [
    "out = layer_norm.forward(inputs)"
   ]
  },
  {
   "cell_type": "code",
   "execution_count": null,
   "metadata": {
    "colab": {
     "base_uri": "https://localhost:8080/"
    },
    "id": "TSUGdHwL6yD2",
    "outputId": "e38f4032-4a80-477c-d0d7-ff64fe0b13e9"
   },
   "outputs": [
    {
     "data": {
      "text/plain": [
       "(tensor(9.9341e-09, grad_fn=<MeanBackward0>),\n",
       " tensor(1.0215, grad_fn=<StdBackward0>))"
      ]
     },
     "execution_count": 16,
     "metadata": {},
     "output_type": "execute_result"
    }
   ],
   "source": [
    "out[0].mean(), out[0].std()"
   ]
  }
 ],
 "metadata": {
  "colab": {
   "provenance": []
  },
  "kernelspec": {
   "display_name": "Python 3 (ipykernel)",
   "language": "python",
   "name": "python3"
  },
  "language_info": {
   "codemirror_mode": {
    "name": "ipython",
    "version": 3
   },
   "file_extension": ".py",
   "mimetype": "text/x-python",
   "name": "python",
   "nbconvert_exporter": "python",
   "pygments_lexer": "ipython3",
   "version": "3.9.17"
  }
 },
 "nbformat": 4,
 "nbformat_minor": 1
}
