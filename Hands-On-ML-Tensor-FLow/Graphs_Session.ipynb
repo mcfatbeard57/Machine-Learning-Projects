{
  "nbformat": 4,
  "nbformat_minor": 0,
  "metadata": {
    "colab": {
      "name": "firstTensorFlow.ipynb",
      "provenance": [],
      "collapsed_sections": [],
      "authorship_tag": "ABX9TyPFRiv+9FgDOHo0MGJHlC6t",
      "include_colab_link": true
    },
    "kernelspec": {
      "name": "python3",
      "display_name": "Python 3"
    }
  },
  "cells": [
    {
      "cell_type": "markdown",
      "metadata": {
        "id": "view-in-github",
        "colab_type": "text"
      },
      "source": [
        "<a href=\"https://colab.research.google.com/github/mcfatbeard57/Hands-On-ML-Tensor-FLow/blob/main/Graphs_Session.ipynb\" target=\"_parent\"><img src=\"https://colab.research.google.com/assets/colab-badge.svg\" alt=\"Open In Colab\"/></a>"
      ]
    },
    {
      "cell_type": "code",
      "metadata": {
        "id": "T1IXESlwqLFa"
      },
      "source": [
        "import tensorflow as tf"
      ],
      "execution_count": null,
      "outputs": []
    },
    {
      "cell_type": "code",
      "metadata": {
        "colab": {
          "base_uri": "https://localhost:8080/"
        },
        "id": "x7k9imJgrEfw",
        "outputId": "b30a559f-8dd2-4fdd-c477-f756325889ff"
      },
      "source": [
        "# To get TF 1.x like behaviour in TF 2.0 one can run\r\n",
        "\r\n",
        "import tensorflow.compat.v1 as tf\r\n",
        "tf.disable_v2_behavior()"
      ],
      "execution_count": null,
      "outputs": [
        {
          "output_type": "stream",
          "text": [
            "WARNING:tensorflow:From /usr/local/lib/python3.6/dist-packages/tensorflow/python/compat/v2_compat.py:96: disable_resource_variables (from tensorflow.python.ops.variable_scope) is deprecated and will be removed in a future version.\n",
            "Instructions for updating:\n",
            "non-resource variables are not supported in the long term\n"
          ],
          "name": "stdout"
        }
      ]
    },
    {
      "cell_type": "code",
      "metadata": {
        "id": "3CCtgen6qsVX"
      },
      "source": [
        "x = tf.Variable(3, name = 'x')\r\n",
        "y = tf.Variable(4, name = 'y')\r\n",
        "f = x*x*y + y + 2"
      ],
      "execution_count": null,
      "outputs": []
    },
    {
      "cell_type": "code",
      "metadata": {
        "id": "Rz9TyYCGquRn"
      },
      "source": [
        "with tf.Session() as sess:\r\n",
        "    x.initializer.run()\r\n",
        "    y.initializer.run()\r\n",
        "    result = f.eval()"
      ],
      "execution_count": null,
      "outputs": []
    },
    {
      "cell_type": "markdown",
      "metadata": {
        "id": "qzAfdxaUrXqP"
      },
      "source": [
        "We can have all variables initialize vai single init node\r\n"
      ]
    },
    {
      "cell_type": "code",
      "metadata": {
        "id": "0lZYgEyQqxG6"
      },
      "source": [
        "init = tf.global_variables_initializer() # prepare an init node which initialize all variables when it run"
      ],
      "execution_count": null,
      "outputs": []
    },
    {
      "cell_type": "code",
      "metadata": {
        "id": "idRe7vtxq3Pg"
      },
      "source": [
        "with tf.Session() as sess:\r\n",
        "    init.run()\r\n",
        "    result = f.eval()"
      ],
      "execution_count": null,
      "outputs": []
    },
    {
      "cell_type": "code",
      "metadata": {
        "id": "fkZHMts1rLpx"
      },
      "source": [
        "# Interactive session\r\n",
        "# opening interactive sess :\r\n",
        "sess = tf.InteractiveSession()"
      ],
      "execution_count": null,
      "outputs": []
    },
    {
      "cell_type": "code",
      "metadata": {
        "colab": {
          "base_uri": "https://localhost:8080/"
        },
        "id": "ZftFjzIQriZ3",
        "outputId": "da2ae0d0-7873-4bca-b501-026bf244069d"
      },
      "source": [
        "init.run()\r\n",
        "result = f.eval()\r\n",
        "result"
      ],
      "execution_count": null,
      "outputs": [
        {
          "output_type": "execute_result",
          "data": {
            "text/plain": [
              "42"
            ]
          },
          "metadata": {
            "tags": []
          },
          "execution_count": 12
        }
      ]
    },
    {
      "cell_type": "code",
      "metadata": {
        "id": "lvPYR9e5rkXX"
      },
      "source": [
        "sess.close()"
      ],
      "execution_count": null,
      "outputs": []
    },
    {
      "cell_type": "code",
      "metadata": {
        "id": "ortWZXdmrlzq"
      },
      "source": [
        ""
      ],
      "execution_count": null,
      "outputs": []
    },
    {
      "cell_type": "markdown",
      "metadata": {
        "id": "buQl34ZhsRDc"
      },
      "source": [
        "## Manaing Graphs"
      ]
    },
    {
      "cell_type": "markdown",
      "metadata": {
        "id": "0063GVgAuvNl"
      },
      "source": [
        "Any node is automatically added to graph"
      ]
    },
    {
      "cell_type": "code",
      "metadata": {
        "id": "HN8QN2PKr_R0"
      },
      "source": [
        "x1 = tf.Variable(1)"
      ],
      "execution_count": null,
      "outputs": []
    },
    {
      "cell_type": "code",
      "metadata": {
        "colab": {
          "base_uri": "https://localhost:8080/"
        },
        "id": "DoslMHw5sXHQ",
        "outputId": "a871b96d-d094-4f45-ed14-28823ef4412d"
      },
      "source": [
        "x1.graph is tf.get_default_graph()"
      ],
      "execution_count": null,
      "outputs": [
        {
          "output_type": "execute_result",
          "data": {
            "text/plain": [
              "True"
            ]
          },
          "metadata": {
            "tags": []
          },
          "execution_count": 15
        }
      ]
    },
    {
      "cell_type": "markdown",
      "metadata": {
        "id": "DudalArfvFkd"
      },
      "source": [
        "Create new graph and temporary making it as default"
      ]
    },
    {
      "cell_type": "code",
      "metadata": {
        "id": "LowwyP7bsd6a"
      },
      "source": [
        "graph = tf.Graph()"
      ],
      "execution_count": null,
      "outputs": []
    },
    {
      "cell_type": "markdown",
      "metadata": {
        "id": "N4ByQMPfvUtp"
      },
      "source": [
        "This helps managing multple graphs independently"
      ]
    },
    {
      "cell_type": "code",
      "metadata": {
        "id": "H-ZHzucVufOm"
      },
      "source": [
        "with graph.as_default():\r\n",
        "  x2 = tf.Variable(2)"
      ],
      "execution_count": null,
      "outputs": []
    },
    {
      "cell_type": "code",
      "metadata": {
        "colab": {
          "base_uri": "https://localhost:8080/"
        },
        "id": "MkoEhfmEumvo",
        "outputId": "62bf3110-adc6-46d8-8ed4-962a7b55ec28"
      },
      "source": [
        "x2.graph is graph"
      ],
      "execution_count": null,
      "outputs": [
        {
          "output_type": "execute_result",
          "data": {
            "text/plain": [
              "True"
            ]
          },
          "metadata": {
            "tags": []
          },
          "execution_count": 22
        }
      ]
    },
    {
      "cell_type": "code",
      "metadata": {
        "colab": {
          "base_uri": "https://localhost:8080/"
        },
        "id": "sZJjA8UXvLDX",
        "outputId": "b042136d-9037-46d9-cd09-260dbd31cd72"
      },
      "source": [
        "x2.graph is tf.get_default_graph()"
      ],
      "execution_count": null,
      "outputs": [
        {
          "output_type": "execute_result",
          "data": {
            "text/plain": [
              "False"
            ]
          },
          "metadata": {
            "tags": []
          },
          "execution_count": 25
        }
      ]
    },
    {
      "cell_type": "markdown",
      "metadata": {
        "id": "aTGqHy4Ivlp3"
      },
      "source": [
        "To avoid maNY DUPLICATE nodes in default graph run"
      ]
    },
    {
      "cell_type": "code",
      "metadata": {
        "id": "_6GKNPWLvQoM"
      },
      "source": [
        "tf.reset_default_graph()"
      ],
      "execution_count": null,
      "outputs": []
    },
    {
      "cell_type": "code",
      "metadata": {
        "id": "RJvCSRfSvk2o"
      },
      "source": [
        ""
      ],
      "execution_count": null,
      "outputs": []
    }
  ]
}