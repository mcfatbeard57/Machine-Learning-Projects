{
  "nbformat": 4,
  "nbformat_minor": 0,
  "metadata": {
    "colab": {
      "name": "LogisticRegression.ipynb",
      "provenance": [],
      "collapsed_sections": [],
      "toc_visible": true,
      "authorship_tag": "ABX9TyNZtkQ0JMT1C8wW0RcEEgV6",
      "include_colab_link": true
    },
    "kernelspec": {
      "name": "python3",
      "display_name": "Python 3"
    }
  },
  "cells": [
    {
      "cell_type": "markdown",
      "metadata": {
        "id": "view-in-github",
        "colab_type": "text"
      },
      "source": [
        "<a href=\"https://colab.research.google.com/github/mcfatbeard57/Hands-On-ML-Tensor-FLow/blob/main/LogisticRegression.ipynb\" target=\"_parent\"><img src=\"https://colab.research.google.com/assets/colab-badge.svg\" alt=\"Open In Colab\"/></a>"
      ]
    },
    {
      "cell_type": "markdown",
      "metadata": {
        "id": "S3BYs_orPpmR"
      },
      "source": [
        "# LR\r\n",
        "Chapter 4 Logistic Regression"
      ]
    },
    {
      "cell_type": "markdown",
      "metadata": {
        "id": "9EaVhPWtP3SE"
      },
      "source": [
        "estimate the probability that an instance belongs to a particular class\r\n",
        "(e.g., what is the probability that this email is spam?). If the estimated probability is\r\n",
        "greater than 50%, then the model predicts that the instance belongs to that class\r\n",
        "(called the positive class, labeled “1”), or else it predicts that it does not (i.e., it\r\n",
        "belongs to the negative class, labeled “0”). This makes it a binary classifier."
      ]
    },
    {
      "cell_type": "markdown",
      "metadata": {
        "id": "yvR1RvWyQIIV"
      },
      "source": [
        "**Notice that σ(t) < 0.5 when t < 0, and σ(t) ≥ 0.5 when t ≥ 0, so a Logistic Regression\r\n",
        "model predicts 1 if θT · x is positive, and 0 if it is negative.**"
      ]
    },
    {
      "cell_type": "markdown",
      "metadata": {
        "id": "bduG-CrBPUMB"
      },
      "source": [
        "\r\n",
        "## Training the Cost fxn\r\n",
        "---\r\n",
        "\r\n"
      ]
    },
    {
      "cell_type": "code",
      "metadata": {
        "id": "zncw6jlYP6CX"
      },
      "source": [
        "# This cost function makes sense because – log(t) grows very large when t approaches 0, \r\n",
        "# so the cost will be large if the model estimates a probability close to 0 for a positive instance, \r\n",
        "# and it will also be very large if the model estimates a probability close to 1 for a negative instance. On the other hand,\r\n",
        "#  – log(t) is close to 0 when t is close to 1, \r\n",
        "#  so the cost will be close to 0 if the estimated probability is close to 0 for a negative instance or close to 1 for a positive instance, \r\n",
        "#  which is precisely what we want."
      ],
      "execution_count": 10,
      "outputs": []
    },
    {
      "cell_type": "code",
      "metadata": {
        "id": "6cC3LU3TPlJn"
      },
      "source": [
        "# this cost function is convex"
      ],
      "execution_count": 8,
      "outputs": []
    },
    {
      "cell_type": "code",
      "metadata": {
        "id": "z302n9DyO3Kt"
      },
      "source": [
        "import numpy as np"
      ],
      "execution_count": 2,
      "outputs": []
    },
    {
      "cell_type": "code",
      "metadata": {
        "id": "x3Q0pYE-O_up"
      },
      "source": [
        "import matplotlib.pyplot as plt"
      ],
      "execution_count": 6,
      "outputs": []
    },
    {
      "cell_type": "code",
      "metadata": {
        "id": "ZFcKI-K4OfuA"
      },
      "source": [
        "from sklearn import datasets\r\n",
        "iris = datasets.load_iris()\r\n",
        "list(iris.keys())\r\n",
        "# ['data', 'target_names', 'feature_names', 'target', 'DESCR']\r\n",
        "X = iris[\"data\"][:, 3:] # petal width\r\n",
        "y = (iris[\"target\"] == 2).astype(np.int) # 1 if Iris-Virginica, else 0"
      ],
      "execution_count": 3,
      "outputs": []
    },
    {
      "cell_type": "code",
      "metadata": {
        "colab": {
          "base_uri": "https://localhost:8080/"
        },
        "id": "p1PcRS5vOs2W",
        "outputId": "5740826c-a03d-4315-81d7-e682cd15b033"
      },
      "source": [
        "from sklearn.linear_model import LogisticRegression\r\n",
        "log_reg = LogisticRegression()\r\n",
        "log_reg.fit(X, y)"
      ],
      "execution_count": 4,
      "outputs": [
        {
          "output_type": "execute_result",
          "data": {
            "text/plain": [
              "LogisticRegression(C=1.0, class_weight=None, dual=False, fit_intercept=True,\n",
              "                   intercept_scaling=1, l1_ratio=None, max_iter=100,\n",
              "                   multi_class='auto', n_jobs=None, penalty='l2',\n",
              "                   random_state=None, solver='lbfgs', tol=0.0001, verbose=0,\n",
              "                   warm_start=False)"
            ]
          },
          "metadata": {
            "tags": []
          },
          "execution_count": 4
        }
      ]
    },
    {
      "cell_type": "markdown",
      "metadata": {
        "id": "dQJAjN1kQeJG"
      },
      "source": [
        " **The hyperparameter controlling the regularization strength of a\r\n",
        "Scikit-Learn LogisticRegression model is not alpha (as in other\r\n",
        "linear models), but its inverse: C. The higher the value of C, the less\r\n",
        "the model is regularized.**"
      ]
    },
    {
      "cell_type": "code",
      "metadata": {
        "colab": {
          "base_uri": "https://localhost:8080/",
          "height": 282
        },
        "id": "y-ifOcJnOwv2",
        "outputId": "d0b0179f-2c10-4f5a-db23-78eb09c3df0e"
      },
      "source": [
        "X_new = np.linspace(0, 3, 1000).reshape(-1, 1)\r\n",
        "y_proba = log_reg.predict_proba(X_new)\r\n",
        "plt.plot(X_new, y_proba[:, 1], \"g-\", label=\"Iris-Virginica\")\r\n",
        "plt.plot(X_new, y_proba[:, 0], \"b--\", label=\"Not Iris-Virginica\")\r\n",
        "# + more Matplotlib code to make the image look pretty"
      ],
      "execution_count": 7,
      "outputs": [
        {
          "output_type": "execute_result",
          "data": {
            "text/plain": [
              "[<matplotlib.lines.Line2D at 0x7fcbac845160>]"
            ]
          },
          "metadata": {
            "tags": []
          },
          "execution_count": 7
        },
        {
          "output_type": "display_data",
          "data": {
            "image/png": "[encoded data removed]",
            "text/plain": [
              "<Figure size 432x288 with 1 Axes>"
            ]
          },
          "metadata": {
            "tags": [],
            "needs_background": "light"
          }
        }
      ]
    },
    {
      "cell_type": "markdown",
      "metadata": {
        "id": "rq6tQj61VrO_"
      },
      "source": [
        "# Softmax Regression"
      ]
    },
    {
      "cell_type": "markdown",
      "metadata": {
        "id": "GGwR_KvSV309"
      },
      "source": [
        "support multiple classes directly,\r\n",
        "without having to train and combine multiple binary classifiers\r\n",
        "\r\n",
        "each class has its own dedicated parameter vector θk."
      ]
    },
    {
      "cell_type": "code",
      "metadata": {
        "id": "717Wf_JJO9sL"
      },
      "source": [
        "# Just like the Logistic Regression classifier, the Softmax Regression classifier predicts\r\n",
        "# the class with the highest estimated probability (which is simply the class with the\r\n",
        "# highest score),"
      ],
      "execution_count": 11,
      "outputs": []
    },
    {
      "cell_type": "markdown",
      "metadata": {
        "id": "zbZ7JGrxWHZ2"
      },
      "source": [
        "**The Softmax Regression classifier predicts only one class at a time\r\n",
        "(i.e., it is multiclass, not multioutput) so it should be used only with\r\n",
        "mutually exclusive classes such as different types of plants. You\r\n",
        "cannot use it to recognize multiple people in one picture.**"
      ]
    },
    {
      "cell_type": "markdown",
      "metadata": {
        "id": "z78E_n0pWQF1"
      },
      "source": [
        "training objective is to have a model that estimates a high\r\n",
        "probability for the target class (and consequently a low probability for the other\r\n",
        "classes)."
      ]
    },
    {
      "cell_type": "code",
      "metadata": {
        "id": "jXgmBxlCWEcd"
      },
      "source": [
        "# cross entropy penalizes the model when it estimates\r\n",
        "# a low probability for a target class."
      ],
      "execution_count": 12,
      "outputs": []
    },
    {
      "cell_type": "code",
      "metadata": {
        "id": "0wYeOwKXWaWz"
      },
      "source": [
        "# set the multi_class hyperparameter to \"multinomial\"\r\n",
        "# solver that supports Softmax Regression, such as the \"lbfgs\" solver"
      ],
      "execution_count": 13,
      "outputs": []
    },
    {
      "cell_type": "code",
      "metadata": {
        "id": "5RcXBmwkWmQI"
      },
      "source": [
        "# applies ℓ2 regularization by default, which you can\r\n",
        "# control using the hyperparameter C."
      ],
      "execution_count": 14,
      "outputs": []
    },
    {
      "cell_type": "code",
      "metadata": {
        "colab": {
          "base_uri": "https://localhost:8080/"
        },
        "id": "o0OjTx9sWsCt",
        "outputId": "e3c3cd3e-7b2a-437d-d041-853d9de22aa4"
      },
      "source": [
        "X = iris[\"data\"][:, (2, 3)] # petal length, petal width\r\n",
        "y = iris[\"target\"]\r\n",
        "softmax_reg = LogisticRegression(multi_class=\"multinomial\",solver=\"lbfgs\", C=10)\r\n",
        "softmax_reg.fit(X, y)"
      ],
      "execution_count": 15,
      "outputs": [
        {
          "output_type": "execute_result",
          "data": {
            "text/plain": [
              "LogisticRegression(C=10, class_weight=None, dual=False, fit_intercept=True,\n",
              "                   intercept_scaling=1, l1_ratio=None, max_iter=100,\n",
              "                   multi_class='multinomial', n_jobs=None, penalty='l2',\n",
              "                   random_state=None, solver='lbfgs', tol=0.0001, verbose=0,\n",
              "                   warm_start=False)"
            ]
          },
          "metadata": {
            "tags": []
          },
          "execution_count": 15
        }
      ]
    },
    {
      "cell_type": "code",
      "metadata": {
        "id": "88AMyTjoWudm"
      },
      "source": [
        ""
      ],
      "execution_count": null,
      "outputs": []
    }
  ]
}