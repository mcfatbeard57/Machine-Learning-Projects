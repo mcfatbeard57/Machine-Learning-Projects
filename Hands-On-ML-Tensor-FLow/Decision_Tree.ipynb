{
  "nbformat": 4,
  "nbformat_minor": 0,
  "metadata": {
    "colab": {
      "name": "Decision Tree.ipynb",
      "provenance": [],
      "collapsed_sections": [],
      "toc_visible": true,
      "authorship_tag": "ABX9TyPt7T5J+RuOM6JFgSz+iDZc",
      "include_colab_link": true
    },
    "kernelspec": {
      "name": "python3",
      "display_name": "Python 3"
    }
  },
  "cells": [
    {
      "cell_type": "markdown",
      "metadata": {
        "id": "view-in-github",
        "colab_type": "text"
      },
      "source": [
        "<a href=\"https://colab.research.google.com/github/mcfatbeard57/Hands-On-ML-Tensor-FLow/blob/main/Decision_Tree.ipynb\" target=\"_parent\"><img src=\"https://colab.research.google.com/assets/colab-badge.svg\" alt=\"Open In Colab\"/></a>"
      ]
    },
    {
      "cell_type": "markdown",
      "metadata": {
        "id": "UTcW0xZIMtyO"
      },
      "source": [
        "Chapter 6 : Decision Trees"
      ]
    },
    {
      "cell_type": "markdown",
      "metadata": {
        "id": "rIMxMViwMymj"
      },
      "source": [
        "# Decision Trees\r\n",
        "\r\n",
        "Prone to overfitting\r\n",
        "\r\n",
        "Senstive to small variations in training data or rotaion in training set.\r\n",
        "\r\n",
        "Use PCA or Random foresets"
      ]
    },
    {
      "cell_type": "markdown",
      "metadata": {
        "id": "WjQKiq3Hqz0I"
      },
      "source": [
        "Dont require Feature Scaling"
      ]
    },
    {
      "cell_type": "markdown",
      "metadata": {
        "id": "rMLOJy7jq4hh"
      },
      "source": [
        "**Gini Impurity**:\r\n",
        "\r\n",
        "1 - (Sum of square of pi,k)\r\n",
        "\r\n",
        "\r\n",
        "• pi,k is the ratio of class k instances among the training instances in the ith node."
      ]
    },
    {
      "cell_type": "markdown",
      "metadata": {
        "id": "vmIZaJdvr5Qn"
      },
      "source": [
        "**Entropy**\r\n",
        "\r\n",
        "Hi = − ( Sum of p * log(p)) "
      ]
    },
    {
      "cell_type": "markdown",
      "metadata": {
        "id": "pH2cB1nnqIRG"
      },
      "source": [
        "## Classification\r\n",
        "Splits the training set to minimize impurity"
      ]
    },
    {
      "cell_type": "markdown",
      "metadata": {
        "id": "7tJCTLn5rSO_"
      },
      "source": [
        "#### CART Algo (greedy algo)\r\n",
        "the algorithm first splits the training set in two subsets using a single feature k and a threshold tk (e.g., “petal length ≤ 2.45 cm”).\r\n",
        "\r\n",
        "**How does it choose k and tk?** \r\n",
        "\r\n",
        "It searches for the pair (k, tk) that produces the purest subsets (weighted by their size).\r\n",
        "\r\n",
        "Aim is to reduce impurity in child nodes"
      ]
    },
    {
      "cell_type": "markdown",
      "metadata": {
        "id": "M-EI7DXHM77-"
      },
      "source": [
        "### Training"
      ]
    },
    {
      "cell_type": "code",
      "metadata": {
        "colab": {
          "base_uri": "https://localhost:8080/"
        },
        "id": "nhxI35niMnPE",
        "outputId": "3a15a8d2-5608-4e0c-a33c-d895f8f54b1c"
      },
      "source": [
        "from sklearn.datasets import load_iris\r\n",
        "from sklearn.tree import DecisionTreeClassifier\r\n",
        "\r\n",
        "iris = load_iris()\r\n",
        "X = iris.data[:, 2:] # petal length and width\r\n",
        "y = iris.target\r\n",
        "\r\n",
        "tree_clf = DecisionTreeClassifier(max_depth=2, min_samples_leaf=4, random_state=42)\r\n",
        "tree_clf.fit(X, y)"
      ],
      "execution_count": 1,
      "outputs": [
        {
          "output_type": "execute_result",
          "data": {
            "text/plain": [
              "DecisionTreeClassifier(ccp_alpha=0.0, class_weight=None, criterion='gini',\n",
              "                       max_depth=2, max_features=None, max_leaf_nodes=None,\n",
              "                       min_impurity_decrease=0.0, min_impurity_split=None,\n",
              "                       min_samples_leaf=1, min_samples_split=2,\n",
              "                       min_weight_fraction_leaf=0.0, presort='deprecated',\n",
              "                       random_state=42, splitter='best')"
            ]
          },
          "metadata": {
            "tags": []
          },
          "execution_count": 1
        }
      ]
    },
    {
      "cell_type": "markdown",
      "metadata": {
        "id": "RMeCejrwNOUn"
      },
      "source": [
        "### Predicting \r\n",
        "Predicts class in each node"
      ]
    },
    {
      "cell_type": "code",
      "metadata": {
        "colab": {
          "base_uri": "https://localhost:8080/"
        },
        "id": "6cYD0J0hNDUM",
        "outputId": "1e2a8da7-9d8e-41bf-887d-4caf7beedae4"
      },
      "source": [
        "tree_clf.predict_proba([[5, 1.5]])"
      ],
      "execution_count": 3,
      "outputs": [
        {
          "output_type": "execute_result",
          "data": {
            "text/plain": [
              "array([[0.        , 0.90740741, 0.09259259]])"
            ]
          },
          "metadata": {
            "tags": []
          },
          "execution_count": 3
        }
      ]
    },
    {
      "cell_type": "markdown",
      "metadata": {
        "id": "1Ur1Fb1VqMM3"
      },
      "source": [
        "## Regression\r\n",
        "\r\n",
        "Splits the training set to minimize MSE\r\n",
        "Predicts a value"
      ]
    },
    {
      "cell_type": "code",
      "metadata": {
        "id": "3o18OfobNDr5"
      },
      "source": [
        "from sklearn.tree import DecisionTreeRegressor\r\n",
        "\r\n",
        "tree_reg = DecisionTreeRegressor(max_depth=2, random_state=42, min_samples_leaf=10)\r\n",
        "tree_reg.fit(X, y)"
      ],
      "execution_count": null,
      "outputs": []
    },
    {
      "cell_type": "markdown",
      "metadata": {
        "id": "j1o3aDENsTbA"
      },
      "source": [
        "## Hyperparameters"
      ]
    },
    {
      "cell_type": "markdown",
      "metadata": {
        "id": "pFN8QvvYsj6D"
      },
      "source": [
        "**max_depth** hyperparameter (the default value is None, which means unlimited).\r\n",
        "Reducing max_depth will regularize the model and thus reduce the risk of overfitting."
      ]
    },
    {
      "cell_type": "markdown",
      "metadata": {
        "id": "CQVu9PmpsnSg"
      },
      "source": [
        "**min_samples_split** (the minimum number of samples a node must have before it can be split)"
      ]
    },
    {
      "cell_type": "markdown",
      "metadata": {
        "id": "X58Qig8_snP3"
      },
      "source": [
        "**min_samples_leaf** (the minimum number\r\n",
        "of samples a leaf node must have)"
      ]
    },
    {
      "cell_type": "markdown",
      "metadata": {
        "id": "nzKw0ZIqsm8z"
      },
      "source": [
        "**min_weight_fraction_leaf** (same as\r\n",
        "min_samples_leaf but expressed as a fraction of the total number of weighted\r\n",
        "instances)"
      ]
    },
    {
      "cell_type": "markdown",
      "metadata": {
        "id": "lPJJlC26s1c6"
      },
      "source": [
        "**max_leaf_nodes** (maximum number of leaf nodes)"
      ]
    },
    {
      "cell_type": "markdown",
      "metadata": {
        "id": "4lBYpiOts1aX"
      },
      "source": [
        "**max_features**\r\n",
        "(maximum number of features that are evaluated for splitting at each node)."
      ]
    },
    {
      "cell_type": "markdown",
      "metadata": {
        "id": "OSWhBF5ms714"
      },
      "source": [
        "*** Increasing min_* hyperparameters or reducing max_* hyperparameters will regularize the model.**"
      ]
    },
    {
      "cell_type": "markdown",
      "metadata": {
        "id": "aqL8LYzFtbi0"
      },
      "source": [
        "## Puring\r\n",
        "(deleting) unnecessary nodes\r\n",
        "\r\n",
        "statistical tests, such as the **χ2 test**, are used to estimate the\r\n",
        "probability that the improvement is purely the result of chance\r\n",
        "(which is called the null hypothesis). \r\n",
        "\r\n",
        "If this probability, called the **p-value**,\r\n",
        "is higher than a given threshold (typically 5%, controlled by\r\n",
        "a hyperparameter), then the node is considered unnecessary and its\r\n",
        "children are deleted. The pruning continues until all unnecessary\r\n",
        "nodes have been pruned."
      ]
    },
    {
      "cell_type": "markdown",
      "metadata": {
        "id": "t3NiaFj5ySJM"
      },
      "source": [
        "## Excercises"
      ]
    },
    {
      "cell_type": "markdown",
      "metadata": {
        "id": "1aN0Z9L_yeXv"
      },
      "source": [
        "#### 1"
      ]
    },
    {
      "cell_type": "code",
      "metadata": {
        "id": "riHL3Ki9s0cc"
      },
      "source": [
        "# Depth of well balanced tree with m leaves is O(log(m))\r\n",
        "# m is training set size"
      ],
      "execution_count": 3,
      "outputs": []
    },
    {
      "cell_type": "code",
      "metadata": {
        "id": "V83vsaYjyc4O"
      },
      "source": [
        "# Time Complexity is O(n*m*log(m))"
      ],
      "execution_count": 4,
      "outputs": []
    },
    {
      "cell_type": "markdown",
      "metadata": {
        "id": "6TxTQ9ee1X-q"
      },
      "source": [
        "#### 2"
      ]
    },
    {
      "cell_type": "markdown",
      "metadata": {
        "id": "FWcSEBkN1dvd"
      },
      "source": [
        "Train and fine-tune a Decision Tree for the moons dataset."
      ]
    },
    {
      "cell_type": "code",
      "metadata": {
        "id": "QxorzJFQ0vdS"
      },
      "source": [
        "from sklearn.datasets import make_moons\r\n",
        "\r\n",
        "X, y = make_moons(n_samples=10000, noise=0.4, random_state=42)"
      ],
      "execution_count": 5,
      "outputs": []
    },
    {
      "cell_type": "code",
      "metadata": {
        "id": "q9CbHaPA1iW2"
      },
      "source": [
        "# Splitting the dataset\r\n",
        "from sklearn.model_selection import train_test_split\r\n",
        "\r\n",
        "X_train, X_test, y_train, y_test = train_test_split(X, y, test_size=0.2, random_state=42)"
      ],
      "execution_count": 6,
      "outputs": []
    },
    {
      "cell_type": "code",
      "metadata": {
        "colab": {
          "base_uri": "https://localhost:8080/"
        },
        "id": "RRfDykXC1l2c",
        "outputId": "fc295f10-9e87-47ed-87b7-e24f5ffc2db3"
      },
      "source": [
        "# Use grid search with cross-validation \r\n",
        "\r\n",
        "from sklearn.model_selection import GridSearchCV\r\n",
        "from sklearn.tree import DecisionTreeClassifier\r\n",
        "\r\n",
        "params = {'max_leaf_nodes': list(range(2, 100)), 'min_samples_split': [2, 3, 4]}\r\n",
        "grid_search_cv = GridSearchCV(DecisionTreeClassifier(random_state=42), params, n_jobs=-1, verbose=1, cv=3)\r\n",
        "\r\n",
        "grid_search_cv.fit(X_train, y_train)"
      ],
      "execution_count": 10,
      "outputs": [
        {
          "output_type": "stream",
          "text": [
            "Fitting 3 folds for each of 294 candidates, totalling 882 fits\n"
          ],
          "name": "stdout"
        },
        {
          "output_type": "stream",
          "text": [
            "[Parallel(n_jobs=-1)]: Using backend LokyBackend with 2 concurrent workers.\n",
            "[Parallel(n_jobs=-1)]: Done 360 tasks      | elapsed:    3.8s\n",
            "[Parallel(n_jobs=-1)]: Done 882 out of 882 | elapsed:    8.3s finished\n"
          ],
          "name": "stderr"
        },
        {
          "output_type": "execute_result",
          "data": {
            "text/plain": [
              "GridSearchCV(cv=3, error_score=nan,\n",
              "             estimator=DecisionTreeClassifier(ccp_alpha=0.0, class_weight=None,\n",
              "                                              criterion='gini', max_depth=None,\n",
              "                                              max_features=None,\n",
              "                                              max_leaf_nodes=None,\n",
              "                                              min_impurity_decrease=0.0,\n",
              "                                              min_impurity_split=None,\n",
              "                                              min_samples_leaf=1,\n",
              "                                              min_samples_split=2,\n",
              "                                              min_weight_fraction_leaf=0.0,\n",
              "                                              presort='deprecated',\n",
              "                                              random_state=42,\n",
              "                                              splitter='best'),\n",
              "             iid='deprecated', n_jobs=-1,\n",
              "             param_grid={'max_leaf_nodes': [2, 3, 4, 5, 6, 7, 8, 9, 10, 11, 12,\n",
              "                                            13, 14, 15, 16, 17, 18, 19, 20, 21,\n",
              "                                            22, 23, 24, 25, 26, 27, 28, 29, 30,\n",
              "                                            31, ...],\n",
              "                         'min_samples_split': [2, 3, 4]},\n",
              "             pre_dispatch='2*n_jobs', refit=True, return_train_score=False,\n",
              "             scoring=None, verbose=1)"
            ]
          },
          "metadata": {
            "tags": []
          },
          "execution_count": 10
        }
      ]
    },
    {
      "cell_type": "code",
      "metadata": {
        "colab": {
          "base_uri": "https://localhost:8080/"
        },
        "id": "BYpqztdg1vQf",
        "outputId": "31737f16-d14f-40ee-ca68-2eaff4929c59"
      },
      "source": [
        "grid_search_cv.best_estimator_"
      ],
      "execution_count": 11,
      "outputs": [
        {
          "output_type": "execute_result",
          "data": {
            "text/plain": [
              "DecisionTreeClassifier(ccp_alpha=0.0, class_weight=None, criterion='gini',\n",
              "                       max_depth=None, max_features=None, max_leaf_nodes=17,\n",
              "                       min_impurity_decrease=0.0, min_impurity_split=None,\n",
              "                       min_samples_leaf=1, min_samples_split=2,\n",
              "                       min_weight_fraction_leaf=0.0, presort='deprecated',\n",
              "                       random_state=42, splitter='best')"
            ]
          },
          "metadata": {
            "tags": []
          },
          "execution_count": 11
        }
      ]
    },
    {
      "cell_type": "markdown",
      "metadata": {
        "id": "xF8uBg5j1-5i"
      },
      "source": [
        " Train it on the full training set using these hyperparameters"
      ]
    },
    {
      "cell_type": "code",
      "metadata": {
        "colab": {
          "base_uri": "https://localhost:8080/"
        },
        "id": "Cy91sCuH18N6",
        "outputId": "f2e7d5b5-6e78-4c08-bd47-954352b6fa98"
      },
      "source": [
        "from sklearn.metrics import accuracy_score\r\n",
        "\r\n",
        "y_pred = grid_search_cv.predict(X_test)\r\n",
        "accuracy_score(y_test, y_pred)"
      ],
      "execution_count": 12,
      "outputs": [
        {
          "output_type": "execute_result",
          "data": {
            "text/plain": [
              "0.8695"
            ]
          },
          "metadata": {
            "tags": []
          },
          "execution_count": 12
        }
      ]
    },
    {
      "cell_type": "markdown",
      "metadata": {
        "id": "fO1ImLxw2Qsa"
      },
      "source": [
        "#### 3\r\n",
        "Exercise: Grow a forest."
      ]
    },
    {
      "cell_type": "markdown",
      "metadata": {
        "id": "wUynMCt63ACo"
      },
      "source": [
        "a. Continuing the previous exercise, generate 1,000 subsets of the training set, each containing 100 instances selected randomly. Hint: you can use Scikit-Learn's ShuffleSplit class for this."
      ]
    },
    {
      "cell_type": "code",
      "metadata": {
        "id": "fgpQ959n2Hks"
      },
      "source": [
        "from sklearn.model_selection import ShuffleSplit\r\n",
        "\r\n",
        "n_trees = 1000\r\n",
        "n_instances = 100\r\n",
        "\r\n",
        "mini_sets = []\r\n",
        "\r\n",
        "rs = ShuffleSplit(n_splits=n_trees, test_size=len(X_train) - n_instances, random_state=42)\r\n",
        "for mini_train_index, mini_test_index in rs.split(X_train):\r\n",
        "    X_mini_train = X_train[mini_train_index]\r\n",
        "    y_mini_train = y_train[mini_train_index]\r\n",
        "    mini_sets.append((X_mini_train, y_mini_train))"
      ],
      "execution_count": 13,
      "outputs": []
    },
    {
      "cell_type": "markdown",
      "metadata": {
        "id": "9VkiKFir3Cta"
      },
      "source": [
        "b. Train one Decision Tree on each subset, using the best hyperparameter values found above. Evaluate these 1,000 Decision Trees on the test set. Since they were trained on smaller sets, these Decision Trees will likely perform worse than the first Decision Tree, achieving only about 80% accuracy."
      ]
    },
    {
      "cell_type": "code",
      "metadata": {
        "id": "6p27Wmm83JRH"
      },
      "source": [
        "import numpy as np"
      ],
      "execution_count": 15,
      "outputs": []
    },
    {
      "cell_type": "code",
      "metadata": {
        "colab": {
          "base_uri": "https://localhost:8080/"
        },
        "id": "JL3ecJsC29va",
        "outputId": "9ecb1194-c9dc-405e-e444-16489474b79f"
      },
      "source": [
        "from sklearn.base import clone\r\n",
        "\r\n",
        "forest = [clone(grid_search_cv.best_estimator_) for _ in range(n_trees)]\r\n",
        "\r\n",
        "accuracy_scores = []\r\n",
        "\r\n",
        "for tree, (X_mini_train, y_mini_train) in zip(forest, mini_sets):\r\n",
        "    tree.fit(X_mini_train, y_mini_train)\r\n",
        "    \r\n",
        "    y_pred = tree.predict(X_test)\r\n",
        "    accuracy_scores.append(accuracy_score(y_test, y_pred))\r\n",
        "\r\n",
        "np.mean(accuracy_scores)"
      ],
      "execution_count": 16,
      "outputs": [
        {
          "output_type": "execute_result",
          "data": {
            "text/plain": [
              "0.8054499999999999"
            ]
          },
          "metadata": {
            "tags": []
          },
          "execution_count": 16
        }
      ]
    },
    {
      "cell_type": "markdown",
      "metadata": {
        "id": "MfDCyT553Hvr"
      },
      "source": [
        "c. Now comes the magic. For each test set instance, generate the predictions of the 1,000 Decision Trees, and keep only the most frequent prediction (you can use SciPy's mode() function for this). This gives you majority-vote predictions over the test set."
      ]
    },
    {
      "cell_type": "code",
      "metadata": {
        "id": "LHNuXZF83GAt"
      },
      "source": [
        "Y_pred = np.empty([n_trees, len(X_test)], dtype=np.uint8)\r\n",
        "\r\n",
        "for tree_index, tree in enumerate(forest):\r\n",
        "    Y_pred[tree_index] = tree.predict(X_test)"
      ],
      "execution_count": 17,
      "outputs": []
    },
    {
      "cell_type": "code",
      "metadata": {
        "id": "o6nxV_E43NBL"
      },
      "source": [
        "from scipy.stats import mode\r\n",
        "\r\n",
        "y_pred_majority_votes, n_votes = mode(Y_pred, axis=0)"
      ],
      "execution_count": 18,
      "outputs": []
    },
    {
      "cell_type": "markdown",
      "metadata": {
        "id": "ULC4WdHh3Rgq"
      },
      "source": [
        "\r\n",
        "d. Evaluate these predictions on the test set: you should obtain a slightly higher accuracy than your first model (about 0.5 to 1.5% higher). Congratulations, you have trained a Random Forest classifier!"
      ]
    },
    {
      "cell_type": "code",
      "metadata": {
        "colab": {
          "base_uri": "https://localhost:8080/"
        },
        "id": "k8Mfw2cc3P_w",
        "outputId": "28972aa8-57ca-4ae0-c5a4-56d3d0ac071f"
      },
      "source": [
        "accuracy_score(y_test, y_pred_majority_votes.reshape([-1]))"
      ],
      "execution_count": 20,
      "outputs": [
        {
          "output_type": "execute_result",
          "data": {
            "text/plain": [
              "0.872"
            ]
          },
          "metadata": {
            "tags": []
          },
          "execution_count": 20
        }
      ]
    },
    {
      "cell_type": "code",
      "metadata": {
        "id": "ZD17t8R-3Tf0"
      },
      "source": [
        ""
      ],
      "execution_count": null,
      "outputs": []
    }
  ]
}