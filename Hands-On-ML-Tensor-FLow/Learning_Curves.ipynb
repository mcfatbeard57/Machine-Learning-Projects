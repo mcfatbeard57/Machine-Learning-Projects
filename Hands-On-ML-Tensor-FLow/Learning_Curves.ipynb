{
  "nbformat": 4,
  "nbformat_minor": 0,
  "metadata": {
    "kernelspec": {
      "display_name": "Python 3",
      "language": "python",
      "name": "python3"
    },
    "language_info": {
      "codemirror_mode": {
        "name": "ipython",
        "version": 3
      },
      "file_extension": ".py",
      "mimetype": "text/x-python",
      "name": "python",
      "nbconvert_exporter": "python",
      "pygments_lexer": "ipython3",
      "version": "3.7.4"
    },
    "colab": {
      "name": "Learning_Curves.ipynb",
      "provenance": [],
      "collapsed_sections": [],
      "toc_visible": true,
      "include_colab_link": true
    }
  },
  "cells": [
    {
      "cell_type": "markdown",
      "metadata": {
        "id": "view-in-github",
        "colab_type": "text"
      },
      "source": [
        "<a href=\"https://colab.research.google.com/github/mcfatbeard57/Hands-On-ML-Tensor-FLow/blob/main/Learning_Curves.ipynb\" target=\"_parent\"><img src=\"https://colab.research.google.com/assets/colab-badge.svg\" alt=\"Open In Colab\"/></a>"
      ]
    },
    {
      "cell_type": "markdown",
      "metadata": {
        "id": "KpRkvjLaKWcB"
      },
      "source": [
        "# How can you tell your model is overfitting or underfitting the data?"
      ]
    },
    {
      "cell_type": "markdown",
      "metadata": {
        "id": "bJjyiH0VKWcP"
      },
      "source": [
        "#### Using cross-validation to get an estimate of a model's generalization performance."
      ]
    },
    {
      "cell_type": "code",
      "metadata": {
        "id": "axA5xHxnKWcQ"
      },
      "source": [
        "# If a model performs well on the training data but generalizes poorly\n",
        "# according to the cross-validation metrics, then your model is overfitting. If it performs\n",
        "# poorly on both, then it is underfitting. \n",
        "# This is one way to tell when a model is too simple or too complex."
      ],
      "execution_count": null,
      "outputs": []
    },
    {
      "cell_type": "markdown",
      "metadata": {
        "id": "6bP_WG8CKWcR"
      },
      "source": [
        "## Learning Curves"
      ]
    },
    {
      "cell_type": "code",
      "metadata": {
        "id": "2FRtfoP_KWcS"
      },
      "source": [
        "# these are plots of the model’s performance\n",
        "# on the training set and the validation set as a function of the training set size."
      ],
      "execution_count": null,
      "outputs": []
    },
    {
      "cell_type": "code",
      "metadata": {
        "id": "L1D4sSkpKWcT"
      },
      "source": [
        "from sklearn.metrics import mean_squared_error\n",
        "from sklearn.model_selection import train_test_split\n"
      ],
      "execution_count": null,
      "outputs": []
    },
    {
      "cell_type": "code",
      "metadata": {
        "id": "e8-On0h1KWcU"
      },
      "source": [
        "def plot_learning_curves(model, X, y):\n",
        "    # Train-Test split\n",
        "    X_train, X_val, y_train, y_val = train_test_split(X, y, test_size=0.2)\n",
        "    train_errors, val_errors = [], []\n",
        "    # Taking a subset of size m from X_train set\n",
        "    for m in range(1, len(X_train)):\n",
        "        # Model fit on X_train and y_train\n",
        "        model.fit(X_train[:m], y_train[:m])\n",
        "        # predict model on X_train and X_val and append on respective lists\n",
        "        y_train_predict = model.predict(X_train[:m])\n",
        "        y_val_predict = model.predict(X_val)\n",
        "        # Cal MSE with predict and actual value\n",
        "        train_errors.append(mean_squared_error(y_train_predict, y_train[:m]))\n",
        "        val_errors.append(mean_squared_error(y_val_predict, y_val))\n",
        "    plt.plot(np.sqrt(train_errors), \"r-+\", linewidth=2, label=\"train\")\n",
        "    plt.plot(np.sqrt(val_errors), \"b-\", linewidth=3, label=\"val\")"
      ],
      "execution_count": null,
      "outputs": []
    },
    {
      "cell_type": "markdown",
      "metadata": {
        "id": "aZqEBI_lOums"
      },
      "source": [
        "### Learning curve of linear reg model model"
      ]
    },
    {
      "cell_type": "code",
      "metadata": {
        "id": "apKTI1PPO1EN"
      },
      "source": [
        "lin_reg = LinearRegression()\r\n",
        "plot_learning_curves(lin_reg, X, y)"
      ],
      "execution_count": null,
      "outputs": []
    },
    {
      "cell_type": "markdown",
      "metadata": {
        "id": "V_nRovyoPeOE"
      },
      "source": [
        "#### UNDERFIT !!\r\n",
        "If your model is underfitting the training data, adding more training\r\n",
        "examples will not help. You need to use a more complex model\r\n",
        "or come up with better features."
      ]
    },
    {
      "cell_type": "markdown",
      "metadata": {
        "id": "2v9Ar5q2Oc_b"
      },
      "source": [
        "### Learning curve of 10th degree polynomial model"
      ]
    },
    {
      "cell_type": "code",
      "metadata": {
        "id": "H-wgui9cOabl"
      },
      "source": [
        "from sklearn.pipeline import Pipeline\r\n",
        "polynomial_regression = Pipeline((\r\n",
        "(\"poly_features\", PolynomialFeatures(degree=10, include_bias=False)),\r\n",
        "(\"sgd_reg\", LinearRegression()),\r\n",
        "))\r\n",
        "plot_learning_curves(polynomial_regression, X, y)"
      ],
      "execution_count": null,
      "outputs": []
    },
    {
      "cell_type": "markdown",
      "metadata": {
        "id": "RSzVr6oCPjCX"
      },
      "source": [
        "#### OVERFIT!!\r\n",
        "One way to improve an overfitting model is to feed it more training\r\n",
        "data until the validation error reaches the training error."
      ]
    },
    {
      "cell_type": "markdown",
      "metadata": {
        "id": "U2RDmCJxQNJs"
      },
      "source": [
        "### Diff between lin_reg and poly_reg"
      ]
    },
    {
      "cell_type": "code",
      "metadata": {
        "id": "cub47EoTOaYy"
      },
      "source": [
        "# The error on the training data is much lower than with the Linear Regression \r\n",
        "# model.\r\n",
        "# • There is a gap between the curves. This means that the model performs significantly\r\n",
        "# better on the training data than on the validation data, which is the hallmark\r\n",
        "# of an overfitting model. However, if you used a much larger training set,\r\n",
        "# the two curves would continue to get closer."
      ],
      "execution_count": 2,
      "outputs": []
    },
    {
      "cell_type": "code",
      "metadata": {
        "id": "sZSrxqZ9OaWU"
      },
      "source": [
        ""
      ],
      "execution_count": null,
      "outputs": []
    },
    {
      "cell_type": "code",
      "metadata": {
        "id": "zcaozJ3ZOaTu"
      },
      "source": [
        ""
      ],
      "execution_count": null,
      "outputs": []
    },
    {
      "cell_type": "code",
      "metadata": {
        "id": "fdhyPacsOaQk"
      },
      "source": [
        ""
      ],
      "execution_count": null,
      "outputs": []
    }
  ]
}