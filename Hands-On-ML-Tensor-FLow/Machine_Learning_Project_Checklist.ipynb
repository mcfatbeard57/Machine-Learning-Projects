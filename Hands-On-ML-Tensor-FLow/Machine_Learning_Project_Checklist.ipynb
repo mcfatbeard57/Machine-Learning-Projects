{
  "nbformat": 4,
  "nbformat_minor": 0,
  "metadata": {
    "colab": {
      "name": "Machine_Learning_Project_Checklist.ipynb",
      "provenance": [],
      "collapsed_sections": [],
      "authorship_tag": "ABX9TyONo6YQpZfV+HWhjfCfX95W",
      "include_colab_link": true
    },
    "kernelspec": {
      "name": "python3",
      "display_name": "Python 3"
    }
  },
  "cells": [
    {
      "cell_type": "markdown",
      "metadata": {
        "id": "view-in-github",
        "colab_type": "text"
      },
      "source": [
        "<a href=\"https://colab.research.google.com/github/mcfatbeard57/Hands-On-ML-Tensor-FLow/blob/main/Machine_Learning_Project_Checklist.ipynb\" target=\"_parent\"><img src=\"https://colab.research.google.com/assets/colab-badge.svg\" alt=\"Open In Colab\"/></a>"
      ]
    },
    {
      "cell_type": "markdown",
      "metadata": {
        "id": "wupjrkHXFwKU"
      },
      "source": [
        "# Machine Learning Project Checklist"
      ]
    },
    {
      "cell_type": "markdown",
      "metadata": {
        "id": "1Bnad2ObF4Bt"
      },
      "source": [
        "There are\r\n",
        "eight main steps:\r\n",
        "1. Frame the problem and look at the big picture.\r\n",
        "2. Get the data.\r\n",
        "3. Explore the data to gain insights.\r\n",
        "4. Prepare the data to better expose the underlying data patterns to Machine Learning\r\n",
        "algorithms.\r\n",
        "5. Explore many different models and short-list the best ones.\r\n",
        "6. Fine-tune your models and combine them into a great solution.\r\n",
        "7. Present your solution.\r\n",
        "8. Launch, monitor, and maintain your system."
      ]
    },
    {
      "cell_type": "code",
      "metadata": {
        "id": "9YQWwS_XFvlu"
      },
      "source": [
        ""
      ],
      "execution_count": null,
      "outputs": []
    }
  ]
}