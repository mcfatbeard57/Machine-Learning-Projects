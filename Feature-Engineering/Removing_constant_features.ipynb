{
  "nbformat": 4,
  "nbformat_minor": 0,
  "metadata": {
    "colab": {
      "name": "Removing_constant_features.ipynb",
      "provenance": [],
      "collapsed_sections": [],
      "toc_visible": true,
      "authorship_tag": "ABX9TyPEl2V+BlpZN4TsUPn+eFYO",
      "include_colab_link": true
    },
    "kernelspec": {
      "name": "python3",
      "display_name": "Python 3"
    }
  },
  "cells": [
    {
      "cell_type": "markdown",
      "metadata": {
        "id": "view-in-github",
        "colab_type": "text"
      },
      "source": [
        "<a href=\"https://colab.research.google.com/github/mcfatbeard57/Feature-Engineering/blob/main/Removing_constant_features.ipynb\" target=\"_parent\"><img src=\"https://colab.research.google.com/assets/colab-badge.svg\" alt=\"Open In Colab\"/></a>"
      ]
    },
    {
      "cell_type": "markdown",
      "metadata": {
        "id": "0kzCtdS0gbjS"
      },
      "source": [
        "## Feature-Engineering\r\n",
        "\r\n",
        "Removing constant features with threshold variance"
      ]
    },
    {
      "cell_type": "markdown",
      "metadata": {
        "id": "ReqaSCw6l4hB"
      },
      "source": [
        "#### Dropping constant features\r\n",
        "removing the features which have constant features which are actually not important for solving the problem statement"
      ]
    },
    {
      "cell_type": "markdown",
      "metadata": {
        "id": "WYN6FTXdmKvI"
      },
      "source": [
        "#### Variance Threshold\r\n",
        "Feature selector that removes all low-variance features.\r\n",
        "\r\n",
        "This feature selection algorithm looks only at the features (X), not the desired outputs (y), and can thus be used for unsupervised learning."
      ]
    },
    {
      "cell_type": "code",
      "metadata": {
        "id": "2fhATaUqgYMx"
      },
      "source": [
        "### It will remove zero variance features\r\n",
        "from sklearn.feature_selection import VarianceThreshold\r\n",
        "var_thres=VarianceThreshold(threshold=0)\r\n",
        "var_thres.fit(data)"
      ],
      "execution_count": null,
      "outputs": []
    },
    {
      "cell_type": "code",
      "metadata": {
        "id": "olEgetZLmTMM"
      },
      "source": [
        "var_thres.get_support()"
      ],
      "execution_count": null,
      "outputs": []
    },
    {
      "cell_type": "code",
      "metadata": {
        "id": "WgIuedwLmYxk"
      },
      "source": [
        "constant_columns = [column for column in data.columns\r\n",
        "                    if column not in data.columns[var_thres.get_support()]]\r\n",
        "\r\n",
        "print(len(constant_columns))"
      ],
      "execution_count": null,
      "outputs": []
    },
    {
      "cell_type": "code",
      "metadata": {
        "id": "uMiYj-UHmbKb"
      },
      "source": [
        "for feature in constant_columns:\r\n",
        "     print(feature)"
      ],
      "execution_count": null,
      "outputs": []
    },
    {
      "cell_type": "markdown",
      "metadata": {
        "id": "Nbn1azulgbQj"
      },
      "source": [
        ""
      ]
    }
  ]
}