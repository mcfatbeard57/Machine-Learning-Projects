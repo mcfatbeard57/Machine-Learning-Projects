{
  "nbformat": 4,
  "nbformat_minor": 0,
  "metadata": {
    "colab": {
      "name": "Normalization_And_Standardization.ipynb",
      "provenance": [],
      "collapsed_sections": [],
      "toc_visible": true,
      "authorship_tag": "ABX9TyOJW5n2VThEMYa1LURkZuby",
      "include_colab_link": true
    },
    "kernelspec": {
      "name": "python3",
      "display_name": "Python 3"
    }
  },
  "cells": [
    {
      "cell_type": "markdown",
      "metadata": {
        "id": "view-in-github",
        "colab_type": "text"
      },
      "source": [
        "<a href=\"https://colab.research.google.com/github/mcfatbeard57/Feature-Engineering/blob/main/Normalization_And_Standardization.ipynb\" target=\"_parent\"><img src=\"https://colab.research.google.com/assets/colab-badge.svg\" alt=\"Open In Colab\"/></a>"
      ]
    },
    {
      "cell_type": "markdown",
      "metadata": {
        "id": "7Or8RQThyApp"
      },
      "source": [
        "**Types Of Transformation**\r\n",
        "\r\n",
        "Normalization And Standardization\r\n",
        "\r\n",
        "Scaling to Minimum And Maximum values\r\n",
        "\r\n",
        "Scaling To Median And Quantiles\r\n",
        "\r\n",
        "Guassian Transformation Logarithmic Transformation Reciprocal \r\n",
        "\r\n",
        "Trnasformation Square Root Transformation Exponential Trnasformation\r\n",
        " \r\n",
        "Box Cox Transformation"
      ]
    },
    {
      "cell_type": "markdown",
      "metadata": {
        "id": "nyimmPKnyQyQ"
      },
      "source": [
        "### Standardization"
      ]
    },
    {
      "cell_type": "code",
      "metadata": {
        "id": "dRDrziyOyIQ6"
      },
      "source": [
        "# Fill all null values\r\n",
        "\r\n",
        "from sklearn.preprocessing import StandardScaler\r\n",
        "\r\n",
        "scaler=StandardScaler()\r\n",
        "### fit vs fit_transform\r\n",
        "df_scaled=scaler.fit_transform(df)\r\n",
        "# Use fit method to fit the scalar object\r\n",
        "# use fit_transform method to standardise all values also\r\n",
        "# then use transform method on the test set"
      ],
      "execution_count": null,
      "outputs": []
    },
    {
      "cell_type": "markdown",
      "metadata": {
        "id": "OVwZUHASy3eZ"
      },
      "source": [
        "### Min Max Scaling \r\n",
        "(CNN)---Deep Learning Techniques\r\n",
        "\r\n",
        "Min Max Scaling scales the values between 0 to 1. X_scaled = (X - X.min / (X.max - X.min)"
      ]
    },
    {
      "cell_type": "code",
      "metadata": {
        "id": "1KDCZJRTy796"
      },
      "source": [
        "from sklearn.preprocessing import MinMaxScaler\r\n",
        "min_max=MinMaxScaler()\r\n",
        "df_minmax=pd.DataFrame(min_max.fit_transform(df),columns=df.columns)\r\n",
        "df_minmax.head()"
      ],
      "execution_count": null,
      "outputs": []
    },
    {
      "cell_type": "markdown",
      "metadata": {
        "id": "W510xxSZzDG8"
      },
      "source": [
        "### Robust Scaler\r\n",
        "It is used to scale the feature to median and quantiles.\r\n",
        "\r\n",
        "Scaling using median and quantiles consists of substracting the median to all the observations, and then dividing by the interquantile difference. The interquantile difference is the difference between the 75th and 25th quantile:\r\n",
        "\r\n",
        "IQR = 75th quantile - 25th quantile\r\n",
        "\r\n",
        "X_scaled = (X - X.median) / IQR\r\n",
        "\r\n",
        "example: 0,1,2,3,4,5,6,7,8,9,10\r\n",
        "\r\n",
        "9-90 percentile---90% of all values in this group is less than 9 1-10 precentile---10% of all values in this group is less than 1 4-40%"
      ]
    },
    {
      "cell_type": "code",
      "metadata": {
        "id": "XQqlo-5izCun"
      },
      "source": [
        "from sklearn.preprocessing import RobustScaler\r\n",
        "scaler=RobustScaler()\r\n",
        "df_robust_scaler=pd.DataFrame(scaler.fit_transform(df),columns=df.columns)\r\n",
        "df_robust_scaler.head()"
      ],
      "execution_count": null,
      "outputs": []
    },
    {
      "cell_type": "markdown",
      "metadata": {
        "id": "IPxWKZrGzVrc"
      },
      "source": [
        "### Guassian Transformation\r\n",
        "Some machine learning algorithms like linear and logistic assume that the features are normally distributed -Accuracy -Performance\r\n",
        "\r\n",
        "logarithmic transformation\r\n",
        "\r\n",
        "reciprocal transformation\r\n",
        "\r\n",
        "square root transformation\r\n",
        "\r\n",
        "exponential transformation (more general, you can use any exponent)\r\n",
        "\r\n",
        "boxcox transformation"
      ]
    },
    {
      "cell_type": "code",
      "metadata": {
        "id": "rO4MHni_zbXS"
      },
      "source": [
        "import scipy.stats as stat\r\n",
        "import pylab"
      ],
      "execution_count": null,
      "outputs": []
    },
    {
      "cell_type": "code",
      "metadata": {
        "id": "5kV24kcgzisz"
      },
      "source": [
        "#### If you want to check whether feature is guassian or normal distributed\r\n",
        "#### Q-Q plot\r\n",
        "def plot_data(df,feature):\r\n",
        "    plt.figure(figsize=(10,6))\r\n",
        "    plt.subplot(1,2,1)\r\n",
        "    df[feature].hist()\r\n",
        "    plt.subplot(1,2,2)\r\n",
        "    stat.probplot(df[feature],dist='norm',plot=pylab)\r\n",
        "    plt.show()"
      ],
      "execution_count": null,
      "outputs": []
    },
    {
      "cell_type": "markdown",
      "metadata": {
        "id": "GQNlxHcrzmXq"
      },
      "source": [
        "#### Logarithmic Transformation"
      ]
    },
    {
      "cell_type": "code",
      "metadata": {
        "id": "XeLQ9iJhzkUW"
      },
      "source": [
        "import numpy as np\r\n",
        "df['Age_log']=np.log(df['Age'])\r\n",
        "plot_data(df,'Age_log')"
      ],
      "execution_count": null,
      "outputs": []
    },
    {
      "cell_type": "markdown",
      "metadata": {
        "id": "eehWQUAnzq3l"
      },
      "source": [
        "#### Reciprocal Trnasformation"
      ]
    },
    {
      "cell_type": "code",
      "metadata": {
        "id": "DXqhibL4zrgQ"
      },
      "source": [
        "df['Age_reciprocal']=1/df.Age\r\n",
        "plot_data(df,'Age_reciprocal')"
      ],
      "execution_count": null,
      "outputs": []
    },
    {
      "cell_type": "markdown",
      "metadata": {
        "id": "XVtFP603zte_"
      },
      "source": [
        "#### Square Root Transformation"
      ]
    },
    {
      "cell_type": "code",
      "metadata": {
        "id": "a-oMZ8ztzvjk"
      },
      "source": [
        "df['Age_sqaure']=df.Age**(1/2)\r\n",
        "plot_data(df,'Age_sqaure')"
      ],
      "execution_count": null,
      "outputs": []
    },
    {
      "cell_type": "markdown",
      "metadata": {
        "id": "1nrcmarSzxFL"
      },
      "source": [
        "#### Exponential Transdormation"
      ]
    },
    {
      "cell_type": "code",
      "metadata": {
        "id": "4DOHjfrezzK4"
      },
      "source": [
        "df['Age_exponential']=df.Age**(1/1.2)\r\n",
        "plot_data(df,'Age_exponential')"
      ],
      "execution_count": null,
      "outputs": []
    },
    {
      "cell_type": "markdown",
      "metadata": {
        "id": "fsPAY8jYz0Vt"
      },
      "source": [
        "#### BoxCOx Transformation\r\n",
        "Defined as:\r\n",
        "\r\n",
        "T(Y)=(Y exp(λ)−1)/λ\r\n",
        "\r\n",
        "where Y is the response variable and λ is the transformation parameter. λ varies from -5 to 5. In the transformation, all values of λ are considered and the optimal value for a given variable is selected."
      ]
    },
    {
      "cell_type": "code",
      "metadata": {
        "id": "PRaP9k-Xz4VB"
      },
      "source": [
        "df['Age_Boxcox'],parameters=stat.boxcox(df['Age'])\r\n",
        "print(parameters)\r\n",
        "plot_data(df,'Age_Boxcox')"
      ],
      "execution_count": null,
      "outputs": []
    }
  ]
}