{
  "nbformat": 4,
  "nbformat_minor": 0,
  "metadata": {
    "colab": {
      "name": "Detetcting_Outliers.ipynb",
      "provenance": [],
      "collapsed_sections": [],
      "include_colab_link": true
    },
    "kernelspec": {
      "name": "python3",
      "display_name": "Python 3"
    }
  },
  "cells": [
    {
      "cell_type": "markdown",
      "metadata": {
        "id": "view-in-github",
        "colab_type": "text"
      },
      "source": [
        "<a href=\"https://colab.research.google.com/github/mcfatbeard57/Feature-Engineering/blob/main/Detetcting_Outliers.ipynb\" target=\"_parent\"><img src=\"https://colab.research.google.com/assets/colab-badge.svg\" alt=\"Open In Colab\"/></a>"
      ]
    },
    {
      "cell_type": "markdown",
      "metadata": {
        "id": "tGTafn1-EAmO"
      },
      "source": [
        "Discussion Related With Outliers And Impact On Machine Learning!!"
      ]
    },
    {
      "cell_type": "code",
      "metadata": {
        "id": "9ZExGWLpD51S"
      },
      "source": [
        "# Which Machine LEarning Models Are Sensitive To Outliers?\r\n",
        "# Naivye Bayes Classifier--- Not Sensitive To Outliers\r\n",
        "# SVM-------- Not Sensitive To Outliers\r\n",
        "# Linear Regression---------- Sensitive To Outliers\r\n",
        "# Logistic Regression------- Sensitive To Outliers\r\n",
        "# Decision Tree Regressor or Classifier---- Not Sensitive\r\n",
        "# Ensemble(RF,XGboost,GB)------- Not Sensitive\r\n",
        "# KNN--------------------------- Not Sensitive\r\n",
        "# Kmeans------------------------ Sensitive\r\n",
        "# Hierarichal------------------- Sensitive\r\n",
        "# PCA-------------------------- Sensitive\r\n",
        "# Neural Networks-------------- Sensitive"
      ],
      "execution_count": null,
      "outputs": []
    },
    {
      "cell_type": "markdown",
      "metadata": {
        "id": "ATtou-9hEYU2"
      },
      "source": [
        "If The Data Is Normally Distributed We use this\r\n"
      ]
    },
    {
      "cell_type": "code",
      "metadata": {
        "id": "87Xo298kEZIn"
      },
      "source": [
        "##### Assuming Age follows A Gaussian Distribution we will calculate the boundaries which differentiates the outliers\r\n",
        "\r\n",
        "uppper_boundary=df['Age'].mean() + 3* df['Age'].std()\r\n",
        "lower_boundary=df['Age'].mean() - 3* df['Age'].std()\r\n",
        "print(lower_boundary), print(uppper_boundary),print(df['Age'].mean())"
      ],
      "execution_count": null,
      "outputs": []
    },
    {
      "cell_type": "markdown",
      "metadata": {
        "id": "RQkOC27UEpU8"
      },
      "source": [
        "If Features Are Skewed We Use the below Technique"
      ]
    },
    {
      "cell_type": "code",
      "metadata": {
        "id": "6xdhtC8eEq5a"
      },
      "source": [
        "#### Lets compute the Interquantile range to calculate the boundaries\r\n",
        "IQR=df.Fare.quantile(0.75)-df.Fare.quantile(0.25)"
      ],
      "execution_count": null,
      "outputs": []
    },
    {
      "cell_type": "code",
      "metadata": {
        "id": "yFdhMyfPE8SG"
      },
      "source": [
        "lower_bridge=df['Fare'].quantile(0.25)-(IQR*1.5)\r\n",
        "upper_bridge=df['Fare'].quantile(0.75)+(IQR*1.5)\r\n",
        "print(lower_bridge), print(upper_bridge)"
      ],
      "execution_count": null,
      "outputs": []
    },
    {
      "cell_type": "code",
      "metadata": {
        "id": "OioNYIYdE9SL"
      },
      "source": [
        "#### Extreme outliers\r\n",
        "lower_bridge=df['Fare'].quantile(0.25)-(IQR*3)\r\n",
        "upper_bridge=df['Fare'].quantile(0.75)+(IQR*3)\r\n",
        "print(lower_bridge), print(upper_bridge)"
      ],
      "execution_count": null,
      "outputs": []
    }
  ]
}