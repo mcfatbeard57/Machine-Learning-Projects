{
  "nbformat": 4,
  "nbformat_minor": 0,
  "metadata": {
    "colab": {
      "name": "Select_Feature_Chi_Square.ipynb",
      "provenance": [],
      "collapsed_sections": [],
      "toc_visible": true,
      "authorship_tag": "ABX9TyMKLYGTLMsCkqJutmOvbX87",
      "include_colab_link": true
    },
    "kernelspec": {
      "name": "python3",
      "display_name": "Python 3"
    }
  },
  "cells": [
    {
      "cell_type": "markdown",
      "metadata": {
        "id": "view-in-github",
        "colab_type": "text"
      },
      "source": [
        "<a href=\"https://colab.research.google.com/github/mcfatbeard57/Feature-Engineering/blob/main/Select_Feature_Chi_Square.ipynb\" target=\"_parent\"><img src=\"https://colab.research.google.com/assets/colab-badge.svg\" alt=\"Open In Colab\"/></a>"
      ]
    },
    {
      "cell_type": "markdown",
      "metadata": {
        "id": "O0-P-WC32RXR"
      },
      "source": [
        "## Categorical Feature Selection with high Chi Square Test Value in classification"
      ]
    },
    {
      "cell_type": "markdown",
      "metadata": {
        "id": "e1dhit9X2CcD"
      },
      "source": [
        "### Theory \n",
        "\n",
        "Fisher Score- Chisquare Test For Feature Selection\n",
        "Compute chi-squared stats between each non-negative feature and class.\n",
        "\n",
        "**This score should be used to evaluate categorical variables in a classification task.**\n",
        "\n",
        "This score can be used to select the n_features features with the highest values for the test chi-squared statistic from X, which must contain only non-negative features such as booleans or frequencies (e.g., term counts in document classification), relative to the classes.\n",
        "\n",
        "Recall that the chi-square test measures dependence between stochastic variables, so using this function “weeds out” the features that are the most likely to be independent of class and therefore irrelevant for classification. The Chi Square statistic is commonly used for testing relationships between categorical variables.\n",
        "\n",
        "It compares the observed distribution of the different classes of target Y among the different categories of the feature, against the expected distribution of the target classes, regardless of the feature categories."
      ]
    },
    {
      "cell_type": "markdown",
      "metadata": {
        "id": "gVYOOyOF29YG"
      },
      "source": [
        "### Code"
      ]
    },
    {
      "cell_type": "code",
      "metadata": {
        "id": "DQKnzAnRvYZC"
      },
      "source": [
        "# Select only categorical values\n",
        "# Doing one hot encoding for each categrical feature\n",
        "\n",
        "### Let's perform label encoding on sex column\n",
        "df['sex']=np.where(df['sex']==\"male\",1,0)\n",
        "df.head()\n",
        "\n",
        "### let's perform label encoding on embarked\n",
        "ordinal_label = {k: i for i, k in enumerate(df['embarked'].unique(), 0)}\n",
        "df['embarked'] = df['embarked'].map(ordinal_label)"
      ],
      "execution_count": null,
      "outputs": []
    },
    {
      "cell_type": "code",
      "metadata": {
        "id": "Ax27mno_3dUn"
      },
      "source": [
        "### Handle Null Values"
      ],
      "execution_count": null,
      "outputs": []
    },
    {
      "cell_type": "markdown",
      "metadata": {
        "id": "kSB_aTQI3is4"
      },
      "source": [
        "## Perform chi2 test"
      ]
    },
    {
      "cell_type": "code",
      "metadata": {
        "id": "ay-JCLJa3fD4"
      },
      "source": [
        "### chi2 returns 2 values\n",
        "### Fscore and the pvalue\n",
        "from sklearn.feature_selection import chi2\n",
        "f_p_values=chi2(X_train,y_train)"
      ],
      "execution_count": null,
      "outputs": []
    },
    {
      "cell_type": "code",
      "metadata": {
        "id": "mFGSaBmk4eYh"
      },
      "source": [
        "# convert it into series\n",
        "import pandas as pd\n",
        "p_values=pd.Series(f_p_values[1])\n",
        "p_values.index=X_train.columns\n",
        "p_values"
      ],
      "execution_count": null,
      "outputs": []
    },
    {
      "cell_type": "code",
      "metadata": {
        "id": "43f7Z_rx4gcx"
      },
      "source": [
        "p_values.sort_index(ascending=False)"
      ],
      "execution_count": null,
      "outputs": []
    },
    {
      "cell_type": "markdown",
      "metadata": {
        "id": "FSkJqmak4i-X"
      },
      "source": [
        "### Observation\n",
        "Sex Column is the most important column when compared to the output feature Survived"
      ]
    },
    {
      "cell_type": "code",
      "metadata": {
        "id": "uRHhxgwe4kg_"
      },
      "source": [
        ""
      ],
      "execution_count": null,
      "outputs": []
    }
  ]
}