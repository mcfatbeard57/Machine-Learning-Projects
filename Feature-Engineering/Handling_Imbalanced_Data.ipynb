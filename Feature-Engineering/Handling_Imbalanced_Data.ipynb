{
  "nbformat": 4,
  "nbformat_minor": 0,
  "metadata": {
    "colab": {
      "name": "Handling_Imbalanced_Data.ipynb",
      "provenance": [],
      "collapsed_sections": [],
      "toc_visible": true,
      "authorship_tag": "ABX9TyNe1CumRD3Dd7BxBltCaelR",
      "include_colab_link": true
    },
    "kernelspec": {
      "name": "python3",
      "display_name": "Python 3"
    }
  },
  "cells": [
    {
      "cell_type": "markdown",
      "metadata": {
        "id": "view-in-github",
        "colab_type": "text"
      },
      "source": [
        "<a href=\"https://colab.research.google.com/github/mcfatbeard57/Feature-Engineering/blob/main/Handling_Imbalanced_Data.ipynb\" target=\"_parent\"><img src=\"https://colab.research.google.com/assets/colab-badge.svg\" alt=\"Open In Colab\"/></a>"
      ]
    },
    {
      "cell_type": "markdown",
      "metadata": {
        "id": "cuWDi-riCkBp"
      },
      "source": [
        "# Handling Imbalanced Dataset \r\n",
        "Under Sampling/ Over Sampling "
      ]
    },
    {
      "cell_type": "code",
      "metadata": {
        "id": "diOYitAbAV6q"
      },
      "source": [
        "from collections import Counter\r\n",
        "Counter(y_train)"
      ],
      "execution_count": null,
      "outputs": []
    },
    {
      "cell_type": "markdown",
      "metadata": {
        "id": "AGWGouvxCw_z"
      },
      "source": [
        "### Under Sampling"
      ]
    },
    {
      "cell_type": "code",
      "metadata": {
        "id": "R1AG7BiQCxk9"
      },
      "source": [
        "from collections import Counter\r\n",
        "from imblearn.under_sampling import NearMiss\r\n",
        "ns=NearMiss(0.8)\r\n",
        "X_train_ns,y_train_ns=ns.fit_sample(X_train,y_train)\r\n",
        "print(\"The number of classes before fit {}\".format(Counter(y_train)))\r\n",
        "print(\"The number of classes after fit {}\".format(Counter(y_train_ns)))"
      ],
      "execution_count": null,
      "outputs": []
    },
    {
      "cell_type": "markdown",
      "metadata": {
        "id": "2ffVn96GC9EQ"
      },
      "source": [
        "### Over Sampling"
      ]
    },
    {
      "cell_type": "code",
      "metadata": {
        "id": "w9p9Ea6qC9yZ"
      },
      "source": [
        "from imblearn.over_sampling import RandomOverSampler"
      ],
      "execution_count": null,
      "outputs": []
    },
    {
      "cell_type": "code",
      "metadata": {
        "id": "PVSo2jwPDDG2"
      },
      "source": [
        "os=RandomOverSampler(0.75)\r\n",
        "X_train_ns,y_train_ns=os.fit_sample(X_train,y_train)\r\n",
        "print(\"The number of classes before fit {}\".format(Counter(y_train)))\r\n",
        "print(\"The number of classes after fit {}\".format(Counter(y_train_ns)))"
      ],
      "execution_count": null,
      "outputs": []
    },
    {
      "cell_type": "markdown",
      "metadata": {
        "id": "AADLlR-ODFGa"
      },
      "source": [
        "### SMOTETomek"
      ]
    },
    {
      "cell_type": "code",
      "metadata": {
        "id": "7xnngQ-xDEzn"
      },
      "source": [
        "from imblearn.combine import SMOTETomek"
      ],
      "execution_count": null,
      "outputs": []
    },
    {
      "cell_type": "code",
      "metadata": {
        "id": "-6-AAlVUDHku"
      },
      "source": [
        "os=SMOTETomek(0.75)\r\n",
        "X_train_ns,y_train_ns=os.fit_sample(X_train,y_train)\r\n",
        "print(\"The number of classes before fit {}\".format(Counter(y_train)))\r\n",
        "print(\"The number of classes after fit {}\".format(Counter(y_train_ns)))"
      ],
      "execution_count": null,
      "outputs": []
    }
  ]
}