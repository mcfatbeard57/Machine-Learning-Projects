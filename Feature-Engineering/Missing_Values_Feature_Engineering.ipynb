{
  "nbformat": 4,
  "nbformat_minor": 0,
  "metadata": {
    "colab": {
      "name": "Missing_Values_Feature_Engineering.ipynb",
      "provenance": [],
      "collapsed_sections": [],
      "toc_visible": true,
      "authorship_tag": "ABX9TyO/CU4Yq7G/gui8eoHf6UxI",
      "include_colab_link": true
    },
    "kernelspec": {
      "name": "python3",
      "display_name": "Python 3"
    }
  },
  "cells": [
    {
      "cell_type": "markdown",
      "metadata": {
        "id": "view-in-github",
        "colab_type": "text"
      },
      "source": [
        "<a href=\"https://colab.research.google.com/github/mcfatbeard57/Feature-Engineering/blob/main/Missing_Values_Feature_Engineering.ipynb\" target=\"_parent\"><img src=\"https://colab.research.google.com/assets/colab-badge.svg\" alt=\"Open In Colab\"/></a>"
      ]
    },
    {
      "cell_type": "markdown",
      "metadata": {
        "id": "elZs2ZasJX9r"
      },
      "source": [
        "# Missing Values- Feature Engineering\r\n",
        "Handling missing values with various methods"
      ]
    },
    {
      "cell_type": "markdown",
      "metadata": {
        "id": "tJdAqzNeJdMW"
      },
      "source": [
        "## What are the different types of Missing Data?\r\n"
      ]
    },
    {
      "cell_type": "markdown",
      "metadata": {
        "id": "-f411ZTAJv_u"
      },
      "source": [
        "###  **Missing Completely at Random, MCAR**: \r\n",
        " \r\n",
        "A variable is missing completely at random (MCAR) if the probability of being missing is the same for all the observations.\r\n",
        "\r\n",
        "When data is MCAR, there is absolutely no relationship between the data missing and any other values, observed or missing, within the dataset. \r\n",
        "\r\n",
        "In other words, those missing data points are a random subset of the data. There is nothing systematic going on that makes some data more likely to be missing than other."
      ]
    },
    {
      "cell_type": "code",
      "metadata": {
        "id": "49C-6ZWWJVmE"
      },
      "source": [
        "# example is of titanoc dataset\r\n",
        "df[df['Embarked'].isnull()]"
      ],
      "execution_count": null,
      "outputs": []
    },
    {
      "cell_type": "markdown",
      "metadata": {
        "id": "q7KyxIfeKedX"
      },
      "source": [
        "### Missing Data Not At Random(MNAR): \r\n",
        "Systematic missing Values There is absolutely some relationship between the data missing and any other values, observed or missing, within the dataset."
      ]
    },
    {
      "cell_type": "code",
      "metadata": {
        "id": "sPRDjjfZKkKc"
      },
      "source": [
        "import numpy as np\r\n",
        "df['cabin_null']=np.where(df['Cabin'].isnull(),1,0)\r\n",
        "\r\n",
        "##find the percentage of null values\r\n",
        "df['cabin_null'].mean()"
      ],
      "execution_count": null,
      "outputs": []
    },
    {
      "cell_type": "code",
      "metadata": {
        "id": "8ZUC8q2PLMJE"
      },
      "source": [
        "df.groupby(['Survived'])['cabin_null'].mean()"
      ],
      "execution_count": null,
      "outputs": []
    },
    {
      "cell_type": "markdown",
      "metadata": {
        "id": "Mh-5ajwEKnKb"
      },
      "source": [
        "### Missing At Random(MAR)"
      ]
    },
    {
      "cell_type": "code",
      "metadata": {
        "id": "vUJN-MKwKr_C"
      },
      "source": [
        "## example\r\n",
        "# Men---hide their salary\r\n",
        "# Women---hide their age"
      ],
      "execution_count": null,
      "outputs": []
    },
    {
      "cell_type": "markdown",
      "metadata": {
        "id": "SwknYnYGKv6F"
      },
      "source": [
        "## All the techniques of handling Missing values\r\n",
        "\r\n",
        "1. Mean/ Median/Mode replacement\r\n",
        "2. Random Sample Imputation\r\n",
        "3. Capturing NAN values with a new feature\r\n",
        "4. End of Distribution imputation\r\n",
        "5. Arbitrary imputation\r\n",
        "6. Frequent categories imputation"
      ]
    },
    {
      "cell_type": "markdown",
      "metadata": {
        "id": "MdmSNoZPLkXp"
      },
      "source": [
        "#### Mean/ Median /Mode imputation\r\n",
        "When should we apply?\r\n",
        "\r\n",
        "Mean/median imputation has the assumption that the data are missing completely at random(MCAR). We solve this by replacing the NAN with the most frequent occurance of the variables"
      ]
    },
    {
      "cell_type": "code",
      "metadata": {
        "id": "yZ5pbKW0Kzhy"
      },
      "source": [
        "def impute_nan(df,variable,median): # passing df, column name and value with which you want to replace.. mean/median/mode\r\n",
        "    df[variable+\"_median\"]=df[variable].fillna(median)"
      ],
      "execution_count": null,
      "outputs": []
    },
    {
      "cell_type": "markdown",
      "metadata": {
        "id": "oj58Yx-cMOfe"
      },
      "source": [
        "**Advantages**\r\n",
        "\r\n",
        "Easy to implement(Robust to outliers)\r\n",
        "\r\n",
        "Faster way to obtain the complete dataset \r\n"
      ]
    },
    {
      "cell_type": "markdown",
      "metadata": {
        "id": "59nsG1VNMXTA"
      },
      "source": [
        "**Disadvantages**\r\n",
        "\r\n",
        "Change or Distortion in the original variance\r\n",
        "\r\n",
        "Impacts Correlation"
      ]
    },
    {
      "cell_type": "markdown",
      "metadata": {
        "id": "5X3Pej--NAc5"
      },
      "source": [
        "#### Random Sample Imputation\r\n",
        "Aim: Random sample imputation consists of taking random observation from the dataset and we use this observation to replace the nan values\r\n",
        "\r\n",
        "When should it be used? It assumes that the data are missing completely at random(MCAR)"
      ]
    },
    {
      "cell_type": "code",
      "metadata": {
        "id": "3kpXAWdqMD9b"
      },
      "source": [
        "def impute_nan(df,variable):\r\n",
        "    df[variable+\"_random\"]=df[variable]\r\n",
        "    ##It will have the random sample to fill the na\r\n",
        "    random_sample=df[variable].dropna().sample(df[variable].isnull().sum(),random_state=0)\r\n",
        "    ##pandas need to have same index in order to merge the dataset\r\n",
        "    random_sample.index=df[df[variable].isnull()].index\r\n",
        "    df.loc[df[variable].isnull(),variable+'_random']=random_sample"
      ],
      "execution_count": null,
      "outputs": []
    },
    {
      "cell_type": "markdown",
      "metadata": {
        "id": "VrtyBGdPOWhw"
      },
      "source": [
        "**Advantages**\r\n",
        "\r\n",
        "Easy To implement\r\n",
        "\r\n",
        "There is less distortion in variance"
      ]
    },
    {
      "cell_type": "markdown",
      "metadata": {
        "id": "U7qdEHqZOaCM"
      },
      "source": [
        "**Disadvantage**\r\n",
        "\r\n",
        "Every situation randomness wont work"
      ]
    },
    {
      "cell_type": "markdown",
      "metadata": {
        "id": "jlgMw4t7OtFo"
      },
      "source": [
        "#### Capturing NAN values with a new feature\r\n",
        "It works well if the data are not missing completely at random\r\n",
        "\r\n"
      ]
    },
    {
      "cell_type": "code",
      "metadata": {
        "id": "Rvz0ZU6bOZX4"
      },
      "source": [
        "import numpy as np\r\n",
        "df['Age_NAN']=np.where(df['Age'].isnull(),1,0)"
      ],
      "execution_count": null,
      "outputs": []
    },
    {
      "cell_type": "markdown",
      "metadata": {
        "id": "rUoi4PdlPP_W"
      },
      "source": [
        "**Advantages**\r\n",
        "\r\n",
        "Easy to implement\r\n",
        "\r\n",
        "Captures the importance of missing values\r\n",
        "\r\n",
        "**Disadvantages**\r\n",
        "\r\n",
        "Creating Additional Features(Curse of Dimensionality)"
      ]
    },
    {
      "cell_type": "markdown",
      "metadata": {
        "id": "JKW_DjxKPWWH"
      },
      "source": [
        "#### End of Distribution imputation\r\n",
        "End of tail imputation is equivalent to arbitrary value imputation, but automatically selecting arbitrary values at the end of the variable distributions. If the variable is normally distributed, we can use the mean plus or minus 3 times the standard deviation."
      ]
    },
    {
      "cell_type": "code",
      "metadata": {
        "id": "S80n0EO6P6bz"
      },
      "source": [
        "df.Age.hist(bins=50)"
      ],
      "execution_count": null,
      "outputs": []
    },
    {
      "cell_type": "code",
      "metadata": {
        "id": "B2jOel8qP9G8"
      },
      "source": [
        "# use box plot to check for outliers\r\n",
        "sns.boxplot('Age',data=df)"
      ],
      "execution_count": null,
      "outputs": []
    },
    {
      "cell_type": "code",
      "metadata": {
        "id": "qTJJ6FcIQD1f"
      },
      "source": [
        "extreme=df.Age.mean()+3*df.Age.std()"
      ],
      "execution_count": null,
      "outputs": []
    },
    {
      "cell_type": "code",
      "metadata": {
        "id": "fdbBLM9lQAyv"
      },
      "source": [
        "def impute_nan(df,variable,median,extreme):\r\n",
        "    df[variable+\"_end_distribution\"]=df[variable].fillna(extreme)\r\n",
        "    df[variable].fillna(median,inplace=True)"
      ],
      "execution_count": null,
      "outputs": []
    },
    {
      "cell_type": "code",
      "metadata": {
        "id": "YkcMalRBQGbR"
      },
      "source": [
        "impute_nan(df,'Age',df.Age.median(),extreme)"
      ],
      "execution_count": null,
      "outputs": []
    },
    {
      "cell_type": "markdown",
      "metadata": {
        "id": "9KYOhc8RRJb4"
      },
      "source": [
        "**Advantages**:\r\n",
        "\r\n",
        "· Easy to implement\r\n",
        "\r\n",
        "· Fast way of obtaining complete datasets\r\n",
        "\r\n",
        "· Can be integrated into production (during model deployment)\r\n",
        "\r\n",
        "· Captures the importance of “missingness” if there is one\r\n",
        "\r\n",
        "**Disadvantages**:\r\n",
        "\r\n",
        "· Distortion of the original variable distribution\r\n",
        "\r\n",
        "· Distortion of the original variance\r\n",
        "\r\n",
        "· Distortion of the covariance with the remaining variables of the dataset\r\n",
        "\r\n",
        "· This technique may mask true outliers in the distribution"
      ]
    },
    {
      "cell_type": "markdown",
      "metadata": {
        "id": "7EMl4Xa2TYBx"
      },
      "source": [
        "#### Arbitrary Value Imputation"
      ]
    },
    {
      "cell_type": "code",
      "metadata": {
        "id": "-5Z1mBXDRN51"
      },
      "source": [
        "def impute_nan(df,variable):\r\n",
        "    df[variable+'_zero']=df[variable].fillna(0)\r\n",
        "    df[variable+'_hundred']=df[variable].fillna(100)"
      ],
      "execution_count": null,
      "outputs": []
    },
    {
      "cell_type": "markdown",
      "metadata": {
        "id": "RlSWUT2oTkwf"
      },
      "source": [
        "**Advantages**\r\n",
        "\r\n",
        "Easy to implement\r\n",
        "\r\n",
        "Captures the importance of missingess if there is one\r\n",
        "\r\n",
        "**Disadvantages**\r\n",
        "\r\n",
        "Distorts the original distribution of the variable\r\n",
        "\r\n",
        "If missingess is not important, it may mask the predictive power of the original variable by distorting its distribution\r\n",
        "\r\n",
        "Hard to decide which value to use"
      ]
    },
    {
      "cell_type": "markdown",
      "metadata": {
        "id": "KD3nPUpQTtsC"
      },
      "source": [
        "#### Frequent Category Imputation"
      ]
    },
    {
      "cell_type": "markdown",
      "metadata": {
        "id": "69T8r56zTx1p"
      },
      "source": [
        "**How To Handle Categroical Missing Values**"
      ]
    },
    {
      "cell_type": "code",
      "metadata": {
        "id": "xIlD4U49Trg2"
      },
      "source": [
        "# df['BsmtQual'].value_counts() === df.groupby(['BsmtQual'])['BsmtQual'].count().sort_values(ascending=False)"
      ],
      "execution_count": null,
      "outputs": []
    },
    {
      "cell_type": "code",
      "metadata": {
        "id": "bqsN8QkUUX-8"
      },
      "source": [
        "def impute_nan(df,variable):\r\n",
        "    most_frequent_category=df[variable].mode()[0]\r\n",
        "    df[variable].fillna(most_frequent_category,inplace=True)"
      ],
      "execution_count": null,
      "outputs": []
    },
    {
      "cell_type": "code",
      "metadata": {
        "id": "ZoHtrij0Ubav"
      },
      "source": [
        "for feature in ['BsmtQual','FireplaceQu','GarageType']:\r\n",
        "    impute_nan(df,feature)"
      ],
      "execution_count": null,
      "outputs": []
    },
    {
      "cell_type": "markdown",
      "metadata": {
        "id": "TD-IofRsUfar"
      },
      "source": [
        "**Advantages**\r\n",
        "\r\n",
        "Easy To implement\r\n",
        "\r\n",
        "Fater way to implement\r\n",
        "\r\n",
        "**Disadvantages**\r\n",
        "\r\n",
        "Since we are using the more frequent labels, it may use them in an over respresented way, if there are many nan's\r\n",
        "It distorts the relation of the most frequent label"
      ]
    },
    {
      "cell_type": "markdown",
      "metadata": {
        "id": "dWO-f36BZ-uv"
      },
      "source": [
        "#### Adding a variable to capture NAN"
      ]
    },
    {
      "cell_type": "code",
      "metadata": {
        "id": "bmK0i-gqUc8O"
      },
      "source": [
        "# Suppose if you have more frequent categories, we just replace NAN with a new category\r\n",
        "def impute_nan(df,variable):\r\n",
        "    df[variable+\"newvar\"]=np.where(df[variable].isnull(),\"Missing\",df[variable])"
      ],
      "execution_count": null,
      "outputs": []
    },
    {
      "cell_type": "code",
      "metadata": {
        "id": "RgSTx1K8aGI6"
      },
      "source": [
        ""
      ],
      "execution_count": null,
      "outputs": []
    }
  ]
}