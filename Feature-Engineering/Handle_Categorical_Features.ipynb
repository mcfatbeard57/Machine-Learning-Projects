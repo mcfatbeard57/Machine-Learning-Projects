{
  "nbformat": 4,
  "nbformat_minor": 0,
  "metadata": {
    "colab": {
      "name": "Handle_Categorical_Features.ipynb",
      "provenance": [],
      "collapsed_sections": [],
      "toc_visible": true,
      "authorship_tag": "ABX9TyO0mEknrQYj+2WhU/r0ZsXW",
      "include_colab_link": true
    },
    "kernelspec": {
      "name": "python3",
      "display_name": "Python 3"
    }
  },
  "cells": [
    {
      "cell_type": "markdown",
      "metadata": {
        "id": "view-in-github",
        "colab_type": "text"
      },
      "source": [
        "<a href=\"https://colab.research.google.com/github/mcfatbeard57/Feature-Engineering/blob/main/Handle_Categorical_Features.ipynb\" target=\"_parent\"><img src=\"https://colab.research.google.com/assets/colab-badge.svg\" alt=\"Open In Colab\"/></a>"
      ]
    },
    {
      "cell_type": "markdown",
      "metadata": {
        "id": "ku2EBFuyan11"
      },
      "source": [
        "## Handle Categorical Features\n",
        "\n",
        "Various Encoding techniques"
      ]
    },
    {
      "cell_type": "markdown",
      "metadata": {
        "id": "fqrkEKAaasP4"
      },
      "source": [
        "#### One Hot Encoding"
      ]
    },
    {
      "cell_type": "code",
      "metadata": {
        "id": "ggwg2EiualLz"
      },
      "source": [
        "pd.get_dummies(df,drop_first=True).head()"
      ],
      "execution_count": null,
      "outputs": []
    },
    {
      "cell_type": "markdown",
      "metadata": {
        "id": "n3eryXZGa6ve"
      },
      "source": [
        "##### Onehotencoding with many categories in a feature"
      ]
    },
    {
      "cell_type": "code",
      "metadata": {
        "id": "-KP1hHhia6Wu"
      },
      "source": [
        "# KDD cup orange challenge\n",
        "# Take the most frequent categories"
      ],
      "execution_count": null,
      "outputs": []
    },
    {
      "cell_type": "code",
      "metadata": {
        "id": "SK67qndobNO-"
      },
      "source": [
        "# X1 is feature name\n",
        "df.X1.value_counts().sort_values(ascending=False).head(10)"
      ],
      "execution_count": null,
      "outputs": []
    },
    {
      "cell_type": "code",
      "metadata": {
        "id": "MoRO1iNlbZu3"
      },
      "source": [
        "lst_10=df.X1.value_counts().sort_values(ascending=False).head(10).index\n",
        "lst_10=list(lst_10)"
      ],
      "execution_count": null,
      "outputs": []
    },
    {
      "cell_type": "code",
      "metadata": {
        "id": "VQV1l8libcL9"
      },
      "source": [
        "for categories in lst_10:\n",
        "    df[categories]=np.where(df['X1']==categories,1,0)"
      ],
      "execution_count": null,
      "outputs": []
    },
    {
      "cell_type": "markdown",
      "metadata": {
        "id": "UVo-sd35cyLA"
      },
      "source": [
        "#### Ordinal Number Encoding"
      ]
    },
    {
      "cell_type": "code",
      "metadata": {
        "id": "_xHPzqcqcx_N"
      },
      "source": [
        "# Creating a df\n",
        "days=[today_date-datetime.timedelta(x) for x in range(0,15)]\n",
        "\n",
        "data=pd.DataFrame(days)\n",
        "data.columns=[\"Day\"]\n",
        "\n",
        "data['weekday']=data['Day'].dt.weekday_name"
      ],
      "execution_count": null,
      "outputs": []
    },
    {
      "cell_type": "code",
      "metadata": {
        "id": "EpYnDHzRnvjb"
      },
      "source": [
        "dictionary={'Monday':1,'Tuesday':2,'Wednesday':3,'Thursday':4,'Friday':5,'Saturday':6,'Sunday':7}\n",
        "\n",
        "data['weekday_ordinal']=data['weekday'].map(dictionary)"
      ],
      "execution_count": null,
      "outputs": []
    },
    {
      "cell_type": "markdown",
      "metadata": {
        "id": "Bc52uSZkn8cW"
      },
      "source": [
        "### Count Or Frequency Encoding"
      ]
    },
    {
      "cell_type": "code",
      "metadata": {
        "id": "LI0cL9nwn4dA"
      },
      "source": [
        "# Prining no. of unique categories in each feature\n",
        "\n",
        "for feature in train_set.columns[:]:\n",
        "    print(feature,\":\",len(train_set[feature].unique()),'labels')"
      ],
      "execution_count": null,
      "outputs": []
    },
    {
      "cell_type": "code",
      "metadata": {
        "id": "nlalRhmtoecD"
      },
      "source": [
        "# replace category by their value counts\n",
        "\n",
        "country_map=train_set['Country'].value_counts().to_dict()\n",
        "\n",
        "train_set['Country']=train_set['Country'].map(country_map)"
      ],
      "execution_count": null,
      "outputs": []
    },
    {
      "cell_type": "markdown",
      "metadata": {
        "id": "wke5nVcdozRu"
      },
      "source": [
        "**Advantages**\n",
        "\n",
        "Easy To Use\n",
        "\n",
        "Not increasing feature space  \n",
        "\n",
        "**Disadvantages**\n",
        "\n",
        "It will provide same weight if the frequencies are same"
      ]
    },
    {
      "cell_type": "markdown",
      "metadata": {
        "id": "kfTtfTq9o_3f"
      },
      "source": [
        "### Target Guided Ordinal Encoding\n",
        "\n",
        "Ordering the labels according to the target\n",
        "\n",
        "Replace the labels by the joint probability of being 1 or 0"
      ]
    },
    {
      "cell_type": "code",
      "metadata": {
        "id": "2eZ7MKgHoref"
      },
      "source": [
        "df['Cabin'].fillna('Missing',inplace=True)\n",
        "\n",
        "df['Cabin']=df['Cabin'].astype(str).str[0]"
      ],
      "execution_count": null,
      "outputs": []
    },
    {
      "cell_type": "code",
      "metadata": {
        "id": "uT1f4JvZpHaW"
      },
      "source": [
        "df.groupby(['Cabin'])['Survived'].mean()\n",
        "\n",
        "ordinal_labels=df.groupby(['Cabin'])['Survived'].mean().sort_values().index"
      ],
      "execution_count": null,
      "outputs": []
    },
    {
      "cell_type": "code",
      "metadata": {
        "id": "DRaFCLLbpJab"
      },
      "source": [
        "ordinal_labels2={k:i for i,k in enumerate(ordinal_labels,0)}\n",
        "ordinal_labels2"
      ],
      "execution_count": null,
      "outputs": []
    },
    {
      "cell_type": "code",
      "metadata": {
        "id": "Tq80tLRmq5SP"
      },
      "source": [
        "df['Cabin_ordinal_labels']=df['Cabin'].map(ordinal_labels2)"
      ],
      "execution_count": null,
      "outputs": []
    },
    {
      "cell_type": "markdown",
      "metadata": {
        "id": "9eGJpq42rUrm"
      },
      "source": [
        "### Mean Encoding\n",
        "\n",
        "Provide Monotonic relationship variable and target"
      ]
    },
    {
      "cell_type": "code",
      "metadata": {
        "id": "QTQF6mSgrVno"
      },
      "source": [
        "mean_ordinal=df.groupby(['Cabin'])['Survived'].mean().to_dict()"
      ],
      "execution_count": null,
      "outputs": []
    },
    {
      "cell_type": "code",
      "metadata": {
        "id": "rtaYgqV4rYay"
      },
      "source": [
        "f['mean_ordinal_encode']=df['Cabin'].map(mean_ordinal)\n",
        "df.head()"
      ],
      "execution_count": null,
      "outputs": []
    },
    {
      "cell_type": "markdown",
      "metadata": {
        "id": "34-MrL8gxVEJ"
      },
      "source": [
        "### Probability Ratio Encoding\n",
        "Probability of Survived based on Cabin--- Categorical Feature\n",
        "\n",
        "Probability of Not Survived---1-pr(Survived)\n",
        "\n",
        "pr(Survived)/pr(Not Survived)\n",
        "\n",
        "Dictonary to map cabin with probability\n",
        "\n",
        "replace with the categorical feature"
      ]
    },
    {
      "cell_type": "code",
      "metadata": {
        "id": "_Lzx2fGTxUY3"
      },
      "source": [
        "### Replacing\n",
        "df['Cabin'].fillna('Missing',inplace=True)"
      ],
      "execution_count": null,
      "outputs": []
    },
    {
      "cell_type": "code",
      "metadata": {
        "id": "5Uk5K1Czxchi"
      },
      "source": [
        "df['Cabin']=df['Cabin'].astype(str).str[0]"
      ],
      "execution_count": null,
      "outputs": []
    },
    {
      "cell_type": "code",
      "metadata": {
        "id": "hLyC3X8axfAe"
      },
      "source": [
        "prob_df=df.groupby(['Cabin'])['Survived'].mean()\n",
        "\n",
        "prob_df=pd.DataFrame(prob_df)"
      ],
      "execution_count": null,
      "outputs": []
    },
    {
      "cell_type": "code",
      "metadata": {
        "id": "hnGQRL7BxhI-"
      },
      "source": [
        "prob_df['Died']=1-prob_df['Survived']"
      ],
      "execution_count": null,
      "outputs": []
    },
    {
      "cell_type": "code",
      "metadata": {
        "id": "SOAkM1Xixi1Y"
      },
      "source": [
        "prob_df['Probability_ratio']=prob_df['Survived']/prob_df['Died']"
      ],
      "execution_count": null,
      "outputs": []
    },
    {
      "cell_type": "code",
      "metadata": {
        "id": "GHycVXWNxlgw"
      },
      "source": [
        "probability_encoded=prob_df['Probability_ratio'].to_dict()"
      ],
      "execution_count": null,
      "outputs": []
    },
    {
      "cell_type": "code",
      "metadata": {
        "id": "V-0eQbiMxm66"
      },
      "source": [
        "df['Cabin_encoded']=df['Cabin'].map(probability_encoded)"
      ],
      "execution_count": null,
      "outputs": []
    }
  ]
}