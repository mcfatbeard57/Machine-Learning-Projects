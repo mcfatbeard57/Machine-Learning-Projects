{
  "nbformat": 4,
  "nbformat_minor": 0,
  "metadata": {
    "colab": {
      "name": "Removing_Features_With_Correlation.ipynb",
      "provenance": [],
      "collapsed_sections": [],
      "toc_visible": true,
      "authorship_tag": "ABX9TyOPaLtg5Ivep+6VCfyguAZt",
      "include_colab_link": true
    },
    "kernelspec": {
      "name": "python3",
      "display_name": "Python 3"
    }
  },
  "cells": [
    {
      "cell_type": "markdown",
      "metadata": {
        "id": "view-in-github",
        "colab_type": "text"
      },
      "source": [
        "<a href=\"https://colab.research.google.com/github/mcfatbeard57/Feature-Engineering/blob/main/Removing_Features_With_Correlation.ipynb\" target=\"_parent\"><img src=\"https://colab.research.google.com/assets/colab-badge.svg\" alt=\"Open In Colab\"/></a>"
      ]
    },
    {
      "cell_type": "markdown",
      "metadata": {
        "id": "yflRRniym-q3"
      },
      "source": [
        "## Feature-Engineering\r\n",
        "\r\n",
        "With Correlation.\r\n",
        "\r\n",
        "Removing features With high Correlation.\r\n",
        "\r\n",
        "In this step we will be removing the features which are highly correlated"
      ]
    },
    {
      "cell_type": "code",
      "metadata": {
        "id": "TFKP6U5dm-TZ"
      },
      "source": [
        "X_train.corr()"
      ],
      "execution_count": null,
      "outputs": []
    },
    {
      "cell_type": "markdown",
      "metadata": {
        "id": "KGpYc4qOqyWN"
      },
      "source": [
        "### Using Pearson Correlation"
      ]
    },
    {
      "cell_type": "code",
      "metadata": {
        "id": "kL0vbfuZqvbe"
      },
      "source": [
        "import seaborn as sns\r\n",
        "#Using Pearson Correlation\r\n",
        "plt.figure(figsize=(12,10))\r\n",
        "cor = X_train.corr()\r\n",
        "sns.heatmap(cor, annot=True, cmap=plt.cm.CMRmap_r)\r\n",
        "plt.show()"
      ],
      "execution_count": null,
      "outputs": []
    },
    {
      "cell_type": "code",
      "metadata": {
        "id": "2ZRfbNLhq48Z"
      },
      "source": [
        "# with the following function we can select highly correlated features\r\n",
        "# it will remove the first feature that is correlated with anything other feature\r\n",
        "# generaly threshold is set to 85%\r\n",
        "def correlation(dataset, threshold):\r\n",
        "    col_corr = set()  # Set of all the names of correlated columns\r\n",
        "    corr_matrix = dataset.corr()\r\n",
        "    for i in range(len(corr_matrix.columns)):\r\n",
        "        for j in range(i):\r\n",
        "          # if we remove this abs method then i think negative corr willl not be considered\r\n",
        "          # otherwise currently it is also keeping negative corr in consideration\r\n",
        "            if abs(corr_matrix.iloc[i, j]) > threshold: # we are interested in absolute coeff value\r\n",
        "                colname = corr_matrix.columns[i]  # getting the name of column\r\n",
        "                col_corr.add(colname)\r\n",
        "    return col_corr"
      ],
      "execution_count": null,
      "outputs": []
    },
    {
      "cell_type": "code",
      "metadata": {
        "id": "GgfLnlagrAPz"
      },
      "source": [
        "corr_features = correlation(X_train, 0.7)\r\n",
        "len(set(corr_features))"
      ],
      "execution_count": null,
      "outputs": []
    },
    {
      "cell_type": "markdown",
      "metadata": {
        "id": "m52wUWcarN0g"
      },
      "source": [
        "This is to be done for X_train only not the X_test\r\n",
        "\r\n",
        "Whatever features we get from this X_train we remove them form X_test also"
      ]
    },
    {
      "cell_type": "code",
      "metadata": {
        "id": "WdEBrrCVrUwR"
      },
      "source": [
        "corr_features"
      ],
      "execution_count": null,
      "outputs": []
    },
    {
      "cell_type": "code",
      "metadata": {
        "id": "o6I_64TTrXdp"
      },
      "source": [
        "\r\n",
        "X_train.drop(corr_features,axis=1)\r\n",
        "X_test.drop(corr_features,axis=1)"
      ],
      "execution_count": null,
      "outputs": []
    }
  ]
}