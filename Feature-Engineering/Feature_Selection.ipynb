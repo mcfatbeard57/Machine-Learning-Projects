{
  "nbformat": 4,
  "nbformat_minor": 0,
  "metadata": {
    "colab": {
      "name": "Feature_Selection.ipynb",
      "provenance": [],
      "collapsed_sections": [],
      "toc_visible": true,
      "authorship_tag": "ABX9TyNluq/HYx7FLHGaJzAX6N2m",
      "include_colab_link": true
    },
    "kernelspec": {
      "name": "python3",
      "display_name": "Python 3"
    }
  },
  "cells": [
    {
      "cell_type": "markdown",
      "metadata": {
        "id": "view-in-github",
        "colab_type": "text"
      },
      "source": [
        "<a href=\"https://colab.research.google.com/github/mcfatbeard57/Feature-Engineering/blob/main/Feature_Selection.ipynb\" target=\"_parent\"><img src=\"https://colab.research.google.com/assets/colab-badge.svg\" alt=\"Open In Colab\"/></a>"
      ]
    },
    {
      "cell_type": "markdown",
      "metadata": {
        "id": "rcgc4RHD0-St"
      },
      "source": [
        "## Feature Selection\r\n",
        "Feature Selection/Importance Techniques"
      ]
    },
    {
      "cell_type": "markdown",
      "metadata": {
        "id": "DbkkrGZN1IGO"
      },
      "source": [
        "### Univariate Selection"
      ]
    },
    {
      "cell_type": "code",
      "metadata": {
        "id": "kZTbNzOe09LZ"
      },
      "source": [
        "from sklearn.feature_selection import SelectKBest\r\n",
        "from sklearn.feature_selection import chi2"
      ],
      "execution_count": null,
      "outputs": []
    },
    {
      "cell_type": "code",
      "metadata": {
        "id": "1_fecyTB1O7i"
      },
      "source": [
        "### Apply SelectKBest Algorithm\r\n",
        "ordered_rank_features=SelectKBest(score_func=chi2,k=20)\r\n",
        "ordered_feature=ordered_rank_features.fit(X,y)"
      ],
      "execution_count": null,
      "outputs": []
    },
    {
      "cell_type": "code",
      "metadata": {
        "id": "unQ46hWO1QUG"
      },
      "source": [
        "dfscores=pd.DataFrame(ordered_feature.scores_,columns=[\"Score\"])\r\n",
        "dfcolumns=pd.DataFrame(X.columns)"
      ],
      "execution_count": null,
      "outputs": []
    },
    {
      "cell_type": "code",
      "metadata": {
        "id": "C5UCrOeS2rJM"
      },
      "source": [
        "features_rank=pd.concat([dfcolumns,dfscores],axis=1)\r\n",
        "features_rank.columns=['Features','Score']\r\n",
        "features_rank"
      ],
      "execution_count": null,
      "outputs": []
    },
    {
      "cell_type": "code",
      "metadata": {
        "id": "jIkkuHaA2txw"
      },
      "source": [
        "features_rank.nlargest(10,'Score')"
      ],
      "execution_count": null,
      "outputs": []
    },
    {
      "cell_type": "markdown",
      "metadata": {
        "id": "bY5qgCDw22ei"
      },
      "source": [
        "## Feature Importance\r\n",
        "This technique gives you a score for each feature of your data,the higher the score mor relevant it is"
      ]
    },
    {
      "cell_type": "code",
      "metadata": {
        "id": "wN05QN3o26X9"
      },
      "source": [
        "from sklearn.ensemble import ExtraTreesClassifier\r\n",
        "import matplotlib.pyplot as plt\r\n",
        "model=ExtraTreesClassifier()\r\n",
        "model.fit(X,y)"
      ],
      "execution_count": null,
      "outputs": []
    },
    {
      "cell_type": "code",
      "metadata": {
        "id": "fJYH1Ain3JMU"
      },
      "source": [
        "print(model.feature_importances_)"
      ],
      "execution_count": null,
      "outputs": []
    },
    {
      "cell_type": "code",
      "metadata": {
        "id": "ygbTVSZh3MAV"
      },
      "source": [
        "ranked_features=pd.Series(model.feature_importances_,index=X.columns)\r\n",
        "ranked_features.nlargest(10).plot(kind='barh')\r\n",
        "plt.show()"
      ],
      "execution_count": null,
      "outputs": []
    },
    {
      "cell_type": "markdown",
      "metadata": {
        "id": "Sj4PHoYb3OEv"
      },
      "source": [
        "## Correlation"
      ]
    },
    {
      "cell_type": "code",
      "metadata": {
        "id": "orOq790h3PTy"
      },
      "source": [
        "df.corr()"
      ],
      "execution_count": null,
      "outputs": []
    },
    {
      "cell_type": "code",
      "metadata": {
        "id": "eRNHToDH3SSS"
      },
      "source": [
        "import seaborn as sns\r\n",
        "corr=df.iloc[:,:-1].corr()\r\n",
        "top_features=corr.index\r\n",
        "plt.figure(figsize=(20,20))\r\n",
        "sns.heatmap(df[top_features].corr(),annot=True)"
      ],
      "execution_count": null,
      "outputs": []
    },
    {
      "cell_type": "code",
      "metadata": {
        "id": "yWAqBiaI3Ucd"
      },
      "source": [
        "#### Remove The correlated\r\n",
        "threshold=0.8"
      ],
      "execution_count": null,
      "outputs": []
    },
    {
      "cell_type": "code",
      "metadata": {
        "id": "qBtAZ8ni3W2b"
      },
      "source": [
        "# find and remove correlated features\r\n",
        "def correlation(dataset, threshold):\r\n",
        "    col_corr = set()  # Set of all the names of correlated columns\r\n",
        "    corr_matrix = dataset.corr()\r\n",
        "    for i in range(len(corr_matrix.columns)):\r\n",
        "        for j in range(i):\r\n",
        "            if abs(corr_matrix.iloc[i, j]) > threshold: # we are interested in absolute coeff value\r\n",
        "                colname = corr_matrix.columns[i]  # getting the name of column\r\n",
        "                col_corr.add(colname)\r\n",
        "    return col_corr"
      ],
      "execution_count": null,
      "outputs": []
    },
    {
      "cell_type": "code",
      "metadata": {
        "id": "LVWlgfuH3bCN"
      },
      "source": [
        "correlation(df.iloc[:,:-1],threshold)"
      ],
      "execution_count": null,
      "outputs": []
    },
    {
      "cell_type": "markdown",
      "metadata": {
        "id": "A-JLZuIW3zK1"
      },
      "source": [
        "## Information Gain"
      ]
    },
    {
      "cell_type": "code",
      "metadata": {
        "id": "A1FxDs5y3zsw"
      },
      "source": [
        "from sklearn.feature_selection import mutual_info_classif"
      ],
      "execution_count": null,
      "outputs": []
    },
    {
      "cell_type": "code",
      "metadata": {
        "id": "OTxW4igr31T0"
      },
      "source": [
        "mutual_info=mutual_info_classif(X,y)"
      ],
      "execution_count": null,
      "outputs": []
    },
    {
      "cell_type": "code",
      "metadata": {
        "id": "f_oBJ0uE33qR"
      },
      "source": [
        "mutual_data=pd.Series(mutual_info,index=X.columns)\r\n",
        "mutual_data.sort_values(ascending=False)"
      ],
      "execution_count": null,
      "outputs": []
    }
  ]
}