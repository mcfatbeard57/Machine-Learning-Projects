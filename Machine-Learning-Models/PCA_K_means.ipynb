{
 "cells": [
  {
   "cell_type": "markdown",
   "metadata": {},
   "source": [
    "# Unsupervised machine learning"
   ]
  },
  {
   "cell_type": "markdown",
   "metadata": {},
   "source": [
    "## Dimensionality Reduction\n",
    "### PCA\n",
    "- Used for exploring & visualizing dataset to understand grouping of relationships. (2D scatter plot)"
   ]
  },
  {
   "cell_type": "code",
   "execution_count": null,
   "metadata": {},
   "outputs": [],
   "source": [
    "from sklearn.preprocessing import StandardScaler\n",
    "from sklearn.decomposition import PCA\n",
    "\n",
    "# Train test Split\n",
    "X,y\n",
    "\n",
    "# each feature should be ceneterd (zero mean) and with unit variance\n",
    "X_normalized = StandardScaler().fit(X).transform(X)\n",
    "\n",
    "pca = PCA(n_components=2).fit(X_normalized)\n",
    "X_pca = pca.transform(X_normalized)\n",
    "print(X.shape, X_pca.shape)"
   ]
  },
  {
   "cell_type": "markdown",
   "metadata": {},
   "source": [
    "### Multidimensional scaling (MDS)"
   ]
  },
  {
   "cell_type": "code",
   "execution_count": null,
   "metadata": {},
   "outputs": [],
   "source": [
    "from sklearn.manifold import MDS\n",
    "\n",
    "X_normalized = StandardScaler().fit(X).transform(X)\n",
    "\n",
    "mds = MDS(n_components=2)\n",
    "X_mds = mds.fit_transform(X_normalized)"
   ]
  },
  {
   "cell_type": "markdown",
   "metadata": {},
   "source": [
    "### t-SNE\n",
    "a powerful manifold learning method that finds a 2D projection preserving information about neighbors"
   ]
  },
  {
   "cell_type": "code",
   "execution_count": null,
   "metadata": {},
   "outputs": [],
   "source": [
    "from sklearn.manifold import TSNE\n",
    "\n",
    "tsne = TSNE(random_state=0)\n",
    "X_tsne = tsne.fit_transform(X_normalized)"
   ]
  },
  {
   "cell_type": "markdown",
   "metadata": {},
   "source": [
    "## Clustering\n",
    "Finding a way to divide a dataset into groups ('clusters')\n",
    "- Hard clustering: each data point belongs to exactly one cluster\n",
    "- Soft (or fuzzy) clustering: each data point is assigned a weight, score, or probability of membership for each cluster"
   ]
  },
  {
   "cell_type": "markdown",
   "metadata": {},
   "source": [
    "### K-means Clustering"
   ]
  },
  {
   "cell_type": "code",
   "execution_count": null,
   "metadata": {},
   "outputs": [],
   "source": [
    "from sklearn.cluster import KMeans\n",
    "\n",
    "kmeans = KMeans(n_clusters = 3)\n",
    "kmeans.fit(X)"
   ]
  },
  {
   "cell_type": "markdown",
   "metadata": {},
   "source": [
    "**Limitations of k-means**\n",
    "- Works well for simple clusters that are same size, well-separated, globular shapes.\n",
    "- Does not do well with irregular, complex clusters.\n",
    "- Variants of k-means like k-medoids can work with categorical features."
   ]
  },
  {
   "cell_type": "markdown",
   "metadata": {},
   "source": [
    "### Agglomerative Clustering`"
   ]
  },
  {
   "cell_type": "markdown",
   "metadata": {},
   "source": [
    "Linkage Criteria for Agglomerative Clustering:\n",
    "- Ward's method: Least increase in total variance(around cluster centroids)\n",
    "- Average linkage: Average distance between clusters\n",
    "- Complete linkage: Max distance between clusters"
   ]
  },
  {
   "cell_type": "code",
   "execution_count": null,
   "metadata": {},
   "outputs": [],
   "source": [
    "from sklearn.cluster import AgglomerativeClustering\n",
    "\n",
    "cls = AgglomerativeClustering(n_clusters=3)\n",
    "cls_assignment = cls.fit_predict(X)"
   ]
  },
  {
   "cell_type": "markdown",
   "metadata": {},
   "source": [
    "### DBSCAN Clustering\n",
    "- Unlike k-means, you don't need to specify # of clusters\n",
    "- Relatively efficient –can be used with large datasets\n",
    "- Identifies likely noise points"
   ]
  },
  {
   "cell_type": "code",
   "execution_count": null,
   "metadata": {},
   "outputs": [],
   "source": [
    "from sklearn.cluster import  DBSCAN\n",
    "dbscan = DBSCAN(eps= 2, min_samples =2)\n",
    "\n",
    "cls = dbscan.fit_predict(X)\n",
    "print('Clsuter Membership Values:\\n{}', format(cls))"
   ]
  },
  {
   "cell_type": "markdown",
   "metadata": {},
   "source": [
    "## Clustering Evaluation"
   ]
  },
  {
   "cell_type": "markdown",
   "metadata": {},
   "source": [
    "- With ground truth, existing labels can be used to evaluate cluster quality.\n",
    "- Without ground truth, evaluation can difficult: multiple clusteringsmay be plausible for a dataset.\n",
    "- Consider task-based evaluation: Evaluate clustering according to performance on a task that doeshave an objective basis for comparison.\n",
    "- Example: the effectiveness of clustering-based features for a supervised learning task.\n",
    "- Some evaluation heuristics exist (e.g. silhouette) but these can be unreliable."
   ]
  },
  {
   "cell_type": "code",
   "execution_count": null,
   "metadata": {},
   "outputs": [],
   "source": []
  }
 ],
 "metadata": {
  "kernelspec": {
   "display_name": "Python 3",
   "language": "python",
   "name": "python3"
  },
  "language_info": {
   "codemirror_mode": {
    "name": "ipython",
    "version": 3
   },
   "file_extension": ".py",
   "mimetype": "text/x-python",
   "name": "python",
   "nbconvert_exporter": "python",
   "pygments_lexer": "ipython3",
   "version": "3.7.4"
  }
 },
 "nbformat": 4,
 "nbformat_minor": 2
}
