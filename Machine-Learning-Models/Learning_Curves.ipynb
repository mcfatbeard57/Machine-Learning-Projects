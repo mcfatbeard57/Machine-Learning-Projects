{
  "nbformat": 4,
  "nbformat_minor": 0,
  "metadata": {
    "kernelspec": {
      "display_name": "Python 3",
      "language": "python",
      "name": "python3"
    },
    "language_info": {
      "codemirror_mode": {
        "name": "ipython",
        "version": 3
      },
      "file_extension": ".py",
      "mimetype": "text/x-python",
      "name": "python",
      "nbconvert_exporter": "python",
      "pygments_lexer": "ipython3",
      "version": "3.7.4"
    },
    "colab": {
      "name": "Learning_Curves.ipynb",
      "provenance": [],
      "collapsed_sections": [],
      "toc_visible": true
    }
  },
  "cells": [
    {
      "cell_type": "markdown",
      "metadata": {
        "id": "KpRkvjLaKWcB"
      },
      "source": [
        "## How can you tell your model is overfitting or underfitting the data?"
      ]
    },
    {
      "cell_type": "markdown",
      "metadata": {
        "id": "bJjyiH0VKWcP"
      },
      "source": [
        "#### Using cross-validation to get an estimate of a model's generalization performance."
      ]
    },
    {
      "cell_type": "code",
      "metadata": {
        "id": "axA5xHxnKWcQ"
      },
      "source": [
        "# If a model performs well on the training data but generalizes poorly\n",
        "# according to the cross-validation metrics, then your model is overfitting. If it performs\n",
        "# poorly on both, then it is underfitting. \n",
        "# This is one way to tell when a model is too simple or too complex."
      ],
      "execution_count": null,
      "outputs": []
    },
    {
      "cell_type": "markdown",
      "metadata": {
        "id": "6bP_WG8CKWcR"
      },
      "source": [
        "### Learning Curves"
      ]
    },
    {
      "cell_type": "code",
      "metadata": {
        "id": "2FRtfoP_KWcS"
      },
      "source": [
        "# these are plots of the model’s performance\n",
        "# on the training set and the validation set as a function of the training set size."
      ],
      "execution_count": null,
      "outputs": []
    },
    {
      "cell_type": "code",
      "metadata": {
        "id": "L1D4sSkpKWcT"
      },
      "source": [
        "from sklearn.metrics import mean_squared_error\n",
        "from sklearn.model_selection import train_test_split\n"
      ],
      "execution_count": null,
      "outputs": []
    },
    {
      "cell_type": "code",
      "metadata": {
        "id": "e8-On0h1KWcU"
      },
      "source": [
        "def plot_learning_curves(model, X, y):\n",
        "    # Train-Test split\n",
        "    X_train, X_val, y_train, y_val = train_test_split(X, y, test_size=0.2)\n",
        "    train_errors, val_errors = [], []\n",
        "    # Taking a subset of size m from X_train set\n",
        "    for m in range(1, len(X_train)):\n",
        "        # Model fit on X_train and y_train\n",
        "        model.fit(X_train[:m], y_train[:m])\n",
        "        # predict model on X_train and X_val and append on respective lists\n",
        "        y_train_predict = model.predict(X_train[:m])\n",
        "        y_val_predict = model.predict(X_val)\n",
        "        # Cal MSE with predict and actual value\n",
        "        train_errors.append(mean_squared_error(y_train_predict, y_train[:m]))\n",
        "        val_errors.append(mean_squared_error(y_val_predict, y_val))\n",
        "    plt.plot(np.sqrt(train_errors), \"r-+\", linewidth=2, label=\"train\")\n",
        "    plt.plot(np.sqrt(val_errors), \"b-\", linewidth=3, label=\"val\")"
      ],
      "execution_count": null,
      "outputs": []
    }
  ]
}