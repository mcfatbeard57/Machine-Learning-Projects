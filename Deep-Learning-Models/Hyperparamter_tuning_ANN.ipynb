{
  "nbformat": 4,
  "nbformat_minor": 0,
  "metadata": {
    "colab": {
      "name": "Hyperparamter tuning ANN.ipynb",
      "provenance": [],
      "collapsed_sections": [],
      "authorship_tag": "ABX9TyNwTqK6wA77EFr89oUz9mUe",
      "include_colab_link": true
    },
    "kernelspec": {
      "name": "python3",
      "display_name": "Python 3"
    }
  },
  "cells": [
    {
      "cell_type": "markdown",
      "metadata": {
        "id": "view-in-github",
        "colab_type": "text"
      },
      "source": [
        "<a href=\"https://colab.research.google.com/github/mcfatbeard57/Deep-Learning-Models/blob/main/Hyperparamter_tuning_ANN.ipynb\" target=\"_parent\"><img src=\"https://colab.research.google.com/assets/colab-badge.svg\" alt=\"Open In Colab\"/></a>"
      ]
    },
    {
      "cell_type": "markdown",
      "metadata": {
        "id": "qEBb5i3A3vH0"
      },
      "source": [
        "Hyperparamter tuning using Keras Classifier and GridSearcCV"
      ]
    },
    {
      "cell_type": "markdown",
      "metadata": {
        "id": "GbllUjoH39eT"
      },
      "source": [
        "### Imports"
      ]
    },
    {
      "cell_type": "code",
      "metadata": {
        "id": "3XtR4k103LsG"
      },
      "source": [
        "from keras.wrappers.scikit_learn import KerasClassifier\r\n",
        "from sklearn.model_selection import GridSearchCV\r\n",
        "\r\n",
        "from keras.models import Sequential\r\n",
        "from keras.layers import Dense, Activation, Embedding, Flatten, LeakyReLU, BatchNormalization, Dropout\r\n",
        "from keras.activations import relu, sigmoid"
      ],
      "execution_count": null,
      "outputs": []
    },
    {
      "cell_type": "markdown",
      "metadata": {
        "id": "p2-hrfoy4Bz7"
      },
      "source": [
        "Create Model Function"
      ]
    },
    {
      "cell_type": "code",
      "metadata": {
        "id": "9vt5RGy63-vb"
      },
      "source": [
        "def create_model(layers, activation):\r\n",
        "    model = Sequential()\r\n",
        "    for i, nodes in enumerate(layers):\r\n",
        "        if i==0:\r\n",
        "            model.add(Dense(nodes,input_dim=X_train.shape[1]))\r\n",
        "            model.add(Activation(activation))\r\n",
        "            model.add(Dropout(0.3))\r\n",
        "        else:\r\n",
        "            model.add(Dense(nodes))\r\n",
        "            model.add(Activation(activation))\r\n",
        "            model.add(Dropout(0.3))\r\n",
        "            \r\n",
        "    model.add(Dense(units = 1, kernel_initializer= 'glorot_uniform', activation = 'sigmoid')) # Note: no activation beyond this point\r\n",
        "    \r\n",
        "    model.compile(optimizer='adam', loss='binary_crossentropy',metrics=['accuracy'])\r\n",
        "    return model\r\n",
        "  "
      ],
      "execution_count": null,
      "outputs": []
    },
    {
      "cell_type": "code",
      "metadata": {
        "id": "F49XJhyY4BSK"
      },
      "source": [
        "model = KerasClassifier(build_fn=create_model, verbose=0)"
      ],
      "execution_count": null,
      "outputs": []
    },
    {
      "cell_type": "code",
      "metadata": {
        "id": "n9mdv0qa4FU7"
      },
      "source": [
        "layers = [[20], [40, 20], [45, 30, 15]]\r\n",
        "activations = ['sigmoid', 'relu']\r\n",
        "param_grid = dict(layers=layers, activation=activations, batch_size = [128, 256], epochs=[30])"
      ],
      "execution_count": null,
      "outputs": []
    },
    {
      "cell_type": "code",
      "metadata": {
        "id": "1fMagH0c4G46"
      },
      "source": [
        "grid = GridSearchCV(estimator=model, param_grid=param_grid,cv=5)"
      ],
      "execution_count": null,
      "outputs": []
    },
    {
      "cell_type": "code",
      "metadata": {
        "id": "zY2jLEuK4INS"
      },
      "source": [
        "grid_result = grid.fit(X_train, y_train)"
      ],
      "execution_count": null,
      "outputs": []
    },
    {
      "cell_type": "code",
      "metadata": {
        "id": "aaboA-f64KJ8"
      },
      "source": [
        "[grid_result.best_score_,grid_result.best_params_]"
      ],
      "execution_count": null,
      "outputs": []
    }
  ]
}