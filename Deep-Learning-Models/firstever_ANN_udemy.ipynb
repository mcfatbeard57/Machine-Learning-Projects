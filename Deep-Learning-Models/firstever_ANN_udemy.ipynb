{
  "nbformat": 4,
  "nbformat_minor": 0,
  "metadata": {
    "colab": {
      "name": "firstever_ANN_udemy.ipynb",
      "provenance": [],
      "collapsed_sections": [],
      "toc_visible": true,
      "include_colab_link": true
    },
    "kernelspec": {
      "name": "python3",
      "display_name": "Python 3"
    }
  },
  "cells": [
    {
      "cell_type": "markdown",
      "metadata": {
        "id": "view-in-github",
        "colab_type": "text"
      },
      "source": [
        "<a href=\"https://colab.research.google.com/github/mcfatbeard57/Deep-Learning-Models/blob/main/firstever_ANN_udemy.ipynb\" target=\"_parent\"><img src=\"https://colab.research.google.com/assets/colab-badge.svg\" alt=\"Open In Colab\"/></a>"
      ]
    },
    {
      "cell_type": "markdown",
      "metadata": {
        "id": "lP6JLo1tGNBg"
      },
      "source": [
        "# Artificial Neural Network"
      ]
    },
    {
      "cell_type": "markdown",
      "metadata": {
        "id": "gWZyYmS_UE_L"
      },
      "source": [
        "### Importing the libraries"
      ]
    },
    {
      "cell_type": "code",
      "metadata": {
        "id": "MxkJoQBkUIHC"
      },
      "source": [
        "import numpy as np\n",
        "import pandas as pd\n",
        "import tensorflow as tf"
      ],
      "execution_count": 46,
      "outputs": []
    },
    {
      "cell_type": "code",
      "metadata": {
        "id": "ZaTwK7ojXr2F",
        "colab": {
          "base_uri": "https://localhost:8080/",
          "height": 35
        },
        "outputId": "a03d7dc3-21be-4112-f6d2-0fecdc178edd"
      },
      "source": [
        "tf.__version__"
      ],
      "execution_count": 47,
      "outputs": [
        {
          "output_type": "execute_result",
          "data": {
            "application/vnd.google.colaboratory.intrinsic+json": {
              "type": "string"
            },
            "text/plain": [
              "'2.4.0'"
            ]
          },
          "metadata": {
            "tags": []
          },
          "execution_count": 47
        }
      ]
    },
    {
      "cell_type": "markdown",
      "metadata": {
        "id": "1E0Q3aoKUCRX"
      },
      "source": [
        "## Part 1 - Data Preprocessing"
      ]
    },
    {
      "cell_type": "markdown",
      "metadata": {
        "id": "cKWAkFVGUU0Z"
      },
      "source": [
        "### Importing the dataset"
      ]
    },
    {
      "cell_type": "code",
      "metadata": {
        "id": "MXUkhkMfU4wq"
      },
      "source": [
        "dataset = pd.read_csv('Churn_Modelling.csv')\n",
        "X = dataset.iloc[:, 3:-1].values\n",
        "y = dataset.iloc[:, -1].values"
      ],
      "execution_count": 48,
      "outputs": []
    },
    {
      "cell_type": "code",
      "metadata": {
        "id": "VYP9cQTWbzuI",
        "colab": {
          "base_uri": "https://localhost:8080/"
        },
        "outputId": "c0d86b41-f7ad-4abd-9dc2-aff814ecc2b2"
      },
      "source": [
        "print(X)"
      ],
      "execution_count": 49,
      "outputs": [
        {
          "output_type": "stream",
          "text": [
            "[[619 'France' 'Female' ... 1 1 101348.88]\n",
            " [608 'Spain' 'Female' ... 0 1 112542.58]\n",
            " [502 'France' 'Female' ... 1 0 113931.57]\n",
            " ...\n",
            " [709 'France' 'Female' ... 0 1 42085.58]\n",
            " [772 'Germany' 'Male' ... 1 0 92888.52]\n",
            " [792 'France' 'Female' ... 1 0 38190.78]]\n"
          ],
          "name": "stdout"
        }
      ]
    },
    {
      "cell_type": "code",
      "metadata": {
        "id": "38vKGE6Nb2RR",
        "colab": {
          "base_uri": "https://localhost:8080/"
        },
        "outputId": "3b183d12-140c-4406-cdf6-570397b8c7cf"
      },
      "source": [
        "print(y)"
      ],
      "execution_count": 50,
      "outputs": [
        {
          "output_type": "stream",
          "text": [
            "[1 0 1 ... 1 1 0]\n"
          ],
          "name": "stdout"
        }
      ]
    },
    {
      "cell_type": "markdown",
      "metadata": {
        "id": "N6bQ0UgSU-NJ"
      },
      "source": [
        "### Encoding categorical data"
      ]
    },
    {
      "cell_type": "markdown",
      "metadata": {
        "id": "le5MJreAbW52"
      },
      "source": [
        "Label Encoding the \"Gender\" column"
      ]
    },
    {
      "cell_type": "code",
      "metadata": {
        "id": "PxVKWXxLbczC"
      },
      "source": [
        "from sklearn.preprocessing import LabelEncoder\n",
        "le = LabelEncoder()\n",
        "X[:, 2] = le.fit_transform(X[:, 2])"
      ],
      "execution_count": 51,
      "outputs": []
    },
    {
      "cell_type": "code",
      "metadata": {
        "id": "-M1KboxFb6OO",
        "colab": {
          "base_uri": "https://localhost:8080/"
        },
        "outputId": "4a1e9f8d-4710-4dab-9dc2-dd8ef543522b"
      },
      "source": [
        "print(X)"
      ],
      "execution_count": 52,
      "outputs": [
        {
          "output_type": "stream",
          "text": [
            "[[619 'France' 0 ... 1 1 101348.88]\n",
            " [608 'Spain' 0 ... 0 1 112542.58]\n",
            " [502 'France' 0 ... 1 0 113931.57]\n",
            " ...\n",
            " [709 'France' 0 ... 0 1 42085.58]\n",
            " [772 'Germany' 1 ... 1 0 92888.52]\n",
            " [792 'France' 0 ... 1 0 38190.78]]\n"
          ],
          "name": "stdout"
        }
      ]
    },
    {
      "cell_type": "markdown",
      "metadata": {
        "id": "CUxGZezpbMcb"
      },
      "source": [
        "One Hot Encoding the \"Geography\" column"
      ]
    },
    {
      "cell_type": "code",
      "metadata": {
        "id": "eMLstuiVWsWH"
      },
      "source": [
        "ct = ColumnTransformer?"
      ],
      "execution_count": 53,
      "outputs": []
    },
    {
      "cell_type": "code",
      "metadata": {
        "id": "AMXC8-KMVirw"
      },
      "source": [
        "from sklearn.compose import ColumnTransformer\n",
        "from sklearn.preprocessing import OneHotEncoder\n",
        "ct = ColumnTransformer(transformers=[('encoder', OneHotEncoder(), [1])], remainder='passthrough')\n",
        "X = np.array(ct.fit_transform(X))"
      ],
      "execution_count": 54,
      "outputs": []
    },
    {
      "cell_type": "code",
      "metadata": {
        "id": "ZcxwEon-b8nV",
        "colab": {
          "base_uri": "https://localhost:8080/"
        },
        "outputId": "1d04247c-573c-48c5-e04c-7417c0e90bab"
      },
      "source": [
        "print(X)"
      ],
      "execution_count": 55,
      "outputs": [
        {
          "output_type": "stream",
          "text": [
            "[[1.0 0.0 0.0 ... 1 1 101348.88]\n",
            " [0.0 0.0 1.0 ... 0 1 112542.58]\n",
            " [1.0 0.0 0.0 ... 1 0 113931.57]\n",
            " ...\n",
            " [1.0 0.0 0.0 ... 0 1 42085.58]\n",
            " [0.0 1.0 0.0 ... 1 0 92888.52]\n",
            " [1.0 0.0 0.0 ... 1 0 38190.78]]\n"
          ],
          "name": "stdout"
        }
      ]
    },
    {
      "cell_type": "markdown",
      "metadata": {
        "id": "vHol938cW8zd"
      },
      "source": [
        "### Splitting the dataset into the Training set and Test set"
      ]
    },
    {
      "cell_type": "code",
      "metadata": {
        "id": "Z-TDt0Y_XEfc"
      },
      "source": [
        "from sklearn.model_selection import train_test_split\n",
        "X_train, X_test, y_train, y_test = train_test_split(X, y, test_size = 0.2, random_state = 0)"
      ],
      "execution_count": 56,
      "outputs": []
    },
    {
      "cell_type": "markdown",
      "metadata": {
        "id": "RE_FcHyfV3TQ"
      },
      "source": [
        "### Feature Scaling"
      ]
    },
    {
      "cell_type": "code",
      "metadata": {
        "id": "ViCrE00rV8Sk"
      },
      "source": [
        "from sklearn.preprocessing import StandardScaler\n",
        "sc = StandardScaler()\n",
        "X_train = sc.fit_transform(X_train)\n",
        "X_test = sc.transform(X_test)"
      ],
      "execution_count": 57,
      "outputs": []
    },
    {
      "cell_type": "markdown",
      "metadata": {
        "id": "-zfEzkRVXIwF"
      },
      "source": [
        "## Part 2 - Building the ANN"
      ]
    },
    {
      "cell_type": "markdown",
      "metadata": {
        "id": "KvdeScabXtlB"
      },
      "source": [
        "### Initializing the ANN"
      ]
    },
    {
      "cell_type": "code",
      "metadata": {
        "id": "3dtrScHxXQox"
      },
      "source": [
        "ann = tf.keras.models.Sequential()"
      ],
      "execution_count": 58,
      "outputs": []
    },
    {
      "cell_type": "markdown",
      "metadata": {
        "id": "rP6urV6SX7kS"
      },
      "source": [
        "### Adding the input layer and the first hidden layer"
      ]
    },
    {
      "cell_type": "code",
      "metadata": {
        "id": "bppGycBXYCQr"
      },
      "source": [
        "ann.add(tf.keras.layers.Dense(units=6, activation='relu'))"
      ],
      "execution_count": 59,
      "outputs": []
    },
    {
      "cell_type": "markdown",
      "metadata": {
        "id": "BELWAc_8YJze"
      },
      "source": [
        "### Adding the second hidden layer"
      ]
    },
    {
      "cell_type": "code",
      "metadata": {
        "id": "JneR0u0sYRTd"
      },
      "source": [
        "ann.add(tf.keras.layers.Dense(units=6, activation='relu'))"
      ],
      "execution_count": 60,
      "outputs": []
    },
    {
      "cell_type": "markdown",
      "metadata": {
        "id": "OyNEe6RXYcU4"
      },
      "source": [
        "### Adding the output layer"
      ]
    },
    {
      "cell_type": "code",
      "metadata": {
        "id": "Cn3x41RBYfvY"
      },
      "source": [
        "ann.add(tf.keras.layers.Dense(units=1, activation='sigmoid'))"
      ],
      "execution_count": 61,
      "outputs": []
    },
    {
      "cell_type": "markdown",
      "metadata": {
        "id": "JT4u2S1_Y4WG"
      },
      "source": [
        "## Part 3 - Training the ANN"
      ]
    },
    {
      "cell_type": "markdown",
      "metadata": {
        "id": "8GWlJChhY_ZI"
      },
      "source": [
        "### Compiling the ANN"
      ]
    },
    {
      "cell_type": "code",
      "metadata": {
        "id": "fG3RrwDXZEaS"
      },
      "source": [
        "ann.compile(optimizer = 'adam', loss = 'binary_crossentropy', metrics = ['accuracy'])"
      ],
      "execution_count": 62,
      "outputs": []
    },
    {
      "cell_type": "markdown",
      "metadata": {
        "id": "0QR_G5u7ZLSM"
      },
      "source": [
        "### Training the ANN on the Training set"
      ]
    },
    {
      "cell_type": "code",
      "metadata": {
        "id": "nHZ-LKv_ZRb3",
        "colab": {
          "base_uri": "https://localhost:8080/"
        },
        "outputId": "d9ca4719-ca3b-4951-805d-e6efa2cbd3d0"
      },
      "source": [
        "ann.fit(X_train, y_train, batch_size = 32, epochs = 50)"
      ],
      "execution_count": 63,
      "outputs": [
        {
          "output_type": "stream",
          "text": [
            "Epoch 1/50\n",
            "250/250 [==============================] - 1s 1ms/step - loss: 0.8704 - accuracy: 0.3776\n",
            "Epoch 2/50\n",
            "250/250 [==============================] - 0s 1ms/step - loss: 0.5096 - accuracy: 0.7997\n",
            "Epoch 3/50\n",
            "250/250 [==============================] - 0s 952us/step - loss: 0.4565 - accuracy: 0.8009\n",
            "Epoch 4/50\n",
            "250/250 [==============================] - 0s 1ms/step - loss: 0.4261 - accuracy: 0.8172\n",
            "Epoch 5/50\n",
            "250/250 [==============================] - 0s 1ms/step - loss: 0.4107 - accuracy: 0.8238\n",
            "Epoch 6/50\n",
            "250/250 [==============================] - 0s 1ms/step - loss: 0.4035 - accuracy: 0.8296\n",
            "Epoch 7/50\n",
            "250/250 [==============================] - 0s 1ms/step - loss: 0.3889 - accuracy: 0.8351\n",
            "Epoch 8/50\n",
            "250/250 [==============================] - 0s 1ms/step - loss: 0.3843 - accuracy: 0.8413\n",
            "Epoch 9/50\n",
            "250/250 [==============================] - 0s 1ms/step - loss: 0.3688 - accuracy: 0.8454\n",
            "Epoch 10/50\n",
            "250/250 [==============================] - 0s 1ms/step - loss: 0.3827 - accuracy: 0.8339\n",
            "Epoch 11/50\n",
            "250/250 [==============================] - 0s 1ms/step - loss: 0.3624 - accuracy: 0.8462\n",
            "Epoch 12/50\n",
            "250/250 [==============================] - 0s 1ms/step - loss: 0.3605 - accuracy: 0.8455\n",
            "Epoch 13/50\n",
            "250/250 [==============================] - 0s 1ms/step - loss: 0.3548 - accuracy: 0.8513\n",
            "Epoch 14/50\n",
            "250/250 [==============================] - 0s 1ms/step - loss: 0.3607 - accuracy: 0.8524\n",
            "Epoch 15/50\n",
            "250/250 [==============================] - 0s 1ms/step - loss: 0.3530 - accuracy: 0.8517\n",
            "Epoch 16/50\n",
            "250/250 [==============================] - 0s 1ms/step - loss: 0.3697 - accuracy: 0.8467\n",
            "Epoch 17/50\n",
            "250/250 [==============================] - 0s 1ms/step - loss: 0.3486 - accuracy: 0.8547\n",
            "Epoch 18/50\n",
            "250/250 [==============================] - 0s 1ms/step - loss: 0.3615 - accuracy: 0.8467\n",
            "Epoch 19/50\n",
            "250/250 [==============================] - 0s 1ms/step - loss: 0.3599 - accuracy: 0.8512\n",
            "Epoch 20/50\n",
            "250/250 [==============================] - 0s 1ms/step - loss: 0.3492 - accuracy: 0.8517\n",
            "Epoch 21/50\n",
            "250/250 [==============================] - 0s 1ms/step - loss: 0.3429 - accuracy: 0.8601\n",
            "Epoch 22/50\n",
            "250/250 [==============================] - 0s 1ms/step - loss: 0.3375 - accuracy: 0.8608\n",
            "Epoch 23/50\n",
            "250/250 [==============================] - 0s 1ms/step - loss: 0.3533 - accuracy: 0.8552\n",
            "Epoch 24/50\n",
            "250/250 [==============================] - 0s 1ms/step - loss: 0.3466 - accuracy: 0.8522\n",
            "Epoch 25/50\n",
            "250/250 [==============================] - 0s 1ms/step - loss: 0.3477 - accuracy: 0.8537\n",
            "Epoch 26/50\n",
            "250/250 [==============================] - 0s 1ms/step - loss: 0.3523 - accuracy: 0.8562\n",
            "Epoch 27/50\n",
            "250/250 [==============================] - 0s 1ms/step - loss: 0.3461 - accuracy: 0.8548\n",
            "Epoch 28/50\n",
            "250/250 [==============================] - 0s 1ms/step - loss: 0.3466 - accuracy: 0.8539\n",
            "Epoch 29/50\n",
            "250/250 [==============================] - 0s 1ms/step - loss: 0.3415 - accuracy: 0.8628\n",
            "Epoch 30/50\n",
            "250/250 [==============================] - 0s 1ms/step - loss: 0.3410 - accuracy: 0.8601\n",
            "Epoch 31/50\n",
            "250/250 [==============================] - 0s 1ms/step - loss: 0.3530 - accuracy: 0.8592\n",
            "Epoch 32/50\n",
            "250/250 [==============================] - 0s 1ms/step - loss: 0.3453 - accuracy: 0.8593\n",
            "Epoch 33/50\n",
            "250/250 [==============================] - 0s 1ms/step - loss: 0.3312 - accuracy: 0.8640\n",
            "Epoch 34/50\n",
            "250/250 [==============================] - 0s 1ms/step - loss: 0.3303 - accuracy: 0.8661\n",
            "Epoch 35/50\n",
            "250/250 [==============================] - 0s 1ms/step - loss: 0.3382 - accuracy: 0.8637\n",
            "Epoch 36/50\n",
            "250/250 [==============================] - 0s 1ms/step - loss: 0.3487 - accuracy: 0.8595\n",
            "Epoch 37/50\n",
            "250/250 [==============================] - 0s 1ms/step - loss: 0.3354 - accuracy: 0.8655\n",
            "Epoch 38/50\n",
            "250/250 [==============================] - 0s 1ms/step - loss: 0.3405 - accuracy: 0.8598\n",
            "Epoch 39/50\n",
            "250/250 [==============================] - 0s 1ms/step - loss: 0.3351 - accuracy: 0.8625\n",
            "Epoch 40/50\n",
            "250/250 [==============================] - 0s 1ms/step - loss: 0.3360 - accuracy: 0.8634\n",
            "Epoch 41/50\n",
            "250/250 [==============================] - 0s 1ms/step - loss: 0.3426 - accuracy: 0.8609\n",
            "Epoch 42/50\n",
            "250/250 [==============================] - 0s 1ms/step - loss: 0.3530 - accuracy: 0.8573\n",
            "Epoch 43/50\n",
            "250/250 [==============================] - 0s 1ms/step - loss: 0.3412 - accuracy: 0.8629\n",
            "Epoch 44/50\n",
            "250/250 [==============================] - 0s 1ms/step - loss: 0.3350 - accuracy: 0.8602\n",
            "Epoch 45/50\n",
            "250/250 [==============================] - 0s 1ms/step - loss: 0.3470 - accuracy: 0.8618\n",
            "Epoch 46/50\n",
            "250/250 [==============================] - 0s 1ms/step - loss: 0.3501 - accuracy: 0.8629\n",
            "Epoch 47/50\n",
            "250/250 [==============================] - 0s 1ms/step - loss: 0.3377 - accuracy: 0.8630\n",
            "Epoch 48/50\n",
            "250/250 [==============================] - 0s 1ms/step - loss: 0.3343 - accuracy: 0.8623\n",
            "Epoch 49/50\n",
            "250/250 [==============================] - 0s 1ms/step - loss: 0.3390 - accuracy: 0.8626\n",
            "Epoch 50/50\n",
            "250/250 [==============================] - 0s 1ms/step - loss: 0.3337 - accuracy: 0.8666\n"
          ],
          "name": "stdout"
        },
        {
          "output_type": "execute_result",
          "data": {
            "text/plain": [
              "<tensorflow.python.keras.callbacks.History at 0x7fe9cf4e7668>"
            ]
          },
          "metadata": {
            "tags": []
          },
          "execution_count": 63
        }
      ]
    },
    {
      "cell_type": "markdown",
      "metadata": {
        "id": "tJj5k2MxZga3"
      },
      "source": [
        "## Part 4 - Making the predictions and evaluating the model"
      ]
    },
    {
      "cell_type": "markdown",
      "metadata": {
        "id": "84QFoqGYeXHL"
      },
      "source": [
        "### Predicting the result of a single observation"
      ]
    },
    {
      "cell_type": "markdown",
      "metadata": {
        "id": "CGRo3eacgDdC"
      },
      "source": [
        "**Homework**\n",
        "\n",
        "Use our ANN model to predict if the customer with the following informations will leave the bank: \n",
        "\n",
        "Geography: France\n",
        "\n",
        "Credit Score: 600\n",
        "\n",
        "Gender: Male\n",
        "\n",
        "Age: 40 years old\n",
        "\n",
        "Tenure: 3 years\n",
        "\n",
        "Balance: \\$ 60000\n",
        "\n",
        "Number of Products: 2\n",
        "\n",
        "Does this customer have a credit card ? Yes\n",
        "\n",
        "Is this customer an Active Member: Yes\n",
        "\n",
        "Estimated Salary: \\$ 50000\n",
        "\n",
        "So, should we say goodbye to that customer ?"
      ]
    },
    {
      "cell_type": "markdown",
      "metadata": {
        "id": "ZhU1LTgPg-kH"
      },
      "source": [
        "**Solution**"
      ]
    },
    {
      "cell_type": "code",
      "metadata": {
        "id": "2d8IoCCkeWGL",
        "colab": {
          "base_uri": "https://localhost:8080/"
        },
        "outputId": "8322c98e-7473-43db-da5c-2f47c0516f5b"
      },
      "source": [
        "print(ann.predict(sc.transform([[1, 0, 0, 600, 1, 40, 3, 60000, 2, 1, 1, 50000]])) > 0.5)"
      ],
      "execution_count": 64,
      "outputs": [
        {
          "output_type": "stream",
          "text": [
            "[[False]]\n"
          ],
          "name": "stdout"
        }
      ]
    },
    {
      "cell_type": "markdown",
      "metadata": {
        "id": "wGjx94g2n7OV"
      },
      "source": [
        "Therefore, our ANN model predicts that this customer stays in the bank!\n",
        "\n",
        "**Important note 1:** Notice that the values of the features were all input in a double pair of square brackets. That's because the \"predict\" method always expects a 2D array as the format of its inputs. And putting our values into a double pair of square brackets makes the input exactly a 2D array.\n",
        "\n",
        "**Important note 2:** Notice also that the \"France\" country was not input as a string in the last column but as \"1, 0, 0\" in the first three columns. That's because of course the predict method expects the one-hot-encoded values of the state, and as we see in the first row of the matrix of features X, \"France\" was encoded as \"1, 0, 0\". And be careful to include these values in the first three columns, because the dummy variables are always created in the first columns."
      ]
    },
    {
      "cell_type": "markdown",
      "metadata": {
        "id": "u7yx47jPZt11"
      },
      "source": [
        "### Predicting the Test set results"
      ]
    },
    {
      "cell_type": "code",
      "metadata": {
        "id": "nIyEeQdRZwgs",
        "colab": {
          "base_uri": "https://localhost:8080/"
        },
        "outputId": "748e1263-7518-4974-9d79-b81e132cb8f4"
      },
      "source": [
        "y_pred = ann.predict(X_test)\n",
        "y_pred = (y_pred > 0.5)\n",
        "print(np.concatenate((y_pred.reshape(len(y_pred),1), y_test.reshape(len(y_test),1)),1))"
      ],
      "execution_count": 65,
      "outputs": [
        {
          "output_type": "stream",
          "text": [
            "[[0 0]\n",
            " [0 1]\n",
            " [0 0]\n",
            " ...\n",
            " [0 0]\n",
            " [0 0]\n",
            " [0 0]]\n"
          ],
          "name": "stdout"
        }
      ]
    },
    {
      "cell_type": "markdown",
      "metadata": {
        "id": "o0oyfLWoaEGw"
      },
      "source": [
        "### Making the Confusion Matrix"
      ]
    },
    {
      "cell_type": "code",
      "metadata": {
        "id": "ci6K_r6LaF6P",
        "colab": {
          "base_uri": "https://localhost:8080/"
        },
        "outputId": "047aaec7-f5bf-4595-dcc3-e082aac6a2e7"
      },
      "source": [
        "from sklearn.metrics import confusion_matrix, accuracy_score\n",
        "cm = confusion_matrix(y_test, y_pred)\n",
        "print(cm)\n",
        "accuracy_score(y_test, y_pred)"
      ],
      "execution_count": 66,
      "outputs": [
        {
          "output_type": "stream",
          "text": [
            "[[1500   95]\n",
            " [ 191  214]]\n"
          ],
          "name": "stdout"
        },
        {
          "output_type": "execute_result",
          "data": {
            "text/plain": [
              "0.857"
            ]
          },
          "metadata": {
            "tags": []
          },
          "execution_count": 66
        }
      ]
    }
  ]
}