{
  "nbformat": 4,
  "nbformat_minor": 0,
  "metadata": {
    "colab": {
      "name": "Image Classificaiton Model Templates.ipynb",
      "provenance": [],
      "collapsed_sections": [],
      "authorship_tag": "ABX9TyPzi8e6sg5bTHg4D+19U2Xw",
      "include_colab_link": true
    },
    "kernelspec": {
      "name": "python3",
      "display_name": "Python 3"
    }
  },
  "cells": [
    {
      "cell_type": "markdown",
      "metadata": {
        "id": "view-in-github",
        "colab_type": "text"
      },
      "source": [
        "<a href=\"https://colab.research.google.com/github/mcfatbeard57/Deep-Learning-Models/blob/main/Image_Classificaiton_Model_Templates.ipynb\" target=\"_parent\"><img src=\"https://colab.research.google.com/assets/colab-badge.svg\" alt=\"Open In Colab\"/></a>"
      ]
    },
    {
      "cell_type": "markdown",
      "metadata": {
        "id": "jrOC47HvY9oU"
      },
      "source": [
        "All Image classifciation models in keras such as :\r\n",
        "\r\n",
        "Xception\r\n",
        "\r\n",
        "VGG16\t, VGG19\t\r\n",
        "\r\n",
        "ResNet50,\tResNet101,\tResNet152,\tResNet50V2, ResNet101V2, ResNet152V2\r\n",
        "\r\n",
        "InceptionV3,\tInceptionResNetV2\t\r\n",
        "MobileNet,\tMobileNetV2\t\r\n",
        "DenseNet121,\tDenseNet169,\tDenseNet201\t\r\n",
        "NASNetMobile,\tNASNetLarge\r\n",
        "\r\n",
        "Please refer the below link"
      ]
    },
    {
      "cell_type": "markdown",
      "metadata": {
        "id": "E0R9HMVrY7zE"
      },
      "source": [
        "https://keras.io/api/applications/"
      ]
    },
    {
      "cell_type": "markdown",
      "metadata": {
        "id": "kx3qD2M0Z8Yx"
      },
      "source": [
        "# VGG16"
      ]
    },
    {
      "cell_type": "markdown",
      "metadata": {
        "id": "h30v1ufbZ-fi"
      },
      "source": [
        "### Imports"
      ]
    },
    {
      "cell_type": "code",
      "metadata": {
        "id": "8RgZcDqMYmbo"
      },
      "source": [
        "# Imports\r\n",
        "from keras.layers import Input, Lambda, Dense, Flatten\r\n",
        "from keras.models import Model\r\n",
        "from keras.applications.vgg16 import VGG16\r\n",
        "from keras.applications.vgg16 import preprocess_input\r\n",
        "from keras.preprocessing import image\r\n",
        "from keras.preprocessing.image import ImageDataGenerator\r\n",
        "from keras.models import Sequential\r\n",
        "import numpy as np\r\n",
        "from glob import glob\r\n",
        "import matplotlib.pyplot as plt\r\n"
      ],
      "execution_count": null,
      "outputs": []
    },
    {
      "cell_type": "code",
      "metadata": {
        "id": "T7lsW9sfZ7Th"
      },
      "source": [
        "# re-size all the images to this\r\n",
        "IMAGE_SIZE = [224, 224]"
      ],
      "execution_count": null,
      "outputs": []
    },
    {
      "cell_type": "code",
      "metadata": {
        "id": "Vrlja5BSaDFi"
      },
      "source": [
        "train_path = 'Datasets/Train'\r\n",
        "valid_path = 'Datasets/Test'"
      ],
      "execution_count": null,
      "outputs": []
    },
    {
      "cell_type": "code",
      "metadata": {
        "id": "V0Jyt03DaEMJ"
      },
      "source": [
        "# add preprocessing layer to the front of VGG\r\n",
        "vgg = VGG16(input_shape=IMAGE_SIZE + [3], weights='imagenet', include_top=False)\r\n",
        "\r\n",
        "# don't train existing weights\r\n",
        "for layer in vgg.layers:\r\n",
        "  layer.trainable = False"
      ],
      "execution_count": null,
      "outputs": []
    },
    {
      "cell_type": "code",
      "metadata": {
        "id": "6ge_RORSaIN4"
      },
      "source": [
        "# useful for getting number of classes\r\n",
        "folders = glob('Datasets/Train/*')"
      ],
      "execution_count": null,
      "outputs": []
    },
    {
      "cell_type": "code",
      "metadata": {
        "id": "y9uWSc1IaJmn"
      },
      "source": [
        "# our layers - you can add more if you want\r\n",
        "x = Flatten()(vgg.output)\r\n",
        "# x = Dense(1000, activation='relu')(x)\r\n",
        "prediction = Dense(len(folders), activation='softmax')(x)"
      ],
      "execution_count": null,
      "outputs": []
    },
    {
      "cell_type": "markdown",
      "metadata": {
        "id": "HfWFjE4iafLk"
      },
      "source": [
        "## create a model object"
      ]
    },
    {
      "cell_type": "code",
      "metadata": {
        "id": "LtINH6hDaLER"
      },
      "source": [
        "# create a model object\r\n",
        "model = Model(inputs=vgg.input, outputs=prediction)"
      ],
      "execution_count": null,
      "outputs": []
    },
    {
      "cell_type": "code",
      "metadata": {
        "id": "PlZMpdm-aMtQ"
      },
      "source": [
        "# view the structure of the model\r\n",
        "model.summary()"
      ],
      "execution_count": null,
      "outputs": []
    },
    {
      "cell_type": "markdown",
      "metadata": {
        "id": "td5PJRAlah8Z"
      },
      "source": [
        "### Model Compile"
      ]
    },
    {
      "cell_type": "code",
      "metadata": {
        "id": "_gfmA8MZaOXa"
      },
      "source": [
        "# tell the model what cost and optimization method to use\r\n",
        "model.compile(\r\n",
        "  loss='categorical_crossentropy',\r\n",
        "  optimizer='adam',\r\n",
        "  metrics=['accuracy']\r\n",
        ")"
      ],
      "execution_count": null,
      "outputs": []
    },
    {
      "cell_type": "code",
      "metadata": {
        "id": "6hONC336aQTp"
      },
      "source": [
        "from keras.preprocessing.image import ImageDataGenerator\r\n",
        "\r\n",
        "train_datagen = ImageDataGenerator(rescale = 1./255,\r\n",
        "                                   shear_range = 0.2,\r\n",
        "                                   zoom_range = 0.2,\r\n",
        "                                   horizontal_flip = True)\r\n",
        "\r\n",
        "test_datagen = ImageDataGenerator(rescale = 1./255)"
      ],
      "execution_count": null,
      "outputs": []
    },
    {
      "cell_type": "code",
      "metadata": {
        "id": "8Zo2SepWaSUY"
      },
      "source": [
        "training_set = train_datagen.flow_from_directory('Datasets/Train',\r\n",
        "                                                 target_size = (224, 224),\r\n",
        "                                                 batch_size = 32,\r\n",
        "                                                 class_mode = 'categorical')"
      ],
      "execution_count": null,
      "outputs": []
    },
    {
      "cell_type": "code",
      "metadata": {
        "id": "1zAhAXxaaTi_"
      },
      "source": [
        "test_set = test_datagen.flow_from_directory('Datasets/Test',\r\n",
        "                                            target_size = (224, 224),\r\n",
        "                                            batch_size = 32,\r\n",
        "                                            class_mode = 'categorical')"
      ],
      "execution_count": null,
      "outputs": []
    },
    {
      "cell_type": "code",
      "metadata": {
        "id": "RxlWAFMEaVxI"
      },
      "source": [
        "'''r=model.fit_generator(training_set,\r\n",
        "                         samples_per_epoch = 8000,\r\n",
        "                         nb_epoch = 5,\r\n",
        "                         validation_data = test_set,\r\n",
        "                         nb_val_samples = 2000)'''"
      ],
      "execution_count": null,
      "outputs": []
    },
    {
      "cell_type": "code",
      "metadata": {
        "id": "Fp62WWj1aX5I"
      },
      "source": [
        "# fit the model\r\n",
        "r = model.fit_generator(\r\n",
        "  training_set,\r\n",
        "  validation_data=test_set,\r\n",
        "  epochs=5,\r\n",
        "  steps_per_epoch=len(training_set),\r\n",
        "  validation_steps=len(test_set)\r\n",
        ")"
      ],
      "execution_count": null,
      "outputs": []
    },
    {
      "cell_type": "code",
      "metadata": {
        "id": "DZx8c3LmaZXx"
      },
      "source": [
        "# loss\r\n",
        "plt.plot(r.history['loss'], label='train loss')\r\n",
        "plt.plot(r.history['val_loss'], label='val loss')\r\n",
        "plt.legend()\r\n",
        "plt.show()\r\n",
        "plt.savefig('LossVal_loss')"
      ],
      "execution_count": null,
      "outputs": []
    },
    {
      "cell_type": "code",
      "metadata": {
        "id": "E9AQS8ndaaTh"
      },
      "source": [
        "# accuracies\r\n",
        "plt.plot(r.history['acc'], label='train acc')\r\n",
        "plt.plot(r.history['val_acc'], label='val acc')\r\n",
        "plt.legend()\r\n",
        "plt.show()\r\n",
        "plt.savefig('AccVal_acc')"
      ],
      "execution_count": null,
      "outputs": []
    },
    {
      "cell_type": "code",
      "metadata": {
        "id": "S_6UTlBbacBI"
      },
      "source": [
        "import tensorflow as tf\r\n",
        "\r\n",
        "from keras.models import load_model\r\n",
        "\r\n",
        "model.save('facefeatures_new_model.h5')"
      ],
      "execution_count": null,
      "outputs": []
    }
  ]
}