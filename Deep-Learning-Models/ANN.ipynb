{
  "nbformat": 4,
  "nbformat_minor": 0,
  "metadata": {
    "colab": {
      "name": "ANN.ipynb",
      "provenance": [],
      "collapsed_sections": [],
      "toc_visible": true,
      "authorship_tag": "ABX9TyNiCjxtz2RntiAa3sIH+/ZO",
      "include_colab_link": true
    },
    "kernelspec": {
      "name": "python3",
      "display_name": "Python 3"
    }
  },
  "cells": [
    {
      "cell_type": "markdown",
      "metadata": {
        "id": "view-in-github",
        "colab_type": "text"
      },
      "source": [
        "<a href=\"https://colab.research.google.com/github/mcfatbeard57/Deep-Learning-Models/blob/main/ANN.ipynb\" target=\"_parent\"><img src=\"https://colab.research.google.com/assets/colab-badge.svg\" alt=\"Open In Colab\"/></a>"
      ]
    },
    {
      "cell_type": "markdown",
      "metadata": {
        "id": "oaIp6PZEf4Nd"
      },
      "source": [
        "A Basic ANN Skelton"
      ]
    },
    {
      "cell_type": "markdown",
      "metadata": {
        "id": "_9F39jqlgcvM"
      },
      "source": [
        "## Imports\r\n",
        "\r\n"
      ]
    },
    {
      "cell_type": "code",
      "metadata": {
        "id": "Tmj-ntFhf21d"
      },
      "source": [
        "# Imports\r\n",
        "import keras\r\n",
        "from keras.models import Sequential\r\n",
        "from keras.layers import Dense\r\n",
        "from keras.layers import LeakyReLU,PReLU,ELU\r\n",
        "from keras.layers import Dropout"
      ],
      "execution_count": 1,
      "outputs": []
    },
    {
      "cell_type": "markdown",
      "metadata": {
        "id": "3KscvGmbglec"
      },
      "source": [
        "## Initialising the ANN"
      ]
    },
    {
      "cell_type": "code",
      "metadata": {
        "id": "jy4Yg_aSgNfd"
      },
      "source": [
        "# Initialising the ANN\r\n",
        "classifier = Sequential()"
      ],
      "execution_count": null,
      "outputs": []
    },
    {
      "cell_type": "code",
      "metadata": {
        "id": "ifaAGaUigVAU"
      },
      "source": [
        "# Adding the input layer and the first hidden layer\r\n",
        "classifier.add(Dense(units = 6, kernel_initializer = 'he_normal',activation='relu',input_dim = 11))"
      ],
      "execution_count": null,
      "outputs": []
    },
    {
      "cell_type": "code",
      "metadata": {
        "id": "6aMO5pUYuRTC"
      },
      "source": [
        "# Can also add dropout layer\r\n",
        "classifier.add(Dropout(0.3))"
      ],
      "execution_count": null,
      "outputs": []
    },
    {
      "cell_type": "code",
      "metadata": {
        "id": "ifUpVwUygWXL"
      },
      "source": [
        "# Adding the second hidden layer\r\n",
        "classifier.add(Dense(units = 6, kernel_initializer = 'he_uniform',activation='relu'))"
      ],
      "execution_count": null,
      "outputs": []
    },
    {
      "cell_type": "code",
      "metadata": {
        "id": "LnX-Aiq4uWLa"
      },
      "source": [
        "# Can also add dropout layer\r\n",
        "classifier.add(Dropout(0.3))"
      ],
      "execution_count": null,
      "outputs": []
    },
    {
      "cell_type": "code",
      "metadata": {
        "id": "QgXw8JMugqQS"
      },
      "source": [
        "# Adding the output layer\r\n",
        "classifier.add(Dense(units = 1, kernel_initializer = 'glorot_uniform', activation = 'sigmoid'))"
      ],
      "execution_count": null,
      "outputs": []
    },
    {
      "cell_type": "markdown",
      "metadata": {
        "id": "u15z7AH8gt9U"
      },
      "source": [
        "### Compiling the ANN"
      ]
    },
    {
      "cell_type": "code",
      "metadata": {
        "id": "ERLDt7UYgXgN"
      },
      "source": [
        "# Compiling the ANN\r\n",
        "classifier.compile(optimizer = 'Adamax', loss = 'binary_crossentropy', metrics = ['accuracy'])"
      ],
      "execution_count": null,
      "outputs": []
    },
    {
      "cell_type": "markdown",
      "metadata": {
        "id": "6xIpewPzgxcr"
      },
      "source": [
        "### Fitting the ANN to the Training set"
      ]
    },
    {
      "cell_type": "code",
      "metadata": {
        "id": "A4QZqsB3gsYM"
      },
      "source": [
        "# Fitting the ANN to the Training set\r\n",
        "model_history=classifier.fit(X_train, y_train,validation_split=0.33, batch_size = 10, nb_epoch = 100)"
      ],
      "execution_count": null,
      "outputs": []
    },
    {
      "cell_type": "markdown",
      "metadata": {
        "id": "BDVv8Vy9hAT0"
      },
      "source": [
        "### list all data in history"
      ]
    },
    {
      "cell_type": "code",
      "metadata": {
        "id": "YyTjaP7FgYlM"
      },
      "source": [
        "# list all data in history\r\n",
        "\r\n",
        "print(model_history.history.keys())\r\n",
        "# summarize history for accuracy\r\n",
        "plt.plot(model_history.history['acc'])\r\n",
        "plt.plot(model_history.history['val_acc'])\r\n",
        "plt.title('model accuracy')\r\n",
        "plt.ylabel('accuracy')\r\n",
        "plt.xlabel('epoch')\r\n",
        "plt.legend(['train', 'test'], loc='upper left')\r\n",
        "plt.show()"
      ],
      "execution_count": null,
      "outputs": []
    },
    {
      "cell_type": "code",
      "metadata": {
        "id": "-LiAzuvNgaO2"
      },
      "source": [
        "# summarize history for loss\r\n",
        "plt.plot(model_history.history['loss'])\r\n",
        "plt.plot(model_history.history['val_loss'])\r\n",
        "plt.title('model loss')\r\n",
        "plt.ylabel('loss')\r\n",
        "plt.xlabel('epoch')\r\n",
        "plt.legend(['train', 'test'], loc='upper left')\r\n",
        "plt.show()"
      ],
      "execution_count": null,
      "outputs": []
    },
    {
      "cell_type": "markdown",
      "metadata": {
        "id": "4PMTclCzhV4s"
      },
      "source": [
        "## Making the predictions and evaluating the model"
      ]
    },
    {
      "cell_type": "code",
      "metadata": {
        "id": "tgZqeWT6hWME"
      },
      "source": [
        "# Part 3 - Making the predictions and evaluating the model\r\n",
        "\r\n",
        "# Predicting the Test set results\r\n",
        "y_pred = classifier.predict(X_test)\r\n",
        "y_pred = (y_pred > 0.5)"
      ],
      "execution_count": null,
      "outputs": []
    },
    {
      "cell_type": "markdown",
      "metadata": {
        "id": "mIrbHqa0hbta"
      },
      "source": [
        "### Making the Confusion Matrix"
      ]
    },
    {
      "cell_type": "code",
      "metadata": {
        "id": "7yKtprTShavC"
      },
      "source": [
        "# Making the Confusion Matrix\r\n",
        "from sklearn.metrics import confusion_matrix\r\n",
        "cm = confusion_matrix(y_test, y_pred)"
      ],
      "execution_count": null,
      "outputs": []
    },
    {
      "cell_type": "markdown",
      "metadata": {
        "id": "vXlOsQeuhflE"
      },
      "source": [
        "### Calculate the Accuracy"
      ]
    },
    {
      "cell_type": "code",
      "metadata": {
        "id": "LhLK8Tarhe3j"
      },
      "source": [
        "# Calculate the Accuracy\r\n",
        "from sklearn.metrics import accuracy_score\r\n",
        "score=accuracy_score(y_pred,y_test)"
      ],
      "execution_count": null,
      "outputs": []
    }
  ]
}