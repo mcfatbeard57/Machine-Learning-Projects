{
 "cells": [
  {
   "cell_type": "code",
   "execution_count": 54,
   "metadata": {},
   "outputs": [],
   "source": [
    "temp = 134\n",
    "d = list()"
   ]
  },
  {
   "cell_type": "code",
   "execution_count": 55,
   "metadata": {},
   "outputs": [],
   "source": [
    "while (temp !=0):\n",
    "    d.append(temp%10)\n",
    "    temp//=10"
   ]
  },
  {
   "cell_type": "code",
   "execution_count": 56,
   "metadata": {},
   "outputs": [],
   "source": [
    "d = list(set(d))"
   ]
  },
  {
   "cell_type": "code",
   "execution_count": 57,
   "metadata": {},
   "outputs": [
    {
     "data": {
      "text/plain": [
       "[1, 3, 4]"
      ]
     },
     "execution_count": 57,
     "metadata": {},
     "output_type": "execute_result"
    }
   ],
   "source": [
    "d"
   ]
  },
  {
   "cell_type": "code",
   "execution_count": 58,
   "metadata": {},
   "outputs": [],
   "source": [
    "import itertools\n",
    "\n",
    "all_combo = []\n",
    "for L in range(0, len(d)+1):\n",
    "    for subset in itertools.combinations(d, L):\n",
    "        all_combo.append(subset)"
   ]
  },
  {
   "cell_type": "code",
   "execution_count": 112,
   "metadata": {},
   "outputs": [
    {
     "data": {
      "text/plain": [
       "[(), (1,), (3,), (4,), (1, 3), (1, 4), (3, 4), (1, 3, 4)]"
      ]
     },
     "execution_count": 112,
     "metadata": {},
     "output_type": "execute_result"
    }
   ],
   "source": [
    "all_combo"
   ]
  },
  {
   "cell_type": "code",
   "execution_count": 113,
   "metadata": {},
   "outputs": [],
   "source": [
    "new_num_list = []"
   ]
  },
  {
   "cell_type": "code",
   "execution_count": 114,
   "metadata": {},
   "outputs": [],
   "source": [
    "combination_list2 = []"
   ]
  },
  {
   "cell_type": "code",
   "execution_count": 115,
   "metadata": {
    "scrolled": true
   },
   "outputs": [],
   "source": [
    "for i in all_combo:\n",
    "    if len(i) == 0:\n",
    "        pass\n",
    "    elif len(i) == 1:\n",
    "        new_num_list.append(str(i[0]))\n",
    "    else:\n",
    "        new_str = ''\n",
    "        for j in range(len(i)):\n",
    "            new_str += str(i[j])\n",
    "        new_num_list.append(new_str) "
   ]
  },
  {
   "cell_type": "code",
   "execution_count": 116,
   "metadata": {},
   "outputs": [
    {
     "data": {
      "text/plain": [
       "['1', '3', '4', '13', '14', '34', '134']"
      ]
     },
     "execution_count": 116,
     "metadata": {},
     "output_type": "execute_result"
    }
   ],
   "source": [
    "new_num_list"
   ]
  },
  {
   "cell_type": "code",
   "execution_count": 15,
   "metadata": {},
   "outputs": [
    {
     "data": {
      "text/plain": [
       "<itertools.combinations at 0x2c5c409bb80>"
      ]
     },
     "execution_count": 15,
     "metadata": {},
     "output_type": "execute_result"
    }
   ],
   "source": [
    "itertools.combinations(d, 2)"
   ]
  },
  {
   "cell_type": "code",
   "execution_count": 83,
   "metadata": {},
   "outputs": [],
   "source": [
    "from itertools import permutations\n",
    "#print [''.join(p) for p in permutations(new_num_list)]"
   ]
  },
  {
   "cell_type": "code",
   "execution_count": 98,
   "metadata": {},
   "outputs": [],
   "source": [
    "perm_all = []"
   ]
  },
  {
   "cell_type": "code",
   "execution_count": 99,
   "metadata": {},
   "outputs": [],
   "source": [
    "for num in new_num_list:\n",
    "    perm = permutations(num)\n",
    "    perm_all.append(list(perm))"
   ]
  },
  {
   "cell_type": "code",
   "execution_count": 104,
   "metadata": {},
   "outputs": [],
   "source": [
    "sub_str = ''"
   ]
  },
  {
   "cell_type": "code",
   "execution_count": 117,
   "metadata": {},
   "outputs": [
    {
     "data": {
      "text/plain": [
       "[[('1', '3'), ('3', '1')],\n",
       " [('1', '4'), ('4', '1')],\n",
       " [('3', '4'), ('4', '3')],\n",
       " [('1', '3', '4'),\n",
       "  ('1', '4', '3'),\n",
       "  ('3', '1', '4'),\n",
       "  ('3', '4', '1'),\n",
       "  ('4', '1', '3'),\n",
       "  ('4', '3', '1')]]"
      ]
     },
     "execution_count": 117,
     "metadata": {},
     "output_type": "execute_result"
    }
   ],
   "source": [
    "perm_all"
   ]
  },
  {
   "cell_type": "code",
   "execution_count": 110,
   "metadata": {},
   "outputs": [],
   "source": [
    "final_list = []\n",
    "for i in list(perm_all):\n",
    "    for j in i:\n",
    "        for k in j:\n",
    "            sub_str+=k\n",
    "        final_list.append(int(sub_str))\n",
    "        sub_str = ''"
   ]
  },
  {
   "cell_type": "code",
   "execution_count": 111,
   "metadata": {},
   "outputs": [
    {
     "data": {
      "text/plain": [
       "[13, 31, 14, 41, 34, 43, 134, 143, 314, 341, 413, 431]"
      ]
     },
     "execution_count": 111,
     "metadata": {},
     "output_type": "execute_result"
    }
   ],
   "source": [
    "final_list"
   ]
  },
  {
   "cell_type": "code",
   "execution_count": null,
   "metadata": {},
   "outputs": [],
   "source": []
  },
  {
   "cell_type": "code",
   "execution_count": null,
   "metadata": {},
   "outputs": [],
   "source": []
  },
  {
   "cell_type": "code",
   "execution_count": null,
   "metadata": {},
   "outputs": [],
   "source": []
  },
  {
   "cell_type": "code",
   "execution_count": null,
   "metadata": {},
   "outputs": [],
   "source": []
  },
  {
   "cell_type": "code",
   "execution_count": null,
   "metadata": {},
   "outputs": [],
   "source": []
  },
  {
   "cell_type": "code",
   "execution_count": null,
   "metadata": {},
   "outputs": [],
   "source": []
  },
  {
   "cell_type": "code",
   "execution_count": null,
   "metadata": {},
   "outputs": [],
   "source": []
  },
  {
   "cell_type": "code",
   "execution_count": 70,
   "metadata": {},
   "outputs": [
    {
     "data": {
      "text/plain": [
       "[1, 3, 4]"
      ]
     },
     "execution_count": 70,
     "metadata": {},
     "output_type": "execute_result"
    }
   ],
   "source": [
    "combination_list2"
   ]
  },
  {
   "cell_type": "code",
   "execution_count": 42,
   "metadata": {},
   "outputs": [],
   "source": [
    "final_list = []"
   ]
  },
  {
   "cell_type": "code",
   "execution_count": 68,
   "metadata": {},
   "outputs": [],
   "source": []
  },
  {
   "cell_type": "code",
   "execution_count": 43,
   "metadata": {},
   "outputs": [],
   "source": [
    "combination_list = [11,12,13,14,1]"
   ]
  },
  {
   "cell_type": "code",
   "execution_count": 44,
   "metadata": {},
   "outputs": [],
   "source": [
    "def check    \n",
    "    for num in combination_list:\n",
    "        if num > 1:\n",
    "            for i in range(2, int(num/2)+1):\n",
    "                    if (num%i) == 0:\n",
    "                        # number is not prime adn move on to next number\n",
    "                        break\n",
    "            else:\n",
    "                  final_list.append(num)"
   ]
  },
  {
   "cell_type": "code",
   "execution_count": 45,
   "metadata": {},
   "outputs": [
    {
     "data": {
      "text/plain": [
       "[11, 13]"
      ]
     },
     "execution_count": 45,
     "metadata": {},
     "output_type": "execute_result"
    }
   ],
   "source": [
    "final_list"
   ]
  },
  {
   "cell_type": "code",
   "execution_count": 92,
   "metadata": {},
   "outputs": [
    {
     "data": {
      "text/plain": [
       "111"
      ]
     },
     "execution_count": 92,
     "metadata": {},
     "output_type": "execute_result"
    }
   ],
   "source": [
    "111"
   ]
  },
  {
   "cell_type": "code",
   "execution_count": 93,
   "metadata": {},
   "outputs": [
    {
     "data": {
      "text/plain": [
       "11"
      ]
     },
     "execution_count": 93,
     "metadata": {},
     "output_type": "execute_result"
    }
   ],
   "source": [
    "11"
   ]
  },
  {
   "cell_type": "code",
   "execution_count": 94,
   "metadata": {},
   "outputs": [
    {
     "data": {
      "text/plain": [
       "1"
      ]
     },
     "execution_count": 94,
     "metadata": {},
     "output_type": "execute_result"
    }
   ],
   "source": [
    "1"
   ]
  },
  {
   "cell_type": "code",
   "execution_count": null,
   "metadata": {},
   "outputs": [],
   "source": []
  },
  {
   "cell_type": "code",
   "execution_count": 119,
   "metadata": {},
   "outputs": [],
   "source": [
    "def PrimalGear(numberValue):\n",
    "    # breaking the input number and getting each number separetly in list d\n",
    "    temp = numberValue\n",
    "    d = list()\n",
    "    while (temp !=0):\n",
    "        d.append(temp%10)\n",
    "        temp//=10\n",
    "    d = list(set(d))\n",
    "    \n",
    "    # Create different combinations of the numbers and store them into all_combo\n",
    "    # We got tuples of varying length of all the possible digits of our number\n",
    "    all_combo = []\n",
    "    for L in range(0,len(d)+1):\n",
    "        for subset in itertools.combinations(d,L):\n",
    "            all_combo.append(subset)\n",
    "    \n",
    "    # Now converting tuples into the list of strings\n",
    "    new_num_list = []\n",
    "    for i in all_combo:\n",
    "        if len(i) == 0:\n",
    "            pass\n",
    "       \telif len(i) == 1:\n",
    "            new_num_list.append(str(i[0]))\n",
    "        else:\n",
    "            new_str = ''\n",
    "            for j in range(len(i)):\n",
    "                new_str+= str(i[j])\n",
    "            new_num_list.append(new_str)\n",
    "        \n",
    "    # Find all permutaions of each number string\n",
    "    perm_all = []\n",
    "    for num in new_num_list:\n",
    "        perm = permutations(num)\n",
    "        perm_all.append(list(perm))\n",
    "    \n",
    "    # joining each combination to a number form and storing them into combination_list\n",
    "    sub_str = ''\n",
    "    combination_list = []\n",
    "    for i in list(perm_all):\n",
    "        for j in i:\n",
    "            for k in j:\n",
    "                sub_str += k\n",
    "            combination_list.append(int(sub_str))\n",
    "            sub_str = ''\n",
    "\n",
    "    # final_list contains all my prime numbers from combination_list\n",
    "    final_list = []\n",
    "    \n",
    "    # Checking all numbers from final list if they are prime or not\n",
    "    for num in combination_list:\n",
    "        if num > 1:\n",
    "            for i in range(2, int(num/2)+1):\n",
    "                if (num%i) == 0:\n",
    "                    # number is not prime adn move on to next number\n",
    "                    break\n",
    "            else:\n",
    "                final_list.append(num)\n",
    "    return len(final_list)"
   ]
  },
  {
   "cell_type": "code",
   "execution_count": 137,
   "metadata": {},
   "outputs": [],
   "source": [
    "result = PrimalGear(int(123.312))"
   ]
  },
  {
   "cell_type": "code",
   "execution_count": 138,
   "metadata": {},
   "outputs": [
    {
     "data": {
      "text/plain": [
       "5"
      ]
     },
     "execution_count": 138,
     "metadata": {},
     "output_type": "execute_result"
    }
   ],
   "source": [
    "result"
   ]
  },
  {
   "cell_type": "code",
   "execution_count": null,
   "metadata": {},
   "outputs": [],
   "source": [
    "# your code goes here\n",
    "from itertools import permutations\n",
    "import itertools\n",
    "def PrimalGear(numberValue):\n",
    "    # breaking the input number and getting each number separetly in list d\n",
    "    temp = numberValue\n",
    "    d = list()\n",
    "    while (temp !=0):\n",
    "        d.append(temp%10)\n",
    "        temp//=10\n",
    "    d = list(set(d))\n",
    "    \n",
    "    # Create different combinations of the numbers and store them into all_combo\n",
    "    # We got tuples of varying length of all the possible digits of our number\n",
    "    all_combo = []\n",
    "    for L in range(0,len(d)+1):\n",
    "        for subset in itertools.combinations(d,L):\n",
    "            all_combo.append(subset)\n",
    "    \n",
    "    # Now converting tuples into the list of strings\n",
    "    new_num_list = []\n",
    "    for i in all_combo:\n",
    "        if len(i) == 0:\n",
    "            pass\n",
    "       \telif len(i) == 1:\n",
    "            new_num_list.append(str(i[0]))\n",
    "        else:\n",
    "            new_str = ''\n",
    "            for j in range(len(i)):\n",
    "                new_str+= str(i[j])\n",
    "            new_num_list.append(new_str)\n",
    "        \n",
    "    # Find all permutaions of each number string\n",
    "    perm_all = []\n",
    "    for num in new_num_list:\n",
    "        perm = permutations(num)\n",
    "        perm_all.append(list(perm))\n",
    "    \n",
    "    # joining each combination to a number form and storing them into combination_list\n",
    "    sub_str = ''\n",
    "    combination_list = []\n",
    "    for i in list(perm_all):\n",
    "        for j in i:\n",
    "            for k in j:\n",
    "                sub_str += k\n",
    "            combination_list.append(int(sub_str))\n",
    "            sub_str = ''\n",
    "\n",
    "    # final_list contains all my prime numbers from combination_list\n",
    "    final_list = []\n",
    "    \n",
    "    # Checking all numbers from final list if they are prime or not\n",
    "    for num in combination_list:\n",
    "        if num > 1:\n",
    "            for i in range(2, int(num/2)+1):\n",
    "                if (num%i) == 0:\n",
    "                    # number is not prime adn move on to next number\n",
    "                    break\n",
    "            else:\n",
    "                final_list.append(num)\n",
    "    return len(final_list)\n",
    "\t \n",
    "if __name__ == '__main__':\n",
    "    # numberVal = 177\n",
    "    result = PrimalGear(int(144))\n",
    "    print(result)"
   ]
  },
  {
   "cell_type": "code",
   "execution_count": null,
   "metadata": {},
   "outputs": [],
   "source": []
  },
  {
   "cell_type": "code",
   "execution_count": null,
   "metadata": {},
   "outputs": [],
   "source": []
  },
  {
   "cell_type": "code",
   "execution_count": 1,
   "metadata": {},
   "outputs": [],
   "source": [
    "import pandas as pd"
   ]
  },
  {
   "cell_type": "code",
   "execution_count": null,
   "metadata": {},
   "outputs": [],
   "source": []
  },
  {
   "cell_type": "code",
   "execution_count": 2,
   "metadata": {},
   "outputs": [],
   "source": [
    "df = pd.DataFrame(columns = ['Status', 'No_of_likes', 'Friend_type'])"
   ]
  },
  {
   "cell_type": "code",
   "execution_count": 3,
   "metadata": {},
   "outputs": [
    {
     "data": {
      "text/html": [
       "<div>\n",
       "<style scoped>\n",
       "    .dataframe tbody tr th:only-of-type {\n",
       "        vertical-align: middle;\n",
       "    }\n",
       "\n",
       "    .dataframe tbody tr th {\n",
       "        vertical-align: top;\n",
       "    }\n",
       "\n",
       "    .dataframe thead th {\n",
       "        text-align: right;\n",
       "    }\n",
       "</style>\n",
       "<table border=\"1\" class=\"dataframe\">\n",
       "  <thead>\n",
       "    <tr style=\"text-align: right;\">\n",
       "      <th></th>\n",
       "      <th>Status</th>\n",
       "      <th>No_of_likes</th>\n",
       "      <th>Friend_type</th>\n",
       "    </tr>\n",
       "  </thead>\n",
       "  <tbody>\n",
       "  </tbody>\n",
       "</table>\n",
       "</div>"
      ],
      "text/plain": [
       "Empty DataFrame\n",
       "Columns: [Status, No_of_likes, Friend_type]\n",
       "Index: []"
      ]
     },
     "execution_count": 3,
     "metadata": {},
     "output_type": "execute_result"
    }
   ],
   "source": [
    "df"
   ]
  },
  {
   "cell_type": "code",
   "execution_count": 4,
   "metadata": {},
   "outputs": [],
   "source": [
    "sample_input = [[\"Hello World\",25,\"CF\"],[\"Moving to NEW YORK\",45,\"F\"],[\"Scala is Great\",100,\"CF\"],[\"ML & DL Gaining Traction\",10,\"CF\"],[\"ML and DL can be applied to medical domain\",155,\"F\"],[\"Data is new OIL\",20,\"CF\"],[\"Movie Night\",200,\"F\"]]"
   ]
  },
  {
   "cell_type": "code",
   "execution_count": 8,
   "metadata": {},
   "outputs": [],
   "source": [
    "for i in sample_input:\n",
    "    df.loc[len(df.index)] = i"
   ]
  },
  {
   "cell_type": "code",
   "execution_count": 10,
   "metadata": {},
   "outputs": [
    {
     "data": {
      "text/html": [
       "<div>\n",
       "<style scoped>\n",
       "    .dataframe tbody tr th:only-of-type {\n",
       "        vertical-align: middle;\n",
       "    }\n",
       "\n",
       "    .dataframe tbody tr th {\n",
       "        vertical-align: top;\n",
       "    }\n",
       "\n",
       "    .dataframe thead th {\n",
       "        text-align: right;\n",
       "    }\n",
       "</style>\n",
       "<table border=\"1\" class=\"dataframe\">\n",
       "  <thead>\n",
       "    <tr style=\"text-align: right;\">\n",
       "      <th></th>\n",
       "      <th>Status</th>\n",
       "      <th>No_of_likes</th>\n",
       "      <th>Friend_type</th>\n",
       "    </tr>\n",
       "  </thead>\n",
       "  <tbody>\n",
       "    <tr>\n",
       "      <th>0</th>\n",
       "      <td>Hello World</td>\n",
       "      <td>25</td>\n",
       "      <td>CF</td>\n",
       "    </tr>\n",
       "    <tr>\n",
       "      <th>1</th>\n",
       "      <td>Moving to NEW YORK</td>\n",
       "      <td>45</td>\n",
       "      <td>F</td>\n",
       "    </tr>\n",
       "    <tr>\n",
       "      <th>2</th>\n",
       "      <td>Scala is Great</td>\n",
       "      <td>100</td>\n",
       "      <td>CF</td>\n",
       "    </tr>\n",
       "    <tr>\n",
       "      <th>3</th>\n",
       "      <td>ML &amp; DL Gaining Traction</td>\n",
       "      <td>10</td>\n",
       "      <td>CF</td>\n",
       "    </tr>\n",
       "    <tr>\n",
       "      <th>4</th>\n",
       "      <td>ML and DL can be applied to medical domain</td>\n",
       "      <td>155</td>\n",
       "      <td>F</td>\n",
       "    </tr>\n",
       "    <tr>\n",
       "      <th>5</th>\n",
       "      <td>Data is new OIL</td>\n",
       "      <td>20</td>\n",
       "      <td>CF</td>\n",
       "    </tr>\n",
       "    <tr>\n",
       "      <th>6</th>\n",
       "      <td>Movie Night</td>\n",
       "      <td>200</td>\n",
       "      <td>F</td>\n",
       "    </tr>\n",
       "  </tbody>\n",
       "</table>\n",
       "</div>"
      ],
      "text/plain": [
       "                                       Status No_of_likes Friend_type\n",
       "0                                 Hello World          25          CF\n",
       "1                          Moving to NEW YORK          45           F\n",
       "2                              Scala is Great         100          CF\n",
       "3                    ML & DL Gaining Traction          10          CF\n",
       "4  ML and DL can be applied to medical domain         155           F\n",
       "5                             Data is new OIL          20          CF\n",
       "6                                 Movie Night         200           F"
      ]
     },
     "execution_count": 10,
     "metadata": {},
     "output_type": "execute_result"
    }
   ],
   "source": [
    "df"
   ]
  },
  {
   "cell_type": "code",
   "execution_count": 11,
   "metadata": {},
   "outputs": [],
   "source": [
    "df2 = pd.DataFrame(sample_input, columns=['Status', 'No_of_likes', 'Friend_type'])"
   ]
  },
  {
   "cell_type": "code",
   "execution_count": 12,
   "metadata": {},
   "outputs": [
    {
     "data": {
      "text/html": [
       "<div>\n",
       "<style scoped>\n",
       "    .dataframe tbody tr th:only-of-type {\n",
       "        vertical-align: middle;\n",
       "    }\n",
       "\n",
       "    .dataframe tbody tr th {\n",
       "        vertical-align: top;\n",
       "    }\n",
       "\n",
       "    .dataframe thead th {\n",
       "        text-align: right;\n",
       "    }\n",
       "</style>\n",
       "<table border=\"1\" class=\"dataframe\">\n",
       "  <thead>\n",
       "    <tr style=\"text-align: right;\">\n",
       "      <th></th>\n",
       "      <th>Status</th>\n",
       "      <th>No_of_likes</th>\n",
       "      <th>Friend_type</th>\n",
       "    </tr>\n",
       "  </thead>\n",
       "  <tbody>\n",
       "    <tr>\n",
       "      <th>0</th>\n",
       "      <td>Hello World</td>\n",
       "      <td>25</td>\n",
       "      <td>CF</td>\n",
       "    </tr>\n",
       "    <tr>\n",
       "      <th>1</th>\n",
       "      <td>Moving to NEW YORK</td>\n",
       "      <td>45</td>\n",
       "      <td>F</td>\n",
       "    </tr>\n",
       "    <tr>\n",
       "      <th>2</th>\n",
       "      <td>Scala is Great</td>\n",
       "      <td>100</td>\n",
       "      <td>CF</td>\n",
       "    </tr>\n",
       "    <tr>\n",
       "      <th>3</th>\n",
       "      <td>ML &amp; DL Gaining Traction</td>\n",
       "      <td>10</td>\n",
       "      <td>CF</td>\n",
       "    </tr>\n",
       "    <tr>\n",
       "      <th>4</th>\n",
       "      <td>ML and DL can be applied to medical domain</td>\n",
       "      <td>155</td>\n",
       "      <td>F</td>\n",
       "    </tr>\n",
       "    <tr>\n",
       "      <th>5</th>\n",
       "      <td>Data is new OIL</td>\n",
       "      <td>20</td>\n",
       "      <td>CF</td>\n",
       "    </tr>\n",
       "    <tr>\n",
       "      <th>6</th>\n",
       "      <td>Movie Night</td>\n",
       "      <td>200</td>\n",
       "      <td>F</td>\n",
       "    </tr>\n",
       "  </tbody>\n",
       "</table>\n",
       "</div>"
      ],
      "text/plain": [
       "                                       Status  No_of_likes Friend_type\n",
       "0                                 Hello World           25          CF\n",
       "1                          Moving to NEW YORK           45           F\n",
       "2                              Scala is Great          100          CF\n",
       "3                    ML & DL Gaining Traction           10          CF\n",
       "4  ML and DL can be applied to medical domain          155           F\n",
       "5                             Data is new OIL           20          CF\n",
       "6                                 Movie Night          200           F"
      ]
     },
     "execution_count": 12,
     "metadata": {},
     "output_type": "execute_result"
    }
   ],
   "source": [
    "df2"
   ]
  },
  {
   "cell_type": "code",
   "execution_count": null,
   "metadata": {},
   "outputs": [],
   "source": [
    "\"Scala is Great,\n",
    "Hello World,\n",
    "Data is new OIL,\n",
    "ML & DL Gaining Traction,\n",
    "Movie Night,\n",
    "ML and DL can be applied to medical domain,\n",
    "Moving to NEW YORK\""
   ]
  },
  {
   "cell_type": "code",
   "execution_count": 23,
   "metadata": {},
   "outputs": [],
   "source": [
    "df3 = df2.sort_values(['Friend_type'])"
   ]
  },
  {
   "cell_type": "code",
   "execution_count": 24,
   "metadata": {
    "scrolled": true
   },
   "outputs": [
    {
     "data": {
      "text/html": [
       "<div>\n",
       "<style scoped>\n",
       "    .dataframe tbody tr th:only-of-type {\n",
       "        vertical-align: middle;\n",
       "    }\n",
       "\n",
       "    .dataframe tbody tr th {\n",
       "        vertical-align: top;\n",
       "    }\n",
       "\n",
       "    .dataframe thead th {\n",
       "        text-align: right;\n",
       "    }\n",
       "</style>\n",
       "<table border=\"1\" class=\"dataframe\">\n",
       "  <thead>\n",
       "    <tr style=\"text-align: right;\">\n",
       "      <th></th>\n",
       "      <th>Status</th>\n",
       "      <th>No_of_likes</th>\n",
       "      <th>Friend_type</th>\n",
       "    </tr>\n",
       "  </thead>\n",
       "  <tbody>\n",
       "    <tr>\n",
       "      <th>0</th>\n",
       "      <td>Hello World</td>\n",
       "      <td>25</td>\n",
       "      <td>CF</td>\n",
       "    </tr>\n",
       "    <tr>\n",
       "      <th>2</th>\n",
       "      <td>Scala is Great</td>\n",
       "      <td>100</td>\n",
       "      <td>CF</td>\n",
       "    </tr>\n",
       "    <tr>\n",
       "      <th>3</th>\n",
       "      <td>ML &amp; DL Gaining Traction</td>\n",
       "      <td>10</td>\n",
       "      <td>CF</td>\n",
       "    </tr>\n",
       "    <tr>\n",
       "      <th>5</th>\n",
       "      <td>Data is new OIL</td>\n",
       "      <td>20</td>\n",
       "      <td>CF</td>\n",
       "    </tr>\n",
       "    <tr>\n",
       "      <th>1</th>\n",
       "      <td>Moving to NEW YORK</td>\n",
       "      <td>45</td>\n",
       "      <td>F</td>\n",
       "    </tr>\n",
       "    <tr>\n",
       "      <th>4</th>\n",
       "      <td>ML and DL can be applied to medical domain</td>\n",
       "      <td>155</td>\n",
       "      <td>F</td>\n",
       "    </tr>\n",
       "    <tr>\n",
       "      <th>6</th>\n",
       "      <td>Movie Night</td>\n",
       "      <td>200</td>\n",
       "      <td>F</td>\n",
       "    </tr>\n",
       "  </tbody>\n",
       "</table>\n",
       "</div>"
      ],
      "text/plain": [
       "                                       Status  No_of_likes Friend_type\n",
       "0                                 Hello World           25          CF\n",
       "2                              Scala is Great          100          CF\n",
       "3                    ML & DL Gaining Traction           10          CF\n",
       "5                             Data is new OIL           20          CF\n",
       "1                          Moving to NEW YORK           45           F\n",
       "4  ML and DL can be applied to medical domain          155           F\n",
       "6                                 Movie Night          200           F"
      ]
     },
     "execution_count": 24,
     "metadata": {},
     "output_type": "execute_result"
    }
   ],
   "source": [
    "df3"
   ]
  },
  {
   "cell_type": "code",
   "execution_count": 29,
   "metadata": {},
   "outputs": [],
   "source": [
    "#df3.groupby(by = 'Friend_type')"
   ]
  },
  {
   "cell_type": "code",
   "execution_count": null,
   "metadata": {},
   "outputs": [],
   "source": []
  },
  {
   "cell_type": "code",
   "execution_count": null,
   "metadata": {},
   "outputs": [],
   "source": []
  },
  {
   "cell_type": "code",
   "execution_count": 35,
   "metadata": {},
   "outputs": [
    {
     "data": {
      "text/html": [
       "<div>\n",
       "<style scoped>\n",
       "    .dataframe tbody tr th:only-of-type {\n",
       "        vertical-align: middle;\n",
       "    }\n",
       "\n",
       "    .dataframe tbody tr th {\n",
       "        vertical-align: top;\n",
       "    }\n",
       "\n",
       "    .dataframe thead th {\n",
       "        text-align: right;\n",
       "    }\n",
       "</style>\n",
       "<table border=\"1\" class=\"dataframe\">\n",
       "  <thead>\n",
       "    <tr style=\"text-align: right;\">\n",
       "      <th></th>\n",
       "      <th>Status</th>\n",
       "      <th>No_of_likes</th>\n",
       "      <th>Friend_type</th>\n",
       "    </tr>\n",
       "  </thead>\n",
       "  <tbody>\n",
       "    <tr>\n",
       "      <th>2</th>\n",
       "      <td>Scala is Great</td>\n",
       "      <td>100</td>\n",
       "      <td>CF</td>\n",
       "    </tr>\n",
       "    <tr>\n",
       "      <th>0</th>\n",
       "      <td>Hello World</td>\n",
       "      <td>25</td>\n",
       "      <td>CF</td>\n",
       "    </tr>\n",
       "    <tr>\n",
       "      <th>5</th>\n",
       "      <td>Data is new OIL</td>\n",
       "      <td>20</td>\n",
       "      <td>CF</td>\n",
       "    </tr>\n",
       "    <tr>\n",
       "      <th>3</th>\n",
       "      <td>ML &amp; DL Gaining Traction</td>\n",
       "      <td>10</td>\n",
       "      <td>CF</td>\n",
       "    </tr>\n",
       "    <tr>\n",
       "      <th>6</th>\n",
       "      <td>Movie Night</td>\n",
       "      <td>200</td>\n",
       "      <td>F</td>\n",
       "    </tr>\n",
       "    <tr>\n",
       "      <th>4</th>\n",
       "      <td>ML and DL can be applied to medical domain</td>\n",
       "      <td>155</td>\n",
       "      <td>F</td>\n",
       "    </tr>\n",
       "    <tr>\n",
       "      <th>1</th>\n",
       "      <td>Moving to NEW YORK</td>\n",
       "      <td>45</td>\n",
       "      <td>F</td>\n",
       "    </tr>\n",
       "  </tbody>\n",
       "</table>\n",
       "</div>"
      ],
      "text/plain": [
       "                                       Status  No_of_likes Friend_type\n",
       "2                              Scala is Great          100          CF\n",
       "0                                 Hello World           25          CF\n",
       "5                             Data is new OIL           20          CF\n",
       "3                    ML & DL Gaining Traction           10          CF\n",
       "6                                 Movie Night          200           F\n",
       "4  ML and DL can be applied to medical domain          155           F\n",
       "1                          Moving to NEW YORK           45           F"
      ]
     },
     "execution_count": 35,
     "metadata": {},
     "output_type": "execute_result"
    }
   ],
   "source": [
    "df4= df3.sort_values(by = ['Friend_type','No_of_likes'], ascending =(True,False))\n",
    "df4"
   ]
  },
  {
   "cell_type": "code",
   "execution_count": 36,
   "metadata": {},
   "outputs": [],
   "source": [
    "# \"Scala is Great,\n",
    "# Hello World,\n",
    "# Data is new OIL,\n",
    "# ML & DL Gaining Traction,\n",
    "# Movie Night,\n",
    "# ML and DL can be applied to medical domain,\n",
    "# Moving to NEW YORK\""
   ]
  },
  {
   "cell_type": "code",
   "execution_count": null,
   "metadata": {},
   "outputs": [],
   "source": []
  },
  {
   "cell_type": "code",
   "execution_count": null,
   "metadata": {},
   "outputs": [],
   "source": [
    "\"Scala is Great,Hello World,Data is new OIL,ML & DL Gaining Traction,Movie Night,ML and DL can be applied to medical domain,Moving to NEW YORK\""
   ]
  },
  {
   "cell_type": "code",
   "execution_count": 52,
   "metadata": {},
   "outputs": [],
   "source": [
    "x = df4['Status'].to_string(header=False,\n",
    "                  index=False\n",
    "                  ).split('\\n')"
   ]
  },
  {
   "cell_type": "code",
   "execution_count": 53,
   "metadata": {},
   "outputs": [
    {
     "data": {
      "text/plain": [
       "['                             Scala is Great',\n",
       " '                                Hello World',\n",
       " '                            Data is new OIL',\n",
       " '                   ML & DL Gaining Traction',\n",
       " '                                Movie Night',\n",
       " ' ML and DL can be applied to medical domain',\n",
       " '                         Moving to NEW YORK']"
      ]
     },
     "execution_count": 53,
     "metadata": {},
     "output_type": "execute_result"
    }
   ],
   "source": [
    "x"
   ]
  },
  {
   "cell_type": "code",
   "execution_count": 58,
   "metadata": {},
   "outputs": [
    {
     "name": "stdout",
     "output_type": "stream",
     "text": [
      "['                             Scala is Great', '                                Hello World', '                            Data is new OIL', '                   ML & DL Gaining Traction', '                                Movie Night', ' ML and DL can be applied to medical domain', '                         Moving to NEW YORK']\n"
     ]
    }
   ],
   "source": [
    "print(x)"
   ]
  },
  {
   "cell_type": "code",
   "execution_count": 62,
   "metadata": {},
   "outputs": [],
   "source": [
    "import re\n",
    "  \n",
    "def remove(string):\n",
    "    pattern = re.compile(r'\\s+')\n",
    "    return re.sub(pattern, '', string)"
   ]
  },
  {
   "cell_type": "code",
   "execution_count": null,
   "metadata": {},
   "outputs": [],
   "source": [
    "print(remove(string)"
   ]
  },
  {
   "cell_type": "code",
   "execution_count": null,
   "metadata": {},
   "outputs": [],
   "source": [
    "#vals = [','.join(ele.split()) for ele in x]"
   ]
  },
  {
   "cell_type": "code",
   "execution_count": 67,
   "metadata": {},
   "outputs": [],
   "source": [
    "value = []\n",
    "for i in x:\n",
    "    value.append(remove(i))"
   ]
  },
  {
   "cell_type": "code",
   "execution_count": 69,
   "metadata": {},
   "outputs": [],
   "source": [
    "value = []\n",
    "for i in x:\n",
    "    value.append(i.strip())"
   ]
  },
  {
   "cell_type": "code",
   "execution_count": 72,
   "metadata": {},
   "outputs": [
    {
     "name": "stdout",
     "output_type": "stream",
     "text": [
      "'Scala is Great', 'Hello World', 'Data is new OIL', 'ML & DL Gaining Traction', 'Movie Night', 'ML and DL can be applied to medical domain', 'Moving to NEW YORK'\n"
     ]
    }
   ],
   "source": [
    "print(str(value)[1:-1])"
   ]
  },
  {
   "cell_type": "markdown",
   "metadata": {},
   "source": [
    "\"Scala is Great,Hello World,Data is new OIL,ML & DL Gaining Traction,Movie Night,ML and DL can be applied to medical domain,Moving to NEW YORK\""
   ]
  },
  {
   "cell_type": "code",
   "execution_count": null,
   "metadata": {},
   "outputs": [],
   "source": [
    "for i in "
   ]
  },
  {
   "cell_type": "code",
   "execution_count": null,
   "metadata": {},
   "outputs": [],
   "source": []
  },
  {
   "cell_type": "code",
   "execution_count": null,
   "metadata": {},
   "outputs": [],
   "source": []
  },
  {
   "cell_type": "code",
   "execution_count": 78,
   "metadata": {},
   "outputs": [],
   "source": [
    "str1 = ''"
   ]
  },
  {
   "cell_type": "code",
   "execution_count": 85,
   "metadata": {},
   "outputs": [
    {
     "name": "stdout",
     "output_type": "stream",
     "text": [
      "Scala is Great\n",
      "Hello World\n",
      "Data is new OIL\n",
      "ML & DL Gaining Traction\n",
      "Movie Night\n",
      "ML and DL can be applied to medical domain\n",
      "Moving to NEW YORK\n"
     ]
    }
   ],
   "source": [
    "str2= ''\n",
    "for i in value:\n",
    "    print(i)\n",
    "    #str1.add(i)\n",
    "    str1 = i + ','\n",
    "    str2 += str1"
   ]
  },
  {
   "cell_type": "code",
   "execution_count": 86,
   "metadata": {},
   "outputs": [
    {
     "data": {
      "text/plain": [
       "'Scala is Great,Hello World,Data is new OIL,ML & DL Gaining Traction,Movie Night,ML and DL can be applied to medical domain,Moving to NEW YORK,'"
      ]
     },
     "execution_count": 86,
     "metadata": {},
     "output_type": "execute_result"
    }
   ],
   "source": [
    "str2"
   ]
  },
  {
   "cell_type": "code",
   "execution_count": null,
   "metadata": {},
   "outputs": [],
   "source": []
  },
  {
   "cell_type": "code",
   "execution_count": 64,
   "metadata": {},
   "outputs": [],
   "source": [
    "value  = [lambda y : remove(y) for y in x]"
   ]
  },
  {
   "cell_type": "code",
   "execution_count": 65,
   "metadata": {},
   "outputs": [
    {
     "data": {
      "text/plain": [
       "[<function __main__.<listcomp>.<lambda>(y)>,\n",
       " <function __main__.<listcomp>.<lambda>(y)>,\n",
       " <function __main__.<listcomp>.<lambda>(y)>,\n",
       " <function __main__.<listcomp>.<lambda>(y)>,\n",
       " <function __main__.<listcomp>.<lambda>(y)>,\n",
       " <function __main__.<listcomp>.<lambda>(y)>,\n",
       " <function __main__.<listcomp>.<lambda>(y)>]"
      ]
     },
     "execution_count": 65,
     "metadata": {},
     "output_type": "execute_result"
    }
   ],
   "source": [
    "value"
   ]
  },
  {
   "cell_type": "code",
   "execution_count": 60,
   "metadata": {},
   "outputs": [],
   "source": [
    "df4['Status'] = df4['Status'].str.strip()"
   ]
  },
  {
   "cell_type": "code",
   "execution_count": 61,
   "metadata": {},
   "outputs": [
    {
     "data": {
      "text/plain": [
       "2                                Scala is Great\n",
       "0                                   Hello World\n",
       "5                               Data is new OIL\n",
       "3                      ML & DL Gaining Traction\n",
       "6                                   Movie Night\n",
       "4    ML and DL can be applied to medical domain\n",
       "1                            Moving to NEW YORK\n",
       "Name: Status, dtype: object"
      ]
     },
     "execution_count": 61,
     "metadata": {},
     "output_type": "execute_result"
    }
   ],
   "source": [
    "df4['Status']"
   ]
  },
  {
   "cell_type": "code",
   "execution_count": null,
   "metadata": {},
   "outputs": [],
   "source": []
  },
  {
   "cell_type": "code",
   "execution_count": null,
   "metadata": {},
   "outputs": [],
   "source": []
  },
  {
   "cell_type": "code",
   "execution_count": 57,
   "metadata": {},
   "outputs": [
    {
     "name": "stdout",
     "output_type": "stream",
     "text": [
      "                             Scala is Great\n",
      "                                Hello World\n",
      "                            Data is new OIL\n",
      "                   ML & DL Gaining Traction\n",
      "                                Movie Night\n",
      " ML and DL can be applied to medical domain\n",
      "                         Moving to NEW YORK\n"
     ]
    }
   ],
   "source": [
    "for ele in x:\n",
    "    print(ele)"
   ]
  },
  {
   "cell_type": "code",
   "execution_count": 54,
   "metadata": {},
   "outputs": [],
   "source": [
    "vals = [','.join(ele.split()) for ele in x]"
   ]
  },
  {
   "cell_type": "code",
   "execution_count": 55,
   "metadata": {},
   "outputs": [
    {
     "data": {
      "text/plain": [
       "['Scala,is,Great',\n",
       " 'Hello,World',\n",
       " 'Data,is,new,OIL',\n",
       " 'ML,&,DL,Gaining,Traction',\n",
       " 'Movie,Night',\n",
       " 'ML,and,DL,can,be,applied,to,medical,domain',\n",
       " 'Moving,to,NEW,YORK']"
      ]
     },
     "execution_count": 55,
     "metadata": {},
     "output_type": "execute_result"
    }
   ],
   "source": [
    "vals"
   ]
  },
  {
   "cell_type": "code",
   "execution_count": 56,
   "metadata": {},
   "outputs": [
    {
     "name": "stdout",
     "output_type": "stream",
     "text": [
      "['Scala,is,Great', 'Hello,World', 'Data,is,new,OIL', 'ML,&,DL,Gaining,Traction', 'Movie,Night', 'ML,and,DL,can,be,applied,to,medical,domain', 'Moving,to,NEW,YORK']\n"
     ]
    }
   ],
   "source": [
    "print(vals)"
   ]
  },
  {
   "cell_type": "code",
   "execution_count": null,
   "metadata": {},
   "outputs": [],
   "source": []
  },
  {
   "cell_type": "code",
   "execution_count": null,
   "metadata": {},
   "outputs": [],
   "source": []
  },
  {
   "cell_type": "code",
   "execution_count": null,
   "metadata": {},
   "outputs": [],
   "source": []
  },
  {
   "cell_type": "code",
   "execution_count": 87,
   "metadata": {},
   "outputs": [],
   "source": [
    "sample_input = [[\"Hello World\",25,\"CF\"],[\"Moving to NEW YORK\",45,\"F\"],[\"Scala is Great\",100,\"CF\"],[\"ML & DL Gaining Traction\",10,\"CF\"],[\"ML and DL can be applied to medical domain\",155,\"F\"],[\"Data is new OIL\",20,\"CF\"],[\"Movie Night\",200,\"F\"]]"
   ]
  },
  {
   "cell_type": "code",
   "execution_count": 90,
   "metadata": {},
   "outputs": [
    {
     "name": "stdout",
     "output_type": "stream",
     "text": [
      "Scala is Great,Hello World,Data is new OIL,ML & DL Gaining Traction,Movie Night,ML and DL can be applied to medical domain,Moving to NEW YORK,\n"
     ]
    }
   ],
   "source": [
    "# your code goes here\n",
    "import pandas as pd\n",
    "\n",
    "# Create df\n",
    "df = pd.DataFrame(sample_input,columns = ['Status', 'No_of_likes', 'Friend_type'])\n",
    "\n",
    "# Enter data into df using a for loop??\n",
    "#for i in  sample_input:\n",
    "#    df.loc[len(df.index)]=i\n",
    "\n",
    "# Sort Values\n",
    "df = df.sort_values(by=['Friend_type','No_of_likes'], ascending = (True, False))\n",
    "\n",
    "# get status in a list\n",
    "x = df['Status'].to_string(header=False,\n",
    "                           index=False).split('\\n')\n",
    "# remove spaces from string\n",
    "value= []\n",
    "str2 = ''\n",
    "for i in x:\n",
    "    str1 = i.strip() + ','\n",
    "    str2 += str1\n",
    "    value.append(i.strip())\n",
    "\n",
    "#print(value)\n",
    "#output = str(value)[1:-1]\n",
    "#print(output)\n",
    "# str2 = ''\n",
    "# for i in value:\n",
    "#     str1 = i + ','\n",
    "#     str2 += str1\n",
    "\n",
    "print(str2)"
   ]
  },
  {
   "cell_type": "markdown",
   "metadata": {},
   "source": [
    "\"Scala is Great,Hello World,Data is new OIL,ML & DL Gaining Traction,Movie Night,ML and DL can be applied to medical domain,Moving to NEW YORK\""
   ]
  },
  {
   "cell_type": "code",
   "execution_count": 91,
   "metadata": {},
   "outputs": [
    {
     "name": "stdout",
     "output_type": "stream",
     "text": [
      "Scala is Great,Hello World,Data is new OIL,ML & DL Gaining Traction,Movie Night,ML and DL can be applied to medical domain,Moving to NEW YORK,\n"
     ]
    }
   ],
   "source": [
    "# your code goes here\n",
    "import pandas as pd\n",
    "\n",
    "# Create df\n",
    "df = pd.DataFrame(sample_input,columns = ['Status', 'No_of_likes', 'Friend_type'])\n",
    "\n",
    "# Sort Values\n",
    "df = df.sort_values(by=['Friend_type','No_of_likes'], ascending = (True, False))\n",
    "\n",
    "# get status in a list\n",
    "x = df['Status'].to_string(header=False,\n",
    "                           index=False).split('\\n')\n",
    "\n",
    "# remove spaces from string and joining them\n",
    "str2 = ''\n",
    "for i in x:\n",
    "    str1 = i.strip() + ','\n",
    "    str2 += str1\n",
    "    \n",
    "print(str2)"
   ]
  },
  {
   "cell_type": "markdown",
   "metadata": {},
   "source": [
    "\"Scala is Great,Hello World,Data is new OIL,ML & DL Gaining Traction,Movie Night,ML and DL can be applied to medical domain,Moving to NEW YORK\""
   ]
  },
  {
   "cell_type": "code",
   "execution_count": null,
   "metadata": {},
   "outputs": [],
   "source": []
  }
 ],
 "metadata": {
  "kernelspec": {
   "display_name": "Python 3",
   "language": "python",
   "name": "python3"
  },
  "language_info": {
   "codemirror_mode": {
    "name": "ipython",
    "version": 3
   },
   "file_extension": ".py",
   "mimetype": "text/x-python",
   "name": "python",
   "nbconvert_exporter": "python",
   "pygments_lexer": "ipython3",
   "version": "3.8.5"
  }
 },
 "nbformat": 4,
 "nbformat_minor": 4
}
